{
 "cells": [
  {
   "cell_type": "markdown",
   "metadata": {},
   "source": [
    "# **Modelos de clasificación**\n",
    "\n",
    "## **1. Support Vector Machines**\n",
    "\n",
    "En esta segunda práctica del día, veremos un nuevo algoritmo para los problemas de clasificación: `SVM`.\n",
    "\n",
    "En esta primera parte del notebook, explicaremos todo el funcionamiento del algoritmo y, en la segunda parte, lo emplearemos con un ejemplo.\n",
    "\n",
    "Lo que hace `SVM` es encontrar un hiperplano (clasificador), recta en dos dimensiones, que separe las clases.\n",
    "\n",
    "Partamos del siguiente ejemplo. Tenemos las calificaciones de los alumnos de un curso Data Science en dos materias. Por un lado, en el eje *x*, se encuentran las calificaciones para Matemática, mientras que en el eje *y*, las calificaciones en Estadística.\n",
    "\n",
    "Cada punto del gráfico representa a un alumno. Los que están asignados con color celeste son aquellos a los que les ha ido bien en el curso. Los que están en rojo, mal.\n",
    "\n",
    "<img src=\"..\\_src\\assets\\svm_1.jpg\" width=\"500\" height=\"350\">\n",
    "\n",
    "Ahora, lo que queremos hacer es separar estos dos grupos. Una forma podría ser con una recta. \n",
    "\n",
    "Pero, para esto, tenemos varias posibilidades.\n",
    "\n",
    "A saber:\n",
    "\n",
    "\n",
    "\n",
    "\n",
    "\n",
    "|Opción A|Opción B|\n",
    "|---|---|\n",
    "|<img src=\"..\\_src\\assets\\svm_2.jpg\" width=\"500\" height=\"350\">|<img src=\"..\\_src\\assets\\svm_3.jpg\" width=\"500\" height=\"350\">|\n",
    "\n",
    "\n",
    "\n",
    "Las dos rectas creadas separan correctamente las categorías de los alumnos que les fue bien de los que no. Pero, ¿en qué te basarías para elegir una u otra?\n",
    "\n",
    "El valor de un clasificador no radica en lo bien que separa los datos de entrenamiento. Eventualmente, queremos que clasifique datos nuevos no vistos. Dada esta condición, queremos elegir una línea que capture el **`patrón general`** de los datos de entrenamiento, aumentando, así, las posibilidades de que le vaya bien con los datos que el modelo no ha visto.\n",
    "\n",
    "La parte inferior de la recta de la **Opción A** se ubica demasiado cerca del grupo rojo, y la parte superior del grupo celeste. Estamos en presencia de una recta un poco *sesgada*. Aunque separe perfectamente los datos de entrenamiento, ¿qué ocurriría cuando llegue un punto de prueba nunca visto y esté alejado de los grupos?\n",
    "\n",
    "En cambio, la recta de la **Opción B** separa uniformemente ambos grupos."
   ]
  },
  {
   "cell_type": "markdown",
   "metadata": {},
   "source": [
    "### *Diferenciar un buen clasificador de otro que no lo es*\n",
    "\n",
    "<img src=\"..\\_src\\assets\\svm_4.jpg\" width=\"500\" height=\"350\">\n",
    "\n",
    "+ Buscar rectas que clasifiquen correctamente los datos de entrenamiento.\n",
    "\n",
    "+ Entre todas estas rectas, elegir la que tenga la mayor distancia **d** a los puntos más cercanos a ella. Los puntos más cercanos que identifican esta recta se conocen como vectores de apoyo (Support Vectors). Y la región que definen alrededor de la línea se conoce como el **Margen**.\n",
    "\n",
    "Las SVM nos permiten elegir la mejor entre muchas fronteras, de modo que garantiza una mayor probabilidad de etiquetar correctamente a los datos nunca vistos.\n",
    "\n",
    "Estos problemas se pueden aplicar a más dimensiones, pero para los fines de este notebook trabajaremos solo en 2D.\n",
    "En el caso de 3D, buscaríamos el plano que mejor separe nuestros datos. Y, para más dimensiones, el hiperplano.\n",
    "\n",
    "Volviendo a nuestro problema en 2D, si los datos se pueden separar por una recta se dice que resultan *linealmente separables*."
   ]
  },
  {
   "cell_type": "markdown",
   "metadata": {},
   "source": [
    "1. Para datos separables linealmente, las SVM funcionan muy bien\n",
    "2. Para datos casi linealmente separables, se puede hacer que funcionen bien utilizando el parámetro *C*.\n",
    "3. Para datos que no son linealmente separables, podemos proyectar datos en un espacio donde sean perfectamente/casi linealmente separables, lo que reduciría el problema al punto 1 o 2.\n",
    "\n",
    "En el siguiente gráfico vemos cómo varían el clasificador y el margen a medida que aumentamos el valor de C."
   ]
  },
  {
   "cell_type": "markdown",
   "metadata": {},
   "source": [
    "<img src=\"..\\_src\\assets\\svm_6.jpg\" width=\"700\" height=\"450\">"
   ]
  },
  {
   "cell_type": "markdown",
   "metadata": {},
   "source": [
    "### **SVM para datos casi linealmente separables**\n",
    "\n",
    "Las SVM busca, por un lado, un amplio margen y, por el otro, un hiperplano que separe correctamente tantas instancias como sea posible. Pero no siempre pueden obtener ambas cosas.\n",
    "\n",
    "El hiperparámetro *C* determina cuán grande es el deseo de una buena clasificación. Un valor más alto de *C* implica que queremos menos errores en los datos de entrenamiento.\n",
    "\n",
    "Si los datos de entrenamiento no son perfectamente separables, se puede jugar con el valor de *C*, introduciendo cierto nivel de error en el entrenamiento, con tal de mejorar el rendimiento ante datos nunca vistos."
   ]
  },
  {
   "cell_type": "markdown",
   "metadata": {},
   "source": [
    "### **SVM para datos que no son linealmente separables**\n",
    "\n",
    "En estos casos, se precisa de una frontera de decisión *no lineal*.\n",
    "\n",
    "<img src=\"..\\_src\\assets\\svm_8.jpg\">\n",
    "\n",
    "\n",
    "1. Se necesitan proyectar los datos originales a un espacio donde sí sean linealmente separables. Una vez proyectados, a la SVM le resulta muy fácil encontrar el hiperplano que los separe correctamente.\n",
    "Para hacer esa proyección, se utiliza el `\"truco del Kernel\"`. Esta función lleva los datos a un nuevo espacio de mayor dimensiones.\n",
    "\n",
    "2. Una vez proyectados y separados por un hiperplano, se puede volver al espacio original. En definitiva, los Kernels proyectan datos no separables de manera lineal a nuevos espacios donde sí sean separables de manera lineal (hiperplano).\n",
    "\n",
    "Es difícil saber de antemano en qué espacio proyectar, pero es más probable que los datos sean linealmente separables cuando se proyectan a dimensiones superiores.\n",
    "Se prueba y se corrobora en cuál funciona mejor."
   ]
  },
  {
   "cell_type": "markdown",
   "metadata": {},
   "source": [
    "### **Kernels**\n",
    "\n",
    "Las funciones Kernels son las que le dan a las SVM su poder para separar los puntos no linealmente separables, en un espacio de mayor dimensionalidad.\n",
    "\n",
    "Los Kernels más típicos son:\n",
    "\n",
    "+ `Gaussiano`\n",
    "\n",
    "+ `Sigmoide`\n",
    "\n",
    "+ `Polinomial`\n",
    "\n",
    "Normalmente no definimos una proyección específica para nuestros datos, sino que seleccionamos entre los Kernels disponibles. El Kernel es un **hiperparámetro**."
   ]
  },
  {
   "cell_type": "markdown",
   "metadata": {},
   "source": [
    "### **SVM para problemas multiclase**\n",
    "\n",
    "El problema generalmente se aplica para clasificación y, a su vez, para una clasificación binaria. Pero existen algunos métodos para extenderlo a más de dos clases. Simplemente, aquí los enunciaremos:\n",
    "\n",
    "+ One - versus - one\n",
    "\n",
    "+ One - versus - all\n",
    "\n",
    "+ DAGSVM"
   ]
  },
  {
   "cell_type": "markdown",
   "metadata": {},
   "source": [
    "## **2. Implementación guiada**\n",
    "\n",
    "Ya es el momento de pasar a poner en práctica todos los conceptos que estuvimos recorriendo en este notebook. Vamos a trabajar con un dataset de `Social Networks Ads`. Este conjunto de datos permite determinar si un usuario compró o no un producto en particular. Dejamos [aquí](https://www.kaggle.com/datasets/rakeshrau/social-network-ads) la página para que puedan descargarlo y acceder a toda su documentación."
   ]
  },
  {
   "cell_type": "code",
   "execution_count": 4,
   "metadata": {},
   "outputs": [],
   "source": [
    "import numpy as np\n",
    "import matplotlib.pyplot as plt\n",
    "import pandas as pd"
   ]
  },
  {
   "cell_type": "code",
   "execution_count": 5,
   "metadata": {},
   "outputs": [
    {
     "data": {
      "text/html": [
       "<div>\n",
       "<style scoped>\n",
       "    .dataframe tbody tr th:only-of-type {\n",
       "        vertical-align: middle;\n",
       "    }\n",
       "\n",
       "    .dataframe tbody tr th {\n",
       "        vertical-align: top;\n",
       "    }\n",
       "\n",
       "    .dataframe thead th {\n",
       "        text-align: right;\n",
       "    }\n",
       "</style>\n",
       "<table border=\"1\" class=\"dataframe\">\n",
       "  <thead>\n",
       "    <tr style=\"text-align: right;\">\n",
       "      <th></th>\n",
       "      <th>User ID</th>\n",
       "      <th>Gender</th>\n",
       "      <th>Age</th>\n",
       "      <th>EstimatedSalary</th>\n",
       "      <th>Purchased</th>\n",
       "    </tr>\n",
       "  </thead>\n",
       "  <tbody>\n",
       "    <tr>\n",
       "      <th>0</th>\n",
       "      <td>15624510</td>\n",
       "      <td>Male</td>\n",
       "      <td>19</td>\n",
       "      <td>19000</td>\n",
       "      <td>0</td>\n",
       "    </tr>\n",
       "    <tr>\n",
       "      <th>1</th>\n",
       "      <td>15810944</td>\n",
       "      <td>Male</td>\n",
       "      <td>35</td>\n",
       "      <td>20000</td>\n",
       "      <td>0</td>\n",
       "    </tr>\n",
       "    <tr>\n",
       "      <th>2</th>\n",
       "      <td>15668575</td>\n",
       "      <td>Female</td>\n",
       "      <td>26</td>\n",
       "      <td>43000</td>\n",
       "      <td>0</td>\n",
       "    </tr>\n",
       "    <tr>\n",
       "      <th>3</th>\n",
       "      <td>15603246</td>\n",
       "      <td>Female</td>\n",
       "      <td>27</td>\n",
       "      <td>57000</td>\n",
       "      <td>0</td>\n",
       "    </tr>\n",
       "    <tr>\n",
       "      <th>4</th>\n",
       "      <td>15804002</td>\n",
       "      <td>Male</td>\n",
       "      <td>19</td>\n",
       "      <td>76000</td>\n",
       "      <td>0</td>\n",
       "    </tr>\n",
       "  </tbody>\n",
       "</table>\n",
       "</div>"
      ],
      "text/plain": [
       "    User ID  Gender  Age  EstimatedSalary  Purchased\n",
       "0  15624510    Male   19            19000          0\n",
       "1  15810944    Male   35            20000          0\n",
       "2  15668575  Female   26            43000          0\n",
       "3  15603246  Female   27            57000          0\n",
       "4  15804002    Male   19            76000          0"
      ]
     },
     "execution_count": 5,
     "metadata": {},
     "output_type": "execute_result"
    }
   ],
   "source": [
    "data = pd.read_csv('Social_Network_Ads.csv')\n",
    "data.head()"
   ]
  },
  {
   "cell_type": "markdown",
   "metadata": {},
   "source": [
    "Nos quedaremos como features con las columnas `Age` y `EstimatedSalary` (así podremos visualizar). Y, como target, utilizaremos la columna `Purchased`."
   ]
  },
  {
   "cell_type": "code",
   "execution_count": 6,
   "metadata": {},
   "outputs": [],
   "source": [
    "X = data.iloc[:, [2, 3]].values\n",
    "Y = data.iloc[:, 4].values"
   ]
  },
  {
   "cell_type": "markdown",
   "metadata": {},
   "source": [
    "Separamos los datos de entrenamiento de los datos de prueba"
   ]
  },
  {
   "cell_type": "code",
   "execution_count": 7,
   "metadata": {},
   "outputs": [],
   "source": [
    "from sklearn.model_selection import train_test_split\n",
    "\n",
    "X_Train, X_Test, Y_Train, Y_Test = train_test_split(X, Y, test_size = 0.25, random_state=0)"
   ]
  },
  {
   "cell_type": "markdown",
   "metadata": {},
   "source": [
    "Estandarizamos (obviar esta parte por el momento, simplemente ejecutar)"
   ]
  },
  {
   "cell_type": "code",
   "execution_count": 8,
   "metadata": {},
   "outputs": [],
   "source": [
    "from sklearn.preprocessing import StandardScaler\n",
    "\n",
    "sc_X = StandardScaler()\n",
    "X_Train = sc_X.fit_transform(X_Train)\n",
    "X_Test = sc_X.transform(X_Test)"
   ]
  },
  {
   "cell_type": "markdown",
   "metadata": {},
   "source": [
    "Entrenamos. Para ello, utilizamos la clase `SVC` de la librería Scikit-Learn cuya documentación podrán encontrar [aquí](https://scikit-learn.org/stable/modules/generated/sklearn.svm.SVC.html)."
   ]
  },
  {
   "cell_type": "code",
   "execution_count": 9,
   "metadata": {},
   "outputs": [
    {
     "data": {
      "text/html": [
       "<style>#sk-container-id-1 {color: black;background-color: white;}#sk-container-id-1 pre{padding: 0;}#sk-container-id-1 div.sk-toggleable {background-color: white;}#sk-container-id-1 label.sk-toggleable__label {cursor: pointer;display: block;width: 100%;margin-bottom: 0;padding: 0.3em;box-sizing: border-box;text-align: center;}#sk-container-id-1 label.sk-toggleable__label-arrow:before {content: \"▸\";float: left;margin-right: 0.25em;color: #696969;}#sk-container-id-1 label.sk-toggleable__label-arrow:hover:before {color: black;}#sk-container-id-1 div.sk-estimator:hover label.sk-toggleable__label-arrow:before {color: black;}#sk-container-id-1 div.sk-toggleable__content {max-height: 0;max-width: 0;overflow: hidden;text-align: left;background-color: #f0f8ff;}#sk-container-id-1 div.sk-toggleable__content pre {margin: 0.2em;color: black;border-radius: 0.25em;background-color: #f0f8ff;}#sk-container-id-1 input.sk-toggleable__control:checked~div.sk-toggleable__content {max-height: 200px;max-width: 100%;overflow: auto;}#sk-container-id-1 input.sk-toggleable__control:checked~label.sk-toggleable__label-arrow:before {content: \"▾\";}#sk-container-id-1 div.sk-estimator input.sk-toggleable__control:checked~label.sk-toggleable__label {background-color: #d4ebff;}#sk-container-id-1 div.sk-label input.sk-toggleable__control:checked~label.sk-toggleable__label {background-color: #d4ebff;}#sk-container-id-1 input.sk-hidden--visually {border: 0;clip: rect(1px 1px 1px 1px);clip: rect(1px, 1px, 1px, 1px);height: 1px;margin: -1px;overflow: hidden;padding: 0;position: absolute;width: 1px;}#sk-container-id-1 div.sk-estimator {font-family: monospace;background-color: #f0f8ff;border: 1px dotted black;border-radius: 0.25em;box-sizing: border-box;margin-bottom: 0.5em;}#sk-container-id-1 div.sk-estimator:hover {background-color: #d4ebff;}#sk-container-id-1 div.sk-parallel-item::after {content: \"\";width: 100%;border-bottom: 1px solid gray;flex-grow: 1;}#sk-container-id-1 div.sk-label:hover label.sk-toggleable__label {background-color: #d4ebff;}#sk-container-id-1 div.sk-serial::before {content: \"\";position: absolute;border-left: 1px solid gray;box-sizing: border-box;top: 0;bottom: 0;left: 50%;z-index: 0;}#sk-container-id-1 div.sk-serial {display: flex;flex-direction: column;align-items: center;background-color: white;padding-right: 0.2em;padding-left: 0.2em;position: relative;}#sk-container-id-1 div.sk-item {position: relative;z-index: 1;}#sk-container-id-1 div.sk-parallel {display: flex;align-items: stretch;justify-content: center;background-color: white;position: relative;}#sk-container-id-1 div.sk-item::before, #sk-container-id-1 div.sk-parallel-item::before {content: \"\";position: absolute;border-left: 1px solid gray;box-sizing: border-box;top: 0;bottom: 0;left: 50%;z-index: -1;}#sk-container-id-1 div.sk-parallel-item {display: flex;flex-direction: column;z-index: 1;position: relative;background-color: white;}#sk-container-id-1 div.sk-parallel-item:first-child::after {align-self: flex-end;width: 50%;}#sk-container-id-1 div.sk-parallel-item:last-child::after {align-self: flex-start;width: 50%;}#sk-container-id-1 div.sk-parallel-item:only-child::after {width: 0;}#sk-container-id-1 div.sk-dashed-wrapped {border: 1px dashed gray;margin: 0 0.4em 0.5em 0.4em;box-sizing: border-box;padding-bottom: 0.4em;background-color: white;}#sk-container-id-1 div.sk-label label {font-family: monospace;font-weight: bold;display: inline-block;line-height: 1.2em;}#sk-container-id-1 div.sk-label-container {text-align: center;}#sk-container-id-1 div.sk-container {/* jupyter's `normalize.less` sets `[hidden] { display: none; }` but bootstrap.min.css set `[hidden] { display: none !important; }` so we also need the `!important` here to be able to override the default hidden behavior on the sphinx rendered scikit-learn.org. See: https://github.com/scikit-learn/scikit-learn/issues/21755 */display: inline-block !important;position: relative;}#sk-container-id-1 div.sk-text-repr-fallback {display: none;}</style><div id=\"sk-container-id-1\" class=\"sk-top-container\"><div class=\"sk-text-repr-fallback\"><pre>SVC(kernel=&#x27;linear&#x27;, random_state=0)</pre><b>In a Jupyter environment, please rerun this cell to show the HTML representation or trust the notebook. <br />On GitHub, the HTML representation is unable to render, please try loading this page with nbviewer.org.</b></div><div class=\"sk-container\" hidden><div class=\"sk-item\"><div class=\"sk-estimator sk-toggleable\"><input class=\"sk-toggleable__control sk-hidden--visually\" id=\"sk-estimator-id-1\" type=\"checkbox\" checked><label for=\"sk-estimator-id-1\" class=\"sk-toggleable__label sk-toggleable__label-arrow\">SVC</label><div class=\"sk-toggleable__content\"><pre>SVC(kernel=&#x27;linear&#x27;, random_state=0)</pre></div></div></div></div></div>"
      ],
      "text/plain": [
       "SVC(kernel='linear', random_state=0)"
      ]
     },
     "execution_count": 9,
     "metadata": {},
     "output_type": "execute_result"
    }
   ],
   "source": [
    "from sklearn.svm import SVC\n",
    "\n",
    "classifier = SVC(kernel='linear', random_state=0)\n",
    "classifier.fit(X_Train, Y_Train)"
   ]
  },
  {
   "cell_type": "markdown",
   "metadata": {},
   "source": [
    "Predecimos"
   ]
  },
  {
   "cell_type": "code",
   "execution_count": 10,
   "metadata": {},
   "outputs": [],
   "source": [
    "Y_Pred = classifier.predict(X_Test)"
   ]
  },
  {
   "cell_type": "markdown",
   "metadata": {},
   "source": [
    "Evaluamos"
   ]
  },
  {
   "cell_type": "code",
   "execution_count": 11,
   "metadata": {},
   "outputs": [
    {
     "data": {
      "image/png": "[encoded data removed]",
      "text/plain": [
       "<Figure size 864x576 with 1 Axes>"
      ]
     },
     "metadata": {
      "needs_background": "light"
     },
     "output_type": "display_data"
    }
   ],
   "source": [
    "# Matriz de confusión \n",
    "\n",
    "from sklearn.metrics import confusion_matrix, classification_report\n",
    "cm = confusion_matrix(Y_Test, Y_Pred)\n",
    "\n",
    "fig, ax = plt.subplots(figsize=(12,8))\n",
    "ax.matshow(cm)\n",
    "plt.title('Matriz de Confusión', fontsize=20)\n",
    "plt.ylabel('Etiqueta Verdadera', fontsize=15)\n",
    "plt.xlabel('Etiqueta Predicha', fontsize=15)\n",
    "for (i, j), z in np.ndenumerate(cm):\n",
    "    ax.text(j, i, '{:0.1f}'.format(z), ha='center', va='center')"
   ]
  },
  {
   "cell_type": "markdown",
   "metadata": {},
   "source": [
    "*En la clase siguiente abordaremos esta métrica de evaluación propia de los problemas de clasificación.* \n",
    "\n",
    "Por el momento, alcanza con que sepan que 66 son las etiquetas que corresponden a la categoría **`0`** y el modelo las predijo correctamente. 2 las etiquetas que su categoría era **`0`** y el modelo predijo como **`1`**. Mientras que 8 son las etiquetas que su valor real era **`1`** y el modelo predijo como **`0`** y 24 las que eran **`1`** y el modelo predijo correctamente."
   ]
  },
  {
   "cell_type": "markdown",
   "metadata": {},
   "source": [
    "## Reporte de Clasificación"
   ]
  },
  {
   "cell_type": "code",
   "execution_count": 12,
   "metadata": {},
   "outputs": [
    {
     "name": "stdout",
     "output_type": "stream",
     "text": [
      "              precision    recall  f1-score   support\n",
      "\n",
      "           0       0.89      0.97      0.93        68\n",
      "           1       0.92      0.75      0.83        32\n",
      "\n",
      "    accuracy                           0.90       100\n",
      "   macro avg       0.91      0.86      0.88       100\n",
      "weighted avg       0.90      0.90      0.90       100\n",
      "\n"
     ]
    }
   ],
   "source": [
    "print(classification_report(Y_Test, Y_Pred))"
   ]
  },
  {
   "cell_type": "markdown",
   "metadata": {},
   "source": [
    "Procedemos a graficar la recta establecida por SVM para separar las categorías. Observamos cómo clasificó el modelo tanto en el set de entrenamiento como en el de testeo."
   ]
  },
  {
   "cell_type": "code",
   "execution_count": 13,
   "metadata": {},
   "outputs": [
    {
     "data": {
      "image/png": "[encoded data removed]",
      "text/plain": [
       "<Figure size 1008x576 with 1 Axes>"
      ]
     },
     "metadata": {
      "needs_background": "light"
     },
     "output_type": "display_data"
    }
   ],
   "source": [
    "# Set de entrenamiento\n",
    "\n",
    "from matplotlib.colors import ListedColormap\n",
    "\n",
    "X_Set, Y_Set = X_Train, Y_Train\n",
    "X1, X2 = np.meshgrid(np.arange(start = X_Set[:, 0].min() - 1, stop = X_Set[:, 0].max() + 1, step = 0.01),\n",
    "                     np.arange(start = X_Set[:, 1].min() - 1, stop = X_Set[:, 1].max() + 1, step = 0.01))\n",
    "\n",
    "plt.figure(figsize=(14,8))\n",
    "plt.contourf(X1, X2, classifier.predict(np.array([X1.ravel(), X2.ravel()]).T).reshape(X1.shape),\n",
    "             alpha = 0.75, cmap = ListedColormap(('red', 'green')))\n",
    "plt.xlim(X1.min(), X1.max())\n",
    "plt.ylim(X2.min(), X2.max())\n",
    "for i, j in enumerate(np.unique(Y_Set)):\n",
    "    plt.scatter(X_Set[Y_Set == j, 0], X_Set[Y_Set == j, 1],\n",
    "                c = [ListedColormap(('red', 'green'))(i)], label = j)\n",
    "plt.title('Support Vector Machine (Set de Entrenamiento)', fontsize=20)\n",
    "plt.xlabel('Edad', fontsize=15)\n",
    "plt.ylabel('Salario Estimado', fontsize=15)\n",
    "plt.legend()\n",
    "plt.show()"
   ]
  },
  {
   "cell_type": "code",
   "execution_count": 14,
   "metadata": {},
   "outputs": [
    {
     "data": {
      "image/png": "[encoded data removed]",
      "text/plain": [
       "<Figure size 1008x576 with 1 Axes>"
      ]
     },
     "metadata": {
      "needs_background": "light"
     },
     "output_type": "display_data"
    }
   ],
   "source": [
    "# Set de testeo\n",
    "\n",
    "X_Set, Y_Set = X_Test, Y_Test\n",
    "X1, X2 = np.meshgrid(np.arange(start = X_Set[:, 0].min() - 1, stop = X_Set[:, 0].max() + 1, step = 0.01),\n",
    "                     np.arange(start = X_Set[:, 1].min() - 1, stop = X_Set[:, 1].max() + 1, step = 0.01))\n",
    "\n",
    "plt.figure(figsize=(14,8))\n",
    "plt.contourf(X1, X2, classifier.predict(np.array([X1.ravel(), X2.ravel()]).T).reshape(X1.shape),\n",
    "             alpha = 0.75, cmap = ListedColormap(['red', 'green']))\n",
    "plt.xlim(X1.min(), X1.max())\n",
    "plt.ylim(X2.min(), X2.max())\n",
    "for i, j in enumerate(np.unique(Y_Set)):\n",
    "    plt.scatter(X_Set[Y_Set == j, 0], X_Set[Y_Set == j, 1],\n",
    "                c = [ListedColormap(('red', 'green'))(i)], label = j)\n",
    "plt.title('Support Vector Machine (Set de Testeo)', fontsize=20)\n",
    "plt.xlabel('Edad', fontsize=15)\n",
    "plt.ylabel('Salario Estimado', fontsize=15)\n",
    "plt.legend()\n",
    "plt.show()"
   ]
  },
  {
   "cell_type": "markdown",
   "metadata": {},
   "source": [
    "Para probar:\n",
    "\n",
    "1. Modificar el `kernel` del clasificador y observar cómo se modifican las fronteras encontradas por el modelo y su performance.\n",
    "2. Modificar el parámetro `C` del clasificador y observar cómo se modifican las fronteras encontradas por el modelo y su performance ¿Cómo se puede interpretar la acción de `C`? "
   ]
  },
  {
   "cell_type": "markdown",
   "metadata": {},
   "source": [
    "### Practica Adicional\n",
    "\n",
    "Implementar un modelo de SVM para el dataset Iris que trabajamos en la Práctica_1 de esta clase y, a su vez, probar su rendimiento con los distintos Kernels."
   ]
  }
 ],
 "metadata": {
  "kernelspec": {
   "display_name": "Python 3 (ipykernel)",
   "language": "python",
   "name": "python3"
  },
  "language_info": {
   "codemirror_mode": {
    "name": "ipython",
    "version": 3
   },
   "file_extension": ".py",
   "mimetype": "text/x-python",
   "name": "python",
   "nbconvert_exporter": "python",
   "pygments_lexer": "ipython3",
   "version": "3.9.12"
  },
  "vscode": {
   "interpreter": {
    "hash": "9b0261dadc93494a3555537365c322d83416c4a1ed03d5df7c77bc94b07686c8"
   }
  }
 },
 "nbformat": 4,
 "nbformat_minor": 2
}
