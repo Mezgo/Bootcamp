{
 "cells": [
  {
   "cell_type": "markdown",
   "id": "bf910830-4551-411d-9302-f895ac866c42",
   "metadata": {},
   "source": [
    "Se requiere de un modelo que proponga un valor de cantidad de unidades de compra para cada producto. Deberás tener en cuenta que es tan importante poder encontrar el modelo como también explicar como lograste obtenerlo."
   ]
  },
  {
   "cell_type": "code",
   "execution_count": 1,
   "id": "87902f29-3d06-4a5c-8cb6-6e8ff1837abf",
   "metadata": {},
   "outputs": [],
   "source": [
    "import pandas as pd\n",
    "import matplotlib.pyplot as plt\n",
    "import seaborn as sns\n",
    "import numpy as np\n",
    "sns.set()"
   ]
  },
  {
   "cell_type": "code",
   "execution_count": 2,
   "id": "a66f0490-63e2-4463-a25f-5cdf2db82a96",
   "metadata": {},
   "outputs": [],
   "source": [
    "from IPython.display import clear_output"
   ]
  },
  {
   "cell_type": "code",
   "execution_count": 9,
   "id": "ef5760d6-24cd-4080-b289-f318587c2a63",
   "metadata": {},
   "outputs": [],
   "source": [
    "df_compra = pd.read_csv(\"../Datasets/Compra.csv\", sep=\",\", parse_dates=[\"Fecha\"])"
   ]
  },
  {
   "cell_type": "code",
   "execution_count": 10,
   "id": "3e3cfdfe-ba6e-40e5-a15d-367991680314",
   "metadata": {
    "tags": []
   },
   "outputs": [
    {
     "name": "stdout",
     "output_type": "stream",
     "text": [
      "<class 'pandas.core.frame.DataFrame'>\n",
      "RangeIndex: 11539 entries, 0 to 11538\n",
      "Data columns (total 9 columns):\n",
      " #   Column         Non-Null Count  Dtype         \n",
      "---  ------         --------------  -----         \n",
      " 0   IdCompra       11539 non-null  int64         \n",
      " 1   Fecha          11539 non-null  datetime64[ns]\n",
      " 2   Fecha_Año      11539 non-null  int64         \n",
      " 3   Fecha_Mes      11539 non-null  int64         \n",
      " 4   Fecha_Periodo  11539 non-null  int64         \n",
      " 5   IdProducto     11539 non-null  int64         \n",
      " 6   Cantidad       11539 non-null  int64         \n",
      " 7   Precio         11172 non-null  float64       \n",
      " 8   IdProveedor    11539 non-null  int64         \n",
      "dtypes: datetime64[ns](1), float64(1), int64(7)\n",
      "memory usage: 811.5 KB\n"
     ]
    }
   ],
   "source": [
    "df_compra.info()"
   ]
  },
  {
   "cell_type": "code",
   "execution_count": 11,
   "id": "d3e21e4e-ff8c-49da-b16e-53b9d0ff58c8",
   "metadata": {},
   "outputs": [
    {
     "data": {
      "text/plain": [
       "(11539, 9)"
      ]
     },
     "execution_count": 11,
     "metadata": {},
     "output_type": "execute_result"
    }
   ],
   "source": [
    "df_compra.shape"
   ]
  },
  {
   "cell_type": "markdown",
   "id": "1d636b38-a440-45d1-861f-884eb8b37aa7",
   "metadata": {},
   "source": [
    "Nos quedamos con los campos que vamos a utilizar"
   ]
  },
  {
   "cell_type": "code",
   "execution_count": 12,
   "id": "6de63c73-43b6-483f-80e5-1259f9f0890f",
   "metadata": {},
   "outputs": [],
   "source": [
    "df_compra = df_compra[['Fecha','IdProducto','Cantidad','Fecha_Año','Fecha_Mes','Fecha_Periodo']]"
   ]
  },
  {
   "cell_type": "code",
   "execution_count": 13,
   "id": "92c63c91-0194-42dc-bf37-328a8634af4c",
   "metadata": {},
   "outputs": [],
   "source": [
    "df_compra.sort_values(['IdProducto','Fecha'], inplace = True)"
   ]
  },
  {
   "cell_type": "code",
   "execution_count": 14,
   "id": "d82bf484-4b2a-406b-9bda-f8b96ada3807",
   "metadata": {},
   "outputs": [
    {
     "data": {
      "text/html": [
       "<div>\n",
       "<style scoped>\n",
       "    .dataframe tbody tr th:only-of-type {\n",
       "        vertical-align: middle;\n",
       "    }\n",
       "\n",
       "    .dataframe tbody tr th {\n",
       "        vertical-align: top;\n",
       "    }\n",
       "\n",
       "    .dataframe thead th {\n",
       "        text-align: right;\n",
       "    }\n",
       "</style>\n",
       "<table border=\"1\" class=\"dataframe\">\n",
       "  <thead>\n",
       "    <tr style=\"text-align: right;\">\n",
       "      <th></th>\n",
       "      <th>Fecha</th>\n",
       "      <th>IdProducto</th>\n",
       "      <th>Cantidad</th>\n",
       "      <th>Fecha_Año</th>\n",
       "      <th>Fecha_Mes</th>\n",
       "      <th>Fecha_Periodo</th>\n",
       "    </tr>\n",
       "  </thead>\n",
       "  <tbody>\n",
       "    <tr>\n",
       "      <th>0</th>\n",
       "      <td>2015-01-30</td>\n",
       "      <td>42737</td>\n",
       "      <td>2</td>\n",
       "      <td>2015</td>\n",
       "      <td>1</td>\n",
       "      <td>201501</td>\n",
       "    </tr>\n",
       "    <tr>\n",
       "      <th>1</th>\n",
       "      <td>2015-05-29</td>\n",
       "      <td>42737</td>\n",
       "      <td>8</td>\n",
       "      <td>2015</td>\n",
       "      <td>5</td>\n",
       "      <td>201505</td>\n",
       "    </tr>\n",
       "    <tr>\n",
       "      <th>2</th>\n",
       "      <td>2015-06-26</td>\n",
       "      <td>42737</td>\n",
       "      <td>9</td>\n",
       "      <td>2015</td>\n",
       "      <td>6</td>\n",
       "      <td>201506</td>\n",
       "    </tr>\n",
       "    <tr>\n",
       "      <th>3</th>\n",
       "      <td>2015-07-31</td>\n",
       "      <td>42737</td>\n",
       "      <td>5</td>\n",
       "      <td>2015</td>\n",
       "      <td>7</td>\n",
       "      <td>201507</td>\n",
       "    </tr>\n",
       "    <tr>\n",
       "      <th>4</th>\n",
       "      <td>2015-08-28</td>\n",
       "      <td>42737</td>\n",
       "      <td>10</td>\n",
       "      <td>2015</td>\n",
       "      <td>8</td>\n",
       "      <td>201508</td>\n",
       "    </tr>\n",
       "  </tbody>\n",
       "</table>\n",
       "</div>"
      ],
      "text/plain": [
       "       Fecha  IdProducto  Cantidad  Fecha_Año  Fecha_Mes  Fecha_Periodo\n",
       "0 2015-01-30       42737         2       2015          1         201501\n",
       "1 2015-05-29       42737         8       2015          5         201505\n",
       "2 2015-06-26       42737         9       2015          6         201506\n",
       "3 2015-07-31       42737         5       2015          7         201507\n",
       "4 2015-08-28       42737        10       2015          8         201508"
      ]
     },
     "execution_count": 14,
     "metadata": {},
     "output_type": "execute_result"
    }
   ],
   "source": [
    "df_compra.reset_index(inplace = True, drop  = True)\n",
    "df_compra.head()"
   ]
  },
  {
   "cell_type": "markdown",
   "id": "a2dbd901-d604-4b49-890f-5a136fe72a7c",
   "metadata": {},
   "source": [
    "Visualizamos el comportamiento de los datos de un único producto aleatorio"
   ]
  },
  {
   "cell_type": "code",
   "execution_count": 15,
   "id": "07d2153f-9a4f-498b-b625-c7bccf422988",
   "metadata": {},
   "outputs": [
    {
     "data": {
      "image/png": "[encoded data removed]",
      "text/plain": [
       "<Figure size 720x576 with 1 Axes>"
      ]
     },
     "metadata": {},
     "output_type": "display_data"
    }
   ],
   "source": []
  },
  {
   "cell_type": "markdown",
   "id": "10a1213b-2857-40d8-9d22-c245366d5fd9",
   "metadata": {},
   "source": [
    "Convertimos el campos Fecha a un valor numérico para utilizarlo como input al modelo de regresión"
   ]
  },
  {
   "cell_type": "code",
   "execution_count": 16,
   "id": "a6e08fe6-5ded-4b80-b418-a0cdf556d995",
   "metadata": {},
   "outputs": [
    {
     "data": {
      "text/html": [
       "<div>\n",
       "<style scoped>\n",
       "    .dataframe tbody tr th:only-of-type {\n",
       "        vertical-align: middle;\n",
       "    }\n",
       "\n",
       "    .dataframe tbody tr th {\n",
       "        vertical-align: top;\n",
       "    }\n",
       "\n",
       "    .dataframe thead th {\n",
       "        text-align: right;\n",
       "    }\n",
       "</style>\n",
       "<table border=\"1\" class=\"dataframe\">\n",
       "  <thead>\n",
       "    <tr style=\"text-align: right;\">\n",
       "      <th></th>\n",
       "      <th>Fecha</th>\n",
       "      <th>IdProducto</th>\n",
       "      <th>Cantidad</th>\n",
       "      <th>Fecha_Año</th>\n",
       "      <th>Fecha_Mes</th>\n",
       "      <th>Fecha_Periodo</th>\n",
       "      <th>Fecha_Numerico</th>\n",
       "    </tr>\n",
       "  </thead>\n",
       "  <tbody>\n",
       "    <tr>\n",
       "      <th>0</th>\n",
       "      <td>2015-01-30</td>\n",
       "      <td>42737</td>\n",
       "      <td>2</td>\n",
       "      <td>2015</td>\n",
       "      <td>1</td>\n",
       "      <td>201501</td>\n",
       "      <td>735628</td>\n",
       "    </tr>\n",
       "    <tr>\n",
       "      <th>1</th>\n",
       "      <td>2015-05-29</td>\n",
       "      <td>42737</td>\n",
       "      <td>8</td>\n",
       "      <td>2015</td>\n",
       "      <td>5</td>\n",
       "      <td>201505</td>\n",
       "      <td>735747</td>\n",
       "    </tr>\n",
       "    <tr>\n",
       "      <th>2</th>\n",
       "      <td>2015-06-26</td>\n",
       "      <td>42737</td>\n",
       "      <td>9</td>\n",
       "      <td>2015</td>\n",
       "      <td>6</td>\n",
       "      <td>201506</td>\n",
       "      <td>735775</td>\n",
       "    </tr>\n",
       "    <tr>\n",
       "      <th>3</th>\n",
       "      <td>2015-07-31</td>\n",
       "      <td>42737</td>\n",
       "      <td>5</td>\n",
       "      <td>2015</td>\n",
       "      <td>7</td>\n",
       "      <td>201507</td>\n",
       "      <td>735810</td>\n",
       "    </tr>\n",
       "    <tr>\n",
       "      <th>4</th>\n",
       "      <td>2015-08-28</td>\n",
       "      <td>42737</td>\n",
       "      <td>10</td>\n",
       "      <td>2015</td>\n",
       "      <td>8</td>\n",
       "      <td>201508</td>\n",
       "      <td>735838</td>\n",
       "    </tr>\n",
       "  </tbody>\n",
       "</table>\n",
       "</div>"
      ],
      "text/plain": [
       "       Fecha  IdProducto  Cantidad  Fecha_Año  Fecha_Mes  Fecha_Periodo  \\\n",
       "0 2015-01-30       42737         2       2015          1         201501   \n",
       "1 2015-05-29       42737         8       2015          5         201505   \n",
       "2 2015-06-26       42737         9       2015          6         201506   \n",
       "3 2015-07-31       42737         5       2015          7         201507   \n",
       "4 2015-08-28       42737        10       2015          8         201508   \n",
       "\n",
       "   Fecha_Numerico  \n",
       "0          735628  \n",
       "1          735747  \n",
       "2          735775  \n",
       "3          735810  \n",
       "4          735838  "
      ]
     },
     "execution_count": 16,
     "metadata": {},
     "output_type": "execute_result"
    }
   ],
   "source": []
  },
  {
   "cell_type": "code",
   "execution_count": 18,
   "id": "1c69c86e-0cac-4153-a5ec-1fe5e9cedebd",
   "metadata": {},
   "outputs": [
    {
     "data": {
      "image/png": "[encoded data removed]",
      "text/plain": [
       "<Figure size 432x288 with 1 Axes>"
      ]
     },
     "metadata": {},
     "output_type": "display_data"
    }
   ],
   "source": [
    "# Ploteamos\n"
   ]
  },
  {
   "cell_type": "code",
   "execution_count": 21,
   "id": "abb7046c-3ffa-4df5-83e5-750c3908ac4b",
   "metadata": {},
   "outputs": [],
   "source": [
    "from sklearn.linear_model import LinearRegression"
   ]
  },
  {
   "cell_type": "markdown",
   "id": "8e7782b8-5924-4cee-a062-0f850ba79f72",
   "metadata": {},
   "source": [
    "La separación entre los datos de entrenamiento y prueba, lo hacemos en base a períodos"
   ]
  },
  {
   "cell_type": "code",
   "execution_count": 22,
   "id": "d0400cce-3b16-4f20-8089-a33b35b4837e",
   "metadata": {},
   "outputs": [],
   "source": []
  },
  {
   "cell_type": "markdown",
   "id": "f0aa6e8d-f4db-4a7c-bfdf-87a139a70cfe",
   "metadata": {},
   "source": [
    "Evaluamos el error"
   ]
  },
  {
   "cell_type": "code",
   "execution_count": 27,
   "id": "f4668e95-6a0f-47f2-8628-40e2bf2da687",
   "metadata": {},
   "outputs": [
    {
     "name": "stdout",
     "output_type": "stream",
     "text": [
      "Error en datos de train: 19.895193920155403\n",
      "Error en datos de test: 22.934573428341803\n"
     ]
    }
   ],
   "source": [
    "from sklearn.metrics import mean_squared_error\n"
   ]
  },
  {
   "cell_type": "markdown",
   "id": "309bb462-4572-4e4c-ae56-471895f06cb0",
   "metadata": {},
   "source": [
    "Graficamos"
   ]
  },
  {
   "cell_type": "code",
   "execution_count": 28,
   "id": "23ff55ea-dbc4-45a2-903d-1f8f09605e72",
   "metadata": {},
   "outputs": [
    {
     "data": {
      "image/png": "[encoded data removed]",
      "text/plain": [
       "<Figure size 720x576 with 1 Axes>"
      ]
     },
     "metadata": {},
     "output_type": "display_data"
    }
   ],
   "source": [
    "plt.figure(figsize = (10,8))\n",
    "\n",
    "plt.scatter(X_train, y_train,  color='green', label = 'Datos Train')\n",
    "plt.plot(X_train, y_train_pred, color='k', linestyle = '--', label = 'Prediccion Train')\n",
    "\n",
    "plt.scatter(X_test, y_test,  color='red', label = 'Datos Test')\n",
    "plt.plot(X_test, y_test_pred, color='blue', linewidth=5.0, label = 'Prediccion Test')\n",
    "\n",
    "plt.legend()\n",
    "plt.show()"
   ]
  },
  {
   "cell_type": "markdown",
   "id": "6aa6dbff-ec6b-499d-88d3-ba541eea8f1f",
   "metadata": {},
   "source": [
    "Establecemos una fecha real para la cual queremos hacer la predicción y usamos el modelo"
   ]
  },
  {
   "cell_type": "code",
   "execution_count": 29,
   "id": "5e9decbd-d722-43e4-93b8-0791cba575db",
   "metadata": {},
   "outputs": [],
   "source": [
    "from datetime import datetime\n",
    "fecha_prediccion = '2021-01-01'"
   ]
  },
  {
   "cell_type": "code",
   "execution_count": 30,
   "id": "9b16ab6b-ae14-41af-b532-057bb50c9d0d",
   "metadata": {},
   "outputs": [],
   "source": [
    "fecha_prediccion = datetime.strptime(fecha_prediccion, '%Y-%m-%d').date()"
   ]
  }
 ],
 "metadata": {
  "kernelspec": {
   "display_name": "Python 3 (ipykernel)",
   "language": "python",
   "name": "python3"
  },
  "language_info": {
   "codemirror_mode": {
    "name": "ipython",
    "version": 3
   },
   "file_extension": ".py",
   "mimetype": "text/x-python",
   "name": "python",
   "nbconvert_exporter": "python",
   "pygments_lexer": "ipython3",
   "version": "3.9.7"
  }
 },
 "nbformat": 4,
 "nbformat_minor": 5
}
