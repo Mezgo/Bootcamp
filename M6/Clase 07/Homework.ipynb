{
 "cells": [
  {
   "cell_type": "markdown",
   "id": "90902c42-418d-4dfd-aaf9-abe19a672b22",
   "metadata": {},
   "source": [
    "La empresa está interesada en hacer crecer el canal de venta online, para eso es necesario entender cuáles son los factores determinantes para que una venta se realice por medio de ese canal. Se sugiere utilizar *Random Forest* como modelo para clasificación de ventas online."
   ]
  },
  {
   "cell_type": "markdown",
   "id": "8cb3bdb8",
   "metadata": {},
   "source": [
    "Se dispoinibilizan los siguientes datasets:\n",
    "* Venta.csv\n",
    "* Productos.csv\n",
    "* Sucursales.csv\n",
    "* Clientes.csv"
   ]
  },
  {
   "cell_type": "code",
   "execution_count": 1,
   "id": "ec1f8e3d-348e-4874-a388-ea59af8de393",
   "metadata": {},
   "outputs": [],
   "source": [
    "import pandas as pd\n",
    "import matplotlib.pyplot as plt\n",
    "import seaborn as sns\n",
    "import numpy as np\n",
    "sns.set()"
   ]
  },
  {
   "cell_type": "code",
   "execution_count": 2,
   "id": "c18b5d39-4225-452f-be07-fdd9350e8a10",
   "metadata": {},
   "outputs": [],
   "source": [
    "from IPython.display import clear_output"
   ]
  },
  {
   "cell_type": "markdown",
   "id": "810ed94a-99d9-4f77-ade4-7a66ae03c76a",
   "metadata": {},
   "source": [
    "Se utiliza el archivo de ventas procesado:"
   ]
  },
  {
   "cell_type": "code",
   "execution_count": 8,
   "id": "cb4b85fa-5517-41e7-8831-a9ce45bde56d",
   "metadata": {},
   "outputs": [],
   "source": [
    "df_ventas = pd.read_csv(\"../Datasets/Venta.csv\", sep=\",\", parse_dates=[\"Fecha\"])"
   ]
  },
  {
   "cell_type": "code",
   "execution_count": 9,
   "id": "2838a6d2-9764-40f3-80e3-f1fb0617dddd",
   "metadata": {},
   "outputs": [
    {
     "data": {
      "text/html": [
       "<div>\n",
       "<style scoped>\n",
       "    .dataframe tbody tr th:only-of-type {\n",
       "        vertical-align: middle;\n",
       "    }\n",
       "\n",
       "    .dataframe tbody tr th {\n",
       "        vertical-align: top;\n",
       "    }\n",
       "\n",
       "    .dataframe thead th {\n",
       "        text-align: right;\n",
       "    }\n",
       "</style>\n",
       "<table border=\"1\" class=\"dataframe\">\n",
       "  <thead>\n",
       "    <tr style=\"text-align: right;\">\n",
       "      <th></th>\n",
       "      <th>IdVenta</th>\n",
       "      <th>Fecha</th>\n",
       "      <th>Fecha_Entrega</th>\n",
       "      <th>IdCanal</th>\n",
       "      <th>IdCliente</th>\n",
       "      <th>IdSucursal</th>\n",
       "      <th>IdEmpleado</th>\n",
       "      <th>IdProducto</th>\n",
       "      <th>Precio</th>\n",
       "      <th>Cantidad</th>\n",
       "    </tr>\n",
       "  </thead>\n",
       "  <tbody>\n",
       "    <tr>\n",
       "      <th>0</th>\n",
       "      <td>1</td>\n",
       "      <td>2018-03-09</td>\n",
       "      <td>2018-03-17</td>\n",
       "      <td>3</td>\n",
       "      <td>969</td>\n",
       "      <td>13</td>\n",
       "      <td>1674</td>\n",
       "      <td>42817</td>\n",
       "      <td>813.12</td>\n",
       "      <td>2.0</td>\n",
       "    </tr>\n",
       "    <tr>\n",
       "      <th>1</th>\n",
       "      <td>2</td>\n",
       "      <td>2018-12-28</td>\n",
       "      <td>2018-12-29</td>\n",
       "      <td>2</td>\n",
       "      <td>884</td>\n",
       "      <td>13</td>\n",
       "      <td>1674</td>\n",
       "      <td>42795</td>\n",
       "      <td>543.18</td>\n",
       "      <td>3.0</td>\n",
       "    </tr>\n",
       "    <tr>\n",
       "      <th>2</th>\n",
       "      <td>3</td>\n",
       "      <td>2016-03-28</td>\n",
       "      <td>2016-03-31</td>\n",
       "      <td>2</td>\n",
       "      <td>1722</td>\n",
       "      <td>13</td>\n",
       "      <td>1674</td>\n",
       "      <td>42837</td>\n",
       "      <td>430.32</td>\n",
       "      <td>1.0</td>\n",
       "    </tr>\n",
       "    <tr>\n",
       "      <th>3</th>\n",
       "      <td>4</td>\n",
       "      <td>2017-10-23</td>\n",
       "      <td>2017-10-24</td>\n",
       "      <td>3</td>\n",
       "      <td>2876</td>\n",
       "      <td>13</td>\n",
       "      <td>1674</td>\n",
       "      <td>42834</td>\n",
       "      <td>818.84</td>\n",
       "      <td>2.0</td>\n",
       "    </tr>\n",
       "    <tr>\n",
       "      <th>4</th>\n",
       "      <td>5</td>\n",
       "      <td>2017-11-22</td>\n",
       "      <td>2017-11-25</td>\n",
       "      <td>2</td>\n",
       "      <td>678</td>\n",
       "      <td>13</td>\n",
       "      <td>1674</td>\n",
       "      <td>42825</td>\n",
       "      <td>554.18</td>\n",
       "      <td>3.0</td>\n",
       "    </tr>\n",
       "  </tbody>\n",
       "</table>\n",
       "</div>"
      ],
      "text/plain": [
       "   IdVenta      Fecha Fecha_Entrega  IdCanal  IdCliente  IdSucursal  \\\n",
       "0        1 2018-03-09    2018-03-17        3        969          13   \n",
       "1        2 2018-12-28    2018-12-29        2        884          13   \n",
       "2        3 2016-03-28    2016-03-31        2       1722          13   \n",
       "3        4 2017-10-23    2017-10-24        3       2876          13   \n",
       "4        5 2017-11-22    2017-11-25        2        678          13   \n",
       "\n",
       "   IdEmpleado  IdProducto  Precio  Cantidad  \n",
       "0        1674       42817  813.12       2.0  \n",
       "1        1674       42795  543.18       3.0  \n",
       "2        1674       42837  430.32       1.0  \n",
       "3        1674       42834  818.84       2.0  \n",
       "4        1674       42825  554.18       3.0  "
      ]
     },
     "execution_count": 9,
     "metadata": {},
     "output_type": "execute_result"
    }
   ],
   "source": [
    "df_ventas.head()"
   ]
  },
  {
   "cell_type": "code",
   "execution_count": 10,
   "id": "a708d4f2-290d-4b30-99a5-edd2b00ac862",
   "metadata": {},
   "outputs": [
    {
     "name": "stdout",
     "output_type": "stream",
     "text": [
      "<class 'pandas.core.frame.DataFrame'>\n",
      "RangeIndex: 46645 entries, 0 to 46644\n",
      "Data columns (total 10 columns):\n",
      " #   Column         Non-Null Count  Dtype         \n",
      "---  ------         --------------  -----         \n",
      " 0   IdVenta        46645 non-null  int64         \n",
      " 1   Fecha          46645 non-null  datetime64[ns]\n",
      " 2   Fecha_Entrega  46645 non-null  object        \n",
      " 3   IdCanal        46645 non-null  int64         \n",
      " 4   IdCliente      46645 non-null  int64         \n",
      " 5   IdSucursal     46645 non-null  int64         \n",
      " 6   IdEmpleado     46645 non-null  int64         \n",
      " 7   IdProducto     46645 non-null  int64         \n",
      " 8   Precio         45721 non-null  float64       \n",
      " 9   Cantidad       45753 non-null  float64       \n",
      "dtypes: datetime64[ns](1), float64(2), int64(6), object(1)\n",
      "memory usage: 3.6+ MB\n"
     ]
    }
   ],
   "source": [
    "df_ventas.info()"
   ]
  },
  {
   "cell_type": "code",
   "execution_count": 11,
   "id": "f00b4487-685a-418e-bb39-469f30867058",
   "metadata": {},
   "outputs": [
    {
     "data": {
      "text/plain": [
       "(46645, 10)"
      ]
     },
     "execution_count": 11,
     "metadata": {},
     "output_type": "execute_result"
    }
   ],
   "source": [
    "df_ventas.shape"
   ]
  },
  {
   "cell_type": "code",
   "execution_count": 12,
   "id": "7e5feb24",
   "metadata": {},
   "outputs": [
    {
     "data": {
      "text/html": [
       "<div>\n",
       "<style scoped>\n",
       "    .dataframe tbody tr th:only-of-type {\n",
       "        vertical-align: middle;\n",
       "    }\n",
       "\n",
       "    .dataframe tbody tr th {\n",
       "        vertical-align: top;\n",
       "    }\n",
       "\n",
       "    .dataframe thead th {\n",
       "        text-align: right;\n",
       "    }\n",
       "</style>\n",
       "<table border=\"1\" class=\"dataframe\">\n",
       "  <thead>\n",
       "    <tr style=\"text-align: right;\">\n",
       "      <th></th>\n",
       "      <th>IdVenta</th>\n",
       "      <th>Fecha</th>\n",
       "      <th>Fecha_Entrega</th>\n",
       "      <th>IdCanal</th>\n",
       "      <th>IdCliente</th>\n",
       "      <th>IdSucursal</th>\n",
       "      <th>IdEmpleado</th>\n",
       "      <th>IdProducto</th>\n",
       "      <th>Precio</th>\n",
       "      <th>Cantidad</th>\n",
       "    </tr>\n",
       "  </thead>\n",
       "  <tbody>\n",
       "    <tr>\n",
       "      <th>0</th>\n",
       "      <td>1</td>\n",
       "      <td>736762</td>\n",
       "      <td>2018-03-17</td>\n",
       "      <td>3</td>\n",
       "      <td>969</td>\n",
       "      <td>13</td>\n",
       "      <td>1674</td>\n",
       "      <td>42817</td>\n",
       "      <td>813.12</td>\n",
       "      <td>2.0</td>\n",
       "    </tr>\n",
       "    <tr>\n",
       "      <th>1</th>\n",
       "      <td>2</td>\n",
       "      <td>737056</td>\n",
       "      <td>2018-12-29</td>\n",
       "      <td>2</td>\n",
       "      <td>884</td>\n",
       "      <td>13</td>\n",
       "      <td>1674</td>\n",
       "      <td>42795</td>\n",
       "      <td>543.18</td>\n",
       "      <td>3.0</td>\n",
       "    </tr>\n",
       "    <tr>\n",
       "      <th>2</th>\n",
       "      <td>3</td>\n",
       "      <td>736051</td>\n",
       "      <td>2016-03-31</td>\n",
       "      <td>2</td>\n",
       "      <td>1722</td>\n",
       "      <td>13</td>\n",
       "      <td>1674</td>\n",
       "      <td>42837</td>\n",
       "      <td>430.32</td>\n",
       "      <td>1.0</td>\n",
       "    </tr>\n",
       "  </tbody>\n",
       "</table>\n",
       "</div>"
      ],
      "text/plain": [
       "   IdVenta   Fecha Fecha_Entrega  IdCanal  IdCliente  IdSucursal  IdEmpleado  \\\n",
       "0        1  736762    2018-03-17        3        969          13        1674   \n",
       "1        2  737056    2018-12-29        2        884          13        1674   \n",
       "2        3  736051    2016-03-31        2       1722          13        1674   \n",
       "\n",
       "   IdProducto  Precio  Cantidad  \n",
       "0       42817  813.12       2.0  \n",
       "1       42795  543.18       3.0  \n",
       "2       42837  430.32       1.0  "
      ]
     },
     "execution_count": 12,
     "metadata": {},
     "output_type": "execute_result"
    }
   ],
   "source": [
    "import datetime as dt\n",
    "df_ventas['Fecha']=df_ventas['Fecha'].map(dt.datetime.toordinal)\n",
    "df_ventas.head(3)"
   ]
  },
  {
   "cell_type": "markdown",
   "id": "d96c99bf-254b-42e8-9b5c-900444b7f9f5",
   "metadata": {},
   "source": [
    "Se lee el maestro de Clientes para obtener la latitud, longitud y edad"
   ]
  },
  {
   "cell_type": "code",
   "execution_count": 15,
   "id": "b60baea2-bea1-40b5-8155-ceb664fca465",
   "metadata": {},
   "outputs": [],
   "source": [
    "df_clientes = pd.read_csv(\"../Datasets/Clientes.csv\", sep=\";\")"
   ]
  },
  {
   "cell_type": "markdown",
   "id": "dc5d9dc6-c851-4de0-9d79-9b0a1620c9c0",
   "metadata": {},
   "source": [
    "Se lle el maestro de Sucursales para obtener latitud y longitud"
   ]
  },
  {
   "cell_type": "code",
   "execution_count": 17,
   "id": "f7e3f7e6-90a9-4f47-a1c6-bd622ae5519e",
   "metadata": {},
   "outputs": [],
   "source": [
    "df_sucursales = pd.read_csv(\"../Datasets/Sucursales.csv\", sep=\";\")"
   ]
  },
  {
   "cell_type": "markdown",
   "id": "f7c9afdc-2aed-4987-910c-e36218bf10cb",
   "metadata": {},
   "source": [
    "Se puede utilizar la biblioteca Geopy para obtener la distancia entre el cliente y la sucursal:\n",
    "    !pip install geopy"
   ]
  },
  {
   "cell_type": "code",
   "execution_count": 21,
   "id": "3521861c",
   "metadata": {},
   "outputs": [
    {
     "name": "stdout",
     "output_type": "stream",
     "text": [
      "Collecting geopy\n",
      "  Downloading geopy-2.2.0-py3-none-any.whl (118 kB)\n",
      "Collecting geographiclib<2,>=1.49\n",
      "  Downloading geographiclib-1.52-py3-none-any.whl (38 kB)\n",
      "Installing collected packages: geographiclib, geopy\n",
      "Successfully installed geographiclib-1.52 geopy-2.2.0\n"
     ]
    }
   ],
   "source": [
    "!pip install geopy"
   ]
  },
  {
   "cell_type": "code",
   "execution_count": 22,
   "id": "ca179373-5402-465d-9e8a-3c394bc417c7",
   "metadata": {},
   "outputs": [],
   "source": [
    "from geopy.distance import geodesic"
   ]
  },
  {
   "cell_type": "code",
   "execution_count": 23,
   "id": "78d16d7a-aeda-4bfc-b9ef-714b8cfc5134",
   "metadata": {},
   "outputs": [],
   "source": [
    "punto1 = (-34.6157437, -58.573385) #lat-long de buenos aires\n",
    "punto2 = (41.909986, 12.3959124) #lat-long de roma"
   ]
  },
  {
   "cell_type": "code",
   "execution_count": 24,
   "id": "408b761c-827d-499f-84c4-3e26f77fee39",
   "metadata": {},
   "outputs": [
    {
     "data": {
      "text/plain": [
       "tuple"
      ]
     },
     "execution_count": 24,
     "metadata": {},
     "output_type": "execute_result"
    }
   ],
   "source": [
    "type(punto1)"
   ]
  },
  {
   "cell_type": "code",
   "execution_count": 25,
   "id": "21b99965-111e-49d9-9054-5df676ff3f60",
   "metadata": {},
   "outputs": [
    {
     "name": "stdout",
     "output_type": "stream",
     "text": [
      "11139.019659518188\n"
     ]
    }
   ],
   "source": [
    "print(geodesic(punto1, punto2).km)"
   ]
  },
  {
   "cell_type": "code",
   "execution_count": 26,
   "id": "6655ec1b-2862-4961-8c24-19c82aefd24c",
   "metadata": {},
   "outputs": [
    {
     "name": "stdout",
     "output_type": "stream",
     "text": [
      "11139.019659518188\n"
     ]
    }
   ],
   "source": [
    "print(geodesic((-34.6157437, -58.573385), (41.909986, 12.3959124)).km)"
   ]
  },
  {
   "cell_type": "markdown",
   "id": "26f3c712-afb5-4d4a-ba68-152a37de8506",
   "metadata": {},
   "source": [
    "Se trabaja sobre los dataframes maestros de clientes y sucursales para adecuar nombres de campos y tipos de datos, tambien para hacer tratamiento sobre valores faltantes"
   ]
  },
  {
   "cell_type": "markdown",
   "id": "ce47c6fb-90e7-41ee-95b7-eb7fbf5e1273",
   "metadata": {},
   "source": [
    "Como vemos que hay problemas en los datos, es decir, valores de latitud y longitud que no corresponden a Argentina, se procede a hacer correcciones, las cuáles serán de dos tipos:\n",
    "* Casos donde la latitud y longitud están en positivo\n",
    "* Casos donde la latitud y longitud están intercambiadas"
   ]
  },
  {
   "cell_type": "markdown",
   "id": "56ad8cd5-0223-4017-b830-67cbd72f3429",
   "metadata": {},
   "source": [
    "Se agrega en el dataframe de ventas los datos de geoposición y edad"
   ]
  },
  {
   "cell_type": "markdown",
   "id": "2a6c2bd3-180b-41cf-a289-648f0d114211",
   "metadata": {},
   "source": [
    "Los valores nulos pueden ser descartados o bien imputados con otro valor"
   ]
  },
  {
   "cell_type": "markdown",
   "id": "a0d5ca71-e39f-4ddb-a6d7-37ad6f10d7f5",
   "metadata": {},
   "source": [
    "Se genera el campo donde va a estar la distancia del cliente con la sucursal, que es la geodésica entre los dos puntos de coordenadas"
   ]
  },
  {
   "cell_type": "markdown",
   "id": "ae208984-edbc-4bf8-b702-6b65324d56d5",
   "metadata": {},
   "source": [
    "El Canal de venta Online es el IdCanal = 2, se observan los datos con ese filtro"
   ]
  },
  {
   "cell_type": "markdown",
   "id": "3bb150e1-7890-4b1c-9a0a-dd518710dcac",
   "metadata": {},
   "source": [
    "Del maestro de Productos, se obtiene el tipo de producto"
   ]
  },
  {
   "cell_type": "markdown",
   "id": "1695e5d4-6f06-456b-99e4-872187469ef1",
   "metadata": {},
   "source": [
    "Se analiza la correlación entre las variables"
   ]
  },
  {
   "cell_type": "code",
   "execution_count": null,
   "id": "0b0da5fb",
   "metadata": {},
   "outputs": [],
   "source": [
    "def plot_corre_heatmap(corr):\n",
    "    '''\n",
    "    Definimos una función para ayudarnos a graficar un heatmap de correlación\n",
    "    '''\n",
    "    plt.figure(figsize=(12,10))\n",
    "    sns.heatmap(corr, cbar = True,  square = False, annot=True, fmt= '.2f'\n",
    "                ,annot_kws={'size': 15},cmap= 'coolwarm')\n",
    "    plt.xticks(rotation = 45)\n",
    "    plt.yticks(rotation = 45)\n",
    "    # Arreglamos un pequeño problema de visualización\n",
    "    b, t = plt.ylim() # discover the values for bottom and top\n",
    "    b += 0.5 # Add 0.5 to the bottom\n",
    "    t -= 0.5 # Subtract 0.5 from the top\n",
    "    plt.ylim(b, t) # update the ylim(bottom, top) values\n",
    "    plt.show()"
   ]
  },
  {
   "cell_type": "code",
   "execution_count": null,
   "id": "404b64e3",
   "metadata": {},
   "outputs": [],
   "source": [
    "corr = df_ventas[['Precio','Cantidad','Fecha','Edad','Dist_Cli_Suc','IdTipoProducto','VentaOnline']].corr()\n",
    "plot_corre_heatmap(corr)"
   ]
  },
  {
   "cell_type": "markdown",
   "id": "c09b8287-ff31-472a-a864-7c5b7491ab41",
   "metadata": {},
   "source": [
    "Se analiza la distribución entre ventas online y el resto"
   ]
  },
  {
   "cell_type": "markdown",
   "id": "bda7576a-4f60-4b12-8b36-05967b518532",
   "metadata": {},
   "source": [
    "Se generan los datos con los que se va a entrenar Random Forest"
   ]
  },
  {
   "cell_type": "code",
   "execution_count": null,
   "id": "70217b0a",
   "metadata": {},
   "outputs": [],
   "source": [
    "from sklearn.preprocessing import StandardScaler\n",
    "from sklearn.model_selection import train_test_split\n",
    "from sklearn.model_selection import cross_val_score\n",
    "from sklearn.model_selection import cross_validate\n",
    "from sklearn.ensemble import RandomForestClassifier\n",
    "import sklearn.metrics as metrics\n",
    "from sklearn.model_selection import learning_curve"
   ]
  },
  {
   "cell_type": "markdown",
   "id": "8e216abf-7b6b-4bb7-9840-44f98ead3d3c",
   "metadata": {},
   "source": [
    "Se evaluan distintos hiperparámetros, analizando la curva de validación y de aprendizaje"
   ]
  },
  {
   "cell_type": "code",
   "execution_count": null,
   "id": "87568f7f",
   "metadata": {},
   "outputs": [],
   "source": [
    "train_accuracy = []\n",
    "test_accuracy = []\n",
    "oob_scores = []\n",
    "\n",
    "N_estimadores = [2,50,100,150,200,250,300]\n",
    "i = 0\n",
    "i_max = len(N_estimadores)\n",
    "for estimadores in N_estimadores:\n",
    "    i = i + 1\n",
    "    clf = RandomForestClassifier(n_estimators=estimadores, n_jobs=-1, oob_score= True, random_state = 42)\n",
    "    clf.fit(X_train,y_train)\n",
    "    \n",
    "    y_train_pred = clf.predict(X_train)\n",
    "    y_test_pred = clf.predict(X_test)\n",
    "    \n",
    "    train_accuracy.append(metrics.accuracy_score(y_train, y_train_pred))\n",
    "    test_accuracy.append(metrics.accuracy_score(y_test, y_test_pred))\n",
    "    oob_scores.append(clf.oob_score_)\n",
    "    \n",
    "    clear_output(wait=True)\n",
    "    print('Completado: ' + str(round(i / i_max * 100, 2)) + '%')\n",
    "    \n",
    "train_accuracy = np.array(train_accuracy)\n",
    "test_accuracy = np.array(test_accuracy)\n",
    "oob_scores = np.array(oob_scores)"
   ]
  },
  {
   "cell_type": "code",
   "execution_count": null,
   "id": "91237de1",
   "metadata": {},
   "outputs": [],
   "source": [
    "plt.figure(figsize = (8,6))\n",
    "plt.plot(N_estimadores, train_accuracy, label = 'Train')\n",
    "plt.plot(N_estimadores, test_accuracy, label = 'Test')\n",
    "plt.plot(N_estimadores, oob_scores, label = 'OOB')\n",
    "plt.xlabel('Numero de estimadores')\n",
    "plt.ylabel('Accuracy')\n",
    "plt.legend()\n",
    "# plt.xlim(0,50)\n",
    "plt.show()"
   ]
  }
 ],
 "metadata": {
  "kernelspec": {
   "display_name": "Python 3 (ipykernel)",
   "language": "python",
   "name": "python3"
  },
  "language_info": {
   "codemirror_mode": {
    "name": "ipython",
    "version": 3
   },
   "file_extension": ".py",
   "mimetype": "text/x-python",
   "name": "python",
   "nbconvert_exporter": "python",
   "pygments_lexer": "ipython3",
   "version": "3.9.12"
  }
 },
 "nbformat": 4,
 "nbformat_minor": 5
}
