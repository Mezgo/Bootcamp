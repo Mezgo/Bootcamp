{
 "cells": [
  {
   "cell_type": "markdown",
   "metadata": {},
   "source": [
    "## **MÉTODOS DE ENSAMBLE**\n",
    "\n",
    "Continuaremos con las técnicas de ensamble. En esta práctica veremos **stacking**.\n",
    "\n",
    "- - -\n",
    "\n",
    "## **`STACKING`**\n",
    "\n",
    "El método Stacking (Stacked Generalization o Meta Ensamblado) implica combinar las predicciones de distintos modelos de Machine Learning con un mismo conjunto de datos, tal como Bagging y Boosting.\n",
    "\n",
    "Stacking suele utilizar modelos diferentes -pueden no ser todos, necesariamente, árboles de decisión- y se ajustan al mismo conjunto de datos. Por otro lado, esta técnica usa solo un modelo para aprender cómo ensamblar de mejor manera las predicciones de los modelos que contribuyen.\n",
    "\n",
    "La arquitectura de este método implica dos o más *modelos base* (nivel 0) y un *metamodelo* (nivel 1) que combina las predicciones de los modelos base.\n",
    "\n",
    "Este enfoque puede ser utilizado tanto en escenarios supervisados como no supervisados y su rendimiento aumentará cuanto más diversos sean los modelos del nivel 0.\n",
    "\n",
    "<img src=\"../_src/assets/Stacking.png\">\n",
    "\n",
    "- - -\n",
    "\n",
    "## `Práctica`\n",
    "\n"
   ]
  },
  {
   "cell_type": "markdown",
   "metadata": {},
   "source": [
    "Trabajaremos con el ya conocido (y querido) dataset de Iris provisto por Scikit-learn."
   ]
  },
  {
   "cell_type": "code",
   "execution_count": 1,
   "metadata": {},
   "outputs": [],
   "source": [
    "from sklearn.model_selection import train_test_split\n",
    "from sklearn.metrics import accuracy_score\n",
    "from sklearn.neighbors import KNeighborsClassifier # Modelo 1\n",
    "from sklearn.svm import SVC # Modelo 2\n",
    "from sklearn.tree import DecisionTreeClassifier # Modelo 3\n",
    "\n",
    "from sklearn.ensemble import StackingClassifier\n",
    "from sklearn.linear_model import LogisticRegression # Metamodelo"
   ]
  },
  {
   "cell_type": "code",
   "execution_count": 2,
   "metadata": {},
   "outputs": [
    {
     "data": {
      "text/plain": [
       "(150, 4)"
      ]
     },
     "execution_count": 2,
     "metadata": {},
     "output_type": "execute_result"
    }
   ],
   "source": [
    "# Importamos el dataset de Iris desde Scikit-learn\n",
    "\n",
    "from sklearn.datasets import load_iris\n",
    "\n",
    "#Importamos X e Y\n",
    "\n",
    "X, y = load_iris(return_X_y=True)\n",
    "X.shape"
   ]
  },
  {
   "cell_type": "markdown",
   "metadata": {},
   "source": [
    "***`Recordemos:`***\n",
    "\n",
    "X = features que describen la flor\n",
    "\n",
    "y = tipo de flor (setosa, versicolor, virgínica)\n",
    "\n",
    "Queremos generar una predicción sobre el tipo de flor que corresponde según sus características."
   ]
  },
  {
   "cell_type": "code",
   "execution_count": 3,
   "metadata": {},
   "outputs": [],
   "source": [
    "# Separamos los datos\n",
    "\n",
    "X_train, X_test, y_train, y_test = train_test_split(X, y, stratify=y, test_size=0.2, random_state=42)"
   ]
  },
  {
   "cell_type": "markdown",
   "metadata": {},
   "source": [
    "Se divide el dataset, usando como test el 20% de los datos. El argumento **stratify=y** permite que se mantenga el ratio (proporción) entre las categorías de la variable **y**. Es decir, si por ejemplo en nuestro dataset original tenemos 50% de flores tipo setosa, 30% tipo versicolor y 20% tipo virginica, en nuestro test tendremos la misma proporción de cada tipo. "
   ]
  },
  {
   "cell_type": "code",
   "execution_count": 4,
   "metadata": {},
   "outputs": [
    {
     "data": {
      "text/plain": [
       "((120, 4), (30, 4))"
      ]
     },
     "execution_count": 4,
     "metadata": {},
     "output_type": "execute_result"
    }
   ],
   "source": [
    "X_train.shape, X_test.shape"
   ]
  },
  {
   "cell_type": "markdown",
   "metadata": {},
   "source": [
    "##### **Modelo 1: K-nearest neighbors**"
   ]
  },
  {
   "cell_type": "code",
   "execution_count": 5,
   "metadata": {},
   "outputs": [
    {
     "name": "stdout",
     "output_type": "stream",
     "text": [
      "Desempeño del modelo para el Training set:  0.9583333333333334\n",
      "Desempeño del modelo para el Test set:  1.0\n"
     ]
    }
   ],
   "source": [
    "# Se define el clasificador\n",
    "knn = KNeighborsClassifier(3)\n",
    "\n",
    "# Se entrena el modelo\n",
    "knn.fit(X_train, y_train)\n",
    "\n",
    "# Predicciones\n",
    "y_train_pred = knn.predict(X_train)\n",
    "y_test_pred = knn.predict(X_test)\n",
    "\n",
    "# Desempeño del modelo en train, calculando la precisión (accuracy)\n",
    "knn_train_accuracy = accuracy_score(y_train, y_train_pred)\n",
    "\n",
    "# Desempeño del modelo en test, calculando la precisión (accuracy)\n",
    "knn_test_accuracy = accuracy_score(y_test, y_test_pred)\n",
    "\n",
    "print('Desempeño del modelo para el Training set: ',knn_train_accuracy)\n",
    "print('Desempeño del modelo para el Test set: ',knn_test_accuracy)"
   ]
  },
  {
   "cell_type": "markdown",
   "metadata": {},
   "source": [
    "##### **Modelo 2: Support vector machine**"
   ]
  },
  {
   "cell_type": "code",
   "execution_count": 6,
   "metadata": {},
   "outputs": [
    {
     "name": "stdout",
     "output_type": "stream",
     "text": [
      "Desempeño del modelo para el Training set:  0.9916666666666667\n",
      "Desempeño del modelo para el Test set:  0.9666666666666667\n"
     ]
    }
   ],
   "source": [
    "# Se define el clasificador\n",
    "svm = SVC(gamma=2, C=1)\n",
    "\n",
    "# Se entrena el modelo\n",
    "svm.fit(X_train, y_train)\n",
    "\n",
    "# Predicciones\n",
    "y_train_pred = svm.predict(X_train)\n",
    "y_test_pred = svm.predict(X_test)\n",
    "\n",
    "# Desempeño del modelo en train, calculando la precisión (accuracy)\n",
    "svm_train_accuracy = accuracy_score(y_train, y_train_pred) \n",
    "\n",
    "# Desempeño del modelo en test, calculando la precisión (accuracy)\n",
    "svm_test_accuracy = accuracy_score(y_test, y_test_pred)\n",
    "\n",
    "\n",
    "print('Desempeño del modelo para el Training set: ',svm_train_accuracy)\n",
    "print('Desempeño del modelo para el Test set: ',svm_test_accuracy)"
   ]
  },
  {
   "cell_type": "markdown",
   "metadata": {},
   "source": [
    "##### **Modelo 3: Árboles de decisión**"
   ]
  },
  {
   "cell_type": "code",
   "execution_count": 7,
   "metadata": {},
   "outputs": [
    {
     "name": "stdout",
     "output_type": "stream",
     "text": [
      "Desempeño del modelo para el Training set:  1.0\n",
      "Desempeño del modelo para el Test set:  0.9666666666666667\n"
     ]
    }
   ],
   "source": [
    "# Se define el clasificador\n",
    "dt = DecisionTreeClassifier(max_depth=5)\n",
    "\n",
    "# Se entrena el modelo\n",
    "dt.fit(X_train, y_train)\n",
    "\n",
    "# Predicciones\n",
    "y_train_pred = dt.predict(X_train)\n",
    "y_test_pred = dt.predict(X_test)\n",
    "\n",
    "# Desempeño del modelo entrenado, calculando la precisión (accuracy)\n",
    "dt_train_accuracy = accuracy_score(y_train, y_train_pred)\n",
    "\n",
    "# Desempeño del modelo testeado, calculando la precisión (accuracy)\n",
    "dt_test_accuracy = accuracy_score(y_test, y_test_pred)\n",
    "\n",
    "print('Desempeño del modelo para el Training set: ',dt_train_accuracy)\n",
    "print('Desempeño del modelo para el Test set: ',dt_test_accuracy)"
   ]
  },
  {
   "cell_type": "markdown",
   "metadata": {},
   "source": [
    "##### **Metamodelo: Regresión logística**"
   ]
  },
  {
   "cell_type": "code",
   "execution_count": 8,
   "metadata": {},
   "outputs": [
    {
     "name": "stdout",
     "output_type": "stream",
     "text": [
      "Desempeño del metamodelo para el Training set:  0.9916666666666667\n",
      "Desempeño del metamodelo para el Test set:  0.9666666666666667\n"
     ]
    }
   ],
   "source": [
    "# Se define la lista de estimadores con los 3 modelos generados\n",
    "estimator_list = [\n",
    "    ('knn',knn),\n",
    "    ('svm_rbf',svm),\n",
    "    ('dt',dt)]\n",
    "\n",
    "# Se genera el modelo apilado (stacking)\n",
    "# Se estima con los 3 modelos generados\n",
    "# El estimador de la predicción final será una regresión logística (metamodelo).\n",
    "stack_model = StackingClassifier(\n",
    "    estimators=estimator_list, final_estimator=LogisticRegression())\n",
    "\n",
    "# Se entrena el metamodelo\n",
    "stack_model.fit(X_train, y_train)\n",
    "\n",
    "# Predicciones\n",
    "y_train_pred = stack_model.predict(X_train)\n",
    "y_test_pred = stack_model.predict(X_test)\n",
    "\n",
    "# Desempeño del metamodelo en train, calculando la precisión (accuracy)\n",
    "stack_model_train_accuracy = accuracy_score(y_train, y_train_pred)\n",
    "\n",
    "# Desempeño del metamodelo en test, calculando la precisión (accuracy)\n",
    "stack_model_test_accuracy = accuracy_score(y_test, y_test_pred)\n",
    "\n",
    "print('Desempeño del metamodelo para el Training set: ',stack_model_train_accuracy)\n",
    "print('Desempeño del metamodelo para el Test set: ',stack_model_test_accuracy)"
   ]
  },
  {
   "cell_type": "markdown",
   "metadata": {},
   "source": [
    "En resumen, lo que hicimos fue stackear o apilar 3 modelos distintos generando predicciones, para luego utilizar como predicción final el metamodelo que, en este caso, fue de regresión logística. \n",
    "\n"
   ]
  },
  {
   "cell_type": "markdown",
   "metadata": {},
   "source": [
    "<img src=\"../_src/assets/Stacking2.png\">"
   ]
  }
 ],
 "metadata": {
  "kernelspec": {
   "display_name": "Python 3 (ipykernel)",
   "language": "python",
   "name": "python3"
  },
  "language_info": {
   "codemirror_mode": {
    "name": "ipython",
    "version": 3
   },
   "file_extension": ".py",
   "mimetype": "text/x-python",
   "name": "python",
   "nbconvert_exporter": "python",
   "pygments_lexer": "ipython3",
   "version": "3.10.5"
  },
  "vscode": {
   "interpreter": {
    "hash": "9b0261dadc93494a3555537365c322d83416c4a1ed03d5df7c77bc94b07686c8"
   }
  }
 },
 "nbformat": 4,
 "nbformat_minor": 2
}
