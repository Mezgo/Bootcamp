{
 "cells": [
  {
   "cell_type": "markdown",
   "id": "90902c42-418d-4dfd-aaf9-abe19a672b22",
   "metadata": {},
   "source": [
    "El sector de Marketing, para tener en cuenta en el envío de campañas, requiere poder realizar una segmentación de clientes, para poder entender sus preferencias y enfocar mejor las campañas."
   ]
  },
  {
   "cell_type": "code",
   "execution_count": 7,
   "id": "ec1f8e3d-348e-4874-a388-ea59af8de393",
   "metadata": {},
   "outputs": [],
   "source": [
    "import pandas as pd\n",
    "import matplotlib.pyplot as plt\n",
    "import seaborn as sns\n",
    "import numpy as np\n",
    "sns.set()"
   ]
  },
  {
   "cell_type": "code",
   "execution_count": 8,
   "id": "c18b5d39-4225-452f-be07-fdd9350e8a10",
   "metadata": {},
   "outputs": [],
   "source": [
    "from IPython.display import clear_output"
   ]
  },
  {
   "cell_type": "markdown",
   "id": "810ed94a-99d9-4f77-ade4-7a66ae03c76a",
   "metadata": {},
   "source": [
    "Se utiliza el archivo de ventas procesado:"
   ]
  },
  {
   "cell_type": "code",
   "execution_count": 10,
   "id": "cb4b85fa-5517-41e7-8831-a9ce45bde56d",
   "metadata": {},
   "outputs": [],
   "source": [
    "df_ventas = pd.read_csv(\"../Datasets/Venta_Procesado.csv\", sep=\",\")"
   ]
  },
  {
   "cell_type": "code",
   "execution_count": 11,
   "id": "2838a6d2-9764-40f3-80e3-f1fb0617dddd",
   "metadata": {},
   "outputs": [
    {
     "data": {
      "text/html": [
       "<div>\n",
       "<style scoped>\n",
       "    .dataframe tbody tr th:only-of-type {\n",
       "        vertical-align: middle;\n",
       "    }\n",
       "\n",
       "    .dataframe tbody tr th {\n",
       "        vertical-align: top;\n",
       "    }\n",
       "\n",
       "    .dataframe thead th {\n",
       "        text-align: right;\n",
       "    }\n",
       "</style>\n",
       "<table border=\"1\" class=\"dataframe\">\n",
       "  <thead>\n",
       "    <tr style=\"text-align: right;\">\n",
       "      <th></th>\n",
       "      <th>IdVenta</th>\n",
       "      <th>Fecha</th>\n",
       "      <th>Fecha_Entrega</th>\n",
       "      <th>IdCanal</th>\n",
       "      <th>IdCliente</th>\n",
       "      <th>IdSucursal</th>\n",
       "      <th>IdEmpleado</th>\n",
       "      <th>IdProducto</th>\n",
       "      <th>Precio</th>\n",
       "      <th>Cantidad</th>\n",
       "      <th>MinPrecio</th>\n",
       "      <th>MaxPrecio</th>\n",
       "      <th>MinCantidad</th>\n",
       "      <th>MaxCantidad</th>\n",
       "      <th>Calidad_Precio</th>\n",
       "      <th>Calidad_Cantidad</th>\n",
       "      <th>Venta</th>\n",
       "      <th>Fecha_Año</th>\n",
       "      <th>Fecha_Mes</th>\n",
       "      <th>Fecha_Periodo</th>\n",
       "    </tr>\n",
       "  </thead>\n",
       "  <tbody>\n",
       "    <tr>\n",
       "      <th>0</th>\n",
       "      <td>1</td>\n",
       "      <td>2018-03-09</td>\n",
       "      <td>2018-03-17</td>\n",
       "      <td>3</td>\n",
       "      <td>969</td>\n",
       "      <td>13</td>\n",
       "      <td>1674</td>\n",
       "      <td>42817</td>\n",
       "      <td>813.12</td>\n",
       "      <td>2.0</td>\n",
       "      <td>813.12</td>\n",
       "      <td>813.12</td>\n",
       "      <td>0.000</td>\n",
       "      <td>5.000</td>\n",
       "      <td>Sin errores</td>\n",
       "      <td>Sin errores</td>\n",
       "      <td>1626.24</td>\n",
       "      <td>2018</td>\n",
       "      <td>3</td>\n",
       "      <td>201803</td>\n",
       "    </tr>\n",
       "    <tr>\n",
       "      <th>1</th>\n",
       "      <td>2</td>\n",
       "      <td>2018-12-28</td>\n",
       "      <td>2018-12-29</td>\n",
       "      <td>2</td>\n",
       "      <td>884</td>\n",
       "      <td>13</td>\n",
       "      <td>1674</td>\n",
       "      <td>42795</td>\n",
       "      <td>543.18</td>\n",
       "      <td>3.0</td>\n",
       "      <td>543.18</td>\n",
       "      <td>543.18</td>\n",
       "      <td>0.875</td>\n",
       "      <td>3.125</td>\n",
       "      <td>Sin errores</td>\n",
       "      <td>Sin errores</td>\n",
       "      <td>1629.54</td>\n",
       "      <td>2018</td>\n",
       "      <td>12</td>\n",
       "      <td>201812</td>\n",
       "    </tr>\n",
       "    <tr>\n",
       "      <th>2</th>\n",
       "      <td>3</td>\n",
       "      <td>2016-03-28</td>\n",
       "      <td>2016-03-31</td>\n",
       "      <td>2</td>\n",
       "      <td>1722</td>\n",
       "      <td>13</td>\n",
       "      <td>1674</td>\n",
       "      <td>42837</td>\n",
       "      <td>430.32</td>\n",
       "      <td>1.0</td>\n",
       "      <td>430.32</td>\n",
       "      <td>430.32</td>\n",
       "      <td>0.000</td>\n",
       "      <td>5.000</td>\n",
       "      <td>Sin errores</td>\n",
       "      <td>Sin errores</td>\n",
       "      <td>430.32</td>\n",
       "      <td>2016</td>\n",
       "      <td>3</td>\n",
       "      <td>201603</td>\n",
       "    </tr>\n",
       "    <tr>\n",
       "      <th>3</th>\n",
       "      <td>4</td>\n",
       "      <td>2017-10-23</td>\n",
       "      <td>2017-10-24</td>\n",
       "      <td>3</td>\n",
       "      <td>2876</td>\n",
       "      <td>13</td>\n",
       "      <td>1674</td>\n",
       "      <td>42834</td>\n",
       "      <td>818.84</td>\n",
       "      <td>2.0</td>\n",
       "      <td>818.84</td>\n",
       "      <td>818.84</td>\n",
       "      <td>0.500</td>\n",
       "      <td>3.500</td>\n",
       "      <td>Sin errores</td>\n",
       "      <td>Sin errores</td>\n",
       "      <td>1637.68</td>\n",
       "      <td>2017</td>\n",
       "      <td>10</td>\n",
       "      <td>201710</td>\n",
       "    </tr>\n",
       "    <tr>\n",
       "      <th>4</th>\n",
       "      <td>5</td>\n",
       "      <td>2017-11-22</td>\n",
       "      <td>2017-11-25</td>\n",
       "      <td>2</td>\n",
       "      <td>678</td>\n",
       "      <td>13</td>\n",
       "      <td>1674</td>\n",
       "      <td>42825</td>\n",
       "      <td>554.18</td>\n",
       "      <td>3.0</td>\n",
       "      <td>554.18</td>\n",
       "      <td>554.18</td>\n",
       "      <td>0.000</td>\n",
       "      <td>5.000</td>\n",
       "      <td>Sin errores</td>\n",
       "      <td>Sin errores</td>\n",
       "      <td>1662.54</td>\n",
       "      <td>2017</td>\n",
       "      <td>11</td>\n",
       "      <td>201711</td>\n",
       "    </tr>\n",
       "  </tbody>\n",
       "</table>\n",
       "</div>"
      ],
      "text/plain": [
       "   IdVenta       Fecha Fecha_Entrega  IdCanal  IdCliente  IdSucursal  \\\n",
       "0        1  2018-03-09    2018-03-17        3        969          13   \n",
       "1        2  2018-12-28    2018-12-29        2        884          13   \n",
       "2        3  2016-03-28    2016-03-31        2       1722          13   \n",
       "3        4  2017-10-23    2017-10-24        3       2876          13   \n",
       "4        5  2017-11-22    2017-11-25        2        678          13   \n",
       "\n",
       "   IdEmpleado  IdProducto  Precio  Cantidad  MinPrecio  MaxPrecio  \\\n",
       "0        1674       42817  813.12       2.0     813.12     813.12   \n",
       "1        1674       42795  543.18       3.0     543.18     543.18   \n",
       "2        1674       42837  430.32       1.0     430.32     430.32   \n",
       "3        1674       42834  818.84       2.0     818.84     818.84   \n",
       "4        1674       42825  554.18       3.0     554.18     554.18   \n",
       "\n",
       "   MinCantidad  MaxCantidad Calidad_Precio Calidad_Cantidad    Venta  \\\n",
       "0        0.000        5.000    Sin errores      Sin errores  1626.24   \n",
       "1        0.875        3.125    Sin errores      Sin errores  1629.54   \n",
       "2        0.000        5.000    Sin errores      Sin errores   430.32   \n",
       "3        0.500        3.500    Sin errores      Sin errores  1637.68   \n",
       "4        0.000        5.000    Sin errores      Sin errores  1662.54   \n",
       "\n",
       "   Fecha_Año  Fecha_Mes  Fecha_Periodo  \n",
       "0       2018          3         201803  \n",
       "1       2018         12         201812  \n",
       "2       2016          3         201603  \n",
       "3       2017         10         201710  \n",
       "4       2017         11         201711  "
      ]
     },
     "execution_count": 11,
     "metadata": {},
     "output_type": "execute_result"
    }
   ],
   "source": [
    "df_ventas.head()"
   ]
  },
  {
   "cell_type": "code",
   "execution_count": 12,
   "id": "a708d4f2-290d-4b30-99a5-edd2b00ac862",
   "metadata": {},
   "outputs": [
    {
     "name": "stdout",
     "output_type": "stream",
     "text": [
      "<class 'pandas.core.frame.DataFrame'>\n",
      "RangeIndex: 46645 entries, 0 to 46644\n",
      "Data columns (total 20 columns):\n",
      " #   Column            Non-Null Count  Dtype  \n",
      "---  ------            --------------  -----  \n",
      " 0   IdVenta           46645 non-null  int64  \n",
      " 1   Fecha             46645 non-null  object \n",
      " 2   Fecha_Entrega     46645 non-null  object \n",
      " 3   IdCanal           46645 non-null  int64  \n",
      " 4   IdCliente         46645 non-null  int64  \n",
      " 5   IdSucursal        46645 non-null  int64  \n",
      " 6   IdEmpleado        46645 non-null  int64  \n",
      " 7   IdProducto        46645 non-null  int64  \n",
      " 8   Precio            45721 non-null  float64\n",
      " 9   Cantidad          45753 non-null  float64\n",
      " 10  MinPrecio         46645 non-null  float64\n",
      " 11  MaxPrecio         46645 non-null  float64\n",
      " 12  MinCantidad       46645 non-null  float64\n",
      " 13  MaxCantidad       46645 non-null  float64\n",
      " 14  Calidad_Precio    46645 non-null  object \n",
      " 15  Calidad_Cantidad  46645 non-null  object \n",
      " 16  Venta             44845 non-null  float64\n",
      " 17  Fecha_Año         46645 non-null  int64  \n",
      " 18  Fecha_Mes         46645 non-null  int64  \n",
      " 19  Fecha_Periodo     46645 non-null  int64  \n",
      "dtypes: float64(7), int64(9), object(4)\n",
      "memory usage: 7.1+ MB\n"
     ]
    }
   ],
   "source": [
    "df_ventas.info()"
   ]
  },
  {
   "cell_type": "markdown",
   "id": "574fbc4a-0b42-4864-9606-4a1ac309e938",
   "metadata": {},
   "source": [
    "Se filtran solo los registros sin errores:"
   ]
  },
  {
   "cell_type": "code",
   "execution_count": 13,
   "id": "4e908633-8610-4cd3-a149-38517e2da82d",
   "metadata": {},
   "outputs": [],
   "source": [
    "df_ventas = df_ventas[(df_ventas['Calidad_Precio'] == 'Sin errores') & (df_ventas['Calidad_Cantidad'] == 'Sin errores')]"
   ]
  },
  {
   "cell_type": "code",
   "execution_count": 14,
   "id": "f00b4487-685a-418e-bb39-469f30867058",
   "metadata": {},
   "outputs": [
    {
     "data": {
      "text/plain": [
       "(39792, 20)"
      ]
     },
     "execution_count": 14,
     "metadata": {},
     "output_type": "execute_result"
    }
   ],
   "source": [
    "df_ventas.shape"
   ]
  },
  {
   "cell_type": "markdown",
   "id": "3230e4f7-e7b8-4e1f-9543-d744ce4875c1",
   "metadata": {},
   "source": [
    "Se dejan las columnas que se van a utilizar, pero salvando Ids de Cliente y Sucursal todavía:"
   ]
  },
  {
   "cell_type": "code",
   "execution_count": 15,
   "id": "28a7254a-30f6-4ade-8d4f-7d2b432ca3c8",
   "metadata": {},
   "outputs": [],
   "source": [
    "df_ventas.drop(['IdVenta','Fecha','Fecha_Año','Fecha_Mes','IdProducto','Fecha_Entrega','IdEmpleado','MinPrecio','MaxPrecio','MinCantidad','MaxCantidad','Calidad_Precio','Calidad_Cantidad','Venta','Fecha_Periodo'], axis=1,inplace=True)"
   ]
  },
  {
   "cell_type": "code",
   "execution_count": 16,
   "id": "2c7a64cd-e6a3-41da-bf5b-b313a5584276",
   "metadata": {},
   "outputs": [
    {
     "data": {
      "text/html": [
       "<div>\n",
       "<style scoped>\n",
       "    .dataframe tbody tr th:only-of-type {\n",
       "        vertical-align: middle;\n",
       "    }\n",
       "\n",
       "    .dataframe tbody tr th {\n",
       "        vertical-align: top;\n",
       "    }\n",
       "\n",
       "    .dataframe thead th {\n",
       "        text-align: right;\n",
       "    }\n",
       "</style>\n",
       "<table border=\"1\" class=\"dataframe\">\n",
       "  <thead>\n",
       "    <tr style=\"text-align: right;\">\n",
       "      <th></th>\n",
       "      <th>IdCanal</th>\n",
       "      <th>IdCliente</th>\n",
       "      <th>IdSucursal</th>\n",
       "      <th>Precio</th>\n",
       "      <th>Cantidad</th>\n",
       "    </tr>\n",
       "  </thead>\n",
       "  <tbody>\n",
       "    <tr>\n",
       "      <th>0</th>\n",
       "      <td>3</td>\n",
       "      <td>969</td>\n",
       "      <td>13</td>\n",
       "      <td>813.12</td>\n",
       "      <td>2.0</td>\n",
       "    </tr>\n",
       "    <tr>\n",
       "      <th>1</th>\n",
       "      <td>2</td>\n",
       "      <td>884</td>\n",
       "      <td>13</td>\n",
       "      <td>543.18</td>\n",
       "      <td>3.0</td>\n",
       "    </tr>\n",
       "    <tr>\n",
       "      <th>2</th>\n",
       "      <td>2</td>\n",
       "      <td>1722</td>\n",
       "      <td>13</td>\n",
       "      <td>430.32</td>\n",
       "      <td>1.0</td>\n",
       "    </tr>\n",
       "    <tr>\n",
       "      <th>3</th>\n",
       "      <td>3</td>\n",
       "      <td>2876</td>\n",
       "      <td>13</td>\n",
       "      <td>818.84</td>\n",
       "      <td>2.0</td>\n",
       "    </tr>\n",
       "    <tr>\n",
       "      <th>4</th>\n",
       "      <td>2</td>\n",
       "      <td>678</td>\n",
       "      <td>13</td>\n",
       "      <td>554.18</td>\n",
       "      <td>3.0</td>\n",
       "    </tr>\n",
       "  </tbody>\n",
       "</table>\n",
       "</div>"
      ],
      "text/plain": [
       "   IdCanal  IdCliente  IdSucursal  Precio  Cantidad\n",
       "0        3        969          13  813.12       2.0\n",
       "1        2        884          13  543.18       3.0\n",
       "2        2       1722          13  430.32       1.0\n",
       "3        3       2876          13  818.84       2.0\n",
       "4        2        678          13  554.18       3.0"
      ]
     },
     "execution_count": 16,
     "metadata": {},
     "output_type": "execute_result"
    }
   ],
   "source": [
    "df_ventas.head()"
   ]
  },
  {
   "cell_type": "markdown",
   "id": "d96c99bf-254b-42e8-9b5c-900444b7f9f5",
   "metadata": {},
   "source": [
    "Se lee el maestro de Clientes para obtener la latitud, longitud y edad"
   ]
  },
  {
   "cell_type": "code",
   "execution_count": 17,
   "id": "b60baea2-bea1-40b5-8155-ceb664fca465",
   "metadata": {},
   "outputs": [],
   "source": [
    "df_clientes = pd.read_csv(\"../Datasets/Clientes.csv\", sep=\";\")"
   ]
  },
  {
   "cell_type": "code",
   "execution_count": 18,
   "id": "ea2d7084-a31f-4fc2-83b1-4314be58d627",
   "metadata": {},
   "outputs": [],
   "source": [
    "df_clientes.drop(['Provincia','Nombre_y_Apellido','Domicilio','Telefono','Localidad','col10'], axis=1,inplace=True)"
   ]
  },
  {
   "cell_type": "markdown",
   "id": "dc5d9dc6-c851-4de0-9d79-9b0a1620c9c0",
   "metadata": {},
   "source": [
    "Se lee el maestro de Sucursales para obtener latitud y longitud"
   ]
  },
  {
   "cell_type": "code",
   "execution_count": 19,
   "id": "f7e3f7e6-90a9-4f47-a1c6-bd622ae5519e",
   "metadata": {},
   "outputs": [],
   "source": [
    "df_sucursales = pd.read_csv(\"../Datasets/Sucursales.csv\", sep=\";\")"
   ]
  },
  {
   "cell_type": "code",
   "execution_count": 20,
   "id": "d07801d8-06c3-413f-8d87-ba080253bb04",
   "metadata": {},
   "outputs": [],
   "source": [
    "df_sucursales.drop(['Provincia','Sucursal','Direccion','Localidad'], axis=1,inplace=True)"
   ]
  },
  {
   "cell_type": "code",
   "execution_count": 21,
   "id": "3d38dab2-7f56-426c-9b25-437b8403e7ff",
   "metadata": {
    "tags": []
   },
   "outputs": [
    {
     "name": "stdout",
     "output_type": "stream",
     "text": [
      "<class 'pandas.core.frame.DataFrame'>\n",
      "RangeIndex: 3407 entries, 0 to 3406\n",
      "Data columns (total 4 columns):\n",
      " #   Column  Non-Null Count  Dtype \n",
      "---  ------  --------------  ----- \n",
      " 0   ID      3407 non-null   int64 \n",
      " 1   Edad    3407 non-null   int64 \n",
      " 2   X       3345 non-null   object\n",
      " 3   Y       3347 non-null   object\n",
      "dtypes: int64(2), object(2)\n",
      "memory usage: 106.6+ KB\n"
     ]
    }
   ],
   "source": [
    "df_clientes.info()"
   ]
  },
  {
   "cell_type": "code",
   "execution_count": 22,
   "id": "eedc2f9d-cf84-400d-b81c-57fd35c1d206",
   "metadata": {},
   "outputs": [
    {
     "name": "stdout",
     "output_type": "stream",
     "text": [
      "<class 'pandas.core.frame.DataFrame'>\n",
      "RangeIndex: 31 entries, 0 to 30\n",
      "Data columns (total 3 columns):\n",
      " #   Column    Non-Null Count  Dtype \n",
      "---  ------    --------------  ----- \n",
      " 0   ID        31 non-null     int64 \n",
      " 1   Latitud   31 non-null     object\n",
      " 2   Longitud  31 non-null     object\n",
      "dtypes: int64(1), object(2)\n",
      "memory usage: 872.0+ bytes\n"
     ]
    }
   ],
   "source": [
    "df_sucursales.info()"
   ]
  },
  {
   "cell_type": "markdown",
   "id": "f7c9afdc-2aed-4987-910c-e36218bf10cb",
   "metadata": {},
   "source": [
    "Se puede utilizar la biblioteca Geopy para obtener la distancia entre el cliente y la sucursal:\n",
    "    !pip install geopy"
   ]
  },
  {
   "cell_type": "code",
   "execution_count": 23,
   "id": "ca179373-5402-465d-9e8a-3c394bc417c7",
   "metadata": {},
   "outputs": [],
   "source": [
    "from geopy.distance import geodesic"
   ]
  },
  {
   "cell_type": "markdown",
   "id": "26f3c712-afb5-4d4a-ba68-152a37de8506",
   "metadata": {},
   "source": [
    "Se trabaja sobre los dataframes maestros de clientes y sucursales para adecuar nombres de campos y tipos de datos, tambien para hacer tratamiento sobre valores faltantes"
   ]
  },
  {
   "cell_type": "code",
   "execution_count": 24,
   "id": "b2b5d0a1-3068-4b3c-9d5e-6e16922b7fb8",
   "metadata": {},
   "outputs": [],
   "source": [
    "df_sucursales.rename(columns = {'ID': 'IdSucursal', 'Latitud': 'Lat_Sucursal', 'Longitud': 'Lon_Sucursal'}, inplace = True)"
   ]
  },
  {
   "cell_type": "code",
   "execution_count": 25,
   "id": "3d624bbf-b57c-43b9-9df7-07421abe7f21",
   "metadata": {},
   "outputs": [],
   "source": [
    "df_sucursales['Lat_Sucursal'] = df_sucursales.apply(lambda row: str(row['Lat_Sucursal']).replace(',','.'), axis=1)\n",
    "df_sucursales['Lon_Sucursal'] = df_sucursales.apply(lambda row: str(row['Lon_Sucursal']).replace(',','.'), axis=1)"
   ]
  },
  {
   "cell_type": "code",
   "execution_count": 26,
   "id": "fde3c874-ae04-4070-a159-bbfdafc41821",
   "metadata": {},
   "outputs": [],
   "source": [
    "df_sucursales = df_sucursales.astype({\"Lat_Sucursal\": np.float16, \"Lon_Sucursal\": np.float16})"
   ]
  },
  {
   "cell_type": "code",
   "execution_count": 27,
   "id": "b420e6dc-a91b-490e-b044-dd349ceccbe4",
   "metadata": {},
   "outputs": [
    {
     "data": {
      "text/html": [
       "<div>\n",
       "<style scoped>\n",
       "    .dataframe tbody tr th:only-of-type {\n",
       "        vertical-align: middle;\n",
       "    }\n",
       "\n",
       "    .dataframe tbody tr th {\n",
       "        vertical-align: top;\n",
       "    }\n",
       "\n",
       "    .dataframe thead th {\n",
       "        text-align: right;\n",
       "    }\n",
       "</style>\n",
       "<table border=\"1\" class=\"dataframe\">\n",
       "  <thead>\n",
       "    <tr style=\"text-align: right;\">\n",
       "      <th></th>\n",
       "      <th>IdSucursal</th>\n",
       "      <th>Lat_Sucursal</th>\n",
       "      <th>Lon_Sucursal</th>\n",
       "    </tr>\n",
       "  </thead>\n",
       "  <tbody>\n",
       "    <tr>\n",
       "      <th>count</th>\n",
       "      <td>31.000000</td>\n",
       "      <td>31.000000</td>\n",
       "      <td>31.000000</td>\n",
       "    </tr>\n",
       "    <tr>\n",
       "      <th>mean</th>\n",
       "      <td>16.000000</td>\n",
       "      <td>-34.250000</td>\n",
       "      <td>-60.375000</td>\n",
       "    </tr>\n",
       "    <tr>\n",
       "      <th>std</th>\n",
       "      <td>9.092121</td>\n",
       "      <td>2.347656</td>\n",
       "      <td>3.753906</td>\n",
       "    </tr>\n",
       "    <tr>\n",
       "      <th>min</th>\n",
       "      <td>1.000000</td>\n",
       "      <td>-41.125000</td>\n",
       "      <td>-71.312500</td>\n",
       "    </tr>\n",
       "    <tr>\n",
       "      <th>25%</th>\n",
       "      <td>8.500000</td>\n",
       "      <td>-34.656250</td>\n",
       "      <td>-60.687500</td>\n",
       "    </tr>\n",
       "    <tr>\n",
       "      <th>50%</th>\n",
       "      <td>16.000000</td>\n",
       "      <td>-34.625000</td>\n",
       "      <td>-58.468750</td>\n",
       "    </tr>\n",
       "    <tr>\n",
       "      <th>75%</th>\n",
       "      <td>23.500000</td>\n",
       "      <td>-33.734375</td>\n",
       "      <td>-58.406250</td>\n",
       "    </tr>\n",
       "    <tr>\n",
       "      <th>max</th>\n",
       "      <td>31.000000</td>\n",
       "      <td>-26.812500</td>\n",
       "      <td>-57.531250</td>\n",
       "    </tr>\n",
       "  </tbody>\n",
       "</table>\n",
       "</div>"
      ],
      "text/plain": [
       "       IdSucursal  Lat_Sucursal  Lon_Sucursal\n",
       "count   31.000000     31.000000     31.000000\n",
       "mean    16.000000    -34.250000    -60.375000\n",
       "std      9.092121      2.347656      3.753906\n",
       "min      1.000000    -41.125000    -71.312500\n",
       "25%      8.500000    -34.656250    -60.687500\n",
       "50%     16.000000    -34.625000    -58.468750\n",
       "75%     23.500000    -33.734375    -58.406250\n",
       "max     31.000000    -26.812500    -57.531250"
      ]
     },
     "execution_count": 27,
     "metadata": {},
     "output_type": "execute_result"
    }
   ],
   "source": [
    "df_sucursales.describe()"
   ]
  },
  {
   "cell_type": "code",
   "execution_count": 28,
   "id": "ca5a9cde-1e0a-4a76-8b59-9aa9d038f067",
   "metadata": {},
   "outputs": [],
   "source": [
    "df_clientes.dropna(inplace=True)"
   ]
  },
  {
   "cell_type": "code",
   "execution_count": 29,
   "id": "4ac4aeab-98d7-4c1b-922c-0408b6801e4c",
   "metadata": {},
   "outputs": [
    {
     "data": {
      "text/plain": [
       "(3333, 4)"
      ]
     },
     "execution_count": 29,
     "metadata": {},
     "output_type": "execute_result"
    }
   ],
   "source": [
    "df_clientes.shape"
   ]
  },
  {
   "cell_type": "code",
   "execution_count": 30,
   "id": "b8de3ad8-22cb-40ba-aa3f-b6aae39d5544",
   "metadata": {},
   "outputs": [],
   "source": [
    "df_clientes.rename(columns = {'ID': 'IdCliente', 'Y': 'Lat_Cliente', 'X': 'Lon_Cliente'}, inplace = True)"
   ]
  },
  {
   "cell_type": "code",
   "execution_count": 31,
   "id": "2670f405-3f9f-4591-9168-c3b8093d568b",
   "metadata": {},
   "outputs": [],
   "source": [
    "df_clientes['Lat_Cliente'] = df_clientes.apply(lambda row: str(row['Lat_Cliente']).replace(',','.'), axis=1)\n",
    "df_clientes['Lon_Cliente'] = df_clientes.apply(lambda row: str(row['Lon_Cliente']).replace(',','.'), axis=1)"
   ]
  },
  {
   "cell_type": "code",
   "execution_count": 32,
   "id": "a0b442ef-4b92-445f-ba55-044aa090c298",
   "metadata": {},
   "outputs": [],
   "source": [
    "df_clientes = df_clientes.astype({\"Lat_Cliente\": np.float16, \"Lon_Cliente\": np.float16})"
   ]
  },
  {
   "cell_type": "code",
   "execution_count": 33,
   "id": "1076ff22-c1df-4763-8845-dda9f104b53a",
   "metadata": {},
   "outputs": [
    {
     "data": {
      "text/html": [
       "<div>\n",
       "<style scoped>\n",
       "    .dataframe tbody tr th:only-of-type {\n",
       "        vertical-align: middle;\n",
       "    }\n",
       "\n",
       "    .dataframe tbody tr th {\n",
       "        vertical-align: top;\n",
       "    }\n",
       "\n",
       "    .dataframe thead th {\n",
       "        text-align: right;\n",
       "    }\n",
       "</style>\n",
       "<table border=\"1\" class=\"dataframe\">\n",
       "  <thead>\n",
       "    <tr style=\"text-align: right;\">\n",
       "      <th></th>\n",
       "      <th>IdCliente</th>\n",
       "      <th>Edad</th>\n",
       "      <th>Lon_Cliente</th>\n",
       "      <th>Lat_Cliente</th>\n",
       "    </tr>\n",
       "  </thead>\n",
       "  <tbody>\n",
       "    <tr>\n",
       "      <th>count</th>\n",
       "      <td>3333.000000</td>\n",
       "      <td>3333.000000</td>\n",
       "      <td>3333.000000</td>\n",
       "      <td>3333.000000</td>\n",
       "    </tr>\n",
       "    <tr>\n",
       "      <th>mean</th>\n",
       "      <td>1710.688269</td>\n",
       "      <td>40.412241</td>\n",
       "      <td>-inf</td>\n",
       "      <td>-inf</td>\n",
       "    </tr>\n",
       "    <tr>\n",
       "      <th>std</th>\n",
       "      <td>985.695497</td>\n",
       "      <td>14.577355</td>\n",
       "      <td>14.320312</td>\n",
       "      <td>8.640625</td>\n",
       "    </tr>\n",
       "    <tr>\n",
       "      <th>min</th>\n",
       "      <td>1.000000</td>\n",
       "      <td>15.000000</td>\n",
       "      <td>-71.500000</td>\n",
       "      <td>-68.812500</td>\n",
       "    </tr>\n",
       "    <tr>\n",
       "      <th>25%</th>\n",
       "      <td>858.000000</td>\n",
       "      <td>28.000000</td>\n",
       "      <td>-60.906250</td>\n",
       "      <td>-34.718750</td>\n",
       "    </tr>\n",
       "    <tr>\n",
       "      <th>50%</th>\n",
       "      <td>1721.000000</td>\n",
       "      <td>41.000000</td>\n",
       "      <td>-58.625000</td>\n",
       "      <td>-34.593750</td>\n",
       "    </tr>\n",
       "    <tr>\n",
       "      <th>75%</th>\n",
       "      <td>2567.000000</td>\n",
       "      <td>53.000000</td>\n",
       "      <td>-58.437500</td>\n",
       "      <td>-32.937500</td>\n",
       "    </tr>\n",
       "    <tr>\n",
       "      <th>max</th>\n",
       "      <td>3407.000000</td>\n",
       "      <td>65.000000</td>\n",
       "      <td>58.843750</td>\n",
       "      <td>34.937500</td>\n",
       "    </tr>\n",
       "  </tbody>\n",
       "</table>\n",
       "</div>"
      ],
      "text/plain": [
       "         IdCliente         Edad  Lon_Cliente  Lat_Cliente\n",
       "count  3333.000000  3333.000000  3333.000000  3333.000000\n",
       "mean   1710.688269    40.412241         -inf         -inf\n",
       "std     985.695497    14.577355    14.320312     8.640625\n",
       "min       1.000000    15.000000   -71.500000   -68.812500\n",
       "25%     858.000000    28.000000   -60.906250   -34.718750\n",
       "50%    1721.000000    41.000000   -58.625000   -34.593750\n",
       "75%    2567.000000    53.000000   -58.437500   -32.937500\n",
       "max    3407.000000    65.000000    58.843750    34.937500"
      ]
     },
     "execution_count": 33,
     "metadata": {},
     "output_type": "execute_result"
    }
   ],
   "source": [
    "df_clientes.describe()"
   ]
  },
  {
   "cell_type": "markdown",
   "id": "ce47c6fb-90e7-41ee-95b7-eb7fbf5e1273",
   "metadata": {},
   "source": [
    "Como vemos que hay problemas en los datos, es decir, valores de latitud y longitud que no corresponden a Argentina, se procede a hacer correcciones, las cuáles serán de dos tipos:\n",
    "* Casos donde la latitud y longitud están en positivo\n",
    "* Casos donde la latitud y longitud están intercambiadas"
   ]
  },
  {
   "cell_type": "code",
   "execution_count": 34,
   "id": "ed41b921-e90d-4438-af95-c29b5e0f8218",
   "metadata": {},
   "outputs": [],
   "source": [
    "df_clientes['Lon_Cliente'] = df_clientes['Lon_Cliente'].apply(lambda x: x if x < 0 else x * -1)\n",
    "df_clientes['Lat_Cliente'] = df_clientes['Lat_Cliente'].apply(lambda x: x if x < 0 else x * -1)"
   ]
  },
  {
   "cell_type": "code",
   "execution_count": 35,
   "id": "1137933a-173e-4029-9e88-b3398694abf7",
   "metadata": {},
   "outputs": [
    {
     "data": {
      "text/html": [
       "<div>\n",
       "<style scoped>\n",
       "    .dataframe tbody tr th:only-of-type {\n",
       "        vertical-align: middle;\n",
       "    }\n",
       "\n",
       "    .dataframe tbody tr th {\n",
       "        vertical-align: top;\n",
       "    }\n",
       "\n",
       "    .dataframe thead th {\n",
       "        text-align: right;\n",
       "    }\n",
       "</style>\n",
       "<table border=\"1\" class=\"dataframe\">\n",
       "  <thead>\n",
       "    <tr style=\"text-align: right;\">\n",
       "      <th></th>\n",
       "      <th>IdCliente</th>\n",
       "      <th>Edad</th>\n",
       "      <th>Lon_Cliente</th>\n",
       "      <th>Lat_Cliente</th>\n",
       "    </tr>\n",
       "  </thead>\n",
       "  <tbody>\n",
       "    <tr>\n",
       "      <th>count</th>\n",
       "      <td>3333.000000</td>\n",
       "      <td>3333.000000</td>\n",
       "      <td>3333.000000</td>\n",
       "      <td>3333.000000</td>\n",
       "    </tr>\n",
       "    <tr>\n",
       "      <th>mean</th>\n",
       "      <td>1710.688269</td>\n",
       "      <td>40.412241</td>\n",
       "      <td>-60.300119</td>\n",
       "      <td>-34.080202</td>\n",
       "    </tr>\n",
       "    <tr>\n",
       "      <th>std</th>\n",
       "      <td>985.695497</td>\n",
       "      <td>14.577355</td>\n",
       "      <td>4.621252</td>\n",
       "      <td>3.609896</td>\n",
       "    </tr>\n",
       "    <tr>\n",
       "      <th>min</th>\n",
       "      <td>1.000000</td>\n",
       "      <td>15.000000</td>\n",
       "      <td>-71.500000</td>\n",
       "      <td>-68.812500</td>\n",
       "    </tr>\n",
       "    <tr>\n",
       "      <th>25%</th>\n",
       "      <td>858.000000</td>\n",
       "      <td>28.000000</td>\n",
       "      <td>-60.906250</td>\n",
       "      <td>-34.718750</td>\n",
       "    </tr>\n",
       "    <tr>\n",
       "      <th>50%</th>\n",
       "      <td>1721.000000</td>\n",
       "      <td>41.000000</td>\n",
       "      <td>-58.656250</td>\n",
       "      <td>-34.593750</td>\n",
       "    </tr>\n",
       "    <tr>\n",
       "      <th>75%</th>\n",
       "      <td>2567.000000</td>\n",
       "      <td>53.000000</td>\n",
       "      <td>-58.437500</td>\n",
       "      <td>-32.968750</td>\n",
       "    </tr>\n",
       "    <tr>\n",
       "      <th>max</th>\n",
       "      <td>3407.000000</td>\n",
       "      <td>65.000000</td>\n",
       "      <td>-26.734375</td>\n",
       "      <td>-26.593750</td>\n",
       "    </tr>\n",
       "  </tbody>\n",
       "</table>\n",
       "</div>"
      ],
      "text/plain": [
       "         IdCliente         Edad  Lon_Cliente  Lat_Cliente\n",
       "count  3333.000000  3333.000000  3333.000000  3333.000000\n",
       "mean   1710.688269    40.412241   -60.300119   -34.080202\n",
       "std     985.695497    14.577355     4.621252     3.609896\n",
       "min       1.000000    15.000000   -71.500000   -68.812500\n",
       "25%     858.000000    28.000000   -60.906250   -34.718750\n",
       "50%    1721.000000    41.000000   -58.656250   -34.593750\n",
       "75%    2567.000000    53.000000   -58.437500   -32.968750\n",
       "max    3407.000000    65.000000   -26.734375   -26.593750"
      ]
     },
     "execution_count": 35,
     "metadata": {},
     "output_type": "execute_result"
    }
   ],
   "source": [
    "df_clientes.describe()"
   ]
  },
  {
   "cell_type": "code",
   "execution_count": 36,
   "id": "989029b4-c117-4105-bf83-01661657e866",
   "metadata": {},
   "outputs": [],
   "source": [
    "df_clientes['Lat_Cliente_Aux'] = df_clientes['Lat_Cliente']"
   ]
  },
  {
   "cell_type": "code",
   "execution_count": 37,
   "id": "cb201a21-d559-4d6b-96ee-d0b30339ebb8",
   "metadata": {},
   "outputs": [],
   "source": [
    "df_clientes['Lat_Cliente'] = df_clientes.apply(lambda row: row['Lat_Cliente'] if row['Lat_Cliente_Aux'] > -55 else row['Lon_Cliente'], axis=1)"
   ]
  },
  {
   "cell_type": "code",
   "execution_count": 38,
   "id": "1cb4ef3e-bc75-4f20-98b0-a6f6cc86fafa",
   "metadata": {},
   "outputs": [],
   "source": [
    "df_clientes['Lon_Cliente'] = df_clientes.apply(lambda row: row['Lon_Cliente'] if row['Lat_Cliente_Aux'] > -55 else row['Lat_Cliente_Aux'], axis=1)"
   ]
  },
  {
   "cell_type": "code",
   "execution_count": 39,
   "id": "ccd87b27-37c6-4663-ac85-65f86a2c8d60",
   "metadata": {},
   "outputs": [
    {
     "data": {
      "text/html": [
       "<div>\n",
       "<style scoped>\n",
       "    .dataframe tbody tr th:only-of-type {\n",
       "        vertical-align: middle;\n",
       "    }\n",
       "\n",
       "    .dataframe tbody tr th {\n",
       "        vertical-align: top;\n",
       "    }\n",
       "\n",
       "    .dataframe thead th {\n",
       "        text-align: right;\n",
       "    }\n",
       "</style>\n",
       "<table border=\"1\" class=\"dataframe\">\n",
       "  <thead>\n",
       "    <tr style=\"text-align: right;\">\n",
       "      <th></th>\n",
       "      <th>IdCliente</th>\n",
       "      <th>Edad</th>\n",
       "      <th>Lon_Cliente</th>\n",
       "      <th>Lat_Cliente</th>\n",
       "      <th>Lat_Cliente_Aux</th>\n",
       "    </tr>\n",
       "  </thead>\n",
       "  <tbody>\n",
       "    <tr>\n",
       "      <th>count</th>\n",
       "      <td>3333.000000</td>\n",
       "      <td>3333.000000</td>\n",
       "      <td>3333.000000</td>\n",
       "      <td>3333.000000</td>\n",
       "      <td>3333.000000</td>\n",
       "    </tr>\n",
       "    <tr>\n",
       "      <th>mean</th>\n",
       "      <td>1710.688269</td>\n",
       "      <td>40.412241</td>\n",
       "      <td>-60.633935</td>\n",
       "      <td>-33.746386</td>\n",
       "      <td>-34.080202</td>\n",
       "    </tr>\n",
       "    <tr>\n",
       "      <th>std</th>\n",
       "      <td>985.695497</td>\n",
       "      <td>14.577355</td>\n",
       "      <td>3.563706</td>\n",
       "      <td>1.988432</td>\n",
       "      <td>3.609896</td>\n",
       "    </tr>\n",
       "    <tr>\n",
       "      <th>min</th>\n",
       "      <td>1.000000</td>\n",
       "      <td>15.000000</td>\n",
       "      <td>-71.500000</td>\n",
       "      <td>-40.375000</td>\n",
       "      <td>-68.812500</td>\n",
       "    </tr>\n",
       "    <tr>\n",
       "      <th>25%</th>\n",
       "      <td>858.000000</td>\n",
       "      <td>28.000000</td>\n",
       "      <td>-63.968750</td>\n",
       "      <td>-34.718750</td>\n",
       "      <td>-34.718750</td>\n",
       "    </tr>\n",
       "    <tr>\n",
       "      <th>50%</th>\n",
       "      <td>1721.000000</td>\n",
       "      <td>41.000000</td>\n",
       "      <td>-58.656250</td>\n",
       "      <td>-34.593750</td>\n",
       "      <td>-34.593750</td>\n",
       "    </tr>\n",
       "    <tr>\n",
       "      <th>75%</th>\n",
       "      <td>2567.000000</td>\n",
       "      <td>53.000000</td>\n",
       "      <td>-58.437500</td>\n",
       "      <td>-32.968750</td>\n",
       "      <td>-32.968750</td>\n",
       "    </tr>\n",
       "    <tr>\n",
       "      <th>max</th>\n",
       "      <td>3407.000000</td>\n",
       "      <td>65.000000</td>\n",
       "      <td>-57.750000</td>\n",
       "      <td>-26.593750</td>\n",
       "      <td>-26.593750</td>\n",
       "    </tr>\n",
       "  </tbody>\n",
       "</table>\n",
       "</div>"
      ],
      "text/plain": [
       "         IdCliente         Edad  Lon_Cliente  Lat_Cliente  Lat_Cliente_Aux\n",
       "count  3333.000000  3333.000000  3333.000000  3333.000000      3333.000000\n",
       "mean   1710.688269    40.412241   -60.633935   -33.746386       -34.080202\n",
       "std     985.695497    14.577355     3.563706     1.988432         3.609896\n",
       "min       1.000000    15.000000   -71.500000   -40.375000       -68.812500\n",
       "25%     858.000000    28.000000   -63.968750   -34.718750       -34.718750\n",
       "50%    1721.000000    41.000000   -58.656250   -34.593750       -34.593750\n",
       "75%    2567.000000    53.000000   -58.437500   -32.968750       -32.968750\n",
       "max    3407.000000    65.000000   -57.750000   -26.593750       -26.593750"
      ]
     },
     "execution_count": 39,
     "metadata": {},
     "output_type": "execute_result"
    }
   ],
   "source": [
    "df_clientes.describe()"
   ]
  },
  {
   "cell_type": "code",
   "execution_count": 40,
   "id": "3365432a-a438-4d54-bc92-04c01ac48c1d",
   "metadata": {},
   "outputs": [],
   "source": [
    "df_clientes.drop(columns=['Lat_Cliente_Aux'], inplace=True)"
   ]
  },
  {
   "cell_type": "markdown",
   "id": "56ad8cd5-0223-4017-b830-67cbd72f3429",
   "metadata": {},
   "source": [
    "Se agrega en el dataframe de ventas los datos de geoposición y edad"
   ]
  },
  {
   "cell_type": "code",
   "execution_count": 41,
   "id": "bd4b1e83-e57d-4de8-9b6e-aae0606d6421",
   "metadata": {},
   "outputs": [],
   "source": [
    "df_ventas = pd.merge(df_ventas, df_clientes, on='IdCliente', how='left')"
   ]
  },
  {
   "cell_type": "code",
   "execution_count": 42,
   "id": "2023b49b-e7a2-4713-bebc-3340527d443b",
   "metadata": {},
   "outputs": [],
   "source": [
    "df_ventas = pd.merge(df_ventas, df_sucursales, on='IdSucursal', how='left')"
   ]
  },
  {
   "cell_type": "code",
   "execution_count": 43,
   "id": "13607660-769a-4f89-8bb3-3023a93b36ed",
   "metadata": {},
   "outputs": [
    {
     "name": "stdout",
     "output_type": "stream",
     "text": [
      "<class 'pandas.core.frame.DataFrame'>\n",
      "Int64Index: 39792 entries, 0 to 39791\n",
      "Data columns (total 10 columns):\n",
      " #   Column        Non-Null Count  Dtype  \n",
      "---  ------        --------------  -----  \n",
      " 0   IdCanal       39792 non-null  int64  \n",
      " 1   IdCliente     39792 non-null  int64  \n",
      " 2   IdSucursal    39792 non-null  int64  \n",
      " 3   Precio        39792 non-null  float64\n",
      " 4   Cantidad      39792 non-null  float64\n",
      " 5   Edad          38765 non-null  float64\n",
      " 6   Lon_Cliente   38765 non-null  float64\n",
      " 7   Lat_Cliente   38765 non-null  float64\n",
      " 8   Lat_Sucursal  39792 non-null  float16\n",
      " 9   Lon_Sucursal  39792 non-null  float16\n",
      "dtypes: float16(2), float64(5), int64(3)\n",
      "memory usage: 2.9 MB\n"
     ]
    }
   ],
   "source": [
    "df_ventas.info()"
   ]
  },
  {
   "cell_type": "markdown",
   "id": "2a6c2bd3-180b-41cf-a289-648f0d114211",
   "metadata": {},
   "source": [
    "Los valores nulos pueden ser descartados o bien imputados con otro valor"
   ]
  },
  {
   "cell_type": "code",
   "execution_count": 44,
   "id": "4c3dda58-a0fd-4cf6-8278-de079a02997c",
   "metadata": {},
   "outputs": [],
   "source": [
    "#df_ventas['Edad'] = df_ventas['Edad'].fillna(0)\n",
    "#df_ventas['Lon_Cliente'] = df_ventas['Lon_Cliente'].fillna(0)\n",
    "#df_ventas['Lat_Cliente'] = df_ventas['Lat_Cliente'].fillna(0)"
   ]
  },
  {
   "cell_type": "code",
   "execution_count": 45,
   "id": "af91684e-c92c-40d2-82b2-df60f2903e96",
   "metadata": {},
   "outputs": [
    {
     "data": {
      "text/plain": [
       "(38765, 10)"
      ]
     },
     "execution_count": 45,
     "metadata": {},
     "output_type": "execute_result"
    }
   ],
   "source": [
    "df_ventas.dropna(inplace=True)\n",
    "df_ventas.shape"
   ]
  },
  {
   "cell_type": "markdown",
   "id": "a0d5ca71-e39f-4ddb-a6d7-37ad6f10d7f5",
   "metadata": {},
   "source": [
    "Se genera el campo donde va a estar la distancia del cliente con la sucursal, que es la geodésica entre los dos puntos de coordenadas"
   ]
  },
  {
   "cell_type": "code",
   "execution_count": 46,
   "id": "c820ac40-2dfc-4719-9319-beb957bd23d5",
   "metadata": {},
   "outputs": [],
   "source": [
    "df_ventas['Dist_Cli_Suc'] = df_ventas.apply(lambda row: geodesic((row['Lat_Cliente'], row['Lon_Cliente']),(row['Lat_Sucursal'], row['Lon_Sucursal'])).km, axis=1)"
   ]
  },
  {
   "cell_type": "code",
   "execution_count": 47,
   "id": "721326cb-27e0-46b9-abf6-1cebe9377853",
   "metadata": {},
   "outputs": [],
   "source": [
    "df_ventas['VentaOnline'] = df_ventas.apply(lambda row: 1 if row['IdCanal'] == 2 else 0, axis=1)"
   ]
  },
  {
   "cell_type": "code",
   "execution_count": 48,
   "id": "03d392d0-3f85-4e88-85e6-c3365acf76ef",
   "metadata": {},
   "outputs": [],
   "source": [
    "df_ventas['Venta'] = df_ventas['Precio'] * df_ventas['Cantidad']"
   ]
  },
  {
   "cell_type": "code",
   "execution_count": 49,
   "id": "139db681-25dd-4b3a-9238-49975ecc1d45",
   "metadata": {},
   "outputs": [],
   "source": [
    "df_ventas.drop(['IdCanal','IdSucursal','Precio','Cantidad','Lon_Sucursal','Lat_Sucursal'], axis=1, inplace=True)"
   ]
  },
  {
   "cell_type": "code",
   "execution_count": 50,
   "id": "3d84127e-84ad-468f-b603-5a65ed82a52e",
   "metadata": {},
   "outputs": [
    {
     "name": "stdout",
     "output_type": "stream",
     "text": [
      "<class 'pandas.core.frame.DataFrame'>\n",
      "Int64Index: 38765 entries, 0 to 39791\n",
      "Data columns (total 7 columns):\n",
      " #   Column        Non-Null Count  Dtype  \n",
      "---  ------        --------------  -----  \n",
      " 0   IdCliente     38765 non-null  int64  \n",
      " 1   Edad          38765 non-null  float64\n",
      " 2   Lon_Cliente   38765 non-null  float64\n",
      " 3   Lat_Cliente   38765 non-null  float64\n",
      " 4   Dist_Cli_Suc  38765 non-null  float64\n",
      " 5   VentaOnline   38765 non-null  int64  \n",
      " 6   Venta         38765 non-null  float64\n",
      "dtypes: float64(5), int64(2)\n",
      "memory usage: 2.4 MB\n"
     ]
    }
   ],
   "source": [
    "df_ventas.info()"
   ]
  },
  {
   "cell_type": "code",
   "execution_count": 51,
   "id": "da4ec05e-8104-45aa-bcf6-0d3667b41ef1",
   "metadata": {},
   "outputs": [
    {
     "data": {
      "text/html": [
       "<div>\n",
       "<style scoped>\n",
       "    .dataframe tbody tr th:only-of-type {\n",
       "        vertical-align: middle;\n",
       "    }\n",
       "\n",
       "    .dataframe tbody tr th {\n",
       "        vertical-align: top;\n",
       "    }\n",
       "\n",
       "    .dataframe thead th {\n",
       "        text-align: right;\n",
       "    }\n",
       "</style>\n",
       "<table border=\"1\" class=\"dataframe\">\n",
       "  <thead>\n",
       "    <tr style=\"text-align: right;\">\n",
       "      <th></th>\n",
       "      <th>IdCliente</th>\n",
       "      <th>Edad</th>\n",
       "      <th>Lon_Cliente</th>\n",
       "      <th>Lat_Cliente</th>\n",
       "      <th>Dist_Cli_Suc</th>\n",
       "      <th>VentaOnline</th>\n",
       "      <th>Venta</th>\n",
       "    </tr>\n",
       "  </thead>\n",
       "  <tbody>\n",
       "    <tr>\n",
       "      <th>0</th>\n",
       "      <td>969</td>\n",
       "      <td>60.0</td>\n",
       "      <td>-58.28125</td>\n",
       "      <td>-34.81250</td>\n",
       "      <td>35.395419</td>\n",
       "      <td>0</td>\n",
       "      <td>1626.24</td>\n",
       "    </tr>\n",
       "    <tr>\n",
       "      <th>1</th>\n",
       "      <td>884</td>\n",
       "      <td>64.0</td>\n",
       "      <td>-58.31250</td>\n",
       "      <td>-34.78125</td>\n",
       "      <td>30.942664</td>\n",
       "      <td>1</td>\n",
       "      <td>1629.54</td>\n",
       "    </tr>\n",
       "    <tr>\n",
       "      <th>2</th>\n",
       "      <td>1722</td>\n",
       "      <td>16.0</td>\n",
       "      <td>-58.81250</td>\n",
       "      <td>-34.65625</td>\n",
       "      <td>23.951147</td>\n",
       "      <td>1</td>\n",
       "      <td>430.32</td>\n",
       "    </tr>\n",
       "    <tr>\n",
       "      <th>3</th>\n",
       "      <td>2876</td>\n",
       "      <td>19.0</td>\n",
       "      <td>-68.87500</td>\n",
       "      <td>-32.93750</td>\n",
       "      <td>972.361210</td>\n",
       "      <td>0</td>\n",
       "      <td>1637.68</td>\n",
       "    </tr>\n",
       "    <tr>\n",
       "      <th>4</th>\n",
       "      <td>678</td>\n",
       "      <td>37.0</td>\n",
       "      <td>-58.65625</td>\n",
       "      <td>-34.71875</td>\n",
       "      <td>16.313885</td>\n",
       "      <td>1</td>\n",
       "      <td>1662.54</td>\n",
       "    </tr>\n",
       "  </tbody>\n",
       "</table>\n",
       "</div>"
      ],
      "text/plain": [
       "   IdCliente  Edad  Lon_Cliente  Lat_Cliente  Dist_Cli_Suc  VentaOnline  \\\n",
       "0        969  60.0    -58.28125    -34.81250     35.395419            0   \n",
       "1        884  64.0    -58.31250    -34.78125     30.942664            1   \n",
       "2       1722  16.0    -58.81250    -34.65625     23.951147            1   \n",
       "3       2876  19.0    -68.87500    -32.93750    972.361210            0   \n",
       "4        678  37.0    -58.65625    -34.71875     16.313885            1   \n",
       "\n",
       "     Venta  \n",
       "0  1626.24  \n",
       "1  1629.54  \n",
       "2   430.32  \n",
       "3  1637.68  \n",
       "4  1662.54  "
      ]
     },
     "execution_count": 51,
     "metadata": {},
     "output_type": "execute_result"
    }
   ],
   "source": [
    "df_ventas.head()"
   ]
  },
  {
   "cell_type": "code",
   "execution_count": 52,
   "id": "a510e1c2-486f-4b86-8d55-d9ee9d132246",
   "metadata": {},
   "outputs": [],
   "source": [
    "df_cliente_dist = df_ventas.groupby(['IdCliente'])['Dist_Cli_Suc'].mean().reset_index()"
   ]
  },
  {
   "cell_type": "code",
   "execution_count": 53,
   "id": "0c36453c-17a2-4e32-b459-19306da03eca",
   "metadata": {},
   "outputs": [],
   "source": [
    "df_cliente_vta = df_ventas.groupby(['IdCliente'])['Venta'].sum().reset_index()"
   ]
  },
  {
   "cell_type": "code",
   "execution_count": 54,
   "id": "986e9686-2297-43f7-afdb-0d4c4369169b",
   "metadata": {},
   "outputs": [],
   "source": [
    "df_cliente_onl = df_ventas.groupby(['IdCliente'])['VentaOnline'].mean().reset_index()"
   ]
  },
  {
   "cell_type": "code",
   "execution_count": 55,
   "id": "299a6e23-687d-467b-ad4d-fd413a6fdd3d",
   "metadata": {},
   "outputs": [],
   "source": [
    "df_cliente_cant = df_ventas.groupby(['IdCliente'])['Venta'].count().reset_index()"
   ]
  },
  {
   "cell_type": "code",
   "execution_count": 56,
   "id": "15f842db-d135-452a-adb8-cc3ae3d7ac07",
   "metadata": {},
   "outputs": [],
   "source": [
    "df_cliente_cant.rename(columns = {'Venta': 'CantVentas'}, inplace = True)"
   ]
  },
  {
   "cell_type": "code",
   "execution_count": 57,
   "id": "d557ce74-b384-41b1-9c31-4a3c03ab7063",
   "metadata": {},
   "outputs": [],
   "source": [
    "df_cliente = df_ventas[['IdCliente','Edad','Lon_Cliente','Lat_Cliente']].drop_duplicates()"
   ]
  },
  {
   "cell_type": "code",
   "execution_count": 58,
   "id": "4ca87d0b-fad5-45c0-ae1b-c88f9e163f80",
   "metadata": {},
   "outputs": [],
   "source": [
    "df_cliente.rename(columns = {'Lon_Cliente' : 'Longitud', 'Lat_Cliente' : 'Latitud'}, inplace = True)"
   ]
  },
  {
   "cell_type": "code",
   "execution_count": 59,
   "id": "a4136d40-d4ec-4e47-a284-0b2aaa030a10",
   "metadata": {},
   "outputs": [],
   "source": [
    "df_cliente = pd.merge(df_cliente, df_cliente_dist, on='IdCliente')"
   ]
  },
  {
   "cell_type": "code",
   "execution_count": 60,
   "id": "81974985-4f10-4837-89b3-c1323c251abd",
   "metadata": {},
   "outputs": [],
   "source": [
    "df_cliente = pd.merge(df_cliente, df_cliente_vta, on='IdCliente')"
   ]
  },
  {
   "cell_type": "code",
   "execution_count": 61,
   "id": "c691846e-3caf-43f4-8cf0-7e52268d8b78",
   "metadata": {},
   "outputs": [],
   "source": [
    "df_cliente = pd.merge(df_cliente, df_cliente_onl, on='IdCliente')"
   ]
  },
  {
   "cell_type": "code",
   "execution_count": 62,
   "id": "78180da5-3c37-4da0-9556-bd2dbb6313e9",
   "metadata": {},
   "outputs": [],
   "source": [
    "df_cliente = pd.merge(df_cliente, df_cliente_cant, on='IdCliente')"
   ]
  },
  {
   "cell_type": "code",
   "execution_count": 63,
   "id": "cff5836a-55df-44e4-a6dd-d083cf0dfdd8",
   "metadata": {},
   "outputs": [],
   "source": [
    "del(df_ventas)"
   ]
  },
  {
   "cell_type": "code",
   "execution_count": 64,
   "id": "461ded19-c96f-4bae-aa89-7c44698c8548",
   "metadata": {},
   "outputs": [],
   "source": [
    "del(df_sucursales)"
   ]
  },
  {
   "cell_type": "code",
   "execution_count": 65,
   "id": "b7f186eb-fb4e-4a59-a4a5-451eac9ee50b",
   "metadata": {},
   "outputs": [],
   "source": [
    "del(df_clientes)"
   ]
  },
  {
   "cell_type": "code",
   "execution_count": 66,
   "id": "f27cf9c6-bbe1-479f-a4e0-0c3212a9ffa6",
   "metadata": {},
   "outputs": [],
   "source": [
    "del(df_cliente_dist)"
   ]
  },
  {
   "cell_type": "code",
   "execution_count": 67,
   "id": "32a7887f-e72d-4c91-ba34-a47907c20c75",
   "metadata": {},
   "outputs": [],
   "source": [
    "del(df_cliente_vta)"
   ]
  },
  {
   "cell_type": "code",
   "execution_count": 68,
   "id": "b67e9369-e8b8-439d-8e6b-a7f2dc5e41c0",
   "metadata": {},
   "outputs": [],
   "source": [
    "del(df_cliente_onl)"
   ]
  },
  {
   "cell_type": "code",
   "execution_count": 69,
   "id": "dd7723ff-ba8b-4ec9-adb5-7e3190f696a5",
   "metadata": {},
   "outputs": [],
   "source": [
    "del(df_cliente_cant)"
   ]
  },
  {
   "cell_type": "code",
   "execution_count": 70,
   "id": "d31c2700-f302-49e8-95e7-16f32d84dee0",
   "metadata": {},
   "outputs": [
    {
     "data": {
      "text/html": [
       "<div>\n",
       "<style scoped>\n",
       "    .dataframe tbody tr th:only-of-type {\n",
       "        vertical-align: middle;\n",
       "    }\n",
       "\n",
       "    .dataframe tbody tr th {\n",
       "        vertical-align: top;\n",
       "    }\n",
       "\n",
       "    .dataframe thead th {\n",
       "        text-align: right;\n",
       "    }\n",
       "</style>\n",
       "<table border=\"1\" class=\"dataframe\">\n",
       "  <thead>\n",
       "    <tr style=\"text-align: right;\">\n",
       "      <th></th>\n",
       "      <th>IdCliente</th>\n",
       "      <th>Edad</th>\n",
       "      <th>Longitud</th>\n",
       "      <th>Latitud</th>\n",
       "      <th>Dist_Cli_Suc</th>\n",
       "      <th>Venta</th>\n",
       "      <th>VentaOnline</th>\n",
       "      <th>CantVentas</th>\n",
       "    </tr>\n",
       "  </thead>\n",
       "  <tbody>\n",
       "    <tr>\n",
       "      <th>count</th>\n",
       "      <td>2896.000000</td>\n",
       "      <td>2896.000000</td>\n",
       "      <td>2896.000000</td>\n",
       "      <td>2896.000000</td>\n",
       "      <td>2896.000000</td>\n",
       "      <td>2896.000000</td>\n",
       "      <td>2896.000000</td>\n",
       "      <td>2896.000000</td>\n",
       "    </tr>\n",
       "    <tr>\n",
       "      <th>mean</th>\n",
       "      <td>1624.626727</td>\n",
       "      <td>40.388122</td>\n",
       "      <td>-60.417764</td>\n",
       "      <td>-33.987127</td>\n",
       "      <td>282.057468</td>\n",
       "      <td>33909.248042</td>\n",
       "      <td>0.455339</td>\n",
       "      <td>13.385704</td>\n",
       "    </tr>\n",
       "    <tr>\n",
       "      <th>std</th>\n",
       "      <td>960.037330</td>\n",
       "      <td>14.599569</td>\n",
       "      <td>3.586638</td>\n",
       "      <td>1.781704</td>\n",
       "      <td>303.743916</td>\n",
       "      <td>28362.139705</td>\n",
       "      <td>0.212828</td>\n",
       "      <td>7.935451</td>\n",
       "    </tr>\n",
       "    <tr>\n",
       "      <th>min</th>\n",
       "      <td>1.000000</td>\n",
       "      <td>15.000000</td>\n",
       "      <td>-71.500000</td>\n",
       "      <td>-40.375000</td>\n",
       "      <td>0.000000</td>\n",
       "      <td>113.000000</td>\n",
       "      <td>0.000000</td>\n",
       "      <td>1.000000</td>\n",
       "    </tr>\n",
       "    <tr>\n",
       "      <th>25%</th>\n",
       "      <td>815.750000</td>\n",
       "      <td>28.000000</td>\n",
       "      <td>-60.625000</td>\n",
       "      <td>-34.718750</td>\n",
       "      <td>26.030742</td>\n",
       "      <td>12725.170000</td>\n",
       "      <td>0.333333</td>\n",
       "      <td>7.000000</td>\n",
       "    </tr>\n",
       "    <tr>\n",
       "      <th>50%</th>\n",
       "      <td>1592.500000</td>\n",
       "      <td>41.000000</td>\n",
       "      <td>-58.625000</td>\n",
       "      <td>-34.593750</td>\n",
       "      <td>190.016525</td>\n",
       "      <td>27272.570000</td>\n",
       "      <td>0.450000</td>\n",
       "      <td>13.000000</td>\n",
       "    </tr>\n",
       "    <tr>\n",
       "      <th>75%</th>\n",
       "      <td>2415.250000</td>\n",
       "      <td>53.000000</td>\n",
       "      <td>-58.437500</td>\n",
       "      <td>-34.031250</td>\n",
       "      <td>383.237593</td>\n",
       "      <td>47538.935000</td>\n",
       "      <td>0.578947</td>\n",
       "      <td>19.000000</td>\n",
       "    </tr>\n",
       "    <tr>\n",
       "      <th>max</th>\n",
       "      <td>3407.000000</td>\n",
       "      <td>65.000000</td>\n",
       "      <td>-57.750000</td>\n",
       "      <td>-26.593750</td>\n",
       "      <td>1381.902436</td>\n",
       "      <td>206206.360000</td>\n",
       "      <td>1.000000</td>\n",
       "      <td>46.000000</td>\n",
       "    </tr>\n",
       "  </tbody>\n",
       "</table>\n",
       "</div>"
      ],
      "text/plain": [
       "         IdCliente         Edad     Longitud      Latitud  Dist_Cli_Suc  \\\n",
       "count  2896.000000  2896.000000  2896.000000  2896.000000   2896.000000   \n",
       "mean   1624.626727    40.388122   -60.417764   -33.987127    282.057468   \n",
       "std     960.037330    14.599569     3.586638     1.781704    303.743916   \n",
       "min       1.000000    15.000000   -71.500000   -40.375000      0.000000   \n",
       "25%     815.750000    28.000000   -60.625000   -34.718750     26.030742   \n",
       "50%    1592.500000    41.000000   -58.625000   -34.593750    190.016525   \n",
       "75%    2415.250000    53.000000   -58.437500   -34.031250    383.237593   \n",
       "max    3407.000000    65.000000   -57.750000   -26.593750   1381.902436   \n",
       "\n",
       "               Venta  VentaOnline   CantVentas  \n",
       "count    2896.000000  2896.000000  2896.000000  \n",
       "mean    33909.248042     0.455339    13.385704  \n",
       "std     28362.139705     0.212828     7.935451  \n",
       "min       113.000000     0.000000     1.000000  \n",
       "25%     12725.170000     0.333333     7.000000  \n",
       "50%     27272.570000     0.450000    13.000000  \n",
       "75%     47538.935000     0.578947    19.000000  \n",
       "max    206206.360000     1.000000    46.000000  "
      ]
     },
     "execution_count": 70,
     "metadata": {},
     "output_type": "execute_result"
    }
   ],
   "source": [
    "df_cliente.describe()"
   ]
  },
  {
   "cell_type": "markdown",
   "id": "bda7576a-4f60-4b12-8b36-05967b518532",
   "metadata": {},
   "source": [
    "Se generan los datos con los que se va a entrenar K-Means para generar los Clústers"
   ]
  },
  {
   "cell_type": "code",
   "execution_count": 71,
   "id": "8b194a5a-7e2c-4e9a-9e33-9c7d7792598f",
   "metadata": {},
   "outputs": [],
   "source": [
    "X = df_cliente[['Edad','Latitud','Longitud','Dist_Cli_Suc','VentaOnline','Venta','CantVentas']]"
   ]
  },
  {
   "cell_type": "code",
   "execution_count": 72,
   "id": "e4b2396b-4ab2-4442-b2b2-6bb518cb0ac7",
   "metadata": {},
   "outputs": [],
   "source": [
    "from sklearn.cluster import KMeans"
   ]
  },
  {
   "cell_type": "code",
   "execution_count": 73,
   "id": "cdc93e80-987e-454e-b2ca-6f07d1d212fb",
   "metadata": {},
   "outputs": [],
   "source": [
    "from sklearn.metrics import silhouette_samples, silhouette_score"
   ]
  },
  {
   "cell_type": "markdown",
   "id": "fbaafbb6-33da-42ee-b110-6d09eb10e567",
   "metadata": {},
   "source": [
    "Se Evalua por Distancia media al Centroide y Silhouette"
   ]
  },
  {
   "cell_type": "code",
   "execution_count": 74,
   "id": "0fb8cff6-1acc-43f5-987d-2fe9ed47d634",
   "metadata": {},
   "outputs": [],
   "source": [
    "# Preparamos una lista donde vamos a ir agregando las distancias medias\n",
    "Sum_of_squared_distances = []\n",
    "# Preparamos una lista donde vamos a ir agregando los valores medios de silhouette\n",
    "lista_sil = []\n",
    "# Fiteammos un modelo para cada numero de cluster que queremos testear\n",
    "K = np.arange(2,10)\n",
    "for k in K:\n",
    "    # Definimos y entrenamos el modelo\n",
    "    km = KMeans(n_clusters=k)\n",
    "    km = km.fit(X)\n",
    "    # Calculamos la distancia media y agregamos a la lista\n",
    "    distancia_total = km.inertia_\n",
    "    distancia_media = np.divide(distancia_total,X.shape[0])\n",
    "    Sum_of_squared_distances.append(distancia_media)\n",
    "    \n",
    "    # Tomamos las etiquetas\n",
    "    etiquetas = km.labels_\n",
    "    \n",
    "    # Calculamos el silhouette \n",
    "    valor_medio_sil = silhouette_score(X, etiquetas)\n",
    "    lista_sil.append(valor_medio_sil)"
   ]
  },
  {
   "cell_type": "markdown",
   "id": "09eaa838-4fd4-4bec-9612-d0be0131add6",
   "metadata": {},
   "source": [
    "Se grafica la distancia media en función del núemro de clústers."
   ]
  },
  {
   "cell_type": "code",
   "execution_count": 75,
   "id": "7efcdd4a-3d7a-475d-8e67-413d12c21dd8",
   "metadata": {},
   "outputs": [
    {
     "data": {
      "image/png": "[encoded data removed]",
      "text/plain": [
       "<Figure size 720x504 with 1 Axes>"
      ]
     },
     "metadata": {},
     "output_type": "display_data"
    }
   ],
   "source": [
    "plt.figure(figsize = (10,7))\n",
    "plt.plot(K, Sum_of_squared_distances, lw=3)\n",
    "plt.scatter(K, Sum_of_squared_distances,s=55,c='r')\n",
    "plt.xlabel('Cantidad de Clusters K')\n",
    "plt.ylabel('Inercia media')\n",
    "plt.title('Método del codo para el Dataset 1')\n",
    "\n",
    "plt.show()"
   ]
  },
  {
   "cell_type": "markdown",
   "id": "f22077cc-1016-4e96-831d-7f10dff0339c",
   "metadata": {},
   "source": [
    "Se grafica Silhouette media en función del núemro de clústers."
   ]
  },
  {
   "cell_type": "code",
   "execution_count": 76,
   "id": "3fb2ae3f-aae9-473e-82e9-5ac75e2aa996",
   "metadata": {},
   "outputs": [
    {
     "data": {
      "image/png": "[encoded data removed]",
      "text/plain": [
       "<Figure size 720x504 with 1 Axes>"
      ]
     },
     "metadata": {},
     "output_type": "display_data"
    }
   ],
   "source": [
    "plt.figure(figsize = (10,7))\n",
    "plt.plot(K, lista_sil, lw=3)\n",
    "plt.scatter(K, lista_sil,s=55,c='r')\n",
    "plt.xlabel('Cantidad de Clusters K')\n",
    "plt.ylabel('Silhouette media')\n",
    "plt.title('Silhouette media para el Dataset 2')\n",
    "\n",
    "plt.show()"
   ]
  },
  {
   "cell_type": "code",
   "execution_count": 77,
   "id": "336209d8-713a-4610-b082-e222eb14c40d",
   "metadata": {},
   "outputs": [],
   "source": [
    "N = 3\n",
    "km = KMeans(n_clusters=N, random_state=0)"
   ]
  },
  {
   "cell_type": "code",
   "execution_count": 78,
   "id": "fb06b3b8-e37f-4de2-9c1d-471a6668c427",
   "metadata": {},
   "outputs": [
    {
     "data": {
      "text/plain": [
       "KMeans(n_clusters=3, random_state=0)"
      ]
     },
     "execution_count": 78,
     "metadata": {},
     "output_type": "execute_result"
    }
   ],
   "source": [
    "km.fit(X)"
   ]
  },
  {
   "cell_type": "code",
   "execution_count": 79,
   "id": "e420a1d1-99c2-4801-a8a1-b99ead2a36e0",
   "metadata": {},
   "outputs": [],
   "source": [
    "clusters = pd.DataFrame(data=km.cluster_centers_, columns=['Edad','Latitud','Longitud','Dist_Cli_Suc','VentaOnline','Venta','CantVentas'])"
   ]
  },
  {
   "cell_type": "code",
   "execution_count": 80,
   "id": "f049c034-f34e-46d3-b990-188a6836fb50",
   "metadata": {},
   "outputs": [
    {
     "data": {
      "text/html": [
       "<div>\n",
       "<style scoped>\n",
       "    .dataframe tbody tr th:only-of-type {\n",
       "        vertical-align: middle;\n",
       "    }\n",
       "\n",
       "    .dataframe tbody tr th {\n",
       "        vertical-align: top;\n",
       "    }\n",
       "\n",
       "    .dataframe thead th {\n",
       "        text-align: right;\n",
       "    }\n",
       "</style>\n",
       "<table border=\"1\" class=\"dataframe\">\n",
       "  <thead>\n",
       "    <tr style=\"text-align: right;\">\n",
       "      <th></th>\n",
       "      <th>Edad</th>\n",
       "      <th>Latitud</th>\n",
       "      <th>Longitud</th>\n",
       "      <th>Dist_Cli_Suc</th>\n",
       "      <th>VentaOnline</th>\n",
       "      <th>Venta</th>\n",
       "      <th>CantVentas</th>\n",
       "    </tr>\n",
       "  </thead>\n",
       "  <tbody>\n",
       "    <tr>\n",
       "      <th>0</th>\n",
       "      <td>40.578086</td>\n",
       "      <td>-33.975470</td>\n",
       "      <td>-60.408100</td>\n",
       "      <td>237.657082</td>\n",
       "      <td>0.467838</td>\n",
       "      <td>14300.334169</td>\n",
       "      <td>8.625315</td>\n",
       "    </tr>\n",
       "    <tr>\n",
       "      <th>1</th>\n",
       "      <td>40.342657</td>\n",
       "      <td>-33.967251</td>\n",
       "      <td>-60.434222</td>\n",
       "      <td>331.948057</td>\n",
       "      <td>0.439260</td>\n",
       "      <td>46193.710779</td>\n",
       "      <td>17.866134</td>\n",
       "    </tr>\n",
       "    <tr>\n",
       "      <th>2</th>\n",
       "      <td>39.553746</td>\n",
       "      <td>-34.112225</td>\n",
       "      <td>-60.414088</td>\n",
       "      <td>349.052040</td>\n",
       "      <td>0.443118</td>\n",
       "      <td>95284.518502</td>\n",
       "      <td>23.400651</td>\n",
       "    </tr>\n",
       "  </tbody>\n",
       "</table>\n",
       "</div>"
      ],
      "text/plain": [
       "        Edad    Latitud   Longitud  Dist_Cli_Suc  VentaOnline         Venta  \\\n",
       "0  40.578086 -33.975470 -60.408100    237.657082     0.467838  14300.334169   \n",
       "1  40.342657 -33.967251 -60.434222    331.948057     0.439260  46193.710779   \n",
       "2  39.553746 -34.112225 -60.414088    349.052040     0.443118  95284.518502   \n",
       "\n",
       "   CantVentas  \n",
       "0    8.625315  \n",
       "1   17.866134  \n",
       "2   23.400651  "
      ]
     },
     "execution_count": 80,
     "metadata": {},
     "output_type": "execute_result"
    }
   ],
   "source": [
    "clusters"
   ]
  }
 ],
 "metadata": {
  "kernelspec": {
   "display_name": "Python 3 (ipykernel)",
   "language": "python",
   "name": "python3"
  },
  "language_info": {
   "codemirror_mode": {
    "name": "ipython",
    "version": 3
   },
   "file_extension": ".py",
   "mimetype": "text/x-python",
   "name": "python",
   "nbconvert_exporter": "python",
   "pygments_lexer": "ipython3",
   "version": "3.9.7"
  }
 },
 "nbformat": 4,
 "nbformat_minor": 5
}
