{
 "cells": [
  {
   "cell_type": "markdown",
   "metadata": {},
   "source": [
    "APRENDIZAJE DEL DETECTOR DE INTRUSIONES\n",
    "\n",
    "El software para detectar intrusiones en la red protege una red informática de usuarios no autorizados, incluidos, quizás, personas con información privilegiada. La tarea de aprendizaje del detector de intrusiones es construir un modelo predictivo (es decir, un clasificador) capaz de distinguir entre conexiones \"malas\", llamadas intrusiones o ataques, y conexiones normales \"buenas\".\n",
    "\n",
    "El Programa de evaluación de detección de intrusiones de DARPA de 1998 fue preparado y administrado por MIT Lincoln Labs. El objetivo era relevar y evaluar la investigación en detección de intrusos. Se proporcionó un conjunto estándar de datos para auditar, que incluye una amplia variedad de intrusiones simuladas en un entorno de red militar. El concurso de detección de intrusos KDD de 1999 utiliza una versión de este conjunto de datos.\n",
    "\n",
    "Lincoln Labs estableció un entorno para adquirir nueve semanas de datos de volcado de TCP sin procesar para una red de área local (LAN) que simula una LAN típica de la Fuerza Aérea de EE. UU. Operaron la LAN como si fuera un verdadero entorno de la Fuerza Aérea, pero la salpicaron con múltiples ataques.\n",
    "\n",
    "Los datos de entrenamiento sin procesar eran aproximadamente cuatro gigabytes de datos de volcado TCP binarios comprimidos de siete semanas de tráfico de red. Esto se procesó en aproximadamente cinco millones de registros de conexión. Del mismo modo, las dos semanas de datos de prueba arrojaron alrededor de dos millones de registros de conexión.\n",
    "\n",
    "Una conexión es una secuencia de paquetes TCP que comienzan y terminan en momentos bien definidos, entre los cuales los datos fluyen hacia y desde una dirección IP de origen a una dirección IP de destino bajo algún protocolo bien definido. Cada conexión se etiqueta como normal o como un ataque, con exactamente un tipo de ataque específico. Cada registro de conexión consta de unos 100 bytes.\n",
    "\n",
    "Los ataques se dividen en cuatro categorías principales:\n",
    "\n",
    "    DOS: denegación de servicio, por ejemplo, syn flood;\n",
    "    R2L: acceso no autorizado desde una máquina remota, por ejemplo, adivinar una contraseña;\n",
    "    U2R: acceso no autorizado a privilegios de superusuario local (root), por ejemplo, varios ataques de \"desbordamiento de búfer\";\n",
    "    Sondeo: vigilancia y otros sondeos, por ejemplo, escaneo de puertos.\n",
    "    \n",
    "Fuente: https://kdd.ics.uci.edu/databases/kddcup99/task.html"
   ]
  },
  {
   "cell_type": "code",
   "execution_count": 1,
   "metadata": {},
   "outputs": [],
   "source": [
    "import numpy as np\n",
    "import pandas as pd\n",
    "import math as math\n",
    "import matplotlib.pyplot as plt\n",
    "import seaborn as sns"
   ]
  },
  {
   "cell_type": "code",
   "execution_count": 2,
   "metadata": {},
   "outputs": [],
   "source": [
    "from sklearn.datasets import fetch_kddcup99"
   ]
  },
  {
   "cell_type": "code",
   "execution_count": 3,
   "metadata": {},
   "outputs": [],
   "source": [
    "X, y = fetch_kddcup99(percent10=True, download_if_missing=True, return_X_y=True)"
   ]
  },
  {
   "cell_type": "code",
   "execution_count": 4,
   "metadata": {},
   "outputs": [
    {
     "data": {
      "text/plain": [
       "(494021, 41)"
      ]
     },
     "execution_count": 4,
     "metadata": {},
     "output_type": "execute_result"
    }
   ],
   "source": [
    "X.shape"
   ]
  },
  {
   "cell_type": "code",
   "execution_count": 5,
   "metadata": {},
   "outputs": [
    {
     "data": {
      "text/plain": [
       "(494021,)"
      ]
     },
     "execution_count": 5,
     "metadata": {},
     "output_type": "execute_result"
    }
   ],
   "source": [
    "y.shape"
   ]
  },
  {
   "cell_type": "code",
   "execution_count": 6,
   "metadata": {},
   "outputs": [],
   "source": [
    "dt = [('duration', int),\n",
    "      ('protocol_type', 'S4'),\n",
    "      ('service', 'S11'),\n",
    "      ('flag', 'S6'),\n",
    "      ('src_bytes', int),\n",
    "      ('dst_bytes', int),\n",
    "      ('land', int),\n",
    "      ('wrong_fragment', int),\n",
    "      ('urgent', int),\n",
    "      ('hot', int),\n",
    "      ('num_failed_logins', int),\n",
    "      ('logged_in', int),\n",
    "      ('num_compromised', int),\n",
    "      ('root_shell', int),\n",
    "      ('su_attempted', int),\n",
    "      ('num_root', int),\n",
    "      ('num_file_creations', int),\n",
    "      ('num_shells', int),\n",
    "      ('num_access_files', int),\n",
    "      ('num_outbound_cmds', int),\n",
    "      ('is_host_login', int),\n",
    "      ('is_guest_login', int),\n",
    "      ('count', int),\n",
    "      ('srv_count', int),\n",
    "      ('serror_rate', float),\n",
    "      ('srv_serror_rate', float),\n",
    "      ('rerror_rate', float),\n",
    "      ('srv_rerror_rate', float),\n",
    "      ('same_srv_rate', float),\n",
    "      ('diff_srv_rate', float),\n",
    "      ('srv_diff_host_rate', float),\n",
    "      ('dst_host_count', int),\n",
    "      ('dst_host_srv_count', int),\n",
    "      ('dst_host_same_srv_rate', float),\n",
    "      ('dst_host_diff_srv_rate', float),\n",
    "      ('dst_host_same_src_port_rate', float),\n",
    "      ('dst_host_srv_diff_host_rate', float),\n",
    "      ('dst_host_serror_rate', float),\n",
    "      ('dst_host_srv_serror_rate', float),\n",
    "      ('dst_host_rerror_rate', float),\n",
    "      ('dst_host_srv_rerror_rate', float),\n",
    "      ('labels', 'S16')]"
   ]
  },
  {
   "cell_type": "code",
   "execution_count": 7,
   "metadata": {},
   "outputs": [],
   "source": [
    "column_names = [c[0] for c in dt]\n",
    "df_conexiones = pd.DataFrame(data=np.column_stack((X,y)),columns=column_names)"
   ]
  },
  {
   "cell_type": "code",
   "execution_count": 8,
   "metadata": {},
   "outputs": [],
   "source": [
    "# df_conexiones = df_conexiones.astype(dt)\n",
    "df_conexiones = df_conexiones.infer_objects()"
   ]
  },
  {
   "cell_type": "code",
   "execution_count": 9,
   "metadata": {},
   "outputs": [
    {
     "name": "stdout",
     "output_type": "stream",
     "text": [
      "<class 'pandas.core.frame.DataFrame'>\n",
      "RangeIndex: 494021 entries, 0 to 494020\n",
      "Data columns (total 42 columns):\n",
      "duration                       494021 non-null int64\n",
      "protocol_type                  494021 non-null object\n",
      "service                        494021 non-null object\n",
      "flag                           494021 non-null object\n",
      "src_bytes                      494021 non-null int64\n",
      "dst_bytes                      494021 non-null int64\n",
      "land                           494021 non-null int64\n",
      "wrong_fragment                 494021 non-null int64\n",
      "urgent                         494021 non-null int64\n",
      "hot                            494021 non-null int64\n",
      "num_failed_logins              494021 non-null int64\n",
      "logged_in                      494021 non-null int64\n",
      "num_compromised                494021 non-null int64\n",
      "root_shell                     494021 non-null int64\n",
      "su_attempted                   494021 non-null int64\n",
      "num_root                       494021 non-null int64\n",
      "num_file_creations             494021 non-null int64\n",
      "num_shells                     494021 non-null int64\n",
      "num_access_files               494021 non-null int64\n",
      "num_outbound_cmds              494021 non-null int64\n",
      "is_host_login                  494021 non-null int64\n",
      "is_guest_login                 494021 non-null int64\n",
      "count                          494021 non-null int64\n",
      "srv_count                      494021 non-null int64\n",
      "serror_rate                    494021 non-null float64\n",
      "srv_serror_rate                494021 non-null float64\n",
      "rerror_rate                    494021 non-null float64\n",
      "srv_rerror_rate                494021 non-null float64\n",
      "same_srv_rate                  494021 non-null float64\n",
      "diff_srv_rate                  494021 non-null float64\n",
      "srv_diff_host_rate             494021 non-null float64\n",
      "dst_host_count                 494021 non-null int64\n",
      "dst_host_srv_count             494021 non-null int64\n",
      "dst_host_same_srv_rate         494021 non-null float64\n",
      "dst_host_diff_srv_rate         494021 non-null float64\n",
      "dst_host_same_src_port_rate    494021 non-null float64\n",
      "dst_host_srv_diff_host_rate    494021 non-null float64\n",
      "dst_host_serror_rate           494021 non-null float64\n",
      "dst_host_srv_serror_rate       494021 non-null float64\n",
      "dst_host_rerror_rate           494021 non-null float64\n",
      "dst_host_srv_rerror_rate       494021 non-null float64\n",
      "labels                         494021 non-null object\n",
      "dtypes: float64(15), int64(23), object(4)\n",
      "memory usage: 158.3+ MB\n"
     ]
    }
   ],
   "source": [
    "df_conexiones.info()"
   ]
  },
  {
   "cell_type": "code",
   "execution_count": 10,
   "metadata": {},
   "outputs": [
    {
     "data": {
      "text/html": [
       "<div>\n",
       "<style scoped>\n",
       "    .dataframe tbody tr th:only-of-type {\n",
       "        vertical-align: middle;\n",
       "    }\n",
       "\n",
       "    .dataframe tbody tr th {\n",
       "        vertical-align: top;\n",
       "    }\n",
       "\n",
       "    .dataframe thead th {\n",
       "        text-align: right;\n",
       "    }\n",
       "</style>\n",
       "<table border=\"1\" class=\"dataframe\">\n",
       "  <thead>\n",
       "    <tr style=\"text-align: right;\">\n",
       "      <th></th>\n",
       "      <th>duration</th>\n",
       "      <th>protocol_type</th>\n",
       "      <th>service</th>\n",
       "      <th>flag</th>\n",
       "      <th>src_bytes</th>\n",
       "      <th>dst_bytes</th>\n",
       "      <th>land</th>\n",
       "      <th>wrong_fragment</th>\n",
       "      <th>urgent</th>\n",
       "      <th>hot</th>\n",
       "      <th>...</th>\n",
       "      <th>dst_host_srv_count</th>\n",
       "      <th>dst_host_same_srv_rate</th>\n",
       "      <th>dst_host_diff_srv_rate</th>\n",
       "      <th>dst_host_same_src_port_rate</th>\n",
       "      <th>dst_host_srv_diff_host_rate</th>\n",
       "      <th>dst_host_serror_rate</th>\n",
       "      <th>dst_host_srv_serror_rate</th>\n",
       "      <th>dst_host_rerror_rate</th>\n",
       "      <th>dst_host_srv_rerror_rate</th>\n",
       "      <th>labels</th>\n",
       "    </tr>\n",
       "  </thead>\n",
       "  <tbody>\n",
       "    <tr>\n",
       "      <th>0</th>\n",
       "      <td>0</td>\n",
       "      <td>b'tcp'</td>\n",
       "      <td>b'http'</td>\n",
       "      <td>b'SF'</td>\n",
       "      <td>181</td>\n",
       "      <td>5450</td>\n",
       "      <td>0</td>\n",
       "      <td>0</td>\n",
       "      <td>0</td>\n",
       "      <td>0</td>\n",
       "      <td>...</td>\n",
       "      <td>9</td>\n",
       "      <td>1.0</td>\n",
       "      <td>0.0</td>\n",
       "      <td>0.11</td>\n",
       "      <td>0.0</td>\n",
       "      <td>0.0</td>\n",
       "      <td>0.0</td>\n",
       "      <td>0.0</td>\n",
       "      <td>0.0</td>\n",
       "      <td>b'normal.'</td>\n",
       "    </tr>\n",
       "    <tr>\n",
       "      <th>1</th>\n",
       "      <td>0</td>\n",
       "      <td>b'tcp'</td>\n",
       "      <td>b'http'</td>\n",
       "      <td>b'SF'</td>\n",
       "      <td>239</td>\n",
       "      <td>486</td>\n",
       "      <td>0</td>\n",
       "      <td>0</td>\n",
       "      <td>0</td>\n",
       "      <td>0</td>\n",
       "      <td>...</td>\n",
       "      <td>19</td>\n",
       "      <td>1.0</td>\n",
       "      <td>0.0</td>\n",
       "      <td>0.05</td>\n",
       "      <td>0.0</td>\n",
       "      <td>0.0</td>\n",
       "      <td>0.0</td>\n",
       "      <td>0.0</td>\n",
       "      <td>0.0</td>\n",
       "      <td>b'normal.'</td>\n",
       "    </tr>\n",
       "    <tr>\n",
       "      <th>2</th>\n",
       "      <td>0</td>\n",
       "      <td>b'tcp'</td>\n",
       "      <td>b'http'</td>\n",
       "      <td>b'SF'</td>\n",
       "      <td>235</td>\n",
       "      <td>1337</td>\n",
       "      <td>0</td>\n",
       "      <td>0</td>\n",
       "      <td>0</td>\n",
       "      <td>0</td>\n",
       "      <td>...</td>\n",
       "      <td>29</td>\n",
       "      <td>1.0</td>\n",
       "      <td>0.0</td>\n",
       "      <td>0.03</td>\n",
       "      <td>0.0</td>\n",
       "      <td>0.0</td>\n",
       "      <td>0.0</td>\n",
       "      <td>0.0</td>\n",
       "      <td>0.0</td>\n",
       "      <td>b'normal.'</td>\n",
       "    </tr>\n",
       "    <tr>\n",
       "      <th>3</th>\n",
       "      <td>0</td>\n",
       "      <td>b'tcp'</td>\n",
       "      <td>b'http'</td>\n",
       "      <td>b'SF'</td>\n",
       "      <td>219</td>\n",
       "      <td>1337</td>\n",
       "      <td>0</td>\n",
       "      <td>0</td>\n",
       "      <td>0</td>\n",
       "      <td>0</td>\n",
       "      <td>...</td>\n",
       "      <td>39</td>\n",
       "      <td>1.0</td>\n",
       "      <td>0.0</td>\n",
       "      <td>0.03</td>\n",
       "      <td>0.0</td>\n",
       "      <td>0.0</td>\n",
       "      <td>0.0</td>\n",
       "      <td>0.0</td>\n",
       "      <td>0.0</td>\n",
       "      <td>b'normal.'</td>\n",
       "    </tr>\n",
       "    <tr>\n",
       "      <th>4</th>\n",
       "      <td>0</td>\n",
       "      <td>b'tcp'</td>\n",
       "      <td>b'http'</td>\n",
       "      <td>b'SF'</td>\n",
       "      <td>217</td>\n",
       "      <td>2032</td>\n",
       "      <td>0</td>\n",
       "      <td>0</td>\n",
       "      <td>0</td>\n",
       "      <td>0</td>\n",
       "      <td>...</td>\n",
       "      <td>49</td>\n",
       "      <td>1.0</td>\n",
       "      <td>0.0</td>\n",
       "      <td>0.02</td>\n",
       "      <td>0.0</td>\n",
       "      <td>0.0</td>\n",
       "      <td>0.0</td>\n",
       "      <td>0.0</td>\n",
       "      <td>0.0</td>\n",
       "      <td>b'normal.'</td>\n",
       "    </tr>\n",
       "  </tbody>\n",
       "</table>\n",
       "<p>5 rows × 42 columns</p>\n",
       "</div>"
      ],
      "text/plain": [
       "   duration protocol_type  service   flag  src_bytes  dst_bytes  land  \\\n",
       "0         0        b'tcp'  b'http'  b'SF'        181       5450     0   \n",
       "1         0        b'tcp'  b'http'  b'SF'        239        486     0   \n",
       "2         0        b'tcp'  b'http'  b'SF'        235       1337     0   \n",
       "3         0        b'tcp'  b'http'  b'SF'        219       1337     0   \n",
       "4         0        b'tcp'  b'http'  b'SF'        217       2032     0   \n",
       "\n",
       "   wrong_fragment  urgent  hot  ...  dst_host_srv_count  \\\n",
       "0               0       0    0  ...                   9   \n",
       "1               0       0    0  ...                  19   \n",
       "2               0       0    0  ...                  29   \n",
       "3               0       0    0  ...                  39   \n",
       "4               0       0    0  ...                  49   \n",
       "\n",
       "   dst_host_same_srv_rate  dst_host_diff_srv_rate  \\\n",
       "0                     1.0                     0.0   \n",
       "1                     1.0                     0.0   \n",
       "2                     1.0                     0.0   \n",
       "3                     1.0                     0.0   \n",
       "4                     1.0                     0.0   \n",
       "\n",
       "   dst_host_same_src_port_rate  dst_host_srv_diff_host_rate  \\\n",
       "0                         0.11                          0.0   \n",
       "1                         0.05                          0.0   \n",
       "2                         0.03                          0.0   \n",
       "3                         0.03                          0.0   \n",
       "4                         0.02                          0.0   \n",
       "\n",
       "   dst_host_serror_rate  dst_host_srv_serror_rate  dst_host_rerror_rate  \\\n",
       "0                   0.0                       0.0                   0.0   \n",
       "1                   0.0                       0.0                   0.0   \n",
       "2                   0.0                       0.0                   0.0   \n",
       "3                   0.0                       0.0                   0.0   \n",
       "4                   0.0                       0.0                   0.0   \n",
       "\n",
       "   dst_host_srv_rerror_rate      labels  \n",
       "0                       0.0  b'normal.'  \n",
       "1                       0.0  b'normal.'  \n",
       "2                       0.0  b'normal.'  \n",
       "3                       0.0  b'normal.'  \n",
       "4                       0.0  b'normal.'  \n",
       "\n",
       "[5 rows x 42 columns]"
      ]
     },
     "execution_count": 10,
     "metadata": {},
     "output_type": "execute_result"
    }
   ],
   "source": [
    "df_conexiones.head()"
   ]
  },
  {
   "cell_type": "code",
   "execution_count": 11,
   "metadata": {},
   "outputs": [
    {
     "data": {
      "text/plain": [
       "array([b'normal.', b'buffer_overflow.', b'loadmodule.', b'perl.',\n",
       "       b'neptune.', b'smurf.', b'guess_passwd.', b'pod.', b'teardrop.',\n",
       "       b'portsweep.', b'ipsweep.', b'land.', b'ftp_write.', b'back.',\n",
       "       b'imap.', b'satan.', b'phf.', b'nmap.', b'multihop.',\n",
       "       b'warezmaster.', b'warezclient.', b'spy.', b'rootkit.'],\n",
       "      dtype=object)"
      ]
     },
     "execution_count": 11,
     "metadata": {},
     "output_type": "execute_result"
    }
   ],
   "source": [
    "df_conexiones.labels.unique()"
   ]
  },
  {
   "cell_type": "markdown",
   "metadata": {},
   "source": [
    "**Ejercicio 1**"
   ]
  },
  {
   "cell_type": "markdown",
   "metadata": {},
   "source": [
    "CONSIGNA:\n",
    "\n",
    "1. Mediante la función SelectKBest de ScikitLearn, detectar los features más relevantes del dataset provisto"
   ]
  },
  {
   "cell_type": "markdown",
   "metadata": {},
   "source": [
    "**Ejercicio 2**"
   ]
  },
  {
   "cell_type": "markdown",
   "metadata": {},
   "source": [
    "CONSIGNA:\n",
    "\n",
    "1. Usando las variables más relevantes y separando los datos en \"train\" y \"test\", utilizar un árbol de decisión para realizar la predicción sobre si es una conexión normal o no:"
   ]
  },
  {
   "cell_type": "markdown",
   "metadata": {},
   "source": [
    "CONSIGNA:\n",
    "\n",
    "1. Usando las variables más relevantes y separando los datos en \"train\" y \"test\", utilizar un árbol de decisión para realizar la predicción sobre que tipo de conexión es pero teniendo en cuenta todas las posibles:"
   ]
  },
  {
   "cell_type": "markdown",
   "metadata": {},
   "source": [
    "**Ejercicio 3**"
   ]
  },
  {
   "cell_type": "markdown",
   "metadata": {},
   "source": [
    "CONSIGNA:\n",
    "\n",
    "1. Con el modelo del ejercicio 3, realizar esta vez una validación cruzada.\n",
    "2. Mostrar la curva de validación"
   ]
  },
  {
   "cell_type": "markdown",
   "metadata": {},
   "source": [
    "3. Aplicar GridSearch"
   ]
  }
 ],
 "metadata": {
  "kernelspec": {
   "display_name": "Python 3",
   "language": "python",
   "name": "python3"
  },
  "language_info": {
   "codemirror_mode": {
    "name": "ipython",
    "version": 3
   },
   "file_extension": ".py",
   "mimetype": "text/x-python",
   "name": "python",
   "nbconvert_exporter": "python",
   "pygments_lexer": "ipython3",
   "version": "3.9.7"
  }
 },
 "nbformat": 4,
 "nbformat_minor": 4
}
