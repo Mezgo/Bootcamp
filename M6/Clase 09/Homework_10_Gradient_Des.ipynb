{
 "cells": [
  {
   "cell_type": "code",
   "execution_count": 1,
   "id": "341ee7b0",
   "metadata": {},
   "outputs": [
    {
     "name": "stdout",
     "output_type": "stream",
     "text": [
      "Los valores que se obtienen son: 3.0003465959886784 1.9849353050007703 en pasos 79\n"
     ]
    }
   ],
   "source": [
    "import numpy as np\n",
    "# Creación de un conjunto de datos para entrenamiento\n",
    "trX = np.linspace(-2, 2, 101)\n",
    "trY = 3 + 2 * trX + np.random.randn(*trX.shape) * 0.33\n",
    "# Definición de los ajustes y parámetros iniciales\n",
    "num_steps = 100\n",
    "learningRate = 0.10\n",
    "criteria = 1e-8\n",
    "b_0 = 1\n",
    "b_1 = 1\n",
    "# Proceso iterativo\n",
    "for step in range(0, num_steps):\n",
    "    b_0_gradient = 0\n",
    "    b_1_gradient = 0\n",
    "    N = float(len(trX))\n",
    "    for i in range(0, len(trX)):\n",
    "        b_0_gradient -= (2/N) * (trY[i] - (b_0 + b_1 * trX[i]))\n",
    "        b_1_gradient -= (2/N) * (trY[i] - (b_0 + b_1 * trX[i])) * trX[i]\n",
    "        \n",
    "    b_0 = b_0 - (learningRate * b_0_gradient)\n",
    "    b_1 = b_1 - (learningRate * b_1_gradient)\n",
    "    if max(abs(learningRate * b_0_gradient), abs(learningRate * b_1_gradient)) < criteria:\n",
    "        break\n",
    "    \n",
    "# Impresión de los resultados\n",
    "print(\"Los valores que se obtienen son:\", b_0, b_1, \"en pasos\", step)"
   ]
  },
  {
   "cell_type": "code",
   "execution_count": 10,
   "id": "70524e73",
   "metadata": {},
   "outputs": [
    {
     "data": {
      "image/png": "[encoded data removed]",
      "text/plain": [
       "<Figure size 432x288 with 1 Axes>"
      ]
     },
     "metadata": {
      "needs_background": "light"
     },
     "output_type": "display_data"
    }
   ],
   "source": [
    "import matplotlib.pyplot as plt\n",
    "\n",
    "plt.scatter(trX, trY)\n",
    "plt.plot(trX, b_0+trX*b_1, color = 'r')\n",
    "plt.show()"
   ]
  },
  {
   "cell_type": "code",
   "execution_count": null,
   "id": "5fb14838",
   "metadata": {},
   "outputs": [],
   "source": []
  }
 ],
 "metadata": {
  "kernelspec": {
   "display_name": "Python 3 (ipykernel)",
   "language": "python",
   "name": "python3"
  },
  "language_info": {
   "codemirror_mode": {
    "name": "ipython",
    "version": 3
   },
   "file_extension": ".py",
   "mimetype": "text/x-python",
   "name": "python",
   "nbconvert_exporter": "python",
   "pygments_lexer": "ipython3",
   "version": "3.8.6"
  },
  "toc": {
   "base_numbering": 1,
   "nav_menu": {},
   "number_sections": true,
   "sideBar": true,
   "skip_h1_title": false,
   "title_cell": "Table of Contents",
   "title_sidebar": "Contents",
   "toc_cell": false,
   "toc_position": {},
   "toc_section_display": true,
   "toc_window_display": false
  }
 },
 "nbformat": 4,
 "nbformat_minor": 5
}
