{
 "cells": [
  {
   "cell_type": "markdown",
   "id": "90902c42-418d-4dfd-aaf9-abe19a672b22",
   "metadata": {},
   "source": [
    "Los resultados del modelo del Homework 5, de la clase 3 fueron satisfactorios, pero se tiene interés en conocer si aplicando redes neuronales se pueden obtener mejores clasificadores."
   ]
  },
  {
   "cell_type": "code",
   "execution_count": 1,
   "id": "ec1f8e3d-348e-4874-a388-ea59af8de393",
   "metadata": {},
   "outputs": [],
   "source": [
    "import pandas as pd\n",
    "import matplotlib.pyplot as plt\n",
    "import seaborn as sns\n",
    "import numpy as np \n",
    "sns.set()"
   ]
  },
  {
   "cell_type": "code",
   "execution_count": 2,
   "id": "c18b5d39-4225-452f-be07-fdd9350e8a10",
   "metadata": {},
   "outputs": [],
   "source": [
    "from IPython.display import clear_output"
   ]
  },
  {
   "cell_type": "code",
   "execution_count": 3,
   "id": "cb4b85fa-5517-41e7-8831-a9ce45bde56d",
   "metadata": {},
   "outputs": [],
   "source": [
    "df_conversiones = pd.read_csv(\"../Datasets/conversiones.csv\", sep=\",\")"
   ]
  },
  {
   "cell_type": "code",
   "execution_count": 4,
   "id": "2838a6d2-9764-40f3-80e3-f1fb0617dddd",
   "metadata": {},
   "outputs": [
    {
     "data": {
      "text/html": [
       "<div>\n",
       "<style scoped>\n",
       "    .dataframe tbody tr th:only-of-type {\n",
       "        vertical-align: middle;\n",
       "    }\n",
       "\n",
       "    .dataframe tbody tr th {\n",
       "        vertical-align: top;\n",
       "    }\n",
       "\n",
       "    .dataframe thead th {\n",
       "        text-align: right;\n",
       "    }\n",
       "</style>\n",
       "<table border=\"1\" class=\"dataframe\">\n",
       "  <thead>\n",
       "    <tr style=\"text-align: right;\">\n",
       "      <th></th>\n",
       "      <th>Costo1</th>\n",
       "      <th>Costo2</th>\n",
       "      <th>Topico</th>\n",
       "      <th>Quincena</th>\n",
       "      <th>TipoProducto</th>\n",
       "      <th>Conversion</th>\n",
       "    </tr>\n",
       "  </thead>\n",
       "  <tbody>\n",
       "    <tr>\n",
       "      <th>0</th>\n",
       "      <td>0.341</td>\n",
       "      <td>0.299</td>\n",
       "      <td>2</td>\n",
       "      <td>7</td>\n",
       "      <td>1</td>\n",
       "      <td>Si</td>\n",
       "    </tr>\n",
       "    <tr>\n",
       "      <th>1</th>\n",
       "      <td>0.151</td>\n",
       "      <td>0.079</td>\n",
       "      <td>2</td>\n",
       "      <td>8</td>\n",
       "      <td>1</td>\n",
       "      <td>Si</td>\n",
       "    </tr>\n",
       "    <tr>\n",
       "      <th>2</th>\n",
       "      <td>0.384</td>\n",
       "      <td>0.324</td>\n",
       "      <td>4</td>\n",
       "      <td>9</td>\n",
       "      <td>1</td>\n",
       "      <td>Si</td>\n",
       "    </tr>\n",
       "    <tr>\n",
       "      <th>3</th>\n",
       "      <td>0.200</td>\n",
       "      <td>0.192</td>\n",
       "      <td>4</td>\n",
       "      <td>9</td>\n",
       "      <td>1</td>\n",
       "      <td>Si</td>\n",
       "    </tr>\n",
       "    <tr>\n",
       "      <th>4</th>\n",
       "      <td>0.415</td>\n",
       "      <td>0.020</td>\n",
       "      <td>2</td>\n",
       "      <td>8</td>\n",
       "      <td>1</td>\n",
       "      <td>Si</td>\n",
       "    </tr>\n",
       "  </tbody>\n",
       "</table>\n",
       "</div>"
      ],
      "text/plain": [
       "   Costo1  Costo2  Topico  Quincena  TipoProducto Conversion\n",
       "0   0.341   0.299       2         7             1         Si\n",
       "1   0.151   0.079       2         8             1         Si\n",
       "2   0.384   0.324       4         9             1         Si\n",
       "3   0.200   0.192       4         9             1         Si\n",
       "4   0.415   0.020       2         8             1         Si"
      ]
     },
     "execution_count": 4,
     "metadata": {},
     "output_type": "execute_result"
    }
   ],
   "source": [
    "df_conversiones.head()"
   ]
  },
  {
   "cell_type": "code",
   "execution_count": 5,
   "id": "a708d4f2-290d-4b30-99a5-edd2b00ac862",
   "metadata": {},
   "outputs": [
    {
     "name": "stdout",
     "output_type": "stream",
     "text": [
      "<class 'pandas.core.frame.DataFrame'>\n",
      "RangeIndex: 319946 entries, 0 to 319945\n",
      "Data columns (total 6 columns):\n",
      " #   Column        Non-Null Count   Dtype  \n",
      "---  ------        --------------   -----  \n",
      " 0   Costo1        319946 non-null  float64\n",
      " 1   Costo2        319946 non-null  float64\n",
      " 2   Topico        319946 non-null  int64  \n",
      " 3   Quincena      319946 non-null  int64  \n",
      " 4   TipoProducto  319946 non-null  int64  \n",
      " 5   Conversion    319946 non-null  object \n",
      "dtypes: float64(2), int64(3), object(1)\n",
      "memory usage: 14.6+ MB\n"
     ]
    }
   ],
   "source": [
    "df_conversiones.info()"
   ]
  },
  {
   "cell_type": "code",
   "execution_count": 6,
   "id": "685c61ea-8bae-4714-a343-5784354adec1",
   "metadata": {},
   "outputs": [
    {
     "data": {
      "text/html": [
       "<div>\n",
       "<style scoped>\n",
       "    .dataframe tbody tr th:only-of-type {\n",
       "        vertical-align: middle;\n",
       "    }\n",
       "\n",
       "    .dataframe tbody tr th {\n",
       "        vertical-align: top;\n",
       "    }\n",
       "\n",
       "    .dataframe thead th {\n",
       "        text-align: right;\n",
       "    }\n",
       "</style>\n",
       "<table border=\"1\" class=\"dataframe\">\n",
       "  <thead>\n",
       "    <tr style=\"text-align: right;\">\n",
       "      <th></th>\n",
       "      <th>Costo1</th>\n",
       "      <th>Costo2</th>\n",
       "      <th>Topico</th>\n",
       "      <th>Quincena</th>\n",
       "      <th>TipoProducto</th>\n",
       "    </tr>\n",
       "  </thead>\n",
       "  <tbody>\n",
       "    <tr>\n",
       "      <th>count</th>\n",
       "      <td>319946.000000</td>\n",
       "      <td>319946.000000</td>\n",
       "      <td>319946.000000</td>\n",
       "      <td>319946.000000</td>\n",
       "      <td>319946.000000</td>\n",
       "    </tr>\n",
       "    <tr>\n",
       "      <th>mean</th>\n",
       "      <td>0.349474</td>\n",
       "      <td>0.361730</td>\n",
       "      <td>2.966194</td>\n",
       "      <td>12.845168</td>\n",
       "      <td>4.502994</td>\n",
       "    </tr>\n",
       "    <tr>\n",
       "      <th>std</th>\n",
       "      <td>0.270063</td>\n",
       "      <td>0.278102</td>\n",
       "      <td>1.172870</td>\n",
       "      <td>6.493443</td>\n",
       "      <td>2.179622</td>\n",
       "    </tr>\n",
       "    <tr>\n",
       "      <th>min</th>\n",
       "      <td>0.000000</td>\n",
       "      <td>0.000000</td>\n",
       "      <td>1.000000</td>\n",
       "      <td>1.000000</td>\n",
       "      <td>1.000000</td>\n",
       "    </tr>\n",
       "    <tr>\n",
       "      <th>25%</th>\n",
       "      <td>0.134000</td>\n",
       "      <td>0.138000</td>\n",
       "      <td>2.000000</td>\n",
       "      <td>7.000000</td>\n",
       "      <td>3.000000</td>\n",
       "    </tr>\n",
       "    <tr>\n",
       "      <th>50%</th>\n",
       "      <td>0.273000</td>\n",
       "      <td>0.280000</td>\n",
       "      <td>3.000000</td>\n",
       "      <td>13.000000</td>\n",
       "      <td>5.000000</td>\n",
       "    </tr>\n",
       "    <tr>\n",
       "      <th>75%</th>\n",
       "      <td>0.502000</td>\n",
       "      <td>0.556000</td>\n",
       "      <td>4.000000</td>\n",
       "      <td>19.000000</td>\n",
       "      <td>6.000000</td>\n",
       "    </tr>\n",
       "    <tr>\n",
       "      <th>max</th>\n",
       "      <td>1.000000</td>\n",
       "      <td>1.000000</td>\n",
       "      <td>5.000000</td>\n",
       "      <td>24.000000</td>\n",
       "      <td>8.000000</td>\n",
       "    </tr>\n",
       "  </tbody>\n",
       "</table>\n",
       "</div>"
      ],
      "text/plain": [
       "              Costo1         Costo2         Topico       Quincena  \\\n",
       "count  319946.000000  319946.000000  319946.000000  319946.000000   \n",
       "mean        0.349474       0.361730       2.966194      12.845168   \n",
       "std         0.270063       0.278102       1.172870       6.493443   \n",
       "min         0.000000       0.000000       1.000000       1.000000   \n",
       "25%         0.134000       0.138000       2.000000       7.000000   \n",
       "50%         0.273000       0.280000       3.000000      13.000000   \n",
       "75%         0.502000       0.556000       4.000000      19.000000   \n",
       "max         1.000000       1.000000       5.000000      24.000000   \n",
       "\n",
       "        TipoProducto  \n",
       "count  319946.000000  \n",
       "mean        4.502994  \n",
       "std         2.179622  \n",
       "min         1.000000  \n",
       "25%         3.000000  \n",
       "50%         5.000000  \n",
       "75%         6.000000  \n",
       "max         8.000000  "
      ]
     },
     "execution_count": 6,
     "metadata": {},
     "output_type": "execute_result"
    }
   ],
   "source": [
    "df_conversiones.describe()"
   ]
  },
  {
   "cell_type": "code",
   "execution_count": 12,
   "id": "9e1aa3c9-73ac-4cd8-a6bc-ae4a42e2a509",
   "metadata": {},
   "outputs": [],
   "source": [
    "def plot_corre_heatmap(corr):\n",
    "    '''\n",
    "    Definimos una función para ayudarnos a graficar un heatmap de correlación\n",
    "    '''\n",
    "    plt.figure(figsize=(12,10))\n",
    "    sns.heatmap(corr, cbar = True,  square = False, annot=True, fmt= '.2f'\n",
    "                ,annot_kws={'size': 15},cmap= 'coolwarm')\n",
    "    plt.xticks(rotation = 45)\n",
    "    plt.yticks(rotation = 45)\n",
    "    # Arreglamos un pequeño problema de visualización\n",
    "    b, t = plt.ylim() # discover the values for bottom and top\n",
    "    b += 0.5 # Add 0.5 to the bottom\n",
    "    t -= 0.5 # Subtract 0.5 from the top\n",
    "    plt.ylim(b, t) # update the ylim(bottom, top) values\n",
    "    plt.show()"
   ]
  },
  {
   "cell_type": "code",
   "execution_count": 16,
   "id": "67ed5124-5e38-4c68-8d55-f32ac32fdd59",
   "metadata": {},
   "outputs": [],
   "source": [
    "from sklearn.model_selection import train_test_split"
   ]
  },
  {
   "cell_type": "code",
   "execution_count": 17,
   "id": "8b194a5a-7e2c-4e9a-9e33-9c7d7792598f",
   "metadata": {},
   "outputs": [],
   "source": [
    "X = df_conversiones[['Costo1','Costo2','Topico','Quincena','TipoProducto']]\n",
    "y = df_conversiones['Conversion']"
   ]
  },
  {
   "cell_type": "code",
   "execution_count": 18,
   "id": "f944311f-a295-4f65-871b-7127aa37705a",
   "metadata": {},
   "outputs": [],
   "source": [
    "X_train, X_test, y_train, y_test = train_test_split(X, y, test_size=0.20, random_state=42, stratify = y)"
   ]
  }
 ],
 "metadata": {
  "kernelspec": {
   "display_name": "Python 3 (ipykernel)",
   "language": "python",
   "name": "python3"
  },
  "language_info": {
   "codemirror_mode": {
    "name": "ipython",
    "version": 3
   },
   "file_extension": ".py",
   "mimetype": "text/x-python",
   "name": "python",
   "nbconvert_exporter": "python",
   "pygments_lexer": "ipython3",
   "version": "3.9.12"
  }
 },
 "nbformat": 4,
 "nbformat_minor": 5
}
