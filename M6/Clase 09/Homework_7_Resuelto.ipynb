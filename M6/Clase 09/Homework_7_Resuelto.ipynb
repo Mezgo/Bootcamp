{
 "cells": [
  {
   "cell_type": "markdown",
   "id": "b9182cd2-b21b-4a3a-b370-4e21939658fc",
   "metadata": {},
   "source": [
    "Es muy importante para la empresa, dado que se trabaja con muchos productos importados, entender algunas variables que provocan fluctuaciones en la demanda. Como primera medida, se solicita crear un modelo que tenga la capacidad de predecir el valor del dólar, lo cuál sería muy útil como información para la toma de decisiones."
   ]
  },
  {
   "cell_type": "code",
   "execution_count": 1,
   "id": "brazilian-smart",
   "metadata": {},
   "outputs": [],
   "source": [
    "import numpy as np\n",
    "np.random.seed(4)\n",
    "import matplotlib.pyplot as plt\n",
    "import pandas as pd"
   ]
  },
  {
   "cell_type": "code",
   "execution_count": 8,
   "id": "severe-container",
   "metadata": {},
   "outputs": [],
   "source": [
    "from sklearn.preprocessing import MinMaxScaler\n",
    "from keras.models import Sequential\n",
    "from keras.layers import Dense, LSTM\n",
    "import openpyxl"
   ]
  },
  {
   "cell_type": "markdown",
   "id": "7af7e43b-a8b1-475c-b5a7-69f60a545fb7",
   "metadata": {},
   "source": [
    "Funciones auxiliares"
   ]
  },
  {
   "cell_type": "code",
   "execution_count": 2,
   "id": "respective-vehicle",
   "metadata": {},
   "outputs": [],
   "source": [
    "def graficar_predicciones(real, prediccion):\n",
    "    plt.plot(real[0:len(prediccion)],color='red', label='Valor real')\n",
    "    plt.plot(prediccion, color='blue', label='Valor predicho')\n",
    "    plt.ylim(1.1 * np.min(prediccion)/2, 1.1 * np.max(prediccion))\n",
    "    plt.xlabel('Tiempo')\n",
    "    plt.ylabel('Valor del Dólar')\n",
    "    plt.legend()\n",
    "    plt.show()"
   ]
  },
  {
   "cell_type": "markdown",
   "id": "73e744a0-bb7a-46df-a66e-c66bf645dd28",
   "metadata": {},
   "source": [
    "Lectura de los datos"
   ]
  },
  {
   "cell_type": "code",
   "execution_count": 3,
   "id": "therapeutic-toyota",
   "metadata": {},
   "outputs": [
    {
     "name": "stdout",
     "output_type": "stream",
     "text": [
      "<class 'pandas.core.frame.DataFrame'>\n",
      "DatetimeIndex: 10858 entries, 1992-01-02 to 2021-09-30\n",
      "Data columns (total 1 columns):\n",
      " #   Column                Non-Null Count  Dtype  \n",
      "---  ------                --------------  -----  \n",
      " 0   dolar_estadounidense  10858 non-null  float64\n",
      "dtypes: float64(1)\n",
      "memory usage: 169.7 KB\n"
     ]
    }
   ],
   "source": [
    "dataset = pd.read_excel('../DataSets/tipos-de-cambio-historicos.xlsx', index_col='indice_tiempo', parse_dates=['indice_tiempo'])\n",
    "dataset = dataset[['dolar_estadounidense']]\n",
    "dataset.dropna(inplace=True)\n",
    "dataset.info()"
   ]
  },
  {
   "cell_type": "code",
   "execution_count": 4,
   "id": "deb5067d-3b18-4a82-8d79-9199f6524d5a",
   "metadata": {},
   "outputs": [
    {
     "data": {
      "text/html": [
       "<div>\n",
       "<style scoped>\n",
       "    .dataframe tbody tr th:only-of-type {\n",
       "        vertical-align: middle;\n",
       "    }\n",
       "\n",
       "    .dataframe tbody tr th {\n",
       "        vertical-align: top;\n",
       "    }\n",
       "\n",
       "    .dataframe thead th {\n",
       "        text-align: right;\n",
       "    }\n",
       "</style>\n",
       "<table border=\"1\" class=\"dataframe\">\n",
       "  <thead>\n",
       "    <tr style=\"text-align: right;\">\n",
       "      <th></th>\n",
       "      <th>dolar_estadounidense</th>\n",
       "    </tr>\n",
       "    <tr>\n",
       "      <th>indice_tiempo</th>\n",
       "      <th></th>\n",
       "    </tr>\n",
       "  </thead>\n",
       "  <tbody>\n",
       "    <tr>\n",
       "      <th>1992-01-02</th>\n",
       "      <td>0.991</td>\n",
       "    </tr>\n",
       "    <tr>\n",
       "      <th>1992-01-03</th>\n",
       "      <td>0.991</td>\n",
       "    </tr>\n",
       "    <tr>\n",
       "      <th>1992-01-04</th>\n",
       "      <td>0.991</td>\n",
       "    </tr>\n",
       "    <tr>\n",
       "      <th>1992-01-05</th>\n",
       "      <td>0.991</td>\n",
       "    </tr>\n",
       "    <tr>\n",
       "      <th>1992-01-06</th>\n",
       "      <td>0.991</td>\n",
       "    </tr>\n",
       "  </tbody>\n",
       "</table>\n",
       "</div>"
      ],
      "text/plain": [
       "               dolar_estadounidense\n",
       "indice_tiempo                      \n",
       "1992-01-02                    0.991\n",
       "1992-01-03                    0.991\n",
       "1992-01-04                    0.991\n",
       "1992-01-05                    0.991\n",
       "1992-01-06                    0.991"
      ]
     },
     "execution_count": 4,
     "metadata": {},
     "output_type": "execute_result"
    }
   ],
   "source": [
    "dataset.head()"
   ]
  },
  {
   "cell_type": "markdown",
   "id": "f1752ec4-e5f9-439f-9a46-40c85c0df8ce",
   "metadata": {},
   "source": [
    "* Sets de entrenamiento y validación \n",
    "* La LSTM se entrenará con datos de 2020 hacia atrás. La validación se hará con datos de 2021 en adelante."
   ]
  },
  {
   "cell_type": "code",
   "execution_count": 5,
   "id": "hydraulic-swiss",
   "metadata": {},
   "outputs": [],
   "source": [
    "set_entrenamiento = dataset[:'2020'].iloc[:,0:1]\n",
    "set_validacion = dataset['2021':].iloc[:,0:1]"
   ]
  },
  {
   "cell_type": "code",
   "execution_count": 6,
   "id": "continued-range",
   "metadata": {},
   "outputs": [
    {
     "data": {
      "image/png": "[encoded data removed]",
      "text/plain": [
       "<Figure size 432x288 with 1 Axes>"
      ]
     },
     "metadata": {
      "needs_background": "light"
     },
     "output_type": "display_data"
    }
   ],
   "source": [
    "set_entrenamiento['dolar_estadounidense'].plot(legend=True)\n",
    "set_validacion['dolar_estadounidense'].plot(legend=True)\n",
    "plt.legend(['Entrenamiento (1992-2020)', 'Validación (2021)'])\n",
    "plt.show()"
   ]
  },
  {
   "cell_type": "markdown",
   "id": "d07dd63a-72db-444e-bc6f-378ad2965dd4",
   "metadata": {},
   "source": [
    "Normalización del set de entrenamiento"
   ]
  },
  {
   "cell_type": "code",
   "execution_count": 9,
   "id": "certain-enough",
   "metadata": {},
   "outputs": [],
   "source": [
    "sc = MinMaxScaler(feature_range=(0,1))\n",
    "set_entrenamiento_escalado = sc.fit_transform(set_entrenamiento)"
   ]
  },
  {
   "cell_type": "markdown",
   "id": "3a0807f0-ae41-4512-825b-5a44abdcd087",
   "metadata": {},
   "source": [
    "La red LSTM tendrá como entrada \"time_step\" datos consecutivos, y como salida 1 dato (la predicción a partir de esos \"time_step\" datos). \n",
    "\n",
    "Se conformará de esta forma el set de entrenamiento"
   ]
  },
  {
   "cell_type": "code",
   "execution_count": 10,
   "id": "flexible-framing",
   "metadata": {},
   "outputs": [],
   "source": [
    "time_step = 30\n",
    "X_train = []\n",
    "Y_train = []\n",
    "m = len(set_entrenamiento_escalado)\n",
    "\n",
    "for i in range(time_step,m):\n",
    "    # X: bloques de \"time_step\" datos: 0-time_step, 1-time_step+1, 2-time_step+2, etc\n",
    "    X_train.append(set_entrenamiento_escalado[i-time_step:i,0])\n",
    "\n",
    "    # Y: el siguiente dato\n",
    "    Y_train.append(set_entrenamiento_escalado[i,0])"
   ]
  },
  {
   "cell_type": "code",
   "execution_count": 11,
   "id": "olive-alignment",
   "metadata": {},
   "outputs": [],
   "source": [
    "X_train, Y_train = np.array(X_train), np.array(Y_train)"
   ]
  },
  {
   "cell_type": "markdown",
   "id": "06d4701b-0196-4e41-bed6-13d12aee832e",
   "metadata": {},
   "source": [
    "Reshape X_train para que se ajuste al modelo en Keras"
   ]
  },
  {
   "cell_type": "code",
   "execution_count": 12,
   "id": "talented-crash",
   "metadata": {},
   "outputs": [],
   "source": [
    "X_train = np.reshape(X_train, (X_train.shape[0], X_train.shape[1], 1))"
   ]
  },
  {
   "cell_type": "markdown",
   "id": "3e34e02d-557e-4c7a-a570-6c9dc2e9d118",
   "metadata": {},
   "source": [
    "Red LSTM"
   ]
  },
  {
   "cell_type": "code",
   "execution_count": 13,
   "id": "paperback-fountain",
   "metadata": {},
   "outputs": [
    {
     "name": "stdout",
     "output_type": "stream",
     "text": [
      "Model: \"sequential\"\n",
      "_________________________________________________________________\n",
      " Layer (type)                Output Shape              Param #   \n",
      "=================================================================\n",
      " lstm (LSTM)                 (None, 30)                3840      \n",
      "                                                                 \n",
      " dense (Dense)               (None, 1)                 31        \n",
      "                                                                 \n",
      "=================================================================\n",
      "Total params: 3,871\n",
      "Trainable params: 3,871\n",
      "Non-trainable params: 0\n",
      "_________________________________________________________________\n"
     ]
    }
   ],
   "source": [
    "dim_entrada = (X_train.shape[1],1)\n",
    "dim_salida = 1\n",
    "na = 30\n",
    "\n",
    "modelo = Sequential()\n",
    "modelo.add(LSTM(units=na, input_shape=dim_entrada))\n",
    "modelo.add(Dense(units=dim_salida))\n",
    "modelo.compile(optimizer='rmsprop', loss='mse')\n",
    "modelo.summary()"
   ]
  },
  {
   "cell_type": "code",
   "execution_count": 14,
   "id": "specialized-insulin",
   "metadata": {},
   "outputs": [
    {
     "name": "stdout",
     "output_type": "stream",
     "text": [
      "Epoch 1/20\n",
      "59/59 [==============================] - 2s 10ms/step - loss: 0.0016\n",
      "Epoch 2/20\n",
      "59/59 [==============================] - 1s 10ms/step - loss: 1.0724e-04\n",
      "Epoch 3/20\n",
      "59/59 [==============================] - 1s 10ms/step - loss: 8.9382e-05\n",
      "Epoch 4/20\n",
      "59/59 [==============================] - 1s 9ms/step - loss: 7.3475e-05\n",
      "Epoch 5/20\n",
      "59/59 [==============================] - 1s 9ms/step - loss: 6.3031e-05\n",
      "Epoch 6/20\n",
      "59/59 [==============================] - 1s 10ms/step - loss: 6.4731e-05\n",
      "Epoch 7/20\n",
      "59/59 [==============================] - 1s 10ms/step - loss: 4.9898e-05\n",
      "Epoch 8/20\n",
      "59/59 [==============================] - 1s 11ms/step - loss: 5.0122e-05\n",
      "Epoch 9/20\n",
      "59/59 [==============================] - 1s 10ms/step - loss: 4.5665e-05\n",
      "Epoch 10/20\n",
      "59/59 [==============================] - 1s 9ms/step - loss: 4.4539e-05\n",
      "Epoch 11/20\n",
      "59/59 [==============================] - 1s 10ms/step - loss: 4.1788e-05\n",
      "Epoch 12/20\n",
      "59/59 [==============================] - 1s 9ms/step - loss: 3.7241e-05\n",
      "Epoch 13/20\n",
      "59/59 [==============================] - 1s 10ms/step - loss: 3.9174e-05\n",
      "Epoch 14/20\n",
      "59/59 [==============================] - 1s 9ms/step - loss: 3.5605e-05\n",
      "Epoch 15/20\n",
      "59/59 [==============================] - 1s 10ms/step - loss: 3.6840e-05\n",
      "Epoch 16/20\n",
      "59/59 [==============================] - 1s 10ms/step - loss: 3.3954e-05\n",
      "Epoch 17/20\n",
      "59/59 [==============================] - 1s 10ms/step - loss: 3.5034e-05\n",
      "Epoch 18/20\n",
      "59/59 [==============================] - 1s 10ms/step - loss: 3.0055e-05\n",
      "Epoch 19/20\n",
      "59/59 [==============================] - 1s 10ms/step - loss: 3.4716e-05\n",
      "Epoch 20/20\n",
      "59/59 [==============================] - 1s 10ms/step - loss: 3.0562e-05\n"
     ]
    },
    {
     "data": {
      "text/plain": [
       "<keras.callbacks.History at 0x21b2a5c6610>"
      ]
     },
     "execution_count": 14,
     "metadata": {},
     "output_type": "execute_result"
    }
   ],
   "source": [
    "modelo.fit(X_train,Y_train,epochs=20,batch_size=180)"
   ]
  },
  {
   "cell_type": "markdown",
   "id": "02390a63-924b-41e2-a7f0-063feafaf051",
   "metadata": {},
   "source": [
    "Validación (predicción del valor del dólar)"
   ]
  },
  {
   "cell_type": "code",
   "execution_count": 15,
   "id": "musical-barrier",
   "metadata": {},
   "outputs": [
    {
     "name": "stderr",
     "output_type": "stream",
     "text": [
      "C:\\Users\\lopez\\miniconda3\\envs\\datascience\\lib\\site-packages\\sklearn\\base.py:450: UserWarning: X does not have valid feature names, but MinMaxScaler was fitted with feature names\n",
      "  warnings.warn(\n"
     ]
    }
   ],
   "source": [
    "x_test = set_validacion.values\n",
    "x_test = sc.transform(x_test)"
   ]
  },
  {
   "cell_type": "code",
   "execution_count": 16,
   "id": "secure-despite",
   "metadata": {},
   "outputs": [],
   "source": [
    "X_test = []\n",
    "for i in range(time_step,len(x_test)):\n",
    "    X_test.append(x_test[i-time_step:i,0])\n",
    "X_test = np.array(X_test)\n",
    "X_test = np.reshape(X_test, (X_test.shape[0],X_test.shape[1],1))"
   ]
  },
  {
   "cell_type": "code",
   "execution_count": 17,
   "id": "improving-democracy",
   "metadata": {},
   "outputs": [
    {
     "name": "stdout",
     "output_type": "stream",
     "text": [
      "8/8 [==============================] - 0s 4ms/step\n"
     ]
    }
   ],
   "source": [
    "prediccion = modelo.predict(X_test)\n",
    "prediccion = sc.inverse_transform(prediccion)"
   ]
  },
  {
   "cell_type": "markdown",
   "id": "d94acbb4-2177-4d7b-a33a-797517e91456",
   "metadata": {},
   "source": [
    "Graficar resultados"
   ]
  },
  {
   "cell_type": "code",
   "execution_count": 18,
   "id": "ambient-nirvana",
   "metadata": {},
   "outputs": [
    {
     "data": {
      "image/png": "[encoded data removed]",
      "text/plain": [
       "<Figure size 432x288 with 1 Axes>"
      ]
     },
     "metadata": {
      "needs_background": "light"
     },
     "output_type": "display_data"
    }
   ],
   "source": [
    "graficar_predicciones(set_validacion.values,prediccion)"
   ]
  },
  {
   "cell_type": "code",
   "execution_count": 34,
   "id": "crude-proceeding",
   "metadata": {},
   "outputs": [],
   "source": [
    "modelo.save('lstm_pred_dolar.h5')"
   ]
  }
 ],
 "metadata": {
  "kernelspec": {
   "display_name": "Python 3 (ipykernel)",
   "language": "python",
   "name": "python3"
  },
  "language_info": {
   "codemirror_mode": {
    "name": "ipython",
    "version": 3
   },
   "file_extension": ".py",
   "mimetype": "text/x-python",
   "name": "python",
   "nbconvert_exporter": "python",
   "pygments_lexer": "ipython3",
   "version": "3.9.12"
  }
 },
 "nbformat": 4,
 "nbformat_minor": 5
}
