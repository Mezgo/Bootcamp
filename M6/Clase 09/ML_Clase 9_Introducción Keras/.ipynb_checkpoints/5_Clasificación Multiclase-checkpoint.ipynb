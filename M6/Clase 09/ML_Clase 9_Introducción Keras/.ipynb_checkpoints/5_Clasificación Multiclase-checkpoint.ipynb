{
 "cells": [
  {
   "cell_type": "markdown",
   "metadata": {},
   "source": [
    "# Clasificación Multiclase"
   ]
  },
  {
   "cell_type": "code",
   "execution_count": 1,
   "metadata": {},
   "outputs": [
    {
     "data": {
      "text/plain": [
       "'2.4.3'"
      ]
     },
     "execution_count": 1,
     "metadata": {},
     "output_type": "execute_result"
    }
   ],
   "source": [
    "import keras\n",
    "keras.__version__"
   ]
  },
  {
   "cell_type": "markdown",
   "metadata": {},
   "source": [
    "En este ejemplo vamos a construir una red para clasificar las noticias de Reuters según una clasificación que contiene 46 tópicos disjuntos. Por ello, estamos ante un problema de **Clasificación Multi-Clase** (concretamente, de etiqueta única, porque cada ejemplo solo puede ser asignado a una de las clases).\n",
    "\n",
    "El problema analizado es muy similar al que ya hemos visto de opiniones de IMDB, por lo que profundizaremos únicamente en aquellas fases que lo diferencian."
   ]
  },
  {
   "cell_type": "markdown",
   "metadata": {},
   "source": [
    "## El dataset de Reuters\n",
    "\n",
    "Vamos a trabajar sobre el *dataset de Reuters*, un conjunto de noticias cortas clasificadas por tópicos, que publicó la empresa de noticias Reuters en 1986 y que se ha usado ampliamente como ejemplo en problemas de clasificación. Este dataset hace uso de 46 tópicos distintos, algunos con más representación que otros, pero en el que, al menos, cada tópico etiqueta 10 noticias del conjunto de entrenamiento.\n",
    "\n",
    "Este datset también viene empaquetado en Keras y su carga es directa y similar a las que hemos realizado en los ejemplos anteriores:"
   ]
  },
  {
   "cell_type": "code",
   "execution_count": 2,
   "metadata": {},
   "outputs": [
    {
     "name": "stdout",
     "output_type": "stream",
     "text": [
      "Downloading data from https://storage.googleapis.com/tensorflow/tf-keras-datasets/reuters.npz\n",
      "2113536/2110848 [==============================] - 0s 0us/step\n"
     ]
    },
    {
     "name": "stderr",
     "output_type": "stream",
     "text": [
      "/home/ubuntu/anaconda3/envs/datascience/lib/python3.9/site-packages/tensorflow/python/keras/datasets/reuters.py:148: VisibleDeprecationWarning: Creating an ndarray from ragged nested sequences (which is a list-or-tuple of lists-or-tuples-or ndarrays with different lengths or shapes) is deprecated. If you meant to do this, you must specify 'dtype=object' when creating the ndarray.\n",
      "  x_train, y_train = np.array(xs[:idx]), np.array(labels[:idx])\n",
      "/home/ubuntu/anaconda3/envs/datascience/lib/python3.9/site-packages/tensorflow/python/keras/datasets/reuters.py:149: VisibleDeprecationWarning: Creating an ndarray from ragged nested sequences (which is a list-or-tuple of lists-or-tuples-or ndarrays with different lengths or shapes) is deprecated. If you meant to do this, you must specify 'dtype=object' when creating the ndarray.\n",
      "  x_test, y_test = np.array(xs[idx:]), np.array(labels[idx:])\n"
     ]
    }
   ],
   "source": [
    "from keras.datasets import reuters\n",
    "\n",
    "(train_data, train_labels), (test_data, test_labels) = reuters.load_data(num_words=10000)"
   ]
  },
  {
   "cell_type": "markdown",
   "metadata": {},
   "source": [
    "\n",
    "Tenemos 8,982 ejemplos de entrenamiento y 2,246 ejemplos de test:\n"
   ]
  },
  {
   "cell_type": "code",
   "execution_count": 3,
   "metadata": {},
   "outputs": [
    {
     "data": {
      "text/plain": [
       "8982"
      ]
     },
     "execution_count": 3,
     "metadata": {},
     "output_type": "execute_result"
    }
   ],
   "source": [
    "len(train_data)"
   ]
  },
  {
   "cell_type": "code",
   "execution_count": 4,
   "metadata": {},
   "outputs": [
    {
     "data": {
      "text/plain": [
       "2246"
      ]
     },
     "execution_count": 4,
     "metadata": {},
     "output_type": "execute_result"
    }
   ],
   "source": [
    "len(test_data)"
   ]
  },
  {
   "cell_type": "markdown",
   "metadata": {},
   "source": [
    "Al igual que en el caso de IMDB, los ejemplos son listas de enteros que representan índices de palabras de un diccionario:\n"
   ]
  },
  {
   "cell_type": "code",
   "execution_count": 5,
   "metadata": {
    "collapsed": true,
    "jupyter": {
     "outputs_hidden": true
    }
   },
   "outputs": [
    {
     "data": {
      "text/plain": [
       "[1,\n",
       " 245,\n",
       " 273,\n",
       " 207,\n",
       " 156,\n",
       " 53,\n",
       " 74,\n",
       " 160,\n",
       " 26,\n",
       " 14,\n",
       " 46,\n",
       " 296,\n",
       " 26,\n",
       " 39,\n",
       " 74,\n",
       " 2979,\n",
       " 3554,\n",
       " 14,\n",
       " 46,\n",
       " 4689,\n",
       " 4329,\n",
       " 86,\n",
       " 61,\n",
       " 3499,\n",
       " 4795,\n",
       " 14,\n",
       " 61,\n",
       " 451,\n",
       " 4329,\n",
       " 17,\n",
       " 12]"
      ]
     },
     "execution_count": 5,
     "metadata": {},
     "output_type": "execute_result"
    }
   ],
   "source": [
    "train_data[10]"
   ]
  },
  {
   "cell_type": "markdown",
   "metadata": {},
   "source": [
    "Que podemos decodificar de forma completamente análoga a como lo hicimos entonces:\n"
   ]
  },
  {
   "cell_type": "code",
   "execution_count": 6,
   "metadata": {},
   "outputs": [
    {
     "name": "stdout",
     "output_type": "stream",
     "text": [
      "Downloading data from https://storage.googleapis.com/tensorflow/tf-keras-datasets/reuters_word_index.json\n",
      "557056/550378 [==============================] - 0s 0us/step\n"
     ]
    }
   ],
   "source": [
    "word_index = reuters.get_word_index()\n",
    "reverse_word_index = dict([(value, key) for (key, value) in word_index.items()])\n",
    "# Note that our indices were offset by 3\n",
    "# because 0, 1 and 2 are reserved indices for \"padding\", \"start of sequence\", and \"unknown\".\n",
    "decoded_newswire = ' '.join([reverse_word_index.get(i - 3, '?') for i in train_data[0]])"
   ]
  },
  {
   "cell_type": "code",
   "execution_count": 7,
   "metadata": {},
   "outputs": [
    {
     "data": {
      "text/plain": [
       "'? ? ? said as a result of its december acquisition of space co it expects earnings per share in 1987 of 1 15 to 1 30 dlrs per share up from 70 cts in 1986 the company said pretax net should rise to nine to 10 mln dlrs from six mln dlrs in 1986 and rental operation revenues to 19 to 22 mln dlrs from 12 5 mln dlrs it said cash flow per share this year should be 2 50 to three dlrs reuter 3'"
      ]
     },
     "execution_count": 7,
     "metadata": {},
     "output_type": "execute_result"
    }
   ],
   "source": [
    "decoded_newswire"
   ]
  },
  {
   "cell_type": "markdown",
   "metadata": {},
   "source": [
    "La etiqueta asociada a una noticia es un entero entre 0 y 45, que representa el índice de un tópico.\n"
   ]
  },
  {
   "cell_type": "code",
   "execution_count": 8,
   "metadata": {},
   "outputs": [
    {
     "data": {
      "text/plain": [
       "3"
      ]
     },
     "execution_count": 8,
     "metadata": {},
     "output_type": "execute_result"
    }
   ],
   "source": [
    "train_labels[10]"
   ]
  },
  {
   "cell_type": "markdown",
   "metadata": {},
   "source": [
    "## Preparando los datos\n",
    "\n",
    "Usamos exactamente las mismas funciones para vectorizar los datos y prepararlos como entrada a la red neuronal:"
   ]
  },
  {
   "cell_type": "code",
   "execution_count": 9,
   "metadata": {},
   "outputs": [],
   "source": [
    "import numpy as np\n",
    "\n",
    "def vectorize_sequences(sequences, dimension=10000):\n",
    "    results = np.zeros((len(sequences), dimension))\n",
    "    for i, sequence in enumerate(sequences):\n",
    "        results[i, sequence] = 1.\n",
    "    return results\n",
    "\n",
    "# Our vectorized training data\n",
    "x_train = vectorize_sequences(train_data)\n",
    "# Our vectorized test data\n",
    "x_test = vectorize_sequences(test_data)"
   ]
  },
  {
   "cell_type": "markdown",
   "metadata": {},
   "source": [
    "\n",
    "La diferencia principal ahora es que antes estas etiquetas eran binarias y ahora son números enteros. Podríamos tratarlas como enteros (tensores escalares) o bien hacer una codificación _one-hot_ tal y como hicimos antes, que será la opción que tomemos siguiendo un patrón similar al realizado para las vectorizaciones anteriores (aunque, en este caso, como cada noticia solo puede tener asociado un tópico, los vectores tendrán solo un 1 y todo lo demás 0s):\n"
   ]
  },
  {
   "cell_type": "code",
   "execution_count": 10,
   "metadata": {},
   "outputs": [],
   "source": [
    "def to_one_hot(labels, dimension=46):\n",
    "    results = np.zeros((len(labels), dimension))\n",
    "    for i, label in enumerate(labels):\n",
    "        results[i, label] = 1.\n",
    "    return results\n",
    "\n",
    "# Our vectorized training labels\n",
    "one_hot_train_labels = to_one_hot(train_labels)\n",
    "# Our vectorized test labels\n",
    "one_hot_test_labels = to_one_hot(test_labels)"
   ]
  },
  {
   "cell_type": "markdown",
   "metadata": {},
   "source": [
    "Esta tarea es tan común que hay una función de Keras que realiza ya esta labor, y que vimos en el primer ejemplo que estudiamos de MNIST. Su resultado es exactamente el mismo que el de la función anterior:\n"
   ]
  },
  {
   "cell_type": "code",
   "execution_count": 11,
   "metadata": {},
   "outputs": [],
   "source": [
    "from keras.utils.np_utils import to_categorical\n",
    "\n",
    "one_hot_train_labels = to_categorical(train_labels)\n",
    "one_hot_test_labels = to_categorical(test_labels)"
   ]
  },
  {
   "cell_type": "markdown",
   "metadata": {},
   "source": [
    "## Construyendo la red\n",
    "\n",
    "Como ahora la salida debe tener 46 unidades, no tiene sentido comprimir las capas anteriores a 16 unidades, ya que estaríamos creando un cuello de botella en esa parte de la red, así que trabajaremos con 2 capas densas de 64 unidades, y una capa densa de salida con 46 unidades (una por cada posible tópico) pero de activación `softmax`:"
   ]
  },
  {
   "cell_type": "code",
   "execution_count": 12,
   "metadata": {},
   "outputs": [
    {
     "data": {
      "image/png": "[encoded data removed]",
      "text/plain": [
       "<IPython.core.display.Image object>"
      ]
     },
     "execution_count": 12,
     "metadata": {},
     "output_type": "execute_result"
    }
   ],
   "source": [
    "from keras import models\n",
    "from keras import layers\n",
    "from keras.utils.vis_utils import plot_model\n",
    "\n",
    "red = models.Sequential()\n",
    "red.add(layers.Dense(64, activation='relu', input_shape=(10000,)))\n",
    "red.add(layers.Dense(64, activation='relu'))\n",
    "red.add(layers.Dense(46, activation='softmax'))\n",
    "\n",
    "plot_model(red, to_file='ReutersModel_plot.png', show_shapes=True, show_layer_names=True)"
   ]
  },
  {
   "cell_type": "markdown",
   "metadata": {},
   "source": [
    "![](./imgs/ReutersModel_plot.png)\n",
    "\n",
    "Destaquemos las diferencias que podemos encontrar respecto al caso anterior:\n",
    "\n",
    "* La red acaba con una capa densa de 46 unidades, de forma que la salida será un vector de tamaño 46, uno por cada posible clase de salida.\n",
    "\n",
    "* La última capa usa activación `softmax`, lo que significa que la salida se podrá interpretar como una *distribución de probabilidad* sobre las diferentes clases de salida (un vector positivo de tamaño 46 y que suma 1).\n",
    "\n",
    "Siguiendo un razonamiento similar al caso del IMDB, la función de pérdida adecuada en este caso es `categorical_crossentropy` (similar, pero para el caso no binario):"
   ]
  },
  {
   "cell_type": "code",
   "execution_count": 13,
   "metadata": {},
   "outputs": [],
   "source": [
    "red.compile(optimizer='rmsprop',\n",
    "              loss='categorical_crossentropy',\n",
    "              metrics=['accuracy'])"
   ]
  },
  {
   "cell_type": "markdown",
   "metadata": {},
   "source": [
    "## Validando el modelo\n",
    "\n",
    "Al igual que antes, vamos a separar 1,000 muestras del conjunto de entrenamiento para formar un conjunto de validación que nos servirá para evaluar cómo funciona el modelo a medida que va aprendiendo (y controlar, por ejemplo, el *overfitting*):"
   ]
  },
  {
   "cell_type": "code",
   "execution_count": 14,
   "metadata": {},
   "outputs": [],
   "source": [
    "x_val = x_train[:1000]\n",
    "partial_x_train = x_train[1000:]\n",
    "\n",
    "y_val = one_hot_train_labels[:1000]\n",
    "partial_y_train = one_hot_train_labels[1000:]"
   ]
  },
  {
   "cell_type": "markdown",
   "metadata": {},
   "source": [
    "Ahora entrenemos el modelo con 20 epochs, usando el conjunto de validación para tener información adicional de cómo evoluciona:\n"
   ]
  },
  {
   "cell_type": "code",
   "execution_count": 15,
   "metadata": {},
   "outputs": [
    {
     "name": "stdout",
     "output_type": "stream",
     "text": [
      "Epoch 1/20\n",
      "16/16 [==============================] - 6s 202ms/step - loss: 3.2108 - accuracy: 0.3417 - val_loss: 1.8057 - val_accuracy: 0.6700\n",
      "Epoch 2/20\n",
      "16/16 [==============================] - 2s 129ms/step - loss: 1.6068 - accuracy: 0.6987 - val_loss: 1.3367 - val_accuracy: 0.7070\n",
      "Epoch 3/20\n",
      "16/16 [==============================] - 2s 117ms/step - loss: 1.1400 - accuracy: 0.7604 - val_loss: 1.1572 - val_accuracy: 0.7510\n",
      "Epoch 4/20\n",
      "16/16 [==============================] - 2s 122ms/step - loss: 0.8807 - accuracy: 0.8117 - val_loss: 1.0380 - val_accuracy: 0.7780\n",
      "Epoch 5/20\n",
      "16/16 [==============================] - 2s 128ms/step - loss: 0.7099 - accuracy: 0.8467 - val_loss: 0.9791 - val_accuracy: 0.8040\n",
      "Epoch 6/20\n",
      "16/16 [==============================] - 2s 126ms/step - loss: 0.5636 - accuracy: 0.8882 - val_loss: 0.9514 - val_accuracy: 0.8070\n",
      "Epoch 7/20\n",
      "16/16 [==============================] - 2s 109ms/step - loss: 0.4496 - accuracy: 0.9122 - val_loss: 0.9285 - val_accuracy: 0.8120\n",
      "Epoch 8/20\n",
      "16/16 [==============================] - 2s 131ms/step - loss: 0.3619 - accuracy: 0.9283 - val_loss: 0.9359 - val_accuracy: 0.8050\n",
      "Epoch 9/20\n",
      "16/16 [==============================] - 2s 115ms/step - loss: 0.3053 - accuracy: 0.9368 - val_loss: 0.9297 - val_accuracy: 0.8070\n",
      "Epoch 10/20\n",
      "16/16 [==============================] - 2s 123ms/step - loss: 0.2433 - accuracy: 0.9486 - val_loss: 0.9159 - val_accuracy: 0.8190\n",
      "Epoch 11/20\n",
      "16/16 [==============================] - 2s 119ms/step - loss: 0.2091 - accuracy: 0.9528 - val_loss: 0.9419 - val_accuracy: 0.8120\n",
      "Epoch 12/20\n",
      "16/16 [==============================] - 2s 114ms/step - loss: 0.1818 - accuracy: 0.9538 - val_loss: 1.0073 - val_accuracy: 0.7990\n",
      "Epoch 13/20\n",
      "16/16 [==============================] - 2s 119ms/step - loss: 0.1617 - accuracy: 0.9587 - val_loss: 1.0012 - val_accuracy: 0.8110\n",
      "Epoch 14/20\n",
      "16/16 [==============================] - 2s 112ms/step - loss: 0.1480 - accuracy: 0.9591 - val_loss: 1.0188 - val_accuracy: 0.8110\n",
      "Epoch 15/20\n",
      "16/16 [==============================] - 2s 123ms/step - loss: 0.1413 - accuracy: 0.9569 - val_loss: 1.0396 - val_accuracy: 0.8040\n",
      "Epoch 16/20\n",
      "16/16 [==============================] - 2s 120ms/step - loss: 0.1367 - accuracy: 0.9584 - val_loss: 1.0382 - val_accuracy: 0.7990\n",
      "Epoch 17/20\n",
      "16/16 [==============================] - 2s 128ms/step - loss: 0.1237 - accuracy: 0.9593 - val_loss: 1.0457 - val_accuracy: 0.8070\n",
      "Epoch 18/20\n",
      "16/16 [==============================] - 2s 117ms/step - loss: 0.1147 - accuracy: 0.9610 - val_loss: 1.0811 - val_accuracy: 0.8070\n",
      "Epoch 19/20\n",
      "16/16 [==============================] - 2s 110ms/step - loss: 0.1179 - accuracy: 0.9595 - val_loss: 1.1215 - val_accuracy: 0.8020\n",
      "Epoch 20/20\n",
      "16/16 [==============================] - 2s 116ms/step - loss: 0.1065 - accuracy: 0.9606 - val_loss: 1.1020 - val_accuracy: 0.8040\n"
     ]
    }
   ],
   "source": [
    "entrenamiento = red.fit(partial_x_train,\n",
    "                    partial_y_train,\n",
    "                    epochs=20,\n",
    "                    batch_size=512,\n",
    "                    validation_data=(x_val, y_val))"
   ]
  },
  {
   "cell_type": "markdown",
   "metadata": {},
   "source": [
    "Podemos mostrar las curvas de pérdida y accuracy en los datos de entrenamiento y validación:\n"
   ]
  },
  {
   "cell_type": "code",
   "execution_count": 16,
   "metadata": {},
   "outputs": [
    {
     "data": {
      "image/png": "[encoded data removed]",
      "text/plain": [
       "<Figure size 432x288 with 1 Axes>"
      ]
     },
     "metadata": {
      "needs_background": "light"
     },
     "output_type": "display_data"
    }
   ],
   "source": [
    "import matplotlib.pyplot as plt\n",
    "\n",
    "ent_loss = entrenamiento.history['loss']\n",
    "val_loss = entrenamiento.history['val_loss']\n",
    "\n",
    "epochs = range(1, len(ent_loss) + 1)\n",
    "\n",
    "plt.plot(epochs, ent_loss, 'bo', label='Entrenamiento')\n",
    "plt.plot(epochs, val_loss, 'b', label='Validación')\n",
    "plt.title('Pérdida en Entrenamiento y Validación')\n",
    "plt.xlabel('Epochs')\n",
    "plt.ylabel('Pérdida')\n",
    "plt.legend()\n",
    "\n",
    "plt.show()"
   ]
  },
  {
   "cell_type": "code",
   "execution_count": 17,
   "metadata": {},
   "outputs": [
    {
     "data": {
      "image/png": "[encoded data removed]",
      "text/plain": [
       "<Figure size 432x288 with 1 Axes>"
      ]
     },
     "metadata": {
      "needs_background": "light"
     },
     "output_type": "display_data"
    }
   ],
   "source": [
    "plt.clf()   # clear figure\n",
    "\n",
    "ent_acc = entrenamiento.history['accuracy']\n",
    "val_acc = entrenamiento.history['val_accuracy']\n",
    "\n",
    "plt.plot(epochs, ent_acc, 'bo', label='Entrenamiento')\n",
    "plt.plot(epochs, val_acc, 'b', label='Validación')\n",
    "plt.title('Accuracy en Entrenamiento y Validación')\n",
    "plt.xlabel('Epochs')\n",
    "plt.ylabel('Accuracy')\n",
    "plt.legend()\n",
    "\n",
    "plt.show()"
   ]
  },
  {
   "cell_type": "markdown",
   "metadata": {},
   "source": [
    "Que nos muestran que el modelo comienza a sobreajustar a partir de la 9ª epoch, por lo que entrenaremos un modelo limpio solo durante 9 epochs, y mediremos su rendimiento con los datos de test:\n"
   ]
  },
  {
   "cell_type": "code",
   "execution_count": 18,
   "metadata": {},
   "outputs": [
    {
     "name": "stdout",
     "output_type": "stream",
     "text": [
      "Epoch 1/8\n",
      "16/16 [==============================] - 3s 144ms/step - loss: 3.1386 - accuracy: 0.4187 - val_loss: 1.6859 - val_accuracy: 0.6310\n",
      "Epoch 2/8\n",
      "16/16 [==============================] - 2s 122ms/step - loss: 1.4600 - accuracy: 0.7028 - val_loss: 1.2995 - val_accuracy: 0.7180\n",
      "Epoch 3/8\n",
      "16/16 [==============================] - 2s 122ms/step - loss: 1.0880 - accuracy: 0.7742 - val_loss: 1.1448 - val_accuracy: 0.7500\n",
      "Epoch 4/8\n",
      "16/16 [==============================] - 2s 113ms/step - loss: 0.8466 - accuracy: 0.8209 - val_loss: 1.0495 - val_accuracy: 0.7780\n",
      "Epoch 5/8\n",
      "16/16 [==============================] - 2s 114ms/step - loss: 0.6753 - accuracy: 0.8621 - val_loss: 1.0003 - val_accuracy: 0.7840\n",
      "Epoch 6/8\n",
      "16/16 [==============================] - 2s 119ms/step - loss: 0.5318 - accuracy: 0.8907 - val_loss: 0.9805 - val_accuracy: 0.7800\n",
      "Epoch 7/8\n",
      "16/16 [==============================] - 2s 115ms/step - loss: 0.4373 - accuracy: 0.9130 - val_loss: 0.9336 - val_accuracy: 0.8110\n",
      "Epoch 8/8\n",
      "16/16 [==============================] - 2s 118ms/step - loss: 0.3454 - accuracy: 0.9285 - val_loss: 0.9373 - val_accuracy: 0.8050\n",
      "71/71 [==============================] - 1s 19ms/step - loss: 0.9981 - accuracy: 0.7801\n"
     ]
    }
   ],
   "source": [
    "red2 = models.Sequential()\n",
    "red2.add(layers.Dense(64, activation='relu', input_shape=(10000,)))\n",
    "red2.add(layers.Dense(64, activation='relu'))\n",
    "red2.add(layers.Dense(46, activation='softmax'))\n",
    "\n",
    "red2.compile(optimizer='rmsprop',\n",
    "              loss='categorical_crossentropy',\n",
    "              metrics=['accuracy'])\n",
    "red2.fit(partial_x_train,\n",
    "          partial_y_train,\n",
    "          epochs=8,\n",
    "          batch_size=512,\n",
    "          validation_data=(x_val, y_val))\n",
    "results = red2.evaluate(x_test, one_hot_test_labels)"
   ]
  },
  {
   "cell_type": "code",
   "execution_count": 19,
   "metadata": {},
   "outputs": [
    {
     "data": {
      "text/plain": [
       "[0.9981383085250854, 0.780053436756134]"
      ]
     },
     "execution_count": 19,
     "metadata": {},
     "output_type": "execute_result"
    }
   ],
   "source": [
    "results"
   ]
  },
  {
   "cell_type": "markdown",
   "metadata": {},
   "source": [
    "\n",
    "El modelo obtenido consigue una accuracy de ~78%. Si la clasificación fuera binaria y estuviera balanceada, un calsificador aleatorio alcanzaría un 50%, pero al ser multi-clase en este caso uno aleatorio esperaría no más del 19%, por lo que no lo hace nada mal:\n"
   ]
  },
  {
   "cell_type": "code",
   "execution_count": 20,
   "metadata": {},
   "outputs": [
    {
     "data": {
      "text/plain": [
       "0.19367764915405164"
      ]
     },
     "execution_count": 20,
     "metadata": {},
     "output_type": "execute_result"
    }
   ],
   "source": [
    "import copy\n",
    "\n",
    "test_labels_copy = copy.copy(test_labels)\n",
    "np.random.shuffle(test_labels_copy)\n",
    "float(np.sum(np.array(test_labels) == np.array(test_labels_copy))) / len(test_labels)"
   ]
  },
  {
   "cell_type": "markdown",
   "metadata": {},
   "source": [
    "## Predicciones en nuevos datos\n",
    "\n",
    "Usando el método `predict` podemos ver cómo nuestro modelo funciona sobre datos no vistos. Por ejemplo, si trabajamos sobre los datos de test:"
   ]
  },
  {
   "cell_type": "code",
   "execution_count": 21,
   "metadata": {},
   "outputs": [],
   "source": [
    "predictions = red2.predict(x_test)"
   ]
  },
  {
   "cell_type": "markdown",
   "metadata": {},
   "source": [
    "Podemos comprobar que cada entrada de `predictions` es un vector de longitud 46:\n"
   ]
  },
  {
   "cell_type": "code",
   "execution_count": 22,
   "metadata": {},
   "outputs": [
    {
     "data": {
      "text/plain": [
       "(46,)"
      ]
     },
     "execution_count": 22,
     "metadata": {},
     "output_type": "execute_result"
    }
   ],
   "source": [
    "predictions[0].shape"
   ]
  },
  {
   "cell_type": "markdown",
   "metadata": {},
   "source": [
    "Cuyos coeficientes suman 1:\n"
   ]
  },
  {
   "cell_type": "code",
   "execution_count": 23,
   "metadata": {},
   "outputs": [
    {
     "data": {
      "text/plain": [
       "1.0000001"
      ]
     },
     "execution_count": 23,
     "metadata": {},
     "output_type": "execute_result"
    }
   ],
   "source": [
    "np.sum(predictions[0])"
   ]
  },
  {
   "cell_type": "markdown",
   "metadata": {},
   "source": [
    "Y donde el mayor valor indica la predicción del modelo (la mayor probabilidad:\n"
   ]
  },
  {
   "cell_type": "code",
   "execution_count": 24,
   "metadata": {},
   "outputs": [
    {
     "data": {
      "text/plain": [
       "3"
      ]
     },
     "execution_count": 24,
     "metadata": {},
     "output_type": "execute_result"
    }
   ],
   "source": [
    "np.argmax(predictions[0])"
   ]
  },
  {
   "cell_type": "markdown",
   "metadata": {},
   "source": [
    "## Salidas Categóricas Discretas\n",
    "\n",
    "Si hubiéramos decidido manejar las etiquetas directamente como valores enteros, entonces hubiera sido conveniente cambiar de función de pérdida de `categorical_crossentropy` a `sparse_categorical_crossentropy`, que está preparada para medir errores cuando las salidas son categóricas pero no continuas (como en el caso de distribuciones de probabilidad):"
   ]
  },
  {
   "cell_type": "code",
   "execution_count": 25,
   "metadata": {},
   "outputs": [],
   "source": [
    "y_train = np.array(train_labels)\n",
    "y_test = np.array(test_labels)"
   ]
  },
  {
   "cell_type": "code",
   "execution_count": 26,
   "metadata": {},
   "outputs": [],
   "source": [
    "red2.compile(optimizer='rmsprop', loss='sparse_categorical_crossentropy', metrics=['acc'])"
   ]
  },
  {
   "cell_type": "markdown",
   "metadata": {},
   "source": [
    "En realidad, es la misma función que antes, pero con transformaciones internas para manejar valores enteros.\n"
   ]
  },
  {
   "cell_type": "markdown",
   "metadata": {},
   "source": [
    "## Tamaño de las capas intermedias\n",
    "\n",
    "Podemos hacer el experimento de ver qué pasaría si trabajáramos con capas intermedias que producen cuellos de botella a la información que se transmite a lo largo de la red. Por ejemplo, si la segunda capa la cambiamos a 4 unidades:"
   ]
  },
  {
   "cell_type": "code",
   "execution_count": 27,
   "metadata": {},
   "outputs": [
    {
     "name": "stdout",
     "output_type": "stream",
     "text": [
      "Epoch 1/20\n",
      "63/63 [==============================] - 4s 50ms/step - loss: 2.9347 - accuracy: 0.2278 - val_loss: 1.9236 - val_accuracy: 0.5470\n",
      "Epoch 2/20\n",
      "63/63 [==============================] - 3s 44ms/step - loss: 1.7596 - accuracy: 0.5741 - val_loss: 1.5912 - val_accuracy: 0.5900\n",
      "Epoch 3/20\n",
      "63/63 [==============================] - 3s 43ms/step - loss: 1.4630 - accuracy: 0.6029 - val_loss: 1.4661 - val_accuracy: 0.6120\n",
      "Epoch 4/20\n",
      "63/63 [==============================] - 3s 43ms/step - loss: 1.2613 - accuracy: 0.6472 - val_loss: 1.3877 - val_accuracy: 0.6310\n",
      "Epoch 5/20\n",
      "63/63 [==============================] - 3s 45ms/step - loss: 1.1133 - accuracy: 0.6655 - val_loss: 1.3604 - val_accuracy: 0.6410\n",
      "Epoch 6/20\n",
      "63/63 [==============================] - 3s 44ms/step - loss: 0.9993 - accuracy: 0.6904 - val_loss: 1.3239 - val_accuracy: 0.6540\n",
      "Epoch 7/20\n",
      "63/63 [==============================] - 3s 47ms/step - loss: 0.9115 - accuracy: 0.7175 - val_loss: 1.3149 - val_accuracy: 0.6710\n",
      "Epoch 8/20\n",
      "63/63 [==============================] - 2s 37ms/step - loss: 0.8550 - accuracy: 0.7570 - val_loss: 1.3520 - val_accuracy: 0.6770\n",
      "Epoch 9/20\n",
      "63/63 [==============================] - 3s 44ms/step - loss: 0.7802 - accuracy: 0.7820 - val_loss: 1.3726 - val_accuracy: 0.6880\n",
      "Epoch 10/20\n",
      "63/63 [==============================] - 3s 43ms/step - loss: 0.7073 - accuracy: 0.8100 - val_loss: 1.4134 - val_accuracy: 0.6940\n",
      "Epoch 11/20\n",
      "63/63 [==============================] - 3s 45ms/step - loss: 0.6760 - accuracy: 0.8140 - val_loss: 1.4551 - val_accuracy: 0.6880\n",
      "Epoch 12/20\n",
      "63/63 [==============================] - 3s 41ms/step - loss: 0.6631 - accuracy: 0.8136 - val_loss: 1.4272 - val_accuracy: 0.6980\n",
      "Epoch 13/20\n",
      "63/63 [==============================] - 3s 43ms/step - loss: 0.6010 - accuracy: 0.8217 - val_loss: 1.5354 - val_accuracy: 0.6970\n",
      "Epoch 14/20\n",
      "63/63 [==============================] - 3s 44ms/step - loss: 0.5752 - accuracy: 0.8228 - val_loss: 1.5439 - val_accuracy: 0.6970\n",
      "Epoch 15/20\n",
      "63/63 [==============================] - 3s 56ms/step - loss: 0.5528 - accuracy: 0.8303 - val_loss: 1.6625 - val_accuracy: 0.6980\n",
      "Epoch 16/20\n",
      "63/63 [==============================] - 3s 55ms/step - loss: 0.5115 - accuracy: 0.8368 - val_loss: 1.6823 - val_accuracy: 0.6980\n",
      "Epoch 17/20\n",
      "63/63 [==============================] - 4s 63ms/step - loss: 0.5256 - accuracy: 0.8342 - val_loss: 1.7634 - val_accuracy: 0.6930\n",
      "Epoch 18/20\n",
      "63/63 [==============================] - 4s 56ms/step - loss: 0.4833 - accuracy: 0.8574 - val_loss: 1.7848 - val_accuracy: 0.6930\n",
      "Epoch 19/20\n",
      "63/63 [==============================] - 4s 59ms/step - loss: 0.4640 - accuracy: 0.8615 - val_loss: 1.8495 - val_accuracy: 0.6930\n",
      "Epoch 20/20\n",
      "63/63 [==============================] - 4s 61ms/step - loss: 0.4498 - accuracy: 0.8687 - val_loss: 1.9632 - val_accuracy: 0.6900\n"
     ]
    },
    {
     "data": {
      "text/plain": [
       "<tensorflow.python.keras.callbacks.History at 0x7f0d7559d5e0>"
      ]
     },
     "execution_count": 27,
     "metadata": {},
     "output_type": "execute_result"
    }
   ],
   "source": [
    "red3 = models.Sequential()\n",
    "red3.add(layers.Dense(64, activation='relu', input_shape=(10000,)))\n",
    "red3.add(layers.Dense(4, activation='relu'))\n",
    "red3.add(layers.Dense(46, activation='softmax'))\n",
    "\n",
    "red3.compile(optimizer='rmsprop',\n",
    "              loss='categorical_crossentropy',\n",
    "              metrics=['accuracy'])\n",
    "red3.fit(partial_x_train,\n",
    "          partial_y_train,\n",
    "          epochs=20,\n",
    "          batch_size=128,\n",
    "          validation_data=(x_val, y_val))"
   ]
  },
  {
   "cell_type": "markdown",
   "metadata": {},
   "source": [
    "\n",
    "Podemos observar que el rendimiento del modelo cae al ~66% de accuracy, un 12% de caida respecto a la aproximación anterior, debido al hecho de que ahora la red intenta comprimir toda la información de las 64 neuronas anteriores en 4 neuronas para volver a descomprimirlo en 46 neuronas de salida, y aunque es capaz de mantener mucha información en esas pocas neuronas, pierde mucha estructura de la información original en ese proceso.\n"
   ]
  },
  {
   "cell_type": "markdown",
   "metadata": {},
   "source": [
    "### Trabajo Propuesto\n",
    "\n",
    "* Intenta usar otro tamaño en las capas, ampliando o reduciendo: 32, 128,...\n",
    "* Intenta usar más o menos cantidad de capas ocultas."
   ]
  },
  {
   "cell_type": "markdown",
   "metadata": {},
   "source": [
    "## Conclusiones\n",
    "\n",
    "Algunas conclusiones que podemos ir apuntando de este ejemplo:\n",
    "\n",
    "* Si quieres clasificar entre $N$ clases, tu red debe acabar en una capa densa de tamaño $N$.\n",
    "* Si la clasificación es disjunta, la última capa debe usar activación `softmax`, de esa forma obtendrás una distribución de probabilidad sobre las N clases de salida.\n",
    "* Casi con toda seguridad tendrás que usar *Categorical crossentropy* como función de pérdida.\n",
    "* Hay dos formas de manejar las etiquetas en un problema de clasificación multi-clase:\n",
    "    * Por _Codificación Categórica_ (\"one-hot encoding\") y usando `categorical_crossentropy` como función de pérdida.\n",
    "    * Codificando las etiquetas como enteros, y usando `sparse_categorical_crossentropy` como función de pérdida.\n",
    "* Si el número de categorías es muy alto, evita los cuellos de botella con capas intermedias demasiado pequeñas."
   ]
  }
 ],
 "metadata": {
  "kernelspec": {
   "display_name": "Python 3",
   "language": "python",
   "name": "python3"
  },
  "language_info": {
   "codemirror_mode": {
    "name": "ipython",
    "version": 3
   },
   "file_extension": ".py",
   "mimetype": "text/x-python",
   "name": "python",
   "nbconvert_exporter": "python",
   "pygments_lexer": "ipython3",
   "version": "3.9.2"
  }
 },
 "nbformat": 4,
 "nbformat_minor": 4
}
