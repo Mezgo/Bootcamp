{
 "cells": [
  {
   "cell_type": "code",
   "execution_count": 2,
   "id": "7ef6760d-36f5-4014-8ec9-0b3c2f9b16a3",
   "metadata": {},
   "outputs": [],
   "source": [
    "import pandas as pd\n",
    "import pymysql as ps, csv\n",
    "import numpy as np\n",
    "import sys, scipy"
   ]
  },
  {
   "cell_type": "code",
   "execution_count": 3,
   "id": "4362c608",
   "metadata": {},
   "outputs": [],
   "source": [
    "sys.setrecursionlimit(10000)\n",
    "conexion = ps.connect(\n",
    "    host = 'localhost',\n",
    "    user='root',\n",
    "    password= '1234wasd'\n",
    ")\n",
    "cursor = conexion.cursor()\n",
    "query = 'use henry_m3'\n",
    "cursor.execute(query)\n",
    "commit = conexion.commit()"
   ]
  },
  {
   "cell_type": "markdown",
   "metadata": {},
   "source": [
    "****REGLA DE LAS SIGMAS****"
   ]
  },
  {
   "cell_type": "markdown",
   "metadata": {},
   "source": [
    "Se dice, que se basa en el ***valor promedio*** y en la ***desviación estandar*** para obtener el umbral entre lo atipico y lo normal. \n",
    "\n",
    "minimo = promedio - 3 * desviacion estandar\n",
    "\n",
    "maximo = promedio + 3 * desviacion estandar"
   ]
  },
  {
   "cell_type": "markdown",
   "metadata": {},
   "source": [
    "Aplicar alguna técnica de detección de **Outliers** en la tabla ***ventas***, sobre los campos **Precio** y **Cantidad**.\n",
    "Realizar diversas consultas para verificar la importancia de haber detectado **Outliers**. Por ejemplo ventas por sucursal en un período teniendo en cuenta **outliers** y descartándolos."
   ]
  },
  {
   "cell_type": "code",
   "execution_count": 26,
   "metadata": {},
   "outputs": [
    {
     "data": {
      "text/plain": [
       "array([[813.12,   2.  ],\n",
       "       [543.18,   3.  ],\n",
       "       [430.32,   1.  ]])"
      ]
     },
     "execution_count": 26,
     "metadata": {},
     "output_type": "execute_result"
    }
   ],
   "source": [
    "q = '''select v.Precio, v.Cantidad \n",
    "       from venta v'''\n",
    "cursor.execute(q)\n",
    "commit\n",
    "\n",
    "r = cursor.fetchall()\n",
    "'''for l in r:\n",
    "       print(l)'''\n",
    "\n",
    "s = np.array(r, dtype = float)\n",
    "\n",
    "s[0:3]"
   ]
  }
 ],
 "metadata": {
  "kernelspec": {
   "display_name": "Python 3.10.5 64-bit",
   "language": "python",
   "name": "python3"
  },
  "language_info": {
   "codemirror_mode": {
    "name": "ipython",
    "version": 3
   },
   "file_extension": ".py",
   "mimetype": "text/x-python",
   "name": "python",
   "nbconvert_exporter": "python",
   "pygments_lexer": "ipython3",
   "version": "3.10.5"
  },
  "orig_nbformat": 4,
  "vscode": {
   "interpreter": {
    "hash": "aee8b7b246df8f9039afb4144a1f6fd8d2ca17a180786b69acc140d282b71a49"
   }
  }
 },
 "nbformat": 4,
 "nbformat_minor": 2
}
