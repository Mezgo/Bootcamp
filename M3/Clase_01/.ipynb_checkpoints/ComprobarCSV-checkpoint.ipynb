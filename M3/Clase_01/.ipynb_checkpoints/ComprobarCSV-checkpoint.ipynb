{
 "cells": [
  {
   "cell_type": "code",
   "execution_count": 2,
   "id": "7ef6760d-36f5-4014-8ec9-0b3c2f9b16a3",
   "metadata": {
    "colab": {
     "base_uri": "https://localhost:8080/"
    },
    "id": "7ef6760d-36f5-4014-8ec9-0b3c2f9b16a3",
    "outputId": "62bb9501-af3f-4795-ad47-09945ddd1988"
   },
   "outputs": [],
   "source": [
    "# !pip install pymysql\n",
    "import sys\n",
    "\n",
    "import numpy as np\n",
    "import pandas as pd\n",
    "import pymysql as ps\n",
    "\n",
    "sys.setrecursionlimit(100000)\n",
    "conn = ps.connect(host=\"localhost\", user=\"root\", password=\"1234wasd\")\n",
    "\n",
    "DIR = \"Homework/CSV/\"\n",
    "cursor = conn.cursor()\n",
    "\n",
    "\n",
    "def exequery(q: str, tp=None):\n",
    "    cursor.execute(q, tp)\n",
    "    conn.commit()\n",
    "\n",
    "\n",
    "exequery(\"use henry_m3\")\n",
    "\n",
    "\n",
    "def csvread(ar: str, delim: str):\n",
    "    path = f\"{DIR}{ar}\"\n",
    "    archivo = pd.read_csv(path, index_col=False, delimiter=delim)\n",
    "    archivo.fillna(\"\", inplace=True)\n",
    "\n",
    "    return archivo"
   ]
  },
  {
   "cell_type": "markdown",
   "id": "80cc220b",
   "metadata": {},
   "source": [
    "# __CREACIÓN DE TABLAS__"
   ]
  },
  {
   "cell_type": "markdown",
   "id": "a94f6e92",
   "metadata": {
    "id": "a94f6e92",
    "jp-MarkdownHeadingCollapsed": true,
    "tags": []
   },
   "source": [
    "## CANAL VENTA"
   ]
  },
  {
   "cell_type": "markdown",
   "id": "5b1daad6",
   "metadata": {
    "id": "5b1daad6"
   },
   "source": [
    "*Eliminar tabla*"
   ]
  },
  {
   "cell_type": "code",
   "execution_count": 102,
   "id": "8dc80cd5",
   "metadata": {
    "id": "8dc80cd5"
   },
   "outputs": [],
   "source": [
    "q = \"drop table if exists Canal_Venta;\"\n",
    "exequery(q)"
   ]
  },
  {
   "cell_type": "markdown",
   "id": "f9d2edfc",
   "metadata": {
    "id": "f9d2edfc"
   },
   "source": [
    "*Crear la tabla*"
   ]
  },
  {
   "cell_type": "code",
   "execution_count": 103,
   "id": "27381fd0",
   "metadata": {
    "id": "27381fd0"
   },
   "outputs": [],
   "source": [
    "q = \"\"\"CREATE TABLE Canal_Venta (\n",
    "            Codigo int,\n",
    "            Descricpion varchar(50));\"\"\"\n",
    "exequery(q)"
   ]
  },
  {
   "cell_type": "markdown",
   "id": "a85e1cd3",
   "metadata": {
    "id": "a85e1cd3"
   },
   "source": [
    "## TIPO DE GASTO"
   ]
  },
  {
   "cell_type": "markdown",
   "id": "08b1eedb",
   "metadata": {
    "id": "08b1eedb"
   },
   "source": [
    "*Eliminar*"
   ]
  },
  {
   "cell_type": "code",
   "execution_count": 54,
   "id": "8b6e01f1",
   "metadata": {
    "id": "8b6e01f1"
   },
   "outputs": [],
   "source": [
    "q = \"drop table if exists tipo_gasto;\"\n",
    "exequery(q)"
   ]
  },
  {
   "cell_type": "markdown",
   "id": "86607002",
   "metadata": {
    "id": "86607002"
   },
   "source": [
    "*CREAR*"
   ]
  },
  {
   "cell_type": "code",
   "execution_count": 58,
   "id": "4e5e1141",
   "metadata": {
    "id": "4e5e1141"
   },
   "outputs": [],
   "source": [
    "q = \"create table Tipo_Gasto ( IDTipoGasto int(11) not null auto_increment, Descripcion varchar(100) not null, Monto_Aproximado decimal(10,2) not null, primary key (IDTipoGasto));\"\n",
    "exequery(q)"
   ]
  },
  {
   "cell_type": "markdown",
   "id": "5316b48d",
   "metadata": {},
   "source": [
    "## CLIENTE"
   ]
  },
  {
   "cell_type": "markdown",
   "id": "b581cdf1",
   "metadata": {},
   "source": [
    "_ELIMINAR_"
   ]
  },
  {
   "cell_type": "code",
   "execution_count": 59,
   "id": "a69b447f",
   "metadata": {},
   "outputs": [],
   "source": [
    "q = \"drop table if exists Cliente;\"\n",
    "exequery(q)"
   ]
  },
  {
   "cell_type": "markdown",
   "id": "eeded916",
   "metadata": {},
   "source": [
    "_CREAR_"
   ]
  },
  {
   "cell_type": "code",
   "execution_count": 62,
   "id": "905f3ed5",
   "metadata": {},
   "outputs": [],
   "source": [
    "q = \"\"\"create table if not exists Cliente (\n",
    "    ClienteID                   int not null auto_increment primary key,\n",
    "    Nombre_Y_Apellido           varchar(50) not null,\n",
    "    Domicilio                   varchar(50),\n",
    "    Telefono                    varchar(50),\n",
    "    Edades                      int,\n",
    "    Localidad                   varchar(50),\n",
    "    X                           varchar(100),\n",
    "    Y                           varchar(100),\n",
    "    col10                       varchar(1)\n",
    "    );\"\"\"\n",
    "exequery(q)"
   ]
  },
  {
   "cell_type": "markdown",
   "id": "c0486d8b",
   "metadata": {
    "jp-MarkdownHeadingCollapsed": true,
    "tags": []
   },
   "source": [
    "## PROVEEDOR"
   ]
  },
  {
   "cell_type": "markdown",
   "id": "62966e35",
   "metadata": {},
   "source": [
    "_ELIMINAR_"
   ]
  },
  {
   "cell_type": "code",
   "execution_count": 63,
   "id": "967eb436",
   "metadata": {},
   "outputs": [],
   "source": [
    "q = \"drop table if exists Proveedor;\"\n",
    "exequery(q)"
   ]
  },
  {
   "cell_type": "code",
   "execution_count": 67,
   "id": "f75e3fce",
   "metadata": {},
   "outputs": [],
   "source": [
    "q = \"\"\"create table if not exists Proveedor(\n",
    "    ProveedorID  int not null auto_increment primary key,\n",
    "    Nombre       varchar(25) not null,\n",
    "    Dirreccion   varchar(50),\n",
    "    Ciudad       varchar(25),\n",
    "    Región       varchar(25),\n",
    "    País         varchar(25),\n",
    "    Departamento varchar(25));\"\"\"\n",
    "exequery(q)"
   ]
  },
  {
   "cell_type": "markdown",
   "id": "63069670",
   "metadata": {
    "id": "63069670",
    "jp-MarkdownHeadingCollapsed": true,
    "tags": []
   },
   "source": [
    "## PRODUCTO"
   ]
  },
  {
   "cell_type": "markdown",
   "id": "d0a4cbd9",
   "metadata": {},
   "source": [
    "_ELIMINAR_"
   ]
  },
  {
   "cell_type": "code",
   "execution_count": 68,
   "id": "c3215a73",
   "metadata": {},
   "outputs": [],
   "source": [
    "q = \"drop table if exists Producto;\"\n",
    "exequery(q)"
   ]
  },
  {
   "cell_type": "markdown",
   "id": "9e74cb99",
   "metadata": {},
   "source": [
    "_CREAR_"
   ]
  },
  {
   "cell_type": "code",
   "execution_count": 71,
   "id": "e167e6e8",
   "metadata": {},
   "outputs": [],
   "source": [
    "q = \"\"\"create table if not exists Producto (\n",
    "    ProductoID          int not null auto_increment primary key,\n",
    "    Concepto            varchar(50),\n",
    "    Tipo                varchar(50),\n",
    "    Precio              decimal(15,2) not null\n",
    "    );\"\"\"\n",
    "exequery(q)"
   ]
  },
  {
   "cell_type": "markdown",
   "id": "8c64a51b",
   "metadata": {
    "id": "8c64a51b",
    "jp-MarkdownHeadingCollapsed": true,
    "tags": []
   },
   "source": [
    "## EMPLEADO"
   ]
  },
  {
   "cell_type": "markdown",
   "id": "64b0ef9f",
   "metadata": {},
   "source": [
    "_ELIMINAR_"
   ]
  },
  {
   "cell_type": "code",
   "execution_count": 72,
   "id": "e4153d82",
   "metadata": {},
   "outputs": [],
   "source": [
    "q = \"drop table if exists Empleado;\"\n",
    "exequery(q)"
   ]
  },
  {
   "cell_type": "markdown",
   "id": "af7973f0",
   "metadata": {},
   "source": [
    "_CREAR_"
   ]
  },
  {
   "cell_type": "code",
   "execution_count": 74,
   "id": "44890694",
   "metadata": {},
   "outputs": [],
   "source": [
    "q = \"\"\"create table if not exists Empleado (\n",
    "    EmpleadoID   int not null auto_increment primary key,\n",
    "    Apellido     varchar(25) not null,\n",
    "    Nombre       varchar(25) not null,\n",
    "    Sucursal     varchar(25) not null,\n",
    "    Sector       varchar(25) not null,\n",
    "    Cargo        varchar(25) not null,\n",
    "    Salario      decimal(15,2)\n",
    "    );\"\"\"\n",
    "exequery(q)"
   ]
  },
  {
   "cell_type": "markdown",
   "id": "bf346608",
   "metadata": {
    "jp-MarkdownHeadingCollapsed": true,
    "tags": []
   },
   "source": [
    "## SUCURSAL"
   ]
  },
  {
   "cell_type": "markdown",
   "id": "52281a95",
   "metadata": {},
   "source": [
    "_ELIMINAR_"
   ]
  },
  {
   "cell_type": "code",
   "execution_count": 76,
   "id": "e098c7fe",
   "metadata": {},
   "outputs": [],
   "source": [
    "q = \"drop table if exists Sucursal;\"\n",
    "exequery(q)"
   ]
  },
  {
   "cell_type": "markdown",
   "id": "fb116bee",
   "metadata": {},
   "source": [
    "_CREAR_"
   ]
  },
  {
   "cell_type": "code",
   "execution_count": 78,
   "id": "5877ac45",
   "metadata": {},
   "outputs": [],
   "source": [
    "q = \"\"\"create table if not exists Sucursal (\n",
    "    SucursalID         int not null auto_increment primary key,\n",
    "    Sucursal           varchar(25),\n",
    "    Direccion          varchar(50),\n",
    "    Localidad          varchar(50),\n",
    "    Provincia          varchar(50),\n",
    "    Latitud            varchar(100),\n",
    "    Longitud           varchar(100));\"\"\"\n",
    "exequery(q)"
   ]
  },
  {
   "cell_type": "markdown",
   "id": "027ac81b",
   "metadata": {
    "jp-MarkdownHeadingCollapsed": true,
    "tags": []
   },
   "source": [
    "## GASTO"
   ]
  },
  {
   "cell_type": "markdown",
   "id": "81d33795",
   "metadata": {},
   "source": [
    "_ELIMINAR_"
   ]
  },
  {
   "cell_type": "code",
   "execution_count": 80,
   "id": "ac3dea8a",
   "metadata": {},
   "outputs": [],
   "source": [
    "q = \"drop table if exists Gasto;\"\n",
    "exequery(q)"
   ]
  },
  {
   "cell_type": "markdown",
   "id": "ad9865e4",
   "metadata": {},
   "source": [
    "_CREAR_"
   ]
  },
  {
   "cell_type": "code",
   "execution_count": 82,
   "id": "ddc70b70",
   "metadata": {},
   "outputs": [],
   "source": [
    "q = \"\"\"create table if not exists Gasto (\n",
    "   GastoID      int not null auto_increment primary key,\n",
    "   SucursalID   int not null,\n",
    "   TipoGastoID  int not null,\n",
    "   Fecha        date,\n",
    "   Monto        decimal(15,2));\"\"\"\n",
    "exequery(q)"
   ]
  },
  {
   "cell_type": "markdown",
   "id": "6c7d4b58",
   "metadata": {
    "jp-MarkdownHeadingCollapsed": true,
    "tags": []
   },
   "source": [
    "## COMPRA"
   ]
  },
  {
   "cell_type": "markdown",
   "id": "8b7df95d",
   "metadata": {},
   "source": [
    "_ELIMINAR_"
   ]
  },
  {
   "cell_type": "code",
   "execution_count": 84,
   "id": "0c84e977",
   "metadata": {},
   "outputs": [],
   "source": [
    "q = \"drop table if exists Compra\"\n",
    "exequery(q)"
   ]
  },
  {
   "cell_type": "markdown",
   "id": "be9d9c17",
   "metadata": {},
   "source": [
    "_CREAR_"
   ]
  },
  {
   "cell_type": "code",
   "execution_count": 86,
   "id": "ece3fc4e",
   "metadata": {},
   "outputs": [],
   "source": [
    "q = \"\"\"create table if not exists Compra (\n",
    "    CompraID     int not null auto_increment primary key,\n",
    "    Fecha        date,\n",
    "    IdProducto   int not null,\n",
    "    Cantidad     int not null,\n",
    "    Precio       decimal(15,2),\n",
    "    IdProveedor  int not null\n",
    "    );\"\"\"\n",
    "exequery(q)"
   ]
  },
  {
   "cell_type": "markdown",
   "id": "b0d74c94",
   "metadata": {
    "jp-MarkdownHeadingCollapsed": true,
    "tags": []
   },
   "source": [
    "## VENTA"
   ]
  },
  {
   "cell_type": "markdown",
   "id": "f5a1f69e",
   "metadata": {},
   "source": [
    "_ELIMINAR_"
   ]
  },
  {
   "cell_type": "code",
   "execution_count": 88,
   "id": "81b0fd5e",
   "metadata": {},
   "outputs": [],
   "source": [
    "q = \"drop table if exists Venta;\"\n",
    "exequery(q)"
   ]
  },
  {
   "cell_type": "markdown",
   "id": "47307b9a",
   "metadata": {},
   "source": [
    "_CREAR_"
   ]
  },
  {
   "cell_type": "code",
   "execution_count": 89,
   "id": "7997fb69",
   "metadata": {},
   "outputs": [],
   "source": [
    "q = \"\"\"create table if not exists Venta (\n",
    "    IdVenta        int not null auto_increment primary key,\n",
    "    Fecha          date,\n",
    "    Fecha_Entrega  date,\n",
    "    IdCanal        int not null,\n",
    "    IdCliente      int not null,\n",
    "    IdSucursal     int not null,\n",
    "    IdEmpleado     int not null,\n",
    "    IdProducto     int not null,\n",
    "    Precio         decimal(15,2) not null,\n",
    "    Cantidad       int not null);\"\"\"\n",
    "exequery(q)"
   ]
  },
  {
   "cell_type": "markdown",
   "id": "eb92688d",
   "metadata": {},
   "source": [
    "# LLENACIÓN DE TABLAS"
   ]
  },
  {
   "cell_type": "markdown",
   "id": "0a61c556",
   "metadata": {
    "jp-MarkdownHeadingCollapsed": true,
    "tags": []
   },
   "source": [
    "## CANAL VENTA"
   ]
  },
  {
   "cell_type": "code",
   "execution_count": 104,
   "id": "d6b9ed30",
   "metadata": {},
   "outputs": [],
   "source": [
    "path = \"CanalDeVenta.csv\"\n",
    "archive = csvread(path, \",\")\n",
    "\n",
    "for i, row in archive.iterrows():\n",
    "    exequery(\"INSERT INTO Canal_Venta values (%s, %s)\", tuple(row))"
   ]
  },
  {
   "cell_type": "markdown",
   "id": "2e85be3c",
   "metadata": {
    "jp-MarkdownHeadingCollapsed": true,
    "tags": []
   },
   "source": [
    "## TIPO GASTO"
   ]
  },
  {
   "cell_type": "code",
   "execution_count": 106,
   "id": "abe5d06c",
   "metadata": {},
   "outputs": [],
   "source": [
    "path = \"TiposDeGasto.csv\"\n",
    "ar = csvread(path, \",\")\n",
    "\n",
    "for i, row in ar.iterrows():\n",
    "    exequery(\"insert into Tipo_Gasto values (%s, %s, %s)\", tuple(row))"
   ]
  },
  {
   "cell_type": "markdown",
   "id": "c341c507",
   "metadata": {
    "id": "c341c507"
   },
   "source": [
    "## CLIENTE"
   ]
  },
  {
   "cell_type": "markdown",
   "id": "a73b34c4",
   "metadata": {
    "id": "a73b34c4"
   },
   "source": [
    "*Leer CSV*"
   ]
  },
  {
   "cell_type": "code",
   "execution_count": 10,
   "id": "dc01b54a",
   "metadata": {
    "id": "dc01b54a",
    "outputId": "b577ef6b-cee8-4c7f-982e-dcbd8c2310f4"
   },
   "outputs": [
    {
     "name": "stdout",
     "output_type": "stream",
     "text": [
      "<class 'pandas.core.frame.DataFrame'>\n",
      "RangeIndex: 3407 entries, 0 to 3406\n",
      "Data columns (total 10 columns):\n",
      " #   Column             Non-Null Count  Dtype \n",
      "---  ------             --------------  ----- \n",
      " 0   ID                 3407 non-null   int64 \n",
      " 1   Provincia          3407 non-null   object\n",
      " 2   Nombre_y_Apellido  3407 non-null   object\n",
      " 3   Domicilio          3407 non-null   object\n",
      " 4   Telefono           3407 non-null   object\n",
      " 5   Edad               3407 non-null   int64 \n",
      " 6   Localidad          3407 non-null   object\n",
      " 7   X                  3407 non-null   object\n",
      " 8   Y                  3407 non-null   object\n",
      " 9   col10              3407 non-null   object\n",
      "dtypes: int64(2), object(8)\n",
      "memory usage: 266.3+ KB\n"
     ]
    }
   ],
   "source": [
    "path = \"Clientes.csv\"\n",
    "ar = csvread(path, \";\")\n",
    "ar.info()"
   ]
  },
  {
   "cell_type": "markdown",
   "id": "cb2cc5f8",
   "metadata": {
    "id": "cb2cc5f8"
   },
   "source": [
    "*Insertar*"
   ]
  },
  {
   "cell_type": "code",
   "execution_count": 11,
   "id": "332c97b3",
   "metadata": {
    "id": "332c97b3"
   },
   "outputs": [
    {
     "ename": "OperationalError",
     "evalue": "(1136, \"Column count doesn't match value count at row 1\")",
     "output_type": "error",
     "traceback": [
      "\u001b[0;31m---------------------------------------------------------------------------\u001b[0m",
      "\u001b[0;31mOperationalError\u001b[0m                          Traceback (most recent call last)",
      "Cell \u001b[0;32mIn [11], line 2\u001b[0m\n\u001b[1;32m      1\u001b[0m \u001b[38;5;28;01mfor\u001b[39;00m i, row \u001b[38;5;129;01min\u001b[39;00m ar\u001b[38;5;241m.\u001b[39miterrows():\n\u001b[0;32m----> 2\u001b[0m     \u001b[43mcursor\u001b[49m\u001b[38;5;241;43m.\u001b[39;49m\u001b[43mexecute\u001b[49m\u001b[43m(\u001b[49m\n\u001b[1;32m      3\u001b[0m \u001b[43m        \u001b[49m\u001b[38;5;124;43m\"\u001b[39;49m\u001b[38;5;124;43minsert into Cliente values(\u001b[39;49m\u001b[38;5;132;43;01m%s\u001b[39;49;00m\u001b[38;5;124;43m,\u001b[39;49m\u001b[38;5;132;43;01m%s\u001b[39;49;00m\u001b[38;5;124;43m,\u001b[39;49m\u001b[38;5;132;43;01m%s\u001b[39;49;00m\u001b[38;5;124;43m,\u001b[39;49m\u001b[38;5;132;43;01m%s\u001b[39;49;00m\u001b[38;5;124;43m,\u001b[39;49m\u001b[38;5;132;43;01m%s\u001b[39;49;00m\u001b[38;5;124;43m,\u001b[39;49m\u001b[38;5;132;43;01m%s\u001b[39;49;00m\u001b[38;5;124;43m,\u001b[39;49m\u001b[38;5;132;43;01m%s\u001b[39;49;00m\u001b[38;5;124;43m,\u001b[39;49m\u001b[38;5;132;43;01m%s\u001b[39;49;00m\u001b[38;5;124;43m,\u001b[39;49m\u001b[38;5;132;43;01m%s\u001b[39;49;00m\u001b[38;5;124;43m,\u001b[39;49m\u001b[38;5;132;43;01m%s\u001b[39;49;00m\u001b[38;5;124;43m)\u001b[39;49m\u001b[38;5;124;43m\"\u001b[39;49m\u001b[43m,\u001b[49m\u001b[43m \u001b[49m\u001b[38;5;28;43mtuple\u001b[39;49m\u001b[43m(\u001b[49m\u001b[43mrow\u001b[49m\u001b[43m)\u001b[49m\u001b[43m)\u001b[49m\n",
      "File \u001b[0;32m/Library/Frameworks/Python.framework/Versions/3.10/lib/python3.10/site-packages/pymysql/cursors.py:148\u001b[0m, in \u001b[0;36mCursor.execute\u001b[0;34m(self, query, args)\u001b[0m\n\u001b[1;32m    144\u001b[0m     \u001b[38;5;28;01mpass\u001b[39;00m\n\u001b[1;32m    146\u001b[0m query \u001b[38;5;241m=\u001b[39m \u001b[38;5;28mself\u001b[39m\u001b[38;5;241m.\u001b[39mmogrify(query, args)\n\u001b[0;32m--> 148\u001b[0m result \u001b[38;5;241m=\u001b[39m \u001b[38;5;28;43mself\u001b[39;49m\u001b[38;5;241;43m.\u001b[39;49m\u001b[43m_query\u001b[49m\u001b[43m(\u001b[49m\u001b[43mquery\u001b[49m\u001b[43m)\u001b[49m\n\u001b[1;32m    149\u001b[0m \u001b[38;5;28mself\u001b[39m\u001b[38;5;241m.\u001b[39m_executed \u001b[38;5;241m=\u001b[39m query\n\u001b[1;32m    150\u001b[0m \u001b[38;5;28;01mreturn\u001b[39;00m result\n",
      "File \u001b[0;32m/Library/Frameworks/Python.framework/Versions/3.10/lib/python3.10/site-packages/pymysql/cursors.py:310\u001b[0m, in \u001b[0;36mCursor._query\u001b[0;34m(self, q)\u001b[0m\n\u001b[1;32m    308\u001b[0m \u001b[38;5;28mself\u001b[39m\u001b[38;5;241m.\u001b[39m_last_executed \u001b[38;5;241m=\u001b[39m q\n\u001b[1;32m    309\u001b[0m \u001b[38;5;28mself\u001b[39m\u001b[38;5;241m.\u001b[39m_clear_result()\n\u001b[0;32m--> 310\u001b[0m \u001b[43mconn\u001b[49m\u001b[38;5;241;43m.\u001b[39;49m\u001b[43mquery\u001b[49m\u001b[43m(\u001b[49m\u001b[43mq\u001b[49m\u001b[43m)\u001b[49m\n\u001b[1;32m    311\u001b[0m \u001b[38;5;28mself\u001b[39m\u001b[38;5;241m.\u001b[39m_do_get_result()\n\u001b[1;32m    312\u001b[0m \u001b[38;5;28;01mreturn\u001b[39;00m \u001b[38;5;28mself\u001b[39m\u001b[38;5;241m.\u001b[39mrowcount\n",
      "File \u001b[0;32m/Library/Frameworks/Python.framework/Versions/3.10/lib/python3.10/site-packages/pymysql/connections.py:548\u001b[0m, in \u001b[0;36mConnection.query\u001b[0;34m(self, sql, unbuffered)\u001b[0m\n\u001b[1;32m    546\u001b[0m     sql \u001b[38;5;241m=\u001b[39m sql\u001b[38;5;241m.\u001b[39mencode(\u001b[38;5;28mself\u001b[39m\u001b[38;5;241m.\u001b[39mencoding, \u001b[38;5;124m\"\u001b[39m\u001b[38;5;124msurrogateescape\u001b[39m\u001b[38;5;124m\"\u001b[39m)\n\u001b[1;32m    547\u001b[0m \u001b[38;5;28mself\u001b[39m\u001b[38;5;241m.\u001b[39m_execute_command(COMMAND\u001b[38;5;241m.\u001b[39mCOM_QUERY, sql)\n\u001b[0;32m--> 548\u001b[0m \u001b[38;5;28mself\u001b[39m\u001b[38;5;241m.\u001b[39m_affected_rows \u001b[38;5;241m=\u001b[39m \u001b[38;5;28;43mself\u001b[39;49m\u001b[38;5;241;43m.\u001b[39;49m\u001b[43m_read_query_result\u001b[49m\u001b[43m(\u001b[49m\u001b[43munbuffered\u001b[49m\u001b[38;5;241;43m=\u001b[39;49m\u001b[43munbuffered\u001b[49m\u001b[43m)\u001b[49m\n\u001b[1;32m    549\u001b[0m \u001b[38;5;28;01mreturn\u001b[39;00m \u001b[38;5;28mself\u001b[39m\u001b[38;5;241m.\u001b[39m_affected_rows\n",
      "File \u001b[0;32m/Library/Frameworks/Python.framework/Versions/3.10/lib/python3.10/site-packages/pymysql/connections.py:775\u001b[0m, in \u001b[0;36mConnection._read_query_result\u001b[0;34m(self, unbuffered)\u001b[0m\n\u001b[1;32m    773\u001b[0m \u001b[38;5;28;01melse\u001b[39;00m:\n\u001b[1;32m    774\u001b[0m     result \u001b[38;5;241m=\u001b[39m MySQLResult(\u001b[38;5;28mself\u001b[39m)\n\u001b[0;32m--> 775\u001b[0m     \u001b[43mresult\u001b[49m\u001b[38;5;241;43m.\u001b[39;49m\u001b[43mread\u001b[49m\u001b[43m(\u001b[49m\u001b[43m)\u001b[49m\n\u001b[1;32m    776\u001b[0m \u001b[38;5;28mself\u001b[39m\u001b[38;5;241m.\u001b[39m_result \u001b[38;5;241m=\u001b[39m result\n\u001b[1;32m    777\u001b[0m \u001b[38;5;28;01mif\u001b[39;00m result\u001b[38;5;241m.\u001b[39mserver_status \u001b[38;5;129;01mis\u001b[39;00m \u001b[38;5;129;01mnot\u001b[39;00m \u001b[38;5;28;01mNone\u001b[39;00m:\n",
      "File \u001b[0;32m/Library/Frameworks/Python.framework/Versions/3.10/lib/python3.10/site-packages/pymysql/connections.py:1156\u001b[0m, in \u001b[0;36mMySQLResult.read\u001b[0;34m(self)\u001b[0m\n\u001b[1;32m   1154\u001b[0m \u001b[38;5;28;01mdef\u001b[39;00m \u001b[38;5;21mread\u001b[39m(\u001b[38;5;28mself\u001b[39m):\n\u001b[1;32m   1155\u001b[0m     \u001b[38;5;28;01mtry\u001b[39;00m:\n\u001b[0;32m-> 1156\u001b[0m         first_packet \u001b[38;5;241m=\u001b[39m \u001b[38;5;28;43mself\u001b[39;49m\u001b[38;5;241;43m.\u001b[39;49m\u001b[43mconnection\u001b[49m\u001b[38;5;241;43m.\u001b[39;49m\u001b[43m_read_packet\u001b[49m\u001b[43m(\u001b[49m\u001b[43m)\u001b[49m\n\u001b[1;32m   1158\u001b[0m         \u001b[38;5;28;01mif\u001b[39;00m first_packet\u001b[38;5;241m.\u001b[39mis_ok_packet():\n\u001b[1;32m   1159\u001b[0m             \u001b[38;5;28mself\u001b[39m\u001b[38;5;241m.\u001b[39m_read_ok_packet(first_packet)\n",
      "File \u001b[0;32m/Library/Frameworks/Python.framework/Versions/3.10/lib/python3.10/site-packages/pymysql/connections.py:725\u001b[0m, in \u001b[0;36mConnection._read_packet\u001b[0;34m(self, packet_type)\u001b[0m\n\u001b[1;32m    723\u001b[0m     \u001b[38;5;28;01mif\u001b[39;00m \u001b[38;5;28mself\u001b[39m\u001b[38;5;241m.\u001b[39m_result \u001b[38;5;129;01mis\u001b[39;00m \u001b[38;5;129;01mnot\u001b[39;00m \u001b[38;5;28;01mNone\u001b[39;00m \u001b[38;5;129;01mand\u001b[39;00m \u001b[38;5;28mself\u001b[39m\u001b[38;5;241m.\u001b[39m_result\u001b[38;5;241m.\u001b[39munbuffered_active \u001b[38;5;129;01mis\u001b[39;00m \u001b[38;5;28;01mTrue\u001b[39;00m:\n\u001b[1;32m    724\u001b[0m         \u001b[38;5;28mself\u001b[39m\u001b[38;5;241m.\u001b[39m_result\u001b[38;5;241m.\u001b[39munbuffered_active \u001b[38;5;241m=\u001b[39m \u001b[38;5;28;01mFalse\u001b[39;00m\n\u001b[0;32m--> 725\u001b[0m     \u001b[43mpacket\u001b[49m\u001b[38;5;241;43m.\u001b[39;49m\u001b[43mraise_for_error\u001b[49m\u001b[43m(\u001b[49m\u001b[43m)\u001b[49m\n\u001b[1;32m    726\u001b[0m \u001b[38;5;28;01mreturn\u001b[39;00m packet\n",
      "File \u001b[0;32m/Library/Frameworks/Python.framework/Versions/3.10/lib/python3.10/site-packages/pymysql/protocol.py:221\u001b[0m, in \u001b[0;36mMysqlPacket.raise_for_error\u001b[0;34m(self)\u001b[0m\n\u001b[1;32m    219\u001b[0m \u001b[38;5;28;01mif\u001b[39;00m DEBUG:\n\u001b[1;32m    220\u001b[0m     \u001b[38;5;28mprint\u001b[39m(\u001b[38;5;124m\"\u001b[39m\u001b[38;5;124merrno =\u001b[39m\u001b[38;5;124m\"\u001b[39m, errno)\n\u001b[0;32m--> 221\u001b[0m \u001b[43merr\u001b[49m\u001b[38;5;241;43m.\u001b[39;49m\u001b[43mraise_mysql_exception\u001b[49m\u001b[43m(\u001b[49m\u001b[38;5;28;43mself\u001b[39;49m\u001b[38;5;241;43m.\u001b[39;49m\u001b[43m_data\u001b[49m\u001b[43m)\u001b[49m\n",
      "File \u001b[0;32m/Library/Frameworks/Python.framework/Versions/3.10/lib/python3.10/site-packages/pymysql/err.py:143\u001b[0m, in \u001b[0;36mraise_mysql_exception\u001b[0;34m(data)\u001b[0m\n\u001b[1;32m    141\u001b[0m \u001b[38;5;28;01mif\u001b[39;00m errorclass \u001b[38;5;129;01mis\u001b[39;00m \u001b[38;5;28;01mNone\u001b[39;00m:\n\u001b[1;32m    142\u001b[0m     errorclass \u001b[38;5;241m=\u001b[39m InternalError \u001b[38;5;28;01mif\u001b[39;00m errno \u001b[38;5;241m<\u001b[39m \u001b[38;5;241m1000\u001b[39m \u001b[38;5;28;01melse\u001b[39;00m OperationalError\n\u001b[0;32m--> 143\u001b[0m \u001b[38;5;28;01mraise\u001b[39;00m errorclass(errno, errval)\n",
      "\u001b[0;31mOperationalError\u001b[0m: (1136, \"Column count doesn't match value count at row 1\")"
     ]
    }
   ],
   "source": [
    "for i, row in ar.iterrows():\n",
    "    cursor.execute(\n",
    "        \"insert into Cliente values(%s,%s,%s,%s,%s,%s,%s,%s,%s,%s)\", tuple(row))"
   ]
  },
  {
   "cell_type": "markdown",
   "id": "8d8037c4-d3ef-462d-9264-66d289afd381",
   "metadata": {
    "id": "8d8037c4-d3ef-462d-9264-66d289afd381"
   },
   "source": [
    "## PROVEEDOR"
   ]
  },
  {
   "cell_type": "markdown",
   "id": "b0dccd07",
   "metadata": {
    "id": "b0dccd07"
   },
   "source": [
    "*Leer CSV*"
   ]
  },
  {
   "cell_type": "code",
   "execution_count": 64,
   "id": "bd464b3f",
   "metadata": {
    "id": "bd464b3f"
   },
   "outputs": [
    {
     "name": "stdout",
     "output_type": "stream",
     "text": [
      "<class 'pandas.core.frame.DataFrame'>\n",
      "RangeIndex: 14 entries, 0 to 13\n",
      "Data columns (total 7 columns):\n",
      " #   Column       Non-Null Count  Dtype \n",
      "---  ------       --------------  ----- \n",
      " 0   IDProveedor  14 non-null     int64 \n",
      " 1   Nombre       14 non-null     object\n",
      " 2   Address      14 non-null     object\n",
      " 3   City         14 non-null     object\n",
      " 4   State        14 non-null     object\n",
      " 5   Country      14 non-null     object\n",
      " 6   departamen   14 non-null     object\n",
      "dtypes: int64(1), object(6)\n",
      "memory usage: 912.0+ bytes\n"
     ]
    }
   ],
   "source": [
    "proveedor = pd.read_csv(r\"Homework/CSV/Proveedores.csv\", index_col=False, delimiter=\",\")\n",
    "\n",
    "proveedor.fillna(\" \", inplace=True)\n",
    "\n",
    "proveedor.info()"
   ]
  },
  {
   "cell_type": "markdown",
   "id": "6cbf9ba8",
   "metadata": {
    "id": "6cbf9ba8"
   },
   "source": [
    "*Insertar*"
   ]
  },
  {
   "cell_type": "code",
   "execution_count": null,
   "id": "b3c53b06",
   "metadata": {
    "id": "b3c53b06"
   },
   "outputs": [],
   "source": [
    "for i, row in proveedor.iterrows():\n",
    "    q = \"insert into proveedor values (%s,%s,%s,%s,%s,%s,%s);\"\n",
    "    cursor.execute(q, tuple(row))\n",
    "    conexion.commit()"
   ]
  },
  {
   "cell_type": "markdown",
   "id": "10117699",
   "metadata": {
    "id": "63069670"
   },
   "source": [
    "## PRODUCTO"
   ]
  },
  {
   "cell_type": "markdown",
   "id": "8f1402c1",
   "metadata": {
    "id": "8f1402c1"
   },
   "source": [
    "*Leer CSV*"
   ]
  },
  {
   "cell_type": "code",
   "execution_count": 70,
   "id": "10a43694",
   "metadata": {
    "id": "10a43694"
   },
   "outputs": [
    {
     "name": "stdout",
     "output_type": "stream",
     "text": [
      "<class 'pandas.core.frame.DataFrame'>\n",
      "RangeIndex: 291 entries, 0 to 290\n",
      "Data columns (total 4 columns):\n",
      " #   Column       Non-Null Count  Dtype  \n",
      "---  ------       --------------  -----  \n",
      " 0   ID_PRODUCTO  291 non-null    int64  \n",
      " 1   Concepto     291 non-null    object \n",
      " 2   Tipo         291 non-null    object \n",
      " 3    Precio      291 non-null    float64\n",
      "dtypes: float64(1), int64(1), object(2)\n",
      "memory usage: 9.2+ KB\n"
     ]
    }
   ],
   "source": [
    "producto = pd.read_csv(r\"Homework/CSV/PRODUCTOS.csv\", index_col=False, delimiter=\",\")\n",
    "producto.fillna(\" \", inplace=True)\n",
    "producto.info()"
   ]
  },
  {
   "cell_type": "markdown",
   "id": "da9864b6",
   "metadata": {
    "id": "da9864b6"
   },
   "source": [
    "*Insertar*"
   ]
  },
  {
   "cell_type": "code",
   "execution_count": null,
   "id": "ce361680",
   "metadata": {
    "id": "ce361680"
   },
   "outputs": [],
   "source": [
    "for i, row in producto.iterrows():\n",
    "    q = \"insert into producto values (%s,%s,%s,%s)\"\n",
    "    cursor.execute(q, tuple(row))\n",
    "    conexion.commit()"
   ]
  },
  {
   "cell_type": "markdown",
   "id": "1f971fa6",
   "metadata": {
    "id": "8c64a51b"
   },
   "source": [
    "## EMPLEADO"
   ]
  },
  {
   "cell_type": "markdown",
   "id": "917f5158",
   "metadata": {
    "id": "917f5158"
   },
   "source": [
    "*Leer CSV*"
   ]
  },
  {
   "cell_type": "code",
   "execution_count": 73,
   "id": "8f7aa06e",
   "metadata": {
    "id": "8f7aa06e",
    "outputId": "b30293ec-0442-4dff-dc80-a8058c24d1f7"
   },
   "outputs": [
    {
     "name": "stdout",
     "output_type": "stream",
     "text": [
      "<class 'pandas.core.frame.DataFrame'>\n",
      "RangeIndex: 267 entries, 0 to 266\n",
      "Data columns (total 7 columns):\n",
      " #   Column       Non-Null Count  Dtype  \n",
      "---  ------       --------------  -----  \n",
      " 0   ID_empleado  267 non-null    int64  \n",
      " 1   Apellido     267 non-null    object \n",
      " 2   Nombre       267 non-null    object \n",
      " 3   Sucursal     267 non-null    object \n",
      " 4   Sector       267 non-null    object \n",
      " 5   Cargo        267 non-null    object \n",
      " 6   Salario      267 non-null    float64\n",
      "dtypes: float64(1), int64(1), object(5)\n",
      "memory usage: 14.7+ KB\n"
     ]
    }
   ],
   "source": [
    "empleado = pd.read_csv(r\"Homework/CSV/Empleados.csv\", index_col=False, delimiter=\",\")\n",
    "empleado.info()"
   ]
  },
  {
   "cell_type": "markdown",
   "id": "79c64e92",
   "metadata": {
    "id": "79c64e92"
   },
   "source": [
    "*Insertar*"
   ]
  },
  {
   "cell_type": "code",
   "execution_count": null,
   "id": "bb13be20",
   "metadata": {
    "id": "bb13be20"
   },
   "outputs": [],
   "source": [
    "for i, row in empleado.iterrows():\n",
    "    q = \"insert into empleado values (%s,%s,%s,%s,%s,%s,%s)\"\n",
    "    cursor.execute(q, tuple(row))\n",
    "    conexion.commit()"
   ]
  },
  {
   "cell_type": "markdown",
   "id": "7eb0bdba",
   "metadata": {
    "id": "7eb0bdba"
   },
   "source": [
    "## SUCURSAL"
   ]
  },
  {
   "cell_type": "markdown",
   "id": "213d47d1",
   "metadata": {
    "id": "213d47d1"
   },
   "source": [
    "*Leer CSV*"
   ]
  },
  {
   "cell_type": "code",
   "execution_count": 77,
   "id": "f8c108d8",
   "metadata": {
    "id": "f8c108d8",
    "outputId": "e4935b54-5b32-45f5-dda6-30b4a8f9d565"
   },
   "outputs": [
    {
     "name": "stdout",
     "output_type": "stream",
     "text": [
      "<class 'pandas.core.frame.DataFrame'>\n",
      "RangeIndex: 31 entries, 0 to 30\n",
      "Data columns (total 7 columns):\n",
      " #   Column     Non-Null Count  Dtype \n",
      "---  ------     --------------  ----- \n",
      " 0   ID         31 non-null     int64 \n",
      " 1   Sucursal   31 non-null     object\n",
      " 2   Direccion  31 non-null     object\n",
      " 3   Localidad  31 non-null     object\n",
      " 4   Provincia  31 non-null     object\n",
      " 5   Latitud    31 non-null     object\n",
      " 6   Longitud   31 non-null     object\n",
      "dtypes: int64(1), object(6)\n",
      "memory usage: 1.8+ KB\n"
     ]
    }
   ],
   "source": [
    "sucursal = pd.read_csv(r\"Homework/CSV/Sucursales.csv\", index_col=False, delimiter=\";\")\n",
    "sucursal.info()"
   ]
  },
  {
   "cell_type": "markdown",
   "id": "4e9a20ed",
   "metadata": {
    "id": "4e9a20ed"
   },
   "source": [
    "*Insertar*"
   ]
  },
  {
   "cell_type": "code",
   "execution_count": null,
   "id": "4a3f1514",
   "metadata": {
    "id": "4a3f1514"
   },
   "outputs": [],
   "source": [
    "for i, row in sucursal.iterrows():\n",
    "    q = \"insert into sucursal values (%s,%s,%s,%s,%s,%s,%s)\"\n",
    "    cursor.execute(q, tuple(row))\n",
    "    conexion.commit()"
   ]
  },
  {
   "cell_type": "markdown",
   "id": "22f1663b",
   "metadata": {
    "id": "22f1663b"
   },
   "source": [
    "## GASTO"
   ]
  },
  {
   "cell_type": "markdown",
   "id": "5894fa47",
   "metadata": {
    "id": "5894fa47"
   },
   "source": [
    "*Leer CSV*"
   ]
  },
  {
   "cell_type": "code",
   "execution_count": 79,
   "id": "792a0438",
   "metadata": {
    "id": "792a0438",
    "outputId": "ffa332f5-2e01-4864-de28-820abb929d22"
   },
   "outputs": [
    {
     "name": "stdout",
     "output_type": "stream",
     "text": [
      "<class 'pandas.core.frame.DataFrame'>\n",
      "RangeIndex: 8640 entries, 0 to 8639\n",
      "Data columns (total 5 columns):\n",
      " #   Column       Non-Null Count  Dtype  \n",
      "---  ------       --------------  -----  \n",
      " 0   IdGasto      8640 non-null   int64  \n",
      " 1   IdSucursal   8640 non-null   int64  \n",
      " 2   IdTipoGasto  8640 non-null   int64  \n",
      " 3   Fecha        8640 non-null   object \n",
      " 4   Monto        8640 non-null   float64\n",
      "dtypes: float64(1), int64(3), object(1)\n",
      "memory usage: 337.6+ KB\n"
     ]
    }
   ],
   "source": [
    "gasto = pd.read_csv(r\"Homework/CSV/Gasto.csv\", index_col=False, delimiter=\",\")\n",
    "gasto.info()"
   ]
  },
  {
   "cell_type": "markdown",
   "id": "bfa84d14",
   "metadata": {
    "id": "bfa84d14"
   },
   "source": [
    "*Insertar*"
   ]
  },
  {
   "cell_type": "code",
   "execution_count": null,
   "id": "1ee3ff51",
   "metadata": {
    "id": "1ee3ff51"
   },
   "outputs": [],
   "source": [
    "for i, row in gasto.iterrows():\n",
    "    q = \"insert into gasto values (%s,%s,%s,%s,%s)\"\n",
    "    cursor.execute(q, tuple(row))\n",
    "    conexion.commit()"
   ]
  },
  {
   "cell_type": "markdown",
   "id": "7ffcad0a",
   "metadata": {
    "id": "7ffcad0a"
   },
   "source": [
    "## COMPRA"
   ]
  },
  {
   "cell_type": "markdown",
   "id": "38c86327",
   "metadata": {
    "id": "38c86327"
   },
   "source": [
    "*Leer CSV*"
   ]
  },
  {
   "cell_type": "code",
   "execution_count": 83,
   "id": "af7c11c5",
   "metadata": {
    "id": "af7c11c5",
    "outputId": "e10cf7db-bd92-4096-b3ae-cead50850be2"
   },
   "outputs": [
    {
     "name": "stdout",
     "output_type": "stream",
     "text": [
      "<class 'pandas.core.frame.DataFrame'>\n",
      "RangeIndex: 11539 entries, 0 to 11538\n",
      "Data columns (total 6 columns):\n",
      " #   Column       Non-Null Count  Dtype  \n",
      "---  ------       --------------  -----  \n",
      " 0   IdCompra     11539 non-null  int64  \n",
      " 1   Fecha        11539 non-null  object \n",
      " 2   IdProducto   11539 non-null  int64  \n",
      " 3   Cantidad     11539 non-null  int64  \n",
      " 4   Precio       11539 non-null  float64\n",
      " 5   IdProveedor  11539 non-null  int64  \n",
      "dtypes: float64(1), int64(4), object(1)\n",
      "memory usage: 541.0+ KB\n"
     ]
    }
   ],
   "source": [
    "compra = pd.read_csv(r\"Homework/CSV/Compra.csv\", index_col=False, delimiter=\",\")\n",
    "compra.info()"
   ]
  },
  {
   "cell_type": "markdown",
   "id": "e7d5ff70",
   "metadata": {
    "id": "e7d5ff70"
   },
   "source": [
    "*Insertar*"
   ]
  },
  {
   "cell_type": "code",
   "execution_count": null,
   "id": "7330561c",
   "metadata": {
    "id": "7330561c"
   },
   "outputs": [],
   "source": [
    "for i, row in compra.iterrows():\n",
    "    q = \"insert into compra values (%s,%s,%s,%s,%s,%s)\"\n",
    "    cursor.execute(q, tuple(row))\n",
    "    conexion.commit()"
   ]
  },
  {
   "cell_type": "markdown",
   "id": "f446c557",
   "metadata": {
    "id": "f446c557"
   },
   "source": [
    "## VENTA"
   ]
  },
  {
   "cell_type": "markdown",
   "id": "77119ec5",
   "metadata": {
    "id": "77119ec5"
   },
   "source": [
    "*Leer CSV*"
   ]
  },
  {
   "cell_type": "code",
   "execution_count": 87,
   "id": "2a4329dc",
   "metadata": {
    "id": "2a4329dc",
    "outputId": "78a2932c-c906-4fa9-b29c-bfb35666f8b6"
   },
   "outputs": [
    {
     "name": "stdout",
     "output_type": "stream",
     "text": [
      "<class 'pandas.core.frame.DataFrame'>\n",
      "RangeIndex: 46645 entries, 0 to 46644\n",
      "Data columns (total 10 columns):\n",
      " #   Column         Non-Null Count  Dtype \n",
      "---  ------         --------------  ----- \n",
      " 0   IdVenta        46645 non-null  int64 \n",
      " 1   Fecha          46645 non-null  object\n",
      " 2   Fecha_Entrega  46645 non-null  object\n",
      " 3   IdCanal        46645 non-null  int64 \n",
      " 4   IdCliente      46645 non-null  int64 \n",
      " 5   IdSucursal     46645 non-null  int64 \n",
      " 6   IdEmpleado     46645 non-null  int64 \n",
      " 7   IdProducto     46645 non-null  int64 \n",
      " 8   Precio         46645 non-null  object\n",
      " 9   Cantidad       46645 non-null  object\n",
      "dtypes: int64(6), object(4)\n",
      "memory usage: 3.6+ MB\n"
     ]
    }
   ],
   "source": [
    "venta = pd.read_csv(r\"Homework/CSV/Venta.csv\", index_col=False, delimiter=\",\")\n",
    "venta.fillna(\" \", inplace=True)\n",
    "venta.info()"
   ]
  },
  {
   "cell_type": "markdown",
   "id": "6a76ce5e",
   "metadata": {
    "id": "6a76ce5e"
   },
   "source": [
    "*Insertar*"
   ]
  },
  {
   "cell_type": "code",
   "execution_count": null,
   "id": "f652268e",
   "metadata": {
    "id": "f652268e"
   },
   "outputs": [],
   "source": [
    "for i, row in venta.iterrows():\n",
    "    q = \"insert into venta values (%s,%s,%s,%s,%s,%s,%s,%s,%s,%s)\"\n",
    "    cursor.execute(q, tuple(row))\n",
    "    conexion.commit()"
   ]
  }
 ],
 "metadata": {
  "colab": {
   "provenance": []
  },
  "kernelspec": {
   "display_name": "Python 3 (ipykernel)",
   "language": "python",
   "name": "python3"
  },
  "language_info": {
   "codemirror_mode": {
    "name": "ipython",
    "version": 3
   },
   "file_extension": ".py",
   "mimetype": "text/x-python",
   "name": "python",
   "nbconvert_exporter": "python",
   "pygments_lexer": "ipython3",
   "version": "3.10.5"
  },
  "vscode": {
   "interpreter": {
    "hash": "aee8b7b246df8f9039afb4144a1f6fd8d2ca17a180786b69acc140d282b71a49"
   }
  }
 },
 "nbformat": 4,
 "nbformat_minor": 5
}
