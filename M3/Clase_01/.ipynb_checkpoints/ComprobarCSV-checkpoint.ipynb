{
 "cells": [
  {
   "cell_type": "code",
   "execution_count": 2,
   "id": "7ef6760d-36f5-4014-8ec9-0b3c2f9b16a3",
   "metadata": {},
   "outputs": [],
   "source": [
    "import pandas as pd\n",
    "import pymysql as ps, csv\n",
    "import numpy as np\n",
    "import sys"
   ]
  },
  {
   "cell_type": "code",
   "execution_count": 12,
   "id": "4362c608",
   "metadata": {},
   "outputs": [],
   "source": [
    "sys.setrecursionlimit(10000)\n",
    "conexion = ps.connect(\n",
    "    host = 'localhost',\n",
    "    user='root',\n",
    "    password= '1234wasd'\n",
    ")\n",
    "cursor = conexion.cursor()\n",
    "query = 'use henry_m3'\n",
    "cursor.execute(query)\n",
    "conexion.commit()"
   ]
  },
  {
   "cell_type": "markdown",
   "id": "a94f6e92",
   "metadata": {},
   "source": [
    "**Crear Canal Venta**"
   ]
  },
  {
   "cell_type": "markdown",
   "id": "5b1daad6",
   "metadata": {},
   "source": [
    "*Eliminar tabla*"
   ]
  },
  {
   "cell_type": "code",
   "execution_count": 3,
   "id": "8dc80cd5",
   "metadata": {},
   "outputs": [],
   "source": [
    "query = 'drop table canal_venta'\n",
    "cursor.execute(query)\n",
    "conexion.commit()"
   ]
  },
  {
   "cell_type": "markdown",
   "id": "f9d2edfc",
   "metadata": {},
   "source": [
    "*Crear la tabla*"
   ]
  },
  {
   "cell_type": "code",
   "execution_count": 4,
   "id": "27381fd0",
   "metadata": {},
   "outputs": [],
   "source": [
    "query = '''CREATE TABLE canal_venta (\n",
    "            Codigo int,\n",
    "            Descricion varchar(50));'''\n",
    "\n",
    "cursor.execute(query)\n",
    "conexion.commit()"
   ]
  },
  {
   "cell_type": "markdown",
   "id": "3bd46b54",
   "metadata": {},
   "source": [
    "*Tomar CSV*"
   ]
  },
  {
   "cell_type": "markdown",
   "id": "36715791",
   "metadata": {},
   "source": [
    "*Lectura*"
   ]
  },
  {
   "cell_type": "code",
   "execution_count": 8,
   "id": "87af35a3",
   "metadata": {},
   "outputs": [
    {
     "data": {
      "text/html": [
       "<div>\n",
       "<style scoped>\n",
       "    .dataframe tbody tr th:only-of-type {\n",
       "        vertical-align: middle;\n",
       "    }\n",
       "\n",
       "    .dataframe tbody tr th {\n",
       "        vertical-align: top;\n",
       "    }\n",
       "\n",
       "    .dataframe thead th {\n",
       "        text-align: right;\n",
       "    }\n",
       "</style>\n",
       "<table border=\"1\" class=\"dataframe\">\n",
       "  <thead>\n",
       "    <tr style=\"text-align: right;\">\n",
       "      <th></th>\n",
       "      <th>CODIGO</th>\n",
       "      <th>DESCRIPCION</th>\n",
       "    </tr>\n",
       "  </thead>\n",
       "  <tbody>\n",
       "    <tr>\n",
       "      <th>0</th>\n",
       "      <td>1</td>\n",
       "      <td>Telefónica</td>\n",
       "    </tr>\n",
       "    <tr>\n",
       "      <th>1</th>\n",
       "      <td>2</td>\n",
       "      <td>OnLine</td>\n",
       "    </tr>\n",
       "    <tr>\n",
       "      <th>2</th>\n",
       "      <td>3</td>\n",
       "      <td>Presencial</td>\n",
       "    </tr>\n",
       "  </tbody>\n",
       "</table>\n",
       "</div>"
      ],
      "text/plain": [
       "   CODIGO DESCRIPCION\n",
       "0       1  Telefónica\n",
       "1       2      OnLine\n",
       "2       3  Presencial"
      ]
     },
     "execution_count": 8,
     "metadata": {},
     "output_type": "execute_result"
    }
   ],
   "source": [
    "archivo = pd.read_csv(r'Homework/CSV/CanalDeVenta.csv', index_col= False, delimiter=',')\n",
    "archivo.replace(np.NaN, None, inplace=True)\n",
    "archivo.head()\n",
    "# lista = [tuple(archivo.loc[fila] for fila in range(len(archivo)))]"
   ]
  },
  {
   "cell_type": "markdown",
   "id": "acc0ab04",
   "metadata": {},
   "source": [
    "*Insercion*"
   ]
  },
  {
   "cell_type": "code",
   "execution_count": 12,
   "id": "081ede77",
   "metadata": {},
   "outputs": [],
   "source": [
    "for i, row in archivo.iterrows():\n",
    "    \n",
    "    query = \"insert into canal_venta values (%s,%s);\"\n",
    "    cursor.execute(query,tuple(row))\n",
    "    conexion.commit()"
   ]
  },
  {
   "cell_type": "markdown",
   "id": "a85e1cd3",
   "metadata": {},
   "source": [
    "***TIPO DE GASTO***"
   ]
  },
  {
   "cell_type": "markdown",
   "id": "08b1eedb",
   "metadata": {},
   "source": [
    "*Eliminar*"
   ]
  },
  {
   "cell_type": "code",
   "execution_count": 14,
   "id": "8b6e01f1",
   "metadata": {},
   "outputs": [],
   "source": [
    "query = 'drop table if exists tipo_gasto'\n",
    "cursor.execute(query)\n",
    "conexion.commit()"
   ]
  },
  {
   "cell_type": "markdown",
   "id": "86607002",
   "metadata": {},
   "source": [
    "*CREAR*"
   ]
  },
  {
   "cell_type": "code",
   "execution_count": 15,
   "id": "4e5e1141",
   "metadata": {},
   "outputs": [],
   "source": [
    "query = 'create table tipo_gasto ( IDTipoGasto int(11) not null auto_increment, Descripcion varchar(100) not null, Monto_Aproximado decimal(10,2) not null, primary key (IDTipoGasto));'\n",
    "\n",
    "cursor.execute(query)\n",
    "conexion.commit()\n"
   ]
  },
  {
   "cell_type": "markdown",
   "id": "4a690551",
   "metadata": {},
   "source": [
    "*TOMAR CSV*"
   ]
  },
  {
   "cell_type": "markdown",
   "id": "36e69d7d",
   "metadata": {},
   "source": [
    "*Lectura*"
   ]
  },
  {
   "cell_type": "code",
   "execution_count": 11,
   "id": "fe7446b0",
   "metadata": {},
   "outputs": [
    {
     "data": {
      "text/html": [
       "<div>\n",
       "<style scoped>\n",
       "    .dataframe tbody tr th:only-of-type {\n",
       "        vertical-align: middle;\n",
       "    }\n",
       "\n",
       "    .dataframe tbody tr th {\n",
       "        vertical-align: top;\n",
       "    }\n",
       "\n",
       "    .dataframe thead th {\n",
       "        text-align: right;\n",
       "    }\n",
       "</style>\n",
       "<table border=\"1\" class=\"dataframe\">\n",
       "  <thead>\n",
       "    <tr style=\"text-align: right;\">\n",
       "      <th></th>\n",
       "      <th>IdTipoGasto</th>\n",
       "      <th>Descripcion</th>\n",
       "      <th>Monto_Aproximado</th>\n",
       "    </tr>\n",
       "  </thead>\n",
       "  <tbody>\n",
       "    <tr>\n",
       "      <th>0</th>\n",
       "      <td>1</td>\n",
       "      <td>Alquiler</td>\n",
       "      <td>1000</td>\n",
       "    </tr>\n",
       "    <tr>\n",
       "      <th>1</th>\n",
       "      <td>2</td>\n",
       "      <td>Servicios</td>\n",
       "      <td>300</td>\n",
       "    </tr>\n",
       "    <tr>\n",
       "      <th>2</th>\n",
       "      <td>3</td>\n",
       "      <td>Impuestos</td>\n",
       "      <td>100</td>\n",
       "    </tr>\n",
       "    <tr>\n",
       "      <th>3</th>\n",
       "      <td>4</td>\n",
       "      <td>Sueldos y Jornales</td>\n",
       "      <td>1000</td>\n",
       "    </tr>\n",
       "  </tbody>\n",
       "</table>\n",
       "</div>"
      ],
      "text/plain": [
       "   IdTipoGasto         Descripcion  Monto_Aproximado\n",
       "0            1            Alquiler              1000\n",
       "1            2           Servicios               300\n",
       "2            3           Impuestos               100\n",
       "3            4  Sueldos y Jornales              1000"
      ]
     },
     "execution_count": 11,
     "metadata": {},
     "output_type": "execute_result"
    }
   ],
   "source": [
    "tabla = pd.read_csv(r'Homework/CSV/TiposDeGasto.csv',\n",
    "                    index_col=False, delimiter=',')\n",
    "tabla.replace(np.NaN, None, inplace=True)\n",
    "tabla.head()\n"
   ]
  },
  {
   "cell_type": "markdown",
   "id": "0622555d",
   "metadata": {},
   "source": [
    "*Insercion*"
   ]
  },
  {
   "cell_type": "code",
   "execution_count": 23,
   "id": "20b01373",
   "metadata": {},
   "outputs": [],
   "source": [
    "for i, row in tabla.iterrows():\n",
    "    \n",
    "    q = \"insert into tipo_gasto values (%s,%s,%s);\"\n",
    "    cursor.execute(q,tuple(row))\n",
    "    conexion.commit()"
   ]
  },
  {
   "cell_type": "markdown",
   "id": "c341c507",
   "metadata": {},
   "source": [
    "***CLIENTE***"
   ]
  },
  {
   "cell_type": "markdown",
   "id": "a73b34c4",
   "metadata": {},
   "source": [
    "*Leer CSV*"
   ]
  },
  {
   "cell_type": "code",
   "execution_count": 20,
   "id": "dc01b54a",
   "metadata": {},
   "outputs": [
    {
     "name": "stdout",
     "output_type": "stream",
     "text": [
      "<class 'pandas.core.frame.DataFrame'>\n",
      "RangeIndex: 3407 entries, 0 to 3406\n",
      "Data columns (total 10 columns):\n",
      " #   Column             Non-Null Count  Dtype  \n",
      "---  ------             --------------  -----  \n",
      " 0   ID                 3407 non-null   int64  \n",
      " 1   Provincia          3376 non-null   object \n",
      " 2   Nombre_y_Apellido  3361 non-null   object \n",
      " 3   Domicilio          3359 non-null   object \n",
      " 4   Telefono           3317 non-null   object \n",
      " 5   Edad               3407 non-null   int64  \n",
      " 6   Localidad          3375 non-null   object \n",
      " 7   X                  3345 non-null   object \n",
      " 8   Y                  3347 non-null   object \n",
      " 9   col10              0 non-null      float64\n",
      "dtypes: float64(1), int64(2), object(7)\n",
      "memory usage: 266.3+ KB\n",
      "<class 'pandas.core.frame.DataFrame'>\n",
      "RangeIndex: 3407 entries, 0 to 3406\n",
      "Data columns (total 10 columns):\n",
      " #   Column             Non-Null Count  Dtype \n",
      "---  ------             --------------  ----- \n",
      " 0   ID                 3407 non-null   int64 \n",
      " 1   Provincia          3407 non-null   object\n",
      " 2   Nombre_y_Apellido  3407 non-null   object\n",
      " 3   Domicilio          3407 non-null   object\n",
      " 4   Telefono           3407 non-null   object\n",
      " 5   Edad               3407 non-null   int64 \n",
      " 6   Localidad          3407 non-null   object\n",
      " 7   X                  3407 non-null   object\n",
      " 8   Y                  3407 non-null   object\n",
      " 9   col10              3407 non-null   object\n",
      "dtypes: int64(2), object(8)\n",
      "memory usage: 266.3+ KB\n"
     ]
    }
   ],
   "source": [
    "tabla = pd.read_csv(r'Homework/CSV/Clientes.csv',\n",
    "                    index_col=False, delimiter=';')\n",
    "tabla.info()\n",
    "\n",
    "tabla.fillna(' ', inplace=True)\n",
    "\n",
    "tabla.info()"
   ]
  },
  {
   "cell_type": "markdown",
   "id": "cb2cc5f8",
   "metadata": {},
   "source": [
    "*Insertar*"
   ]
  },
  {
   "cell_type": "code",
   "execution_count": 21,
   "id": "332c97b3",
   "metadata": {},
   "outputs": [],
   "source": [
    "for i, row in tabla.iterrows():\n",
    "    q = \"insert into cliente values(%s,%s,%s,%s,%s,%s,%s,%s,%s,%s)\"\n",
    "    cursor.execute(q,tuple(row))\n",
    "    conexion.commit()"
   ]
  },
  {
   "cell_type": "code",
   "execution_count": null,
   "id": "8d8037c4-d3ef-462d-9264-66d289afd381",
   "metadata": {},
   "outputs": [],
   "source": []
  }
 ],
 "metadata": {
  "kernelspec": {
   "display_name": "Python 3 (ipykernel)",
   "language": "python",
   "name": "python3"
  },
  "language_info": {
   "codemirror_mode": {
    "name": "ipython",
    "version": 3
   },
   "file_extension": ".py",
   "mimetype": "text/x-python",
   "name": "python",
   "nbconvert_exporter": "python",
   "pygments_lexer": "ipython3",
   "version": "3.10.5"
  },
  "vscode": {
   "interpreter": {
    "hash": "aee8b7b246df8f9039afb4144a1f6fd8d2ca17a180786b69acc140d282b71a49"
   }
  }
 },
 "nbformat": 4,
 "nbformat_minor": 5
}
