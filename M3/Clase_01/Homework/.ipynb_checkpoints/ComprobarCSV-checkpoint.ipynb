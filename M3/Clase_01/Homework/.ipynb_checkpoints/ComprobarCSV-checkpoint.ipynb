{
 "cells": [
  {
   "cell_type": "code",
   "execution_count": 2,
   "id": "7ef6760d-36f5-4014-8ec9-0b3c2f9b16a3",
   "metadata": {
    "colab": {
     "base_uri": "https://localhost:8080/"
    },
    "id": "7ef6760d-36f5-4014-8ec9-0b3c2f9b16a3",
    "outputId": "62bb9501-af3f-4795-ad47-09945ddd1988"
   },
   "outputs": [],
   "source": [
    "# !pip install pymysql\n",
    "import sys\n",
    "\n",
    "import numpy as np\n",
    "import pandas as pd\n",
    "import pymysql as ps\n",
    "\n",
    "sys.setrecursionlimit(100000)\n",
    "conn = ps.connect(host=\"localhost\", \n",
    "                  user=\"root\", password=\"1234wasd\",\n",
    "                  db='Henry', \n",
    "                  autocommit=True)\n",
    "\n",
    "DIR = \"CSV/\"\n",
    "cursor = conn.cursor()\n",
    "\n",
    "\n",
    "def exequery(q: str, tp=None):\n",
    "    cursor.execute(q, tp)\n",
    "    # conn.commit()\n",
    "\n",
    "\n",
    "exequery(\"use M3_2\")\n",
    "\n",
    "\n",
    "def csvread(ar: str, delim: str):\n",
    "    path = f\"{DIR}{ar}\"\n",
    "    archivo = pd.read_csv(path, index_col=False, delimiter=delim)\n",
    "    archivo.fillna(\"\", inplace=True)\n",
    "\n",
    "    return archivo"
   ]
  },
  {
   "cell_type": "markdown",
   "id": "80cc220b",
   "metadata": {},
   "source": [
    "# __CREACIÓN DE TABLAS__"
   ]
  },
  {
   "cell_type": "markdown",
   "id": "a94f6e92",
   "metadata": {
    "id": "a94f6e92",
    "jp-MarkdownHeadingCollapsed": true,
    "tags": []
   },
   "source": [
    "## CANAL VENTA"
   ]
  },
  {
   "cell_type": "code",
   "execution_count": null,
   "id": "8dc80cd5",
   "metadata": {
    "id": "8dc80cd5"
   },
   "outputs": [],
   "source": [
    "q = \"drop table if exists Canal_Venta;\"\n",
    "exequery(q)\n",
    "q = \"\"\"CREATE TABLE Canal_Venta (\n",
    "            Codigo int,\n",
    "            Descricpion varchar(50));\"\"\"\n",
    "exequery(q)"
   ]
  },
  {
   "cell_type": "markdown",
   "id": "a85e1cd3",
   "metadata": {
    "id": "a85e1cd3"
   },
   "source": [
    "## TIPO DE GASTO"
   ]
  },
  {
   "cell_type": "markdown",
   "id": "08b1eedb",
   "metadata": {
    "id": "08b1eedb"
   },
   "source": [
    "*Eliminar*"
   ]
  },
  {
   "cell_type": "code",
   "execution_count": null,
   "id": "8b6e01f1",
   "metadata": {
    "id": "8b6e01f1"
   },
   "outputs": [],
   "source": [
    "q = \"drop table if exists Tipo_Gasto;\"\n",
    "exequery(q)"
   ]
  },
  {
   "cell_type": "markdown",
   "id": "86607002",
   "metadata": {
    "id": "86607002"
   },
   "source": [
    "*CREAR*"
   ]
  },
  {
   "cell_type": "code",
   "execution_count": null,
   "id": "4e5e1141",
   "metadata": {
    "id": "4e5e1141"
   },
   "outputs": [],
   "source": [
    "q = \"create table Tipo_Gasto ( IDTipoGasto int(11) not null, Descripcion varchar(100) not null, Monto_Aproximado decimal(10,2) not null);\"\n",
    "exequery(q)"
   ]
  },
  {
   "cell_type": "markdown",
   "id": "5316b48d",
   "metadata": {},
   "source": [
    "## CLIENTE"
   ]
  },
  {
   "cell_type": "code",
   "execution_count": null,
   "id": "a69b447f",
   "metadata": {},
   "outputs": [],
   "source": [
    "q = \"drop table if exists Cliente;\"\n",
    "exequery(q)\n",
    "q = '''create table if not exists Cliente (\n",
    "    IDCliente                   int not null,\n",
    "    Nombre_Y_Apellido           varchar(50) not null,\n",
    "    Provincia                   varchar(125),\n",
    "    Domicilio                   varchar(150),\n",
    "    Telefono                    varchar(50),\n",
    "    Edades                      int,\n",
    "    Localidad                   varchar(150),\n",
    "    X                           varchar(100),\n",
    "    Y                           varchar(100),\n",
    "    col10                       varchar(1)\n",
    "    );'''\n",
    "exequery(q)"
   ]
  },
  {
   "cell_type": "markdown",
   "id": "eeded916",
   "metadata": {},
   "source": [
    "_CREAR_"
   ]
  },
  {
   "cell_type": "markdown",
   "id": "c0486d8b",
   "metadata": {
    "jp-MarkdownHeadingCollapsed": true,
    "tags": []
   },
   "source": [
    "## PROVEEDOR"
   ]
  },
  {
   "cell_type": "markdown",
   "id": "62966e35",
   "metadata": {},
   "source": [
    "_ELIMINAR_"
   ]
  },
  {
   "cell_type": "code",
   "execution_count": null,
   "id": "967eb436",
   "metadata": {},
   "outputs": [],
   "source": [
    "q = \"drop table if exists Proveedor;\"\n",
    "exequery(q)"
   ]
  },
  {
   "cell_type": "code",
   "execution_count": null,
   "id": "f75e3fce",
   "metadata": {},
   "outputs": [],
   "source": [
    "q = \"\"\"create table if not exists Proveedor(\n",
    "    IDProveedor  int not null,\n",
    "    Nombre       varchar(25) not null,\n",
    "    Dirreccion   varchar(150),\n",
    "    Ciudad       varchar(125),\n",
    "    Región       varchar(125),\n",
    "    País         varchar(125),\n",
    "    Departamento varchar(125));\"\"\"\n",
    "exequery(q)"
   ]
  },
  {
   "cell_type": "markdown",
   "id": "63069670",
   "metadata": {
    "id": "63069670",
    "jp-MarkdownHeadingCollapsed": true,
    "tags": []
   },
   "source": [
    "## PRODUCTO"
   ]
  },
  {
   "cell_type": "code",
   "execution_count": null,
   "id": "c3215a73",
   "metadata": {},
   "outputs": [],
   "source": [
    "q = \"drop table if exists Producto;\"\n",
    "exequery(q)\n",
    "\n",
    "q = \"\"\"create table if not exists Producto (\n",
    "    IDProducto          int not null,\n",
    "    Concepto            varchar(250),\n",
    "    Tipo                varchar(50),\n",
    "    Precio              decimal(15,2) not null\n",
    "    );\"\"\"\n",
    "exequery(q)"
   ]
  },
  {
   "cell_type": "markdown",
   "id": "8c64a51b",
   "metadata": {
    "id": "8c64a51b",
    "jp-MarkdownHeadingCollapsed": true,
    "tags": []
   },
   "source": [
    "## EMPLEADO"
   ]
  },
  {
   "cell_type": "code",
   "execution_count": null,
   "id": "e4153d82",
   "metadata": {},
   "outputs": [],
   "source": [
    "q = \"drop table if exists Empleado;\"\n",
    "exequery(q)\n",
    "q = '''create table if not exists Empleado (\n",
    "    IDEmpleado   int not null,\n",
    "    Apellido     varchar(25) not null,\n",
    "    Nombre       varchar(25) not null,\n",
    "    Sucursal     varchar(25) not null,\n",
    "    Sector       varchar(25) not null,\n",
    "    Cargo        varchar(25) not null,\n",
    "    Salario      decimal(15,2)\n",
    "    );'''\n",
    "exequery(q)"
   ]
  },
  {
   "cell_type": "markdown",
   "id": "bf346608",
   "metadata": {
    "jp-MarkdownHeadingCollapsed": true,
    "tags": []
   },
   "source": [
    "## SUCURSAL"
   ]
  },
  {
   "cell_type": "code",
   "execution_count": null,
   "id": "e098c7fe",
   "metadata": {},
   "outputs": [],
   "source": [
    "q = \"drop table if exists Sucursal;\"\n",
    "exequery(q)\n",
    "q = \"\"\"create table if not exists Sucursal (\n",
    "    IDSucursal         int not null,\n",
    "    Sucursal           varchar(25),\n",
    "    Direccion          varchar(50),\n",
    "    Localidad          varchar(50),\n",
    "    Provincia          varchar(50),\n",
    "    Latitud            varchar(100),\n",
    "    Longitud           varchar(100));\"\"\"\n",
    "exequery(q)"
   ]
  },
  {
   "cell_type": "markdown",
   "id": "027ac81b",
   "metadata": {
    "jp-MarkdownHeadingCollapsed": true,
    "tags": []
   },
   "source": [
    "## GASTO"
   ]
  },
  {
   "cell_type": "code",
   "execution_count": null,
   "id": "ac3dea8a",
   "metadata": {},
   "outputs": [],
   "source": [
    "q = \"drop table if exists Gasto;\"\n",
    "exequery(q)\n",
    "q = \"\"\"create table if not exists Gasto (\n",
    "   IDGasto      int not null,\n",
    "   SucursalID   int not null,\n",
    "   TipoGastoID  int not null,\n",
    "   Fecha        date,\n",
    "   Monto        decimal(15,2));\"\"\"\n",
    "exequery(q)"
   ]
  },
  {
   "cell_type": "markdown",
   "id": "6c7d4b58",
   "metadata": {
    "jp-MarkdownHeadingCollapsed": true,
    "tags": []
   },
   "source": [
    "## COMPRA"
   ]
  },
  {
   "cell_type": "code",
   "execution_count": null,
   "id": "0c84e977",
   "metadata": {},
   "outputs": [],
   "source": [
    "q = \"drop table if exists Compra\"\n",
    "exequery(q)\n",
    "q = \"\"\"create table if not exists Compra (\n",
    "    IDCompra     int not null,\n",
    "    Fecha        date,\n",
    "    IdProducto   int not null,\n",
    "    Cantidad     int not null,\n",
    "    Precio       decimal(15,2),\n",
    "    IdProveedor  int not null\n",
    "    );\"\"\"\n",
    "exequery(q)"
   ]
  },
  {
   "cell_type": "markdown",
   "id": "b0d74c94",
   "metadata": {
    "jp-MarkdownHeadingCollapsed": true,
    "tags": []
   },
   "source": [
    "## VENTA"
   ]
  },
  {
   "cell_type": "code",
   "execution_count": null,
   "id": "81b0fd5e",
   "metadata": {},
   "outputs": [],
   "source": [
    "q = \"drop table if exists Venta;\"\n",
    "exequery(q)\n",
    "q = \"\"\"create table if not exists Venta (\n",
    "    IDVenta        int not null,\n",
    "    Fecha          date,\n",
    "    Fecha_Entrega  date,\n",
    "    IdCanal        int not null,\n",
    "    IdCliente      int not null,\n",
    "    IdSucursal     int not null,\n",
    "    IdEmpleado     int not null,\n",
    "    IdProducto     int not null,\n",
    "    Precio         varchar(17) not null,\n",
    "    Cantidad       varchar(50) not null);\"\"\"\n",
    "exequery(q)"
   ]
  },
  {
   "cell_type": "markdown",
   "id": "eb92688d",
   "metadata": {},
   "source": [
    "# LLENACIÓN DE TABLAS"
   ]
  },
  {
   "cell_type": "markdown",
   "id": "0a61c556",
   "metadata": {
    "jp-MarkdownHeadingCollapsed": true,
    "tags": []
   },
   "source": [
    "## CANAL VENTA"
   ]
  },
  {
   "cell_type": "code",
   "execution_count": null,
   "id": "d6b9ed30",
   "metadata": {},
   "outputs": [],
   "source": [
    "path = \"CanalDeVenta.csv\"\n",
    "archive = csvread(path, \",\")\n",
    "\n",
    "for i, row in archive.iterrows():\n",
    "    exequery(\"INSERT INTO Canal_Venta values (%s, %s)\", tuple(row))"
   ]
  },
  {
   "cell_type": "markdown",
   "id": "2e85be3c",
   "metadata": {
    "jp-MarkdownHeadingCollapsed": true,
    "tags": []
   },
   "source": [
    "## TIPO GASTO"
   ]
  },
  {
   "cell_type": "code",
   "execution_count": null,
   "id": "abe5d06c",
   "metadata": {},
   "outputs": [],
   "source": [
    "path = \"TiposDeGasto.csv\"\n",
    "ar = csvread(path, \",\")\n",
    "\n",
    "for i, row in ar.iterrows():\n",
    "    exequery(\"insert into Tipo_Gasto values (%s, %s, %s)\", tuple(row))"
   ]
  },
  {
   "cell_type": "markdown",
   "id": "c341c507",
   "metadata": {
    "id": "c341c507"
   },
   "source": [
    "## CLIENTE"
   ]
  },
  {
   "cell_type": "markdown",
   "id": "a73b34c4",
   "metadata": {
    "id": "a73b34c4"
   },
   "source": [
    "*Leer CSV*"
   ]
  },
  {
   "cell_type": "code",
   "execution_count": null,
   "id": "dc01b54a",
   "metadata": {
    "id": "dc01b54a",
    "outputId": "b577ef6b-cee8-4c7f-982e-dcbd8c2310f4"
   },
   "outputs": [],
   "source": [
    "path = \"Clientes.csv\"\n",
    "ar = csvread(path, \";\")\n",
    "ar.info()\n",
    "\n",
    "for i, row in ar.iterrows():\n",
    "    cursor.execute(\"insert into Cliente values(%s,%s,%s,%s,%s,%s,%s,%s,%s,%s)\", tuple(row))"
   ]
  },
  {
   "cell_type": "markdown",
   "id": "8d8037c4-d3ef-462d-9264-66d289afd381",
   "metadata": {
    "id": "8d8037c4-d3ef-462d-9264-66d289afd381",
    "jp-MarkdownHeadingCollapsed": true,
    "tags": []
   },
   "source": [
    "## PROVEEDOR"
   ]
  },
  {
   "cell_type": "markdown",
   "id": "b0dccd07",
   "metadata": {
    "id": "b0dccd07"
   },
   "source": [
    "*Leer CSV*"
   ]
  },
  {
   "cell_type": "code",
   "execution_count": null,
   "id": "bd464b3f",
   "metadata": {
    "id": "bd464b3f"
   },
   "outputs": [],
   "source": [
    "proveedor = pd.read_csv(r\"CSV/Proveedores.csv\", index_col=False, delimiter=\",\")\n",
    "\n",
    "proveedor.fillna(\" \", inplace=True)\n",
    "\n",
    "proveedor.info()"
   ]
  },
  {
   "cell_type": "markdown",
   "id": "6cbf9ba8",
   "metadata": {
    "id": "6cbf9ba8"
   },
   "source": [
    "*Insertar*"
   ]
  },
  {
   "cell_type": "code",
   "execution_count": null,
   "id": "b3c53b06",
   "metadata": {
    "id": "b3c53b06"
   },
   "outputs": [],
   "source": [
    "for i, row in proveedor.iterrows():\n",
    "    q = \"insert into Proveedor values (%s,%s,%s,%s,%s,%s,%s);\"\n",
    "    cursor.execute(q, tuple(row))\n",
    "    conn.commit()"
   ]
  },
  {
   "cell_type": "markdown",
   "id": "10117699",
   "metadata": {
    "id": "63069670",
    "jp-MarkdownHeadingCollapsed": true,
    "tags": []
   },
   "source": [
    "## PRODUCTO"
   ]
  },
  {
   "cell_type": "markdown",
   "id": "8f1402c1",
   "metadata": {
    "id": "8f1402c1"
   },
   "source": [
    "*Leer CSV*"
   ]
  },
  {
   "cell_type": "code",
   "execution_count": null,
   "id": "10a43694",
   "metadata": {
    "id": "10a43694"
   },
   "outputs": [],
   "source": [
    "producto = pd.read_csv(r\"CSV/PRODUCTOS.csv\", index_col=False, delimiter=\",\")\n",
    "producto.fillna(\" \", inplace=True)\n",
    "producto.info()"
   ]
  },
  {
   "cell_type": "markdown",
   "id": "da9864b6",
   "metadata": {
    "id": "da9864b6"
   },
   "source": [
    "*Insertar*"
   ]
  },
  {
   "cell_type": "code",
   "execution_count": null,
   "id": "ce361680",
   "metadata": {
    "id": "ce361680"
   },
   "outputs": [],
   "source": [
    "for i, row in producto.iterrows():\n",
    "    q = \"insert into Producto values (%s,%s,%s,%s)\"\n",
    "    cursor.execute(q, tuple(row))\n",
    "    conn.commit()"
   ]
  },
  {
   "cell_type": "markdown",
   "id": "1f971fa6",
   "metadata": {
    "id": "8c64a51b",
    "jp-MarkdownHeadingCollapsed": true,
    "tags": []
   },
   "source": [
    "## EMPLEADO"
   ]
  },
  {
   "cell_type": "markdown",
   "id": "917f5158",
   "metadata": {
    "id": "917f5158"
   },
   "source": [
    "*Leer CSV*"
   ]
  },
  {
   "cell_type": "code",
   "execution_count": null,
   "id": "8f7aa06e",
   "metadata": {
    "id": "8f7aa06e",
    "outputId": "b30293ec-0442-4dff-dc80-a8058c24d1f7"
   },
   "outputs": [],
   "source": [
    "empleado = pd.read_csv(r\"CSV/Empleados.csv\", index_col=False, delimiter=\",\")\n",
    "empleado.info()"
   ]
  },
  {
   "cell_type": "markdown",
   "id": "79c64e92",
   "metadata": {
    "id": "79c64e92"
   },
   "source": [
    "*Insertar*"
   ]
  },
  {
   "cell_type": "code",
   "execution_count": null,
   "id": "bb13be20",
   "metadata": {
    "id": "bb13be20"
   },
   "outputs": [],
   "source": [
    "for i, row in empleado.iterrows():\n",
    "    q = \"insert into Empleado values (%s,%s,%s,%s,%s,%s,%s)\"\n",
    "    cursor.execute(q, tuple(row))\n",
    "    conn.commit()"
   ]
  },
  {
   "cell_type": "markdown",
   "id": "7eb0bdba",
   "metadata": {
    "id": "7eb0bdba",
    "jp-MarkdownHeadingCollapsed": true,
    "tags": []
   },
   "source": [
    "## SUCURSAL"
   ]
  },
  {
   "cell_type": "markdown",
   "id": "213d47d1",
   "metadata": {
    "id": "213d47d1"
   },
   "source": [
    "*Leer CSV*"
   ]
  },
  {
   "cell_type": "code",
   "execution_count": null,
   "id": "f8c108d8",
   "metadata": {
    "id": "f8c108d8",
    "outputId": "e4935b54-5b32-45f5-dda6-30b4a8f9d565"
   },
   "outputs": [],
   "source": [
    "sucursal = pd.read_csv(r\"CSV/Sucursales.csv\", index_col=False, delimiter=\";\")\n",
    "sucursal.info()"
   ]
  },
  {
   "cell_type": "markdown",
   "id": "4e9a20ed",
   "metadata": {
    "id": "4e9a20ed"
   },
   "source": [
    "*Insertar*"
   ]
  },
  {
   "cell_type": "code",
   "execution_count": null,
   "id": "4a3f1514",
   "metadata": {
    "id": "4a3f1514"
   },
   "outputs": [],
   "source": [
    "for i, row in sucursal.iterrows():\n",
    "    q = \"insert into Sucursal values (%s,%s,%s,%s,%s,%s,%s)\"\n",
    "    cursor.execute(q, tuple(row))\n",
    "    conn.commit()"
   ]
  },
  {
   "cell_type": "markdown",
   "id": "22f1663b",
   "metadata": {
    "id": "22f1663b",
    "jp-MarkdownHeadingCollapsed": true,
    "tags": []
   },
   "source": [
    "## GASTO"
   ]
  },
  {
   "cell_type": "markdown",
   "id": "5894fa47",
   "metadata": {
    "id": "5894fa47"
   },
   "source": [
    "*Leer CSV*"
   ]
  },
  {
   "cell_type": "code",
   "execution_count": null,
   "id": "792a0438",
   "metadata": {
    "id": "792a0438",
    "outputId": "ffa332f5-2e01-4864-de28-820abb929d22"
   },
   "outputs": [],
   "source": [
    "gasto = pd.read_csv(r\"CSV/Gasto.csv\", index_col=False, delimiter=\",\")\n",
    "gasto.info()"
   ]
  },
  {
   "cell_type": "markdown",
   "id": "bfa84d14",
   "metadata": {
    "id": "bfa84d14"
   },
   "source": [
    "*Insertar*"
   ]
  },
  {
   "cell_type": "code",
   "execution_count": null,
   "id": "1ee3ff51",
   "metadata": {
    "id": "1ee3ff51"
   },
   "outputs": [],
   "source": [
    "for i, row in gasto.iterrows():\n",
    "    q = \"insert into Gasto values (%s,%s,%s,%s,%s)\"\n",
    "    cursor.execute(q, tuple(row))\n",
    "    conn.commit()"
   ]
  },
  {
   "cell_type": "markdown",
   "id": "7ffcad0a",
   "metadata": {
    "id": "7ffcad0a",
    "jp-MarkdownHeadingCollapsed": true,
    "tags": []
   },
   "source": [
    "## COMPRA"
   ]
  },
  {
   "cell_type": "markdown",
   "id": "38c86327",
   "metadata": {
    "id": "38c86327"
   },
   "source": [
    "*Leer CSV*"
   ]
  },
  {
   "cell_type": "code",
   "execution_count": null,
   "id": "af7c11c5",
   "metadata": {
    "id": "af7c11c5",
    "outputId": "e10cf7db-bd92-4096-b3ae-cead50850be2"
   },
   "outputs": [],
   "source": [
    "compra = pd.read_csv(r\"CSV/Compra.csv\", index_col=False, delimiter=\",\")\n",
    "compra.info()"
   ]
  },
  {
   "cell_type": "markdown",
   "id": "e7d5ff70",
   "metadata": {
    "id": "e7d5ff70"
   },
   "source": [
    "*Insertar*"
   ]
  },
  {
   "cell_type": "code",
   "execution_count": null,
   "id": "7330561c",
   "metadata": {
    "id": "7330561c"
   },
   "outputs": [],
   "source": [
    "for i, row in compra.iterrows():\n",
    "    q = \"insert into Compra values (%s,%s,%s,%s,%s,%s)\"\n",
    "    cursor.execute(q, tuple(row))\n",
    "    conn.commit()"
   ]
  },
  {
   "cell_type": "markdown",
   "id": "f446c557",
   "metadata": {
    "id": "f446c557",
    "jp-MarkdownHeadingCollapsed": true,
    "tags": []
   },
   "source": [
    "## VENTA"
   ]
  },
  {
   "cell_type": "markdown",
   "id": "77119ec5",
   "metadata": {
    "id": "77119ec5"
   },
   "source": [
    "*Leer CSV*"
   ]
  },
  {
   "cell_type": "code",
   "execution_count": null,
   "id": "2a4329dc",
   "metadata": {
    "id": "2a4329dc",
    "outputId": "78a2932c-c906-4fa9-b29c-bfb35666f8b6"
   },
   "outputs": [],
   "source": [
    "venta = pd.read_csv(r\"CSV/Venta.csv\", index_col=False, delimiter=\",\")\n",
    "venta.fillna(\"\", inplace=True)\n",
    "venta.info()"
   ]
  },
  {
   "cell_type": "markdown",
   "id": "6a76ce5e",
   "metadata": {
    "id": "6a76ce5e"
   },
   "source": [
    "*Insertar*"
   ]
  },
  {
   "cell_type": "code",
   "execution_count": null,
   "id": "f652268e",
   "metadata": {
    "id": "f652268e"
   },
   "outputs": [],
   "source": [
    "for i, row in venta.iterrows():\n",
    "    q = \"insert into Venta values (%s,%s,%s,%s,%s,%s,%s,%s,%s,%s)\"\n",
    "    cursor.execute(q, tuple(row))\n",
    "    conn.commit()"
   ]
  },
  {
   "cell_type": "markdown",
   "id": "cc10d0ed",
   "metadata": {},
   "source": [
    "__CERRAR CONEXIÓN__"
   ]
  },
  {
   "cell_type": "code",
   "execution_count": null,
   "id": "13dc6c5b",
   "metadata": {},
   "outputs": [],
   "source": [
    "cursor.close()"
   ]
  }
 ],
 "metadata": {
  "colab": {
   "provenance": []
  },
  "kernelspec": {
   "display_name": "Python 3 (ipykernel)",
   "language": "python",
   "name": "python3"
  },
  "language_info": {
   "codemirror_mode": {
    "name": "ipython",
    "version": 3
   },
   "file_extension": ".py",
   "mimetype": "text/x-python",
   "name": "python",
   "nbconvert_exporter": "python",
   "pygments_lexer": "ipython3",
   "version": "3.10.5"
  },
  "vscode": {
   "interpreter": {
    "hash": "aee8b7b246df8f9039afb4144a1f6fd8d2ca17a180786b69acc140d282b71a49"
   }
  }
 },
 "nbformat": 4,
 "nbformat_minor": 5
}
