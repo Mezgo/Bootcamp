{
  "nbformat": 4,
  "nbformat_minor": 0,
  "metadata": {
    "colab": {
      "provenance": [],
      "authorship_tag": "ABX9TyOPHBsSa2zDzDzYFXBd9Lec",
      "include_colab_link": true
    },
    "kernelspec": {
      "name": "python3",
      "display_name": "Python 3"
    },
    "language_info": {
      "name": "python"
    }
  },
  "cells": [
    {
      "cell_type": "markdown",
      "metadata": {
        "id": "view-in-github",
        "colab_type": "text"
      },
      "source": [
        "<a href=\"https://colab.research.google.com/github/Mezgo/Bootcamp/blob/master/M3/Clase_6.ipynb\" target=\"_parent\"><img src=\"https://colab.research.google.com/assets/colab-badge.svg\" alt=\"Open In Colab\"/></a>"
      ]
    },
    {
      "cell_type": "code",
      "execution_count": null,
      "metadata": {
        "colab": {
          "base_uri": "https://localhost:8080/"
        },
        "id": "kXqYSXl-jR-n",
        "outputId": "a885f749-28f7-49a2-eb4e-f60078b70656"
      },
      "outputs": [
        {
          "output_type": "stream",
          "name": "stdout",
          "text": [
            "4\n"
          ]
        }
      ],
      "source": [
        "# Funciones\n",
        "\n",
        "def imprimirSuma(a,b):\n",
        "  print(a+b)\n",
        "imprimirSuma(1,3)"
      ]
    },
    {
      "cell_type": "code",
      "source": [
        "def suma (a,b):\n",
        "  global c\n",
        "  c = 8\n",
        "  return a+b+c\n",
        "suma(1,7)"
      ],
      "metadata": {
        "colab": {
          "base_uri": "https://localhost:8080/"
        },
        "id": "WPxdcCF0kRYu",
        "outputId": "bab1cc71-7aa3-46e0-9e66-8c5352f5b3ed"
      },
      "execution_count": null,
      "outputs": [
        {
          "output_type": "execute_result",
          "data": {
            "text/plain": [
              "16"
            ]
          },
          "metadata": {},
          "execution_count": 4
        }
      ]
    },
    {
      "cell_type": "markdown",
      "source": [
        "Las variables de **usuario** en mysql se demarcan con ***@*** \n",
        "\n",
        "Las variables **locales** en mysql no tienen ***@*** pero si usan la declaracion **DECLARE**\n",
        "\n",
        "Las variables del **sistema** se identifican con ***@@*** \n",
        "\n",
        "\n",
        "\n",
        "```\n",
        "DELIMITER $$\n",
        "\n",
        "CREATE PRECEDURE GetTotalAlumnos()\n",
        "\n",
        "BEGIN\n",
        "```\n",
        "\n",
        "\n"
      ],
      "metadata": {
        "id": "UxdZx9o-lgkT"
      }
    },
    {
      "cell_type": "markdown",
      "source": [
        "#**Practica**\n",
        "##Funciones\n",
        "Devuelven un resultado\n",
        "\n",
        "\n",
        "```\n",
        "SET GLOBAL log_bin_trust_function_creators\n",
        "\n",
        "DELIMITER $$ \n",
        "\n",
        "CREATE FUNCTION antMeses(fechaIngreso date) RETURNS int\n",
        "BEGIN\n",
        "  DECLARE meses int;\n",
        "  SET meses = timesatampdiff(month, fechaIngreso, curdate());\n",
        "  return meses;\n",
        "END$$\n",
        "\n",
        "DELIMITER ;\n",
        "\n",
        "select antMeses('2022-01-21') as cantidadMeses\n",
        "```\n",
        "\n",
        "##Procedimientos\n",
        "\n",
        "\n",
        "Se crea con  la sentencia \n",
        "```\n",
        "Create Procedure\n",
        "```\n",
        "---\n",
        "\n",
        "\n",
        "\n",
        "```\n",
        "Delimiter $$\n",
        "\n",
        "Create Procedure getTotalAlumnos()\n",
        "Begin\n",
        "  declare total_alumnos int default 0;\n",
        "  select count(*)\n",
        "  into total_alumnos\n",
        "  from alumno;\n",
        "  select total_alumnos;\n",
        "End$$\n",
        "\n",
        "Call getTotalAlumnos;\n",
        "```\n",
        "\n",
        "\n",
        "\n",
        "\n"
      ],
      "metadata": {
        "id": "3IuYF99fp6gC"
      }
    },
    {
      "cell_type": "markdown",
      "source": [
        "# Nueva sección"
      ],
      "metadata": {
        "id": "RxbcIZILzvkP"
      }
    }
  ]
}