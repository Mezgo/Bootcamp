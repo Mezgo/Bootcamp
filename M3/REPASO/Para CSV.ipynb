{
 "cells": [
  {
   "cell_type": "code",
   "execution_count": 36,
   "id": "007f6b39-098c-4cc5-96d7-7926ca89f268",
   "metadata": {},
   "outputs": [],
   "source": [
    "import pymysql as ps\n",
    "import pandas as pd\n",
    "import numpy as np\n",
    "import sys\n",
    "sys.setrecursionlimit(100000)\n",
    "conn = ps.connect(\n",
    "    host = 'localhost',\n",
    "    user = 'root',\n",
    "    password = '1234wasd'\n",
    ")\n",
    "\n",
    "DIR = '../Clase 01/Homework/CSV/'\n",
    "cursor = conn.cursor()\n",
    "\n",
    "def exequery(q: str, tp = None):\n",
    "    cursor.execute(q, tp)\n",
    "    conn.commit()\n",
    "\n",
    "exequery('use Repaso')\n",
    "\n",
    "def csvread(ar: str, delim: str):\n",
    "    path = f'{DIR}{ar}'\n",
    "    archivo = pd.read_csv(path, index_col= False, delimiter= delim)\n",
    "    archivo.fillna('', inplace=True)\n",
    "\n",
    "    return archivo\n"
   ]
  },
  {
   "cell_type": "markdown",
   "id": "ee5abb93-b348-49be-a8e8-3ab7412978e3",
   "metadata": {},
   "source": [
    "# INSERTAR EN CANAL VENTAS"
   ]
  },
  {
   "cell_type": "code",
   "execution_count": null,
   "id": "3034ed21",
   "metadata": {},
   "outputs": [],
   "source": [
    "path = r'../Clase 01/Homework/CSV/CanalDeVenta.csv'\n",
    "archive = csvread(path, ',')\n",
    "\n",
    "for i, row in archive.iterrows():\n",
    "    exequery('INSERT INTO canal_venta values (%s, %s)', tuple(row))"
   ]
  },
  {
   "cell_type": "markdown",
   "id": "9eb63ee5",
   "metadata": {},
   "source": [
    "# INSERTAR EN CLIENTE"
   ]
  },
  {
   "cell_type": "code",
   "execution_count": 8,
   "id": "2ebbdb6c",
   "metadata": {},
   "outputs": [
    {
     "name": "stdout",
     "output_type": "stream",
     "text": [
      "<class 'pandas.core.frame.DataFrame'>\n",
      "RangeIndex: 3407 entries, 0 to 3406\n",
      "Data columns (total 10 columns):\n",
      " #   Column             Non-Null Count  Dtype  \n",
      "---  ------             --------------  -----  \n",
      " 0   ID                 3407 non-null   int64  \n",
      " 1   Provincia          3376 non-null   object \n",
      " 2   Nombre_y_Apellido  3361 non-null   object \n",
      " 3   Domicilio          3359 non-null   object \n",
      " 4   Telefono           3317 non-null   object \n",
      " 5   Edad               3407 non-null   int64  \n",
      " 6   Localidad          3375 non-null   object \n",
      " 7   X                  3345 non-null   object \n",
      " 8   Y                  3347 non-null   object \n",
      " 9   col10              0 non-null      float64\n",
      "dtypes: float64(1), int64(2), object(7)\n",
      "memory usage: 266.3+ KB\n",
      "<class 'pandas.core.frame.DataFrame'>\n",
      "RangeIndex: 3407 entries, 0 to 3406\n",
      "Data columns (total 10 columns):\n",
      " #   Column             Non-Null Count  Dtype \n",
      "---  ------             --------------  ----- \n",
      " 0   ID                 3407 non-null   int64 \n",
      " 1   Provincia          3407 non-null   object\n",
      " 2   Nombre_y_Apellido  3407 non-null   object\n",
      " 3   Domicilio          3407 non-null   object\n",
      " 4   Telefono           3407 non-null   object\n",
      " 5   Edad               3407 non-null   int64 \n",
      " 6   Localidad          3407 non-null   object\n",
      " 7   X                  3407 non-null   object\n",
      " 8   Y                  3407 non-null   object\n",
      " 9   col10              3407 non-null   object\n",
      "dtypes: int64(2), object(8)\n",
      "memory usage: 266.3+ KB\n"
     ]
    }
   ],
   "source": [
    "tabla = pd.read_csv(r'../Clase 01/Homework/CSV/Clientes.csv',\n",
    "                    index_col=False, delimiter=';')\n",
    "tabla.info()\n",
    "\n",
    "tabla.fillna(' ', inplace=True)\n",
    "\n",
    "tabla.info()\n",
    "\n",
    "for i, row in tabla.iterrows():\n",
    "    q = \"insert into cliente values(%s,%s,%s,%s,%s,%s,%s,%s,%s,%s)\"\n",
    "    cursor.execute(q,tuple(row))\n",
    "    conn.commit()\n"
   ]
  },
  {
   "cell_type": "markdown",
   "id": "850f9edc",
   "metadata": {},
   "source": [
    "# INSERTAR EN COMPRA"
   ]
  },
  {
   "cell_type": "code",
   "execution_count": null,
   "id": "5e958da9",
   "metadata": {},
   "outputs": [],
   "source": [
    "path = r'../Clase 01/Homework/CSV/Compra.csv'\n",
    "archive = csvread(path, ',')\n",
    "\n",
    "archive.info()\n"
   ]
  },
  {
   "cell_type": "code",
   "execution_count": 7,
   "id": "41048887",
   "metadata": {},
   "outputs": [],
   "source": [
    "for i, row in archive.iterrows():\n",
    "    q = \"insert into compra values (%s,%s,%s,%s,%s,%s)\"\n",
    "    cursor.execute(q, tuple(row))\n",
    "    conn.commit()"
   ]
  },
  {
   "cell_type": "markdown",
   "id": "a890a694",
   "metadata": {},
   "source": [
    "# INSERTAR EN EMPLEADO"
   ]
  },
  {
   "cell_type": "code",
   "execution_count": 9,
   "id": "6c00f52a",
   "metadata": {},
   "outputs": [
    {
     "name": "stdout",
     "output_type": "stream",
     "text": [
      "<class 'pandas.core.frame.DataFrame'>\n",
      "RangeIndex: 267 entries, 0 to 266\n",
      "Data columns (total 7 columns):\n",
      " #   Column       Non-Null Count  Dtype  \n",
      "---  ------       --------------  -----  \n",
      " 0   ID_empleado  267 non-null    int64  \n",
      " 1   Apellido     267 non-null    object \n",
      " 2   Nombre       267 non-null    object \n",
      " 3   Sucursal     267 non-null    object \n",
      " 4   Sector       267 non-null    object \n",
      " 5   Cargo        267 non-null    object \n",
      " 6   Salario      267 non-null    float64\n",
      "dtypes: float64(1), int64(1), object(5)\n",
      "memory usage: 14.7+ KB\n"
     ]
    }
   ],
   "source": [
    "path = r'../Clase 01/Homework/CSV/Empleados.csv'\n",
    "table = csvread(path, ',')\n",
    "\n",
    "table.info()"
   ]
  },
  {
   "cell_type": "code",
   "execution_count": 11,
   "id": "f854654b",
   "metadata": {},
   "outputs": [],
   "source": [
    "q = 'insert into empleado values (%s,%s,%s,%s,%s,%s,%s)'\n",
    "for i, row in table.iterrows():\n",
    "    exequery(q, tuple(row))"
   ]
  },
  {
   "cell_type": "markdown",
   "id": "90e3a85c",
   "metadata": {},
   "source": [
    "# INSERTAR EN GASTO"
   ]
  },
  {
   "cell_type": "code",
   "execution_count": 37,
   "id": "38052d36",
   "metadata": {},
   "outputs": [
    {
     "name": "stdout",
     "output_type": "stream",
     "text": [
      "<class 'pandas.core.frame.DataFrame'>\n",
      "RangeIndex: 8640 entries, 0 to 8639\n",
      "Data columns (total 5 columns):\n",
      " #   Column       Non-Null Count  Dtype  \n",
      "---  ------       --------------  -----  \n",
      " 0   IdGasto      8640 non-null   int64  \n",
      " 1   IdSucursal   8640 non-null   int64  \n",
      " 2   IdTipoGasto  8640 non-null   int64  \n",
      " 3   Fecha        8640 non-null   object \n",
      " 4   Monto        8640 non-null   float64\n",
      "dtypes: float64(1), int64(3), object(1)\n",
      "memory usage: 337.6+ KB\n"
     ]
    }
   ],
   "source": [
    "path = 'Gasto.csv'\n",
    "table = csvread(path, ',')\n",
    "\n",
    "table.info()"
   ]
  },
  {
   "cell_type": "code",
   "execution_count": 13,
   "id": "5e6aeac4",
   "metadata": {},
   "outputs": [],
   "source": [
    "q = 'insert into gasto values (%s,%s,%s,%s,%s)'\n",
    "\n",
    "for i , row in table.iterrows():\n",
    "    exequery(q, tuple(row))"
   ]
  },
  {
   "cell_type": "markdown",
   "id": "19c92a94",
   "metadata": {},
   "source": [
    "# INSERTAR PRODUCTO"
   ]
  },
  {
   "cell_type": "code",
   "execution_count": 34,
   "id": "5c9eab67",
   "metadata": {},
   "outputs": [
    {
     "name": "stdout",
     "output_type": "stream",
     "text": [
      "<class 'pandas.core.frame.DataFrame'>\n",
      "RangeIndex: 291 entries, 0 to 290\n",
      "Data columns (total 4 columns):\n",
      " #   Column       Non-Null Count  Dtype  \n",
      "---  ------       --------------  -----  \n",
      " 0   ID_PRODUCTO  291 non-null    int64  \n",
      " 1   Concepto     291 non-null    object \n",
      " 2   Tipo         291 non-null    object \n",
      " 3    Precio      291 non-null    float64\n",
      "dtypes: float64(1), int64(1), object(2)\n",
      "memory usage: 9.2+ KB\n"
     ]
    }
   ],
   "source": [
    "b = 'PRODUCTOS.CSV'\n",
    "path = f'{dir}{b}'\n",
    "table =csvread(path, ',')\n",
    "\n",
    "table.info()"
   ]
  },
  {
   "cell_type": "code",
   "execution_count": null,
   "id": "f53331ef",
   "metadata": {},
   "outputs": [],
   "source": []
  },
  {
   "cell_type": "code",
   "execution_count": null,
   "metadata": {},
   "outputs": [],
   "source": []
  }
 ],
 "metadata": {
  "kernelspec": {
   "display_name": "Python 3.10.5 64-bit",
   "language": "python",
   "name": "python3"
  },
  "language_info": {
   "codemirror_mode": {
    "name": "ipython",
    "version": 3
   },
   "file_extension": ".py",
   "mimetype": "text/x-python",
   "name": "python",
   "nbconvert_exporter": "python",
   "pygments_lexer": "ipython3",
   "version": "3.10.5"
  },
  "vscode": {
   "interpreter": {
    "hash": "aee8b7b246df8f9039afb4144a1f6fd8d2ca17a180786b69acc140d282b71a49"
   }
  }
 },
 "nbformat": 4,
 "nbformat_minor": 5
}
