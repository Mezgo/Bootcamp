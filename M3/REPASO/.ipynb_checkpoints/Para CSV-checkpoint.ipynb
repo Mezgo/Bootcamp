{
 "cells": [
  {
   "cell_type": "code",
   "execution_count": 9,
   "id": "007f6b39-098c-4cc5-96d7-7926ca89f268",
   "metadata": {},
   "outputs": [
    {
     "name": "stderr",
     "output_type": "stream",
     "text": [
      "/var/folders/91/p86slnsd2yz1qxwjmvwpq6w00000gn/T/ipykernel_85378/3089060.py:19: ParserWarning: Falling back to the 'python' engine because the 'c' engine does not support regex separators (separators > 1 char and different from '\\s+' are interpreted as regex); you can avoid this warning by specifying engine='python'.\n",
      "  archivo = pd.read_csv(path, index_col= False, delimiter='delim')\n"
     ]
    },
    {
     "data": {
      "text/html": [
       "<div>\n",
       "<style scoped>\n",
       "    .dataframe tbody tr th:only-of-type {\n",
       "        vertical-align: middle;\n",
       "    }\n",
       "\n",
       "    .dataframe tbody tr th {\n",
       "        vertical-align: top;\n",
       "    }\n",
       "\n",
       "    .dataframe thead th {\n",
       "        text-align: right;\n",
       "    }\n",
       "</style>\n",
       "<table border=\"1\" class=\"dataframe\">\n",
       "  <thead>\n",
       "    <tr style=\"text-align: right;\">\n",
       "      <th></th>\n",
       "      <th>CODIGO,CANAL</th>\n",
       "    </tr>\n",
       "  </thead>\n",
       "  <tbody>\n",
       "    <tr>\n",
       "      <th>0</th>\n",
       "      <td>1,Telefónica</td>\n",
       "    </tr>\n",
       "    <tr>\n",
       "      <th>1</th>\n",
       "      <td>2,OnLine</td>\n",
       "    </tr>\n",
       "    <tr>\n",
       "      <th>2</th>\n",
       "      <td>3,Presencial</td>\n",
       "    </tr>\n",
       "  </tbody>\n",
       "</table>\n",
       "</div>"
      ],
      "text/plain": [
       "   CODIGO,CANAL\n",
       "0  1,Telefónica\n",
       "1      2,OnLine\n",
       "2  3,Presencial"
      ]
     },
     "execution_count": 9,
     "metadata": {},
     "output_type": "execute_result"
    }
   ],
   "source": [
    "import pymysql as ps\n",
    "import pandas as pd\n",
    "import numpy as np\n",
    "\n",
    "conn = ps.connect(\n",
    "    host = 'localhost',\n",
    "    user = 'root',\n",
    "    password = '1234wasd'\n",
    ")\n",
    "\n",
    "def exequery(q: str):\n",
    "    cursor = conn.cursor()\n",
    "    cursor.execute(q)\n",
    "    conn.commit()\n",
    "\n",
    "exequery('use Repaso')\n",
    "\n",
    "def csvread(path: str, delim: str):\n",
    "    archivo = pd.read_csv(path, index_col= False, delimiter='delim')\n",
    "    archivo.replace(np.NaN, None, inplace=True)\n",
    "\n",
    "    return archivo\n",
    "path = r'../Clase 01/Homework/CSV/CanalDeVenta.csv'\n",
    "csvread(path, ',')"
   ]
  },
  {
   "cell_type": "code",
   "execution_count": null,
   "id": "ee5abb93-b348-49be-a8e8-3ab7412978e3",
   "metadata": {},
   "outputs": [],
   "source": []
  }
 ],
 "metadata": {
  "kernelspec": {
   "display_name": "Python 3 (ipykernel)",
   "language": "python",
   "name": "python3"
  },
  "language_info": {
   "codemirror_mode": {
    "name": "ipython",
    "version": 3
   },
   "file_extension": ".py",
   "mimetype": "text/x-python",
   "name": "python",
   "nbconvert_exporter": "python",
   "pygments_lexer": "ipython3",
   "version": "3.10.5"
  }
 },
 "nbformat": 4,
 "nbformat_minor": 5
}
