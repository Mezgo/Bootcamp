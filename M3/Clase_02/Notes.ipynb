{
 "cells": [
  {
   "cell_type": "markdown",
   "id": "4b996778-df8b-425e-8c5e-c9cdbda89c74",
   "metadata": {
    "tags": []
   },
   "source": [
    "# Calidad del Dato"
   ]
  },
  {
   "cell_type": "markdown",
   "id": "a68fa977-bc8a-4336-a8d7-7f59cd120465",
   "metadata": {},
   "source": [
    "La calidad del dato confiabiliza el análisis, pues si se usan datos que no cumplan con esto, se puede llegar a conclusiones erróneas."
   ]
  },
  {
   "cell_type": "markdown",
   "id": "daca79fe-9013-4103-9e28-669e04ccd2e9",
   "metadata": {},
   "source": [
    "## Causas de la mala calidad de los datos"
   ]
  },
  {
   "cell_type": "markdown",
   "id": "2e0fb180-437f-42b3-a402-ce8f573b4f38",
   "metadata": {},
   "source": [
    "Dentro de las causas comunes de este problema se encuentra la carga manual, la carga de datos externos que no han sido cuidadosamente depurados, problemas de carga al interior de los sistemas transaccionales, implementación de nuevos sistemas de en la organización"
   ]
  }
 ],
 "metadata": {
  "kernelspec": {
   "display_name": "Python 3 (ipykernel)",
   "language": "python",
   "name": "python3"
  },
  "language_info": {
   "codemirror_mode": {
    "name": "ipython",
    "version": 3
   },
   "file_extension": ".py",
   "mimetype": "text/x-python",
   "name": "python",
   "nbconvert_exporter": "python",
   "pygments_lexer": "ipython3",
   "version": "3.10.5"
  }
 },
 "nbformat": 4,
 "nbformat_minor": 5
}
