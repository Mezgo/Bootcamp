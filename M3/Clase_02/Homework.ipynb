{
 "cells": [
  {
   "cell_type": "markdown",
   "metadata": {},
   "source": [
    "# ___HOMEWORK___"
   ]
  },
  {
   "cell_type": "markdown",
   "metadata": {},
   "source": [
    "## Parte 1\n",
    "* 2: There are some missing values along the tables.\n",
    "\n",
    "* 3: Some of the data commes from HHRR, some others from the company's transactional sistem, from an analyst whose no longer in the company and from anather employee swho is currently active.\n",
    "\n",
    "* 4: Due to the information apreciated from the tables, seems apropiate some nomalization actions."
   ]
  }
 ],
 "metadata": {
  "kernelspec": {
   "display_name": "Python 3.10.5 64-bit",
   "language": "python",
   "name": "python3"
  },
  "language_info": {
   "name": "python",
   "version": "3.10.5"
  },
  "orig_nbformat": 4,
  "vscode": {
   "interpreter": {
    "hash": "aee8b7b246df8f9039afb4144a1f6fd8d2ca17a180786b69acc140d282b71a49"
   }
  }
 },
 "nbformat": 4,
 "nbformat_minor": 2
}
