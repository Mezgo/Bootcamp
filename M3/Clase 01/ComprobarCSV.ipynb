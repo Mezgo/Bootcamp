{
  "cells": [
    {
      "cell_type": "code",
      "execution_count": 2,
      "id": "7ef6760d-36f5-4014-8ec9-0b3c2f9b16a3",
      "metadata": {
        "id": "7ef6760d-36f5-4014-8ec9-0b3c2f9b16a3",
        "outputId": "62bb9501-af3f-4795-ad47-09945ddd1988",
        "colab": {
          "base_uri": "https://localhost:8080/"
        }
      },
      "outputs": [
        {
          "output_type": "stream",
          "name": "stdout",
          "text": [
            "Looking in indexes: https://pypi.org/simple, https://us-python.pkg.dev/colab-wheels/public/simple/\n",
            "Collecting pymysql\n",
            "  Downloading PyMySQL-1.0.2-py3-none-any.whl (43 kB)\n",
            "\u001b[K     |████████████████████████████████| 43 kB 1.9 MB/s \n",
            "\u001b[?25hInstalling collected packages: pymysql\n",
            "Successfully installed pymysql-1.0.2\n"
          ]
        }
      ],
      "source": [
        "!pip install pymysql\n",
        "import pandas as pd\n",
        "import pymysql as ps, csv\n",
        "import numpy as np\n",
        "import sys"
      ]
    },
    {
      "cell_type": "code",
      "execution_count": 3,
      "id": "4362c608",
      "metadata": {
        "id": "4362c608",
        "outputId": "3eb16d89-a824-41f5-9f41-ac4e74aa0fad",
        "colab": {
          "base_uri": "https://localhost:8080/",
          "height": 502
        }
      },
      "outputs": [
        {
          "output_type": "error",
          "ename": "OperationalError",
          "evalue": "ignored",
          "traceback": [
            "\u001b[0;31m---------------------------------------------------------------------------\u001b[0m",
            "\u001b[0;31mOSError\u001b[0m                                   Traceback (most recent call last)",
            "\u001b[0;32m/usr/local/lib/python3.7/dist-packages/pymysql/connections.py\u001b[0m in \u001b[0;36mconnect\u001b[0;34m(self, sock)\u001b[0m\n\u001b[1;32m    613\u001b[0m                             sock = socket.create_connection(\n\u001b[0;32m--> 614\u001b[0;31m                                 \u001b[0;34m(\u001b[0m\u001b[0mself\u001b[0m\u001b[0;34m.\u001b[0m\u001b[0mhost\u001b[0m\u001b[0;34m,\u001b[0m \u001b[0mself\u001b[0m\u001b[0;34m.\u001b[0m\u001b[0mport\u001b[0m\u001b[0;34m)\u001b[0m\u001b[0;34m,\u001b[0m \u001b[0mself\u001b[0m\u001b[0;34m.\u001b[0m\u001b[0mconnect_timeout\u001b[0m\u001b[0;34m,\u001b[0m \u001b[0;34m**\u001b[0m\u001b[0mkwargs\u001b[0m\u001b[0;34m\u001b[0m\u001b[0;34m\u001b[0m\u001b[0m\n\u001b[0m\u001b[1;32m    615\u001b[0m                             )\n",
            "\u001b[0;32m/usr/lib/python3.7/socket.py\u001b[0m in \u001b[0;36mcreate_connection\u001b[0;34m(address, timeout, source_address)\u001b[0m\n\u001b[1;32m    727\u001b[0m         \u001b[0;32mtry\u001b[0m\u001b[0;34m:\u001b[0m\u001b[0;34m\u001b[0m\u001b[0;34m\u001b[0m\u001b[0m\n\u001b[0;32m--> 728\u001b[0;31m             \u001b[0;32mraise\u001b[0m \u001b[0merr\u001b[0m\u001b[0;34m\u001b[0m\u001b[0;34m\u001b[0m\u001b[0m\n\u001b[0m\u001b[1;32m    729\u001b[0m         \u001b[0;32mfinally\u001b[0m\u001b[0;34m:\u001b[0m\u001b[0;34m\u001b[0m\u001b[0;34m\u001b[0m\u001b[0m\n",
            "\u001b[0;32m/usr/lib/python3.7/socket.py\u001b[0m in \u001b[0;36mcreate_connection\u001b[0;34m(address, timeout, source_address)\u001b[0m\n\u001b[1;32m    715\u001b[0m                 \u001b[0msock\u001b[0m\u001b[0;34m.\u001b[0m\u001b[0mbind\u001b[0m\u001b[0;34m(\u001b[0m\u001b[0msource_address\u001b[0m\u001b[0;34m)\u001b[0m\u001b[0;34m\u001b[0m\u001b[0;34m\u001b[0m\u001b[0m\n\u001b[0;32m--> 716\u001b[0;31m             \u001b[0msock\u001b[0m\u001b[0;34m.\u001b[0m\u001b[0mconnect\u001b[0m\u001b[0;34m(\u001b[0m\u001b[0msa\u001b[0m\u001b[0;34m)\u001b[0m\u001b[0;34m\u001b[0m\u001b[0;34m\u001b[0m\u001b[0m\n\u001b[0m\u001b[1;32m    717\u001b[0m             \u001b[0;31m# Break explicitly a reference cycle\u001b[0m\u001b[0;34m\u001b[0m\u001b[0;34m\u001b[0m\u001b[0;34m\u001b[0m\u001b[0m\n",
            "\u001b[0;31mOSError\u001b[0m: [Errno 99] Cannot assign requested address",
            "\nDuring handling of the above exception, another exception occurred:\n",
            "\u001b[0;31mOperationalError\u001b[0m                          Traceback (most recent call last)",
            "\u001b[0;32m<ipython-input-3-af89fd8c3c2d>\u001b[0m in \u001b[0;36m<module>\u001b[0;34m\u001b[0m\n\u001b[1;32m      3\u001b[0m     \u001b[0mhost\u001b[0m \u001b[0;34m=\u001b[0m \u001b[0;34m'localhost'\u001b[0m\u001b[0;34m,\u001b[0m\u001b[0;34m\u001b[0m\u001b[0;34m\u001b[0m\u001b[0m\n\u001b[1;32m      4\u001b[0m     \u001b[0muser\u001b[0m\u001b[0;34m=\u001b[0m\u001b[0;34m'root'\u001b[0m\u001b[0;34m,\u001b[0m\u001b[0;34m\u001b[0m\u001b[0;34m\u001b[0m\u001b[0m\n\u001b[0;32m----> 5\u001b[0;31m     \u001b[0mpassword\u001b[0m\u001b[0;34m=\u001b[0m \u001b[0;34m'1234wasd'\u001b[0m\u001b[0;34m\u001b[0m\u001b[0;34m\u001b[0m\u001b[0m\n\u001b[0m\u001b[1;32m      6\u001b[0m )\n\u001b[1;32m      7\u001b[0m \u001b[0mcursor\u001b[0m \u001b[0;34m=\u001b[0m \u001b[0mconexion\u001b[0m\u001b[0;34m.\u001b[0m\u001b[0mcursor\u001b[0m\u001b[0;34m(\u001b[0m\u001b[0;34m)\u001b[0m\u001b[0;34m\u001b[0m\u001b[0;34m\u001b[0m\u001b[0m\n",
            "\u001b[0;32m/usr/local/lib/python3.7/dist-packages/pymysql/connections.py\u001b[0m in \u001b[0;36m__init__\u001b[0;34m(self, user, password, host, database, unix_socket, port, charset, sql_mode, read_default_file, conv, use_unicode, client_flag, cursorclass, init_command, connect_timeout, read_default_group, autocommit, local_infile, max_allowed_packet, defer_connect, auth_plugin_map, read_timeout, write_timeout, bind_address, binary_prefix, program_name, server_public_key, ssl, ssl_ca, ssl_cert, ssl_disabled, ssl_key, ssl_verify_cert, ssl_verify_identity, compress, named_pipe, passwd, db)\u001b[0m\n\u001b[1;32m    351\u001b[0m             \u001b[0mself\u001b[0m\u001b[0;34m.\u001b[0m\u001b[0m_sock\u001b[0m \u001b[0;34m=\u001b[0m \u001b[0;32mNone\u001b[0m\u001b[0;34m\u001b[0m\u001b[0;34m\u001b[0m\u001b[0m\n\u001b[1;32m    352\u001b[0m         \u001b[0;32melse\u001b[0m\u001b[0;34m:\u001b[0m\u001b[0;34m\u001b[0m\u001b[0;34m\u001b[0m\u001b[0m\n\u001b[0;32m--> 353\u001b[0;31m             \u001b[0mself\u001b[0m\u001b[0;34m.\u001b[0m\u001b[0mconnect\u001b[0m\u001b[0;34m(\u001b[0m\u001b[0;34m)\u001b[0m\u001b[0;34m\u001b[0m\u001b[0;34m\u001b[0m\u001b[0m\n\u001b[0m\u001b[1;32m    354\u001b[0m \u001b[0;34m\u001b[0m\u001b[0m\n\u001b[1;32m    355\u001b[0m     \u001b[0;32mdef\u001b[0m \u001b[0m__enter__\u001b[0m\u001b[0;34m(\u001b[0m\u001b[0mself\u001b[0m\u001b[0;34m)\u001b[0m\u001b[0;34m:\u001b[0m\u001b[0;34m\u001b[0m\u001b[0;34m\u001b[0m\u001b[0m\n",
            "\u001b[0;32m/usr/local/lib/python3.7/dist-packages/pymysql/connections.py\u001b[0m in \u001b[0;36mconnect\u001b[0;34m(self, sock)\u001b[0m\n\u001b[1;32m    662\u001b[0m                 \u001b[0;32mif\u001b[0m \u001b[0mDEBUG\u001b[0m\u001b[0;34m:\u001b[0m\u001b[0;34m\u001b[0m\u001b[0;34m\u001b[0m\u001b[0m\n\u001b[1;32m    663\u001b[0m                     \u001b[0mprint\u001b[0m\u001b[0;34m(\u001b[0m\u001b[0mexc\u001b[0m\u001b[0;34m.\u001b[0m\u001b[0mtraceback\u001b[0m\u001b[0;34m)\u001b[0m\u001b[0;34m\u001b[0m\u001b[0;34m\u001b[0m\u001b[0m\n\u001b[0;32m--> 664\u001b[0;31m                 \u001b[0;32mraise\u001b[0m \u001b[0mexc\u001b[0m\u001b[0;34m\u001b[0m\u001b[0;34m\u001b[0m\u001b[0m\n\u001b[0m\u001b[1;32m    665\u001b[0m \u001b[0;34m\u001b[0m\u001b[0m\n\u001b[1;32m    666\u001b[0m             \u001b[0;31m# If e is neither DatabaseError or IOError, It's a bug.\u001b[0m\u001b[0;34m\u001b[0m\u001b[0;34m\u001b[0m\u001b[0;34m\u001b[0m\u001b[0m\n",
            "\u001b[0;31mOperationalError\u001b[0m: (2003, \"Can't connect to MySQL server on 'localhost' ([Errno 99] Cannot assign requested address)\")"
          ]
        }
      ],
      "source": [
        "sys.setrecursionlimit(10000)\n",
        "conexion = ps.connect(\n",
        "    host = 'localhost',\n",
        "    user='root',\n",
        "    password= '1234wasd'\n",
        ")\n",
        "cursor = conexion.cursor()\n",
        "query = 'use henry_m3'\n",
        "cursor.execute(query)\n",
        "conexion.commit()"
      ]
    },
    {
      "cell_type": "markdown",
      "id": "a94f6e92",
      "metadata": {
        "id": "a94f6e92"
      },
      "source": [
        "**Crear Canal Venta**"
      ]
    },
    {
      "cell_type": "markdown",
      "id": "5b1daad6",
      "metadata": {
        "id": "5b1daad6"
      },
      "source": [
        "*Eliminar tabla*"
      ]
    },
    {
      "cell_type": "code",
      "execution_count": null,
      "id": "8dc80cd5",
      "metadata": {
        "id": "8dc80cd5"
      },
      "outputs": [],
      "source": [
        "query = 'drop table canal_venta'\n",
        "cursor.execute(query)\n",
        "conexion.commit()"
      ]
    },
    {
      "cell_type": "markdown",
      "id": "f9d2edfc",
      "metadata": {
        "id": "f9d2edfc"
      },
      "source": [
        "*Crear la tabla*"
      ]
    },
    {
      "cell_type": "code",
      "execution_count": null,
      "id": "27381fd0",
      "metadata": {
        "id": "27381fd0"
      },
      "outputs": [],
      "source": [
        "query = '''CREATE TABLE canal_venta (\n",
        "            Codigo int,\n",
        "            Descricion varchar(50));'''\n",
        "\n",
        "cursor.execute(query)\n",
        "conexion.commit()"
      ]
    },
    {
      "cell_type": "markdown",
      "id": "3bd46b54",
      "metadata": {
        "id": "3bd46b54"
      },
      "source": [
        "*Tomar CSV*"
      ]
    },
    {
      "cell_type": "markdown",
      "id": "36715791",
      "metadata": {
        "id": "36715791"
      },
      "source": [
        "*Lectura*"
      ]
    },
    {
      "cell_type": "code",
      "execution_count": null,
      "id": "87af35a3",
      "metadata": {
        "id": "87af35a3",
        "outputId": "e9344326-a585-4eb2-f5a1-2e0cbd9aa875"
      },
      "outputs": [
        {
          "data": {
            "text/html": [
              "<div>\n",
              "<style scoped>\n",
              "    .dataframe tbody tr th:only-of-type {\n",
              "        vertical-align: middle;\n",
              "    }\n",
              "\n",
              "    .dataframe tbody tr th {\n",
              "        vertical-align: top;\n",
              "    }\n",
              "\n",
              "    .dataframe thead th {\n",
              "        text-align: right;\n",
              "    }\n",
              "</style>\n",
              "<table border=\"1\" class=\"dataframe\">\n",
              "  <thead>\n",
              "    <tr style=\"text-align: right;\">\n",
              "      <th></th>\n",
              "      <th>CODIGO</th>\n",
              "      <th>DESCRIPCION</th>\n",
              "    </tr>\n",
              "  </thead>\n",
              "  <tbody>\n",
              "    <tr>\n",
              "      <th>0</th>\n",
              "      <td>1</td>\n",
              "      <td>Telefónica</td>\n",
              "    </tr>\n",
              "    <tr>\n",
              "      <th>1</th>\n",
              "      <td>2</td>\n",
              "      <td>OnLine</td>\n",
              "    </tr>\n",
              "    <tr>\n",
              "      <th>2</th>\n",
              "      <td>3</td>\n",
              "      <td>Presencial</td>\n",
              "    </tr>\n",
              "  </tbody>\n",
              "</table>\n",
              "</div>"
            ],
            "text/plain": [
              "   CODIGO DESCRIPCION\n",
              "0       1  Telefónica\n",
              "1       2      OnLine\n",
              "2       3  Presencial"
            ]
          },
          "execution_count": 8,
          "metadata": {},
          "output_type": "execute_result"
        }
      ],
      "source": [
        "archivo = pd.read_csv(r'Homework/CSV/CanalDeVenta.csv', index_col= False, delimiter=',')\n",
        "archivo.replace(np.NaN, None, inplace=True)\n",
        "archivo.head()\n",
        "# lista = [tuple(archivo.loc[fila] for fila in range(len(archivo)))]"
      ]
    },
    {
      "cell_type": "markdown",
      "id": "acc0ab04",
      "metadata": {
        "id": "acc0ab04"
      },
      "source": [
        "*Insercion*"
      ]
    },
    {
      "cell_type": "code",
      "execution_count": null,
      "id": "081ede77",
      "metadata": {
        "id": "081ede77"
      },
      "outputs": [],
      "source": [
        "for i, row in archivo.iterrows():\n",
        "    \n",
        "    query = \"insert into canal_venta values (%s,%s);\"\n",
        "    cursor.execute(query,tuple(row))\n",
        "    conexion.commit()"
      ]
    },
    {
      "cell_type": "markdown",
      "id": "a85e1cd3",
      "metadata": {
        "id": "a85e1cd3"
      },
      "source": [
        "***TIPO DE GASTO***"
      ]
    },
    {
      "cell_type": "markdown",
      "id": "08b1eedb",
      "metadata": {
        "id": "08b1eedb"
      },
      "source": [
        "*Eliminar*"
      ]
    },
    {
      "cell_type": "code",
      "execution_count": null,
      "id": "8b6e01f1",
      "metadata": {
        "id": "8b6e01f1"
      },
      "outputs": [],
      "source": [
        "query = 'drop table if exists tipo_gasto'\n",
        "cursor.execute(query)\n",
        "conexion.commit()"
      ]
    },
    {
      "cell_type": "markdown",
      "id": "86607002",
      "metadata": {
        "id": "86607002"
      },
      "source": [
        "*CREAR*"
      ]
    },
    {
      "cell_type": "code",
      "execution_count": null,
      "id": "4e5e1141",
      "metadata": {
        "id": "4e5e1141"
      },
      "outputs": [],
      "source": [
        "query = 'create table tipo_gasto ( IDTipoGasto int(11) not null auto_increment, Descripcion varchar(100) not null, Monto_Aproximado decimal(10,2) not null, primary key (IDTipoGasto));'\n",
        "\n",
        "cursor.execute(query)\n",
        "conexion.commit()\n"
      ]
    },
    {
      "cell_type": "markdown",
      "id": "4a690551",
      "metadata": {
        "id": "4a690551"
      },
      "source": [
        "*TOMAR CSV*"
      ]
    },
    {
      "cell_type": "markdown",
      "id": "36e69d7d",
      "metadata": {
        "id": "36e69d7d"
      },
      "source": [
        "*Lectura*"
      ]
    },
    {
      "cell_type": "code",
      "execution_count": null,
      "id": "fe7446b0",
      "metadata": {
        "id": "fe7446b0",
        "outputId": "3545387a-782d-4d88-e907-f032443ca950"
      },
      "outputs": [
        {
          "data": {
            "text/html": [
              "<div>\n",
              "<style scoped>\n",
              "    .dataframe tbody tr th:only-of-type {\n",
              "        vertical-align: middle;\n",
              "    }\n",
              "\n",
              "    .dataframe tbody tr th {\n",
              "        vertical-align: top;\n",
              "    }\n",
              "\n",
              "    .dataframe thead th {\n",
              "        text-align: right;\n",
              "    }\n",
              "</style>\n",
              "<table border=\"1\" class=\"dataframe\">\n",
              "  <thead>\n",
              "    <tr style=\"text-align: right;\">\n",
              "      <th></th>\n",
              "      <th>IdTipoGasto</th>\n",
              "      <th>Descripcion</th>\n",
              "      <th>Monto_Aproximado</th>\n",
              "    </tr>\n",
              "  </thead>\n",
              "  <tbody>\n",
              "    <tr>\n",
              "      <th>0</th>\n",
              "      <td>1</td>\n",
              "      <td>Alquiler</td>\n",
              "      <td>1000</td>\n",
              "    </tr>\n",
              "    <tr>\n",
              "      <th>1</th>\n",
              "      <td>2</td>\n",
              "      <td>Servicios</td>\n",
              "      <td>300</td>\n",
              "    </tr>\n",
              "    <tr>\n",
              "      <th>2</th>\n",
              "      <td>3</td>\n",
              "      <td>Impuestos</td>\n",
              "      <td>100</td>\n",
              "    </tr>\n",
              "    <tr>\n",
              "      <th>3</th>\n",
              "      <td>4</td>\n",
              "      <td>Sueldos y Jornales</td>\n",
              "      <td>1000</td>\n",
              "    </tr>\n",
              "  </tbody>\n",
              "</table>\n",
              "</div>"
            ],
            "text/plain": [
              "   IdTipoGasto         Descripcion  Monto_Aproximado\n",
              "0            1            Alquiler              1000\n",
              "1            2           Servicios               300\n",
              "2            3           Impuestos               100\n",
              "3            4  Sueldos y Jornales              1000"
            ]
          },
          "execution_count": 11,
          "metadata": {},
          "output_type": "execute_result"
        }
      ],
      "source": [
        "tabla = pd.read_csv(r'Homework/CSV/TiposDeGasto.csv',\n",
        "                    index_col=False, delimiter=',')\n",
        "tabla.replace(np.NaN, None, inplace=True)\n",
        "tabla.head()\n"
      ]
    },
    {
      "cell_type": "markdown",
      "id": "0622555d",
      "metadata": {
        "id": "0622555d"
      },
      "source": [
        "*Insercion*"
      ]
    },
    {
      "cell_type": "code",
      "execution_count": null,
      "id": "20b01373",
      "metadata": {
        "id": "20b01373"
      },
      "outputs": [],
      "source": [
        "for i, row in tabla.iterrows():\n",
        "    \n",
        "    q = \"insert into tipo_gasto values (%s,%s,%s);\"\n",
        "    cursor.execute(q,tuple(row))\n",
        "    conexion.commit()"
      ]
    },
    {
      "cell_type": "markdown",
      "id": "c341c507",
      "metadata": {
        "id": "c341c507"
      },
      "source": [
        "***CLIENTE***"
      ]
    },
    {
      "cell_type": "markdown",
      "id": "a73b34c4",
      "metadata": {
        "id": "a73b34c4"
      },
      "source": [
        "*Leer CSV*"
      ]
    },
    {
      "cell_type": "code",
      "execution_count": null,
      "id": "dc01b54a",
      "metadata": {
        "id": "dc01b54a",
        "outputId": "b577ef6b-cee8-4c7f-982e-dcbd8c2310f4"
      },
      "outputs": [
        {
          "name": "stdout",
          "output_type": "stream",
          "text": [
            "<class 'pandas.core.frame.DataFrame'>\n",
            "RangeIndex: 3407 entries, 0 to 3406\n",
            "Data columns (total 10 columns):\n",
            " #   Column             Non-Null Count  Dtype  \n",
            "---  ------             --------------  -----  \n",
            " 0   ID                 3407 non-null   int64  \n",
            " 1   Provincia          3376 non-null   object \n",
            " 2   Nombre_y_Apellido  3361 non-null   object \n",
            " 3   Domicilio          3359 non-null   object \n",
            " 4   Telefono           3317 non-null   object \n",
            " 5   Edad               3407 non-null   int64  \n",
            " 6   Localidad          3375 non-null   object \n",
            " 7   X                  3345 non-null   object \n",
            " 8   Y                  3347 non-null   object \n",
            " 9   col10              0 non-null      float64\n",
            "dtypes: float64(1), int64(2), object(7)\n",
            "memory usage: 266.3+ KB\n",
            "<class 'pandas.core.frame.DataFrame'>\n",
            "RangeIndex: 3407 entries, 0 to 3406\n",
            "Data columns (total 10 columns):\n",
            " #   Column             Non-Null Count  Dtype \n",
            "---  ------             --------------  ----- \n",
            " 0   ID                 3407 non-null   int64 \n",
            " 1   Provincia          3407 non-null   object\n",
            " 2   Nombre_y_Apellido  3407 non-null   object\n",
            " 3   Domicilio          3407 non-null   object\n",
            " 4   Telefono           3407 non-null   object\n",
            " 5   Edad               3407 non-null   int64 \n",
            " 6   Localidad          3407 non-null   object\n",
            " 7   X                  3407 non-null   object\n",
            " 8   Y                  3407 non-null   object\n",
            " 9   col10              3407 non-null   object\n",
            "dtypes: int64(2), object(8)\n",
            "memory usage: 266.3+ KB\n"
          ]
        }
      ],
      "source": [
        "tabla = pd.read_csv(r'Homework/CSV/Clientes.csv',\n",
        "                    index_col=False, delimiter=';')\n",
        "tabla.info()\n",
        "\n",
        "tabla.fillna(' ', inplace=True)\n",
        "\n",
        "tabla.info()"
      ]
    },
    {
      "cell_type": "markdown",
      "id": "cb2cc5f8",
      "metadata": {
        "id": "cb2cc5f8"
      },
      "source": [
        "*Insertar*"
      ]
    },
    {
      "cell_type": "code",
      "execution_count": null,
      "id": "332c97b3",
      "metadata": {
        "id": "332c97b3"
      },
      "outputs": [],
      "source": [
        "for i, row in tabla.iterrows():\n",
        "    q = \"insert into cliente values(%s,%s,%s,%s,%s,%s,%s,%s,%s,%s)\"\n",
        "    cursor.execute(q,tuple(row))\n",
        "    conexion.commit()"
      ]
    },
    {
      "cell_type": "markdown",
      "id": "8d8037c4-d3ef-462d-9264-66d289afd381",
      "metadata": {
        "id": "8d8037c4-d3ef-462d-9264-66d289afd381"
      },
      "source": [
        "***PROVEEDOR***"
      ]
    },
    {
      "cell_type": "markdown",
      "id": "b0dccd07",
      "metadata": {
        "id": "b0dccd07"
      },
      "source": [
        "*Leer CSV*"
      ]
    },
    {
      "cell_type": "code",
      "execution_count": null,
      "id": "bd464b3f",
      "metadata": {
        "id": "bd464b3f"
      },
      "outputs": [],
      "source": [
        "proveedor = pd.read_csv(r'Homework/CSV/Proveedores.csv',\n",
        "                        index_col=False, delimiter=',')\n",
        "\n",
        "proveedor.fillna(' ', inplace=True)\n",
        "\n",
        "proveedor.info()\n"
      ]
    },
    {
      "cell_type": "markdown",
      "id": "6cbf9ba8",
      "metadata": {
        "id": "6cbf9ba8"
      },
      "source": [
        "*Insertar*"
      ]
    },
    {
      "cell_type": "code",
      "execution_count": null,
      "id": "b3c53b06",
      "metadata": {
        "id": "b3c53b06"
      },
      "outputs": [],
      "source": [
        "for i, row in proveedor.iterrows():\n",
        "    q = \"insert into proveedor values (%s,%s,%s,%s,%s,%s,%s);\"\n",
        "    cursor.execute(q, tuple(row))\n",
        "    conexion.commit()"
      ]
    },
    {
      "cell_type": "markdown",
      "id": "63069670",
      "metadata": {
        "id": "63069670"
      },
      "source": [
        "***PRODUCTO***"
      ]
    },
    {
      "cell_type": "markdown",
      "id": "8f1402c1",
      "metadata": {
        "id": "8f1402c1"
      },
      "source": [
        "*Leer CSV*"
      ]
    },
    {
      "cell_type": "code",
      "execution_count": null,
      "id": "10a43694",
      "metadata": {
        "id": "10a43694"
      },
      "outputs": [],
      "source": [
        "producto = pd.read_csv(r'Homework/CSV/PRODUCTOS.csv',\n",
        "                       index_col=False, delimiter=',')\n",
        "producto.fillna(' ', inplace=True)"
      ]
    },
    {
      "cell_type": "markdown",
      "id": "da9864b6",
      "metadata": {
        "id": "da9864b6"
      },
      "source": [
        "*Insertar*"
      ]
    },
    {
      "cell_type": "code",
      "execution_count": null,
      "id": "ce361680",
      "metadata": {
        "id": "ce361680"
      },
      "outputs": [],
      "source": [
        "for i, row in producto.iterrows():\n",
        "    q = \"insert into producto values (%s,%s,%s,%s)\"\n",
        "    cursor.execute(q, tuple(row))\n",
        "    conexion.commit()"
      ]
    },
    {
      "cell_type": "markdown",
      "id": "8c64a51b",
      "metadata": {
        "id": "8c64a51b"
      },
      "source": [
        "***EMPLEADO***"
      ]
    },
    {
      "cell_type": "markdown",
      "id": "917f5158",
      "metadata": {
        "id": "917f5158"
      },
      "source": [
        "*Leer CSV*"
      ]
    },
    {
      "cell_type": "code",
      "execution_count": null,
      "id": "8f7aa06e",
      "metadata": {
        "id": "8f7aa06e",
        "outputId": "b30293ec-0442-4dff-dc80-a8058c24d1f7"
      },
      "outputs": [
        {
          "name": "stdout",
          "output_type": "stream",
          "text": [
            "<class 'pandas.core.frame.DataFrame'>\n",
            "RangeIndex: 267 entries, 0 to 266\n",
            "Data columns (total 7 columns):\n",
            " #   Column       Non-Null Count  Dtype  \n",
            "---  ------       --------------  -----  \n",
            " 0   ID_empleado  267 non-null    int64  \n",
            " 1   Apellido     267 non-null    object \n",
            " 2   Nombre       267 non-null    object \n",
            " 3   Sucursal     267 non-null    object \n",
            " 4   Sector       267 non-null    object \n",
            " 5   Cargo        267 non-null    object \n",
            " 6   Salario      267 non-null    float64\n",
            "dtypes: float64(1), int64(1), object(5)\n",
            "memory usage: 14.7+ KB\n"
          ]
        }
      ],
      "source": [
        "empleado = pd.read_csv(r'Homework/CSV/Empleados.csv', index_col=False, delimiter=',')\n",
        "empleado.info()"
      ]
    },
    {
      "cell_type": "markdown",
      "id": "79c64e92",
      "metadata": {
        "id": "79c64e92"
      },
      "source": [
        "*Insertar*"
      ]
    },
    {
      "cell_type": "code",
      "execution_count": null,
      "id": "bb13be20",
      "metadata": {
        "id": "bb13be20"
      },
      "outputs": [],
      "source": [
        "for i, row in empleado.iterrows():\n",
        "    q = \"insert into empleado values (%s,%s,%s,%s,%s,%s,%s)\"\n",
        "    cursor.execute(q, tuple(row))\n",
        "    conexion.commit()"
      ]
    },
    {
      "cell_type": "markdown",
      "id": "7eb0bdba",
      "metadata": {
        "id": "7eb0bdba"
      },
      "source": [
        "***SUCURSAL***"
      ]
    },
    {
      "cell_type": "markdown",
      "id": "213d47d1",
      "metadata": {
        "id": "213d47d1"
      },
      "source": [
        "*Leer CSV*"
      ]
    },
    {
      "cell_type": "code",
      "execution_count": null,
      "id": "f8c108d8",
      "metadata": {
        "id": "f8c108d8",
        "outputId": "e4935b54-5b32-45f5-dda6-30b4a8f9d565"
      },
      "outputs": [
        {
          "name": "stdout",
          "output_type": "stream",
          "text": [
            "<class 'pandas.core.frame.DataFrame'>\n",
            "RangeIndex: 31 entries, 0 to 30\n",
            "Data columns (total 7 columns):\n",
            " #   Column     Non-Null Count  Dtype \n",
            "---  ------     --------------  ----- \n",
            " 0   ID         31 non-null     int64 \n",
            " 1   Sucursal   31 non-null     object\n",
            " 2   Direccion  31 non-null     object\n",
            " 3   Localidad  31 non-null     object\n",
            " 4   Provincia  31 non-null     object\n",
            " 5   Latitud    31 non-null     object\n",
            " 6   Longitud   31 non-null     object\n",
            "dtypes: int64(1), object(6)\n",
            "memory usage: 1.8+ KB\n"
          ]
        }
      ],
      "source": [
        "sucursal = pd.read_csv(r'Homework/CSV/Sucursales.csv', index_col=False, delimiter=';')\n",
        "sucursal.info()"
      ]
    },
    {
      "cell_type": "markdown",
      "id": "4e9a20ed",
      "metadata": {
        "id": "4e9a20ed"
      },
      "source": [
        "*Insertar*"
      ]
    },
    {
      "cell_type": "code",
      "execution_count": null,
      "id": "4a3f1514",
      "metadata": {
        "id": "4a3f1514"
      },
      "outputs": [],
      "source": [
        "for i, row in sucursal.iterrows():\n",
        "    q = \"insert into sucursal values (%s,%s,%s,%s,%s,%s,%s)\"\n",
        "    cursor.execute(q,tuple(row))\n",
        "    conexion.commit()"
      ]
    },
    {
      "cell_type": "markdown",
      "id": "22f1663b",
      "metadata": {
        "id": "22f1663b"
      },
      "source": [
        "***GASTO***"
      ]
    },
    {
      "cell_type": "markdown",
      "id": "5894fa47",
      "metadata": {
        "id": "5894fa47"
      },
      "source": [
        "*Leer CSV*"
      ]
    },
    {
      "cell_type": "code",
      "execution_count": null,
      "id": "792a0438",
      "metadata": {
        "id": "792a0438",
        "outputId": "ffa332f5-2e01-4864-de28-820abb929d22"
      },
      "outputs": [
        {
          "name": "stdout",
          "output_type": "stream",
          "text": [
            "<class 'pandas.core.frame.DataFrame'>\n",
            "RangeIndex: 8640 entries, 0 to 8639\n",
            "Data columns (total 5 columns):\n",
            " #   Column       Non-Null Count  Dtype  \n",
            "---  ------       --------------  -----  \n",
            " 0   IdGasto      8640 non-null   int64  \n",
            " 1   IdSucursal   8640 non-null   int64  \n",
            " 2   IdTipoGasto  8640 non-null   int64  \n",
            " 3   Fecha        8640 non-null   object \n",
            " 4   Monto        8640 non-null   float64\n",
            "dtypes: float64(1), int64(3), object(1)\n",
            "memory usage: 337.6+ KB\n"
          ]
        }
      ],
      "source": [
        "gasto = pd.read_csv(r'Homework/CSV/Gasto.csv', index_col=False, delimiter=',')\n",
        "gasto.info()"
      ]
    },
    {
      "cell_type": "markdown",
      "id": "bfa84d14",
      "metadata": {
        "id": "bfa84d14"
      },
      "source": [
        "*Insertar*"
      ]
    },
    {
      "cell_type": "code",
      "execution_count": null,
      "id": "1ee3ff51",
      "metadata": {
        "id": "1ee3ff51"
      },
      "outputs": [],
      "source": [
        "for i, row in gasto.iterrows():\n",
        "    q = \"insert into gasto values (%s,%s,%s,%s,%s)\"\n",
        "    cursor.execute(q, tuple(row))\n",
        "    conexion.commit()"
      ]
    },
    {
      "cell_type": "markdown",
      "id": "7ffcad0a",
      "metadata": {
        "id": "7ffcad0a"
      },
      "source": [
        "***COMPRA***"
      ]
    },
    {
      "cell_type": "markdown",
      "id": "38c86327",
      "metadata": {
        "id": "38c86327"
      },
      "source": [
        "*Leer CSV*"
      ]
    },
    {
      "cell_type": "code",
      "execution_count": null,
      "id": "af7c11c5",
      "metadata": {
        "id": "af7c11c5",
        "outputId": "e10cf7db-bd92-4096-b3ae-cead50850be2"
      },
      "outputs": [
        {
          "name": "stdout",
          "output_type": "stream",
          "text": [
            "<class 'pandas.core.frame.DataFrame'>\n",
            "RangeIndex: 11539 entries, 0 to 11538\n",
            "Data columns (total 6 columns):\n",
            " #   Column       Non-Null Count  Dtype  \n",
            "---  ------       --------------  -----  \n",
            " 0   IdCompra     11539 non-null  int64  \n",
            " 1   Fecha        11539 non-null  object \n",
            " 2   IdProducto   11539 non-null  int64  \n",
            " 3   Cantidad     11539 non-null  int64  \n",
            " 4   Precio       11539 non-null  float64\n",
            " 5   IdProveedor  11539 non-null  int64  \n",
            "dtypes: float64(1), int64(4), object(1)\n",
            "memory usage: 541.0+ KB\n"
          ]
        }
      ],
      "source": [
        "compra = pd.read_csv(r'Homework/CSV/Compra.csv', index_col= False, delimiter=',')\n",
        "compra.info()"
      ]
    },
    {
      "cell_type": "markdown",
      "id": "e7d5ff70",
      "metadata": {
        "id": "e7d5ff70"
      },
      "source": [
        "*Insertar*"
      ]
    },
    {
      "cell_type": "code",
      "execution_count": null,
      "id": "7330561c",
      "metadata": {
        "id": "7330561c"
      },
      "outputs": [],
      "source": [
        "for i, row in compra.iterrows():\n",
        "    q = \"insert into compra values (%s,%s,%s,%s,%s,%s)\"\n",
        "    cursor.execute(q, tuple(row))\n",
        "    conexion.commit()"
      ]
    },
    {
      "cell_type": "markdown",
      "id": "f446c557",
      "metadata": {
        "id": "f446c557"
      },
      "source": [
        "***VENTA***"
      ]
    },
    {
      "cell_type": "markdown",
      "id": "77119ec5",
      "metadata": {
        "id": "77119ec5"
      },
      "source": [
        "*Leer CSV*"
      ]
    },
    {
      "cell_type": "code",
      "execution_count": null,
      "id": "2a4329dc",
      "metadata": {
        "id": "2a4329dc",
        "outputId": "78a2932c-c906-4fa9-b29c-bfb35666f8b6"
      },
      "outputs": [
        {
          "name": "stdout",
          "output_type": "stream",
          "text": [
            "<class 'pandas.core.frame.DataFrame'>\n",
            "RangeIndex: 46645 entries, 0 to 46644\n",
            "Data columns (total 10 columns):\n",
            " #   Column         Non-Null Count  Dtype \n",
            "---  ------         --------------  ----- \n",
            " 0   IdVenta        46645 non-null  int64 \n",
            " 1   Fecha          46645 non-null  object\n",
            " 2   Fecha_Entrega  46645 non-null  object\n",
            " 3   IdCanal        46645 non-null  int64 \n",
            " 4   IdCliente      46645 non-null  int64 \n",
            " 5   IdSucursal     46645 non-null  int64 \n",
            " 6   IdEmpleado     46645 non-null  int64 \n",
            " 7   IdProducto     46645 non-null  int64 \n",
            " 8   Precio         46645 non-null  object\n",
            " 9   Cantidad       46645 non-null  object\n",
            "dtypes: int64(6), object(4)\n",
            "memory usage: 3.6+ MB\n"
          ]
        }
      ],
      "source": [
        "venta = pd.read_csv(r'Homework/CSV/Venta.csv', index_col= False, delimiter=',')\n",
        "venta.fillna(' ', inplace=True)\n",
        "venta.info()"
      ]
    },
    {
      "cell_type": "markdown",
      "id": "6a76ce5e",
      "metadata": {
        "id": "6a76ce5e"
      },
      "source": [
        "*Insertar*"
      ]
    },
    {
      "cell_type": "code",
      "execution_count": null,
      "id": "f652268e",
      "metadata": {
        "id": "f652268e"
      },
      "outputs": [],
      "source": [
        "for i, row in venta.iterrows():\n",
        "    q = \"insert into venta values (%s,%s,%s,%s,%s,%s,%s,%s,%s,%s)\"\n",
        "    cursor.execute(q, tuple(row))\n",
        "    conexion.commit()"
      ]
    }
  ],
  "metadata": {
    "kernelspec": {
      "display_name": "Python 3 (ipykernel)",
      "language": "python",
      "name": "python3"
    },
    "language_info": {
      "codemirror_mode": {
        "name": "ipython",
        "version": 3
      },
      "file_extension": ".py",
      "mimetype": "text/x-python",
      "name": "python",
      "nbconvert_exporter": "python",
      "pygments_lexer": "ipython3",
      "version": "3.10.5"
    },
    "vscode": {
      "interpreter": {
        "hash": "aee8b7b246df8f9039afb4144a1f6fd8d2ca17a180786b69acc140d282b71a49"
      }
    },
    "colab": {
      "provenance": []
    }
  },
  "nbformat": 4,
  "nbformat_minor": 5
}