{
 "cells": [
  {
   "cell_type": "markdown",
   "id": "a356882e-b06f-4aab-994d-8e742fff50fe",
   "metadata": {},
   "source": [
    "# Punto 1\n",
    "\n",
    "$P(A) = 0.50\\ ,\\ P(B) = 0.60\\ ,\\ P(A \\cap B) = 0.40$"
   ]
  },
  {
   "cell_type": "code",
   "execution_count": 22,
   "id": "800c96cc-ff26-4b32-92ec-05b530a732e3",
   "metadata": {},
   "outputs": [
    {
     "name": "stdout",
     "output_type": "stream",
     "text": [
      "P(A|B):  0.67\n",
      "P(B|A):  0.8\n"
     ]
    }
   ],
   "source": [
    "def SIntersec(p1, p2):\n",
    "    \n",
    "    return round(p1 * p2, 2)\n",
    "\n",
    "\n",
    "def CIntersec(P2, intrs):\n",
    "    \n",
    "    return round(intrs / P2, 2)\n",
    "\n",
    "print('P(A|B): ', CIntersec(0.6, 0.4))\n",
    "print('P(B|A): ', CIntersec(0.5, 0.4))"
   ]
  },
  {
   "cell_type": "markdown",
   "id": "c42ed9d1-d2e5-4c51-9045-02206e461c27",
   "metadata": {
    "tags": []
   },
   "source": [
    "# Punto 2\n",
    "\n",
    "A & B son excluyentes\n",
    "\n",
    "$P(A) = 0.30\\ ,\\ P(B) = 0.40$\n",
    "\n"
   ]
  },
  {
   "cell_type": "code",
   "execution_count": 28,
   "id": "bb42a4bd-31ca-4076-8a94-5f2bf0d9abf9",
   "metadata": {},
   "outputs": [
    {
     "name": "stdout",
     "output_type": "stream",
     "text": [
      "0.12 es el valor de la interseccion; no son excluyentes\n",
      "P(A|B): 0.3\n"
     ]
    }
   ],
   "source": [
    "Pa = 0.30\n",
    "Pb = 0.40\n",
    "\n",
    "intrs = SIntersec(Pa,Pb)\n",
    "print(f\"{intrs} es el valor de la interseccion; no son excluyentes\")\n",
    "\n",
    "print(f'P(A|B): {CIntersec(0.40, intrs)}')"
   ]
  },
  {
   "cell_type": "markdown",
   "id": "175c49d7-ff33-4eaa-8937-73350e3e5e18",
   "metadata": {
    "tags": []
   },
   "source": [
    "# Punto 3\n",
    "\n",
    "\n",
    "|     __Edad/Origen__     |     __Nacional(N)__     |     __Importado(I)__     |     __Total__     |\n",
    "|-------------------------|-------------------------|--------------------------|-------------------|\n",
    "|  _Menos de 40 (-40)_    |          24             |            6             |        30         |\n",
    "|    _Entre 40 y 50_      |          19             |           15             |        34         |\n",
    "| _Más de 50 años (+50)_  |           7             |            9             |        16         |\n",
    "|       __Total__         |          50             |           30             |        80         |"
   ]
  },
  {
   "cell_type": "code",
   "execution_count": null,
   "id": "a29b3006-b3e3-49cd-9b15-8d4d0d2ce2be",
   "metadata": {},
   "outputs": [],
   "source": []
  }
 ],
 "metadata": {
  "kernelspec": {
   "display_name": "Python 3 (ipykernel)",
   "language": "python",
   "name": "python3"
  },
  "language_info": {
   "codemirror_mode": {
    "name": "ipython",
    "version": 3
   },
   "file_extension": ".py",
   "mimetype": "text/x-python",
   "name": "python",
   "nbconvert_exporter": "python",
   "pygments_lexer": "ipython3",
   "version": "3.10.5"
  }
 },
 "nbformat": 4,
 "nbformat_minor": 5
}
