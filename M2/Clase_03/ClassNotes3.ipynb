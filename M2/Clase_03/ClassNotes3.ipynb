{
 "cells": [
  {
   "cell_type": "markdown",
   "id": "9d744fd7-db9c-4c0f-b3df-ec903b9f13e8",
   "metadata": {},
   "source": [
    "# Clasificación de sucesos\n",
    "\n",
    "La probabilidad de cualquier evento es = a la suma de las probabilidades de los puntos muestrales que forman el evento. Siempre y cuando se mantengan la mismas condiciones a lo largo de la prubebas. \n",
    "\n",
    "## Simple\n",
    "\n",
    "## Sucesos excluyentes\n",
    "\n",
    "En una sola realización del experimento, solo se presenta uno de los sucesos posibles.\n",
    "\n",
    "## Sucesos compatibles\n",
    "\n",
    "Se da cuando los sucesos pueden manifestarse al mismo tiempo.\n",
    "\n",
    "# Regla de la adición\n",
    "\n",
    "Se utiliza para detierminar la probabilidad de que ocurra uno de dos eventos o ambos al mismo tiempo\n",
    "\n",
    "$$\n",
    "P(A \\cup B) = P(A) + P(B) - P(A \\cap B)\n",
    "$$\n",
    "\n",
    "# Regla de la multiplicación\n",
    "\n",
    "## Sucesos independientes\n",
    "\n",
    "La aparicion o no de un evento no afecta a otro\n",
    "\n",
    "$$\n",
    "P(A|B) = P(A)\\\\\n",
    "--------------\\\\\n",
    "P(B|A) = P(B)\\\\\n",
    "--------------\\\\\n",
    "P(A \\cap B) = P(A) * P(B)\n",
    "$$\n",
    "\n",
    "## Sucesos condicionados\n",
    "\n",
    "La manifesstación o no de un suceso esta condicionada por la ocurrencia o no de otro previo\n",
    "\n",
    "$$\n",
    "P(A | B) = \\frac{A \\cap B}{P(B)}\\\\\n",
    "---------------------------------\\\\\n",
    "P(B | A) = \\frac{A \\cap B}{P(A)}\n",
    "$$"
   ]
  },
  {
   "cell_type": "code",
   "execution_count": null,
   "id": "63b9a6b5-6d70-46a9-a51c-9628f04ba660",
   "metadata": {},
   "outputs": [],
   "source": []
  }
 ],
 "metadata": {
  "kernelspec": {
   "display_name": "Python 3 (ipykernel)",
   "language": "python",
   "name": "python3"
  },
  "language_info": {
   "codemirror_mode": {
    "name": "ipython",
    "version": 3
   },
   "file_extension": ".py",
   "mimetype": "text/x-python",
   "name": "python",
   "nbconvert_exporter": "python",
   "pygments_lexer": "ipython3",
   "version": "3.10.5"
  }
 },
 "nbformat": 4,
 "nbformat_minor": 5
}
