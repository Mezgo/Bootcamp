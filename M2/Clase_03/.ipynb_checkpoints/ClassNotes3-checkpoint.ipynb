{
 "cells": [
  {
   "cell_type": "markdown",
   "id": "9d744fd7-db9c-4c0f-b3df-ec903b9f13e8",
   "metadata": {},
   "source": [
    "# Clasificación de sucesos\n",
    "\n",
    "La probabilidad de cualquier evento es = a la suma de las probabilidades de los puntos muestrales que forman el evento. Siempre y cuando se mantengan la mismas condiciones a lo largo de la prubebas. \n",
    "\n",
    "## Simple\n",
    "\n",
    "## Sucesos excluyentes\n",
    "\n",
    "En una sola realización del experimento, solo se presenta uno de los sucesos posibles.\n",
    "\n",
    "## Sucesos compatibles\n",
    "\n",
    "Se da cuando los sucesos pueden manifestarse al mismo tiempo.\n",
    "\n",
    "# Regla de la adición\n",
    "\n",
    "Se utiliza para detierminar la probabilidad de que ocurra uno de dos eventos o ambos al mismo tiempo\n",
    "\n",
    "$$\n",
    "P(A \\cup B) = P(A) + P(B) - P(A \\cap B)\n",
    "$$\n",
    "\n",
    "# Regla de la multiplicación\n",
    "\n"
   ]
  }
 ],
 "metadata": {
  "kernelspec": {
   "display_name": "Python 3 (ipykernel)",
   "language": "python",
   "name": "python3"
  },
  "language_info": {
   "codemirror_mode": {
    "name": "ipython",
    "version": 3
   },
   "file_extension": ".py",
   "mimetype": "text/x-python",
   "name": "python",
   "nbconvert_exporter": "python",
   "pygments_lexer": "ipython3",
   "version": "3.10.5"
  }
 },
 "nbformat": 4,
 "nbformat_minor": 5
}
