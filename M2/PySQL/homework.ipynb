{
 "cells": [
  {
   "cell_type": "markdown",
   "metadata": {},
   "source": [
    "Desacargar csv de oferta gastronómica"
   ]
  },
  {
   "cell_type": "code",
   "execution_count": 13,
   "metadata": {},
   "outputs": [],
   "source": [
    "import requests, pymysql, csv\n",
    "from io import StringIO\n",
    "\n",
    "bajada = requests.get('https://cdn.buenosaires.gob.ar/datosabiertos/datasets/ente-de-turismo/oferta-establecimientos-gastronomicos/oferta_gastronomica.csv')\n",
    "bajada.encoding = 'UTF-8'\n",
    "bajada = bajada.text\n",
    "doc = csv.reader(StringIO(bajada))\n",
    "next(doc)\n",
    "locales = [(l[3], l[4], l[13], l[14], l[15][7:]) for l in doc]"
   ]
  },
  {
   "cell_type": "markdown",
   "metadata": {},
   "source": [
    "Establecer conexion con base de datos"
   ]
  },
  {
   "cell_type": "code",
   "execution_count": 14,
   "metadata": {},
   "outputs": [],
   "source": [
    "plug = pymysql.connect(\n",
    "    host = \"localhost\",\n",
    "    database = 'Homework',\n",
    "    user = 'root',\n",
    "    password = '1234wasd'\n",
    ")\n",
    "cursor = plug.cursor()\n",
    "cursor.execute('truncate table oferta')\n",
    "query = 'insert into oferta (nombre, categoria, direccion, barrio, comuna) values(%s,%s,%s,%s,%s)'\n",
    "cursor.executemany(query,locales)\n",
    "plug.commit()\n",
    "plug.close()"
   ]
  }
 ],
 "metadata": {
  "kernelspec": {
   "display_name": "Python 3.10.5 64-bit",
   "language": "python",
   "name": "python3"
  },
  "language_info": {
   "codemirror_mode": {
    "name": "ipython",
    "version": 3
   },
   "file_extension": ".py",
   "mimetype": "text/x-python",
   "name": "python",
   "nbconvert_exporter": "python",
   "pygments_lexer": "ipython3",
   "version": "3.10.5"
  },
  "orig_nbformat": 4,
  "vscode": {
   "interpreter": {
    "hash": "aee8b7b246df8f9039afb4144a1f6fd8d2ca17a180786b69acc140d282b71a49"
   }
  }
 },
 "nbformat": 4,
 "nbformat_minor": 2
}
