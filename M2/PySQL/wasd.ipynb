{
 "cells": [
  {
   "cell_type": "code",
   "execution_count": 5,
   "metadata": {},
   "outputs": [
    {
     "data": {
      "text/plain": [
       "0.22404180765538778"
      ]
     },
     "execution_count": 5,
     "metadata": {},
     "output_type": "execute_result"
    }
   ],
   "source": [
    "from math import e, factorial\n",
    "\n",
    "def Posion(lambda_np, x):\n",
    "    probabilidad = (pow(e,-lambda_np) * pow(lambda_np, x)) / factorial(x)\n",
    "    return probabilidad\n",
    "Posion((3), 2)"
   ]
  },
  {
   "cell_type": "code",
   "execution_count": 14,
   "metadata": {},
   "outputs": [
    {
     "name": "stdout",
     "output_type": "stream",
     "text": [
      "1.0088918074111094e-08\n"
     ]
    }
   ],
   "source": [
    "from math import e, factorial\n",
    "\n",
    "N,k,n,x = 65, 2, 5, 1\n",
    "\n",
    "kx = factorial(k) / (factorial(x) * factorial(k-x))\n",
    "Nk_nx = factorial(N-k)/(factorial(n-x)*factorial(N-k)-(n-x))\n",
    "Nn =  factorial(N)/(factorial(n)*factorial(N-n))\n",
    "\n",
    "prob = (kx*Nk_nx)/Nn\n",
    "print(prob)                  "
   ]
  }
 ],
 "metadata": {
  "kernelspec": {
   "display_name": "Python 3.10.5 64-bit",
   "language": "python",
   "name": "python3"
  },
  "language_info": {
   "codemirror_mode": {
    "name": "ipython",
    "version": 3
   },
   "file_extension": ".py",
   "mimetype": "text/x-python",
   "name": "python",
   "nbconvert_exporter": "python",
   "pygments_lexer": "ipython3",
   "version": "3.10.5"
  },
  "orig_nbformat": 4,
  "vscode": {
   "interpreter": {
    "hash": "aee8b7b246df8f9039afb4144a1f6fd8d2ca17a180786b69acc140d282b71a49"
   }
  }
 },
 "nbformat": 4,
 "nbformat_minor": 2
}
