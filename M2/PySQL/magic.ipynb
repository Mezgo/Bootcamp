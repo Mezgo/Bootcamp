{
 "cells": [
  {
   "cell_type": "markdown",
   "metadata": {},
   "source": [
    "Se uniran SQL y Python"
   ]
  },
  {
   "cell_type": "code",
   "execution_count": 2,
   "metadata": {},
   "outputs": [],
   "source": [
    "import pymysql as ps\n",
    "\n",
    "plug = ps.connect(\n",
    "    host = \"localhost\",\n",
    "    user = \"root\",\n",
    "    passwd = '1234wasd',\n",
    "    database = 'henry'\n",
    ")\n"
   ]
  },
  {
   "cell_type": "markdown",
   "metadata": {},
   "source": [
    "Crear cursor"
   ]
  },
  {
   "cell_type": "code",
   "execution_count": 3,
   "metadata": {},
   "outputs": [
    {
     "data": {
      "text/plain": [
       "\"cursor.execute('SELECT * FROM alumno')\\nalumnos = cursor.fetchall()\\nalumnos\""
      ]
     },
     "execution_count": 3,
     "metadata": {},
     "output_type": "execute_result"
    }
   ],
   "source": [
    "cursor = plug.cursor()\n",
    "'''cursor.execute('SELECT * FROM alumno')\n",
    "alumnos = cursor.fetchall()\n",
    "alumnos'''\n"
   ]
  },
  {
   "cell_type": "markdown",
   "metadata": {},
   "source": [
    "Extracción de datos"
   ]
  },
  {
   "cell_type": "code",
   "execution_count": 4,
   "metadata": {},
   "outputs": [
    {
     "name": "stdout",
     "output_type": "stream",
     "text": [
      "(1, '274352477', 'Candice', 'Rojas', datetime.date(2000, 12, 10), datetime.date(2020, 1, 21), 1235)\n",
      "(2, '313262855', 'Beverly', 'Gardner', datetime.date(2006, 10, 3), datetime.date(2019, 12, 4), 1235)\n",
      "(3, '335199030', 'Carlos', 'Frank', datetime.date(2006, 7, 11), datetime.date(2019, 12, 13), 1235)\n",
      "(4, '171722128', 'Callum', 'Velazquez', datetime.date(2005, 11, 18), datetime.date(2019, 12, 17), 1235)\n",
      "(5, '14374907K', 'Kelly', 'Strickland', datetime.date(2005, 11, 26), datetime.date(2019, 12, 7), 1235)\n",
      "(6, '49205318K', 'Drake', 'Pearson', datetime.date(2009, 8, 8), datetime.date(2019, 12, 30), 1235)\n",
      "(7, '398182472', 'Aimee', 'Cline', datetime.date(2009, 11, 19), datetime.date(2020, 1, 26), 1235)\n",
      "(8, '401797157', 'Julian', 'Copeland', datetime.date(2001, 1, 9), datetime.date(2019, 12, 5), 1235)\n",
      "(9, '4257391', 'Cecilia', 'Roth', datetime.date(2004, 12, 1), datetime.date(2019, 12, 17), 1235)\n",
      "(10, '19507661', 'Hillary', 'Holman', datetime.date(2001, 4, 7), datetime.date(2019, 12, 14), 1235)\n",
      "(11, '106717451', 'Odysseus', 'Solomon', datetime.date(2009, 7, 1), datetime.date(2019, 12, 14), 1235)\n",
      "(12, '289307281', 'Jemima', 'Carlson', datetime.date(2009, 8, 26), datetime.date(2019, 12, 9), 1235)\n",
      "(13, '38156527', 'Boris', 'Lamb', datetime.date(2006, 4, 24), datetime.date(2020, 1, 13), 1235)\n",
      "(14, '47873452', 'Sierra', 'Cook', datetime.date(2005, 5, 16), datetime.date(2020, 1, 25), 1235)\n",
      "(15, '112197338', 'Michael', 'Norton', datetime.date(2007, 7, 1), datetime.date(2020, 1, 11), 1235)\n",
      "(16, '84091987', 'Whilemina', 'Howard', datetime.date(2000, 12, 3), datetime.date(2020, 1, 7), 1235)\n",
      "(17, '1114943K', 'Keegan', 'Mejia', datetime.date(2001, 1, 29), datetime.date(2019, 12, 29), 1235)\n",
      "(18, '32392091', 'Dawn', 'Duke', datetime.date(2006, 7, 13), datetime.date(2020, 1, 30), 1235)\n",
      "(19, '435719201', 'Lillith', 'Conley', datetime.date(2002, 9, 13), datetime.date(2019, 12, 11), 1235)\n",
      "(20, '15903996', 'Marsden', 'Sparks', datetime.date(2004, 4, 16), datetime.date(2019, 12, 25), 1235)\n",
      "(21, '193744389', 'Belle', 'Cervantes', datetime.date(2001, 2, 3), datetime.date(2020, 3, 17), 1236)\n",
      "(22, '43397060', 'Allegra', 'Dillon', datetime.date(2008, 12, 31), datetime.date(2020, 2, 12), 1236)\n",
      "(23, '441149581', 'Reed', 'Goodwin', datetime.date(2002, 2, 21), datetime.date(2020, 3, 28), 1236)\n",
      "(24, '88968476', 'Orla', 'Rocha', datetime.date(2007, 7, 25), datetime.date(2020, 3, 4), 1236)\n",
      "(25, '211443618', 'Montana', 'Hunter', datetime.date(2003, 8, 26), datetime.date(2020, 3, 27), 1236)\n",
      "(26, '86882779', 'Erich', 'Mcfarland', datetime.date(2000, 7, 4), datetime.date(2020, 3, 11), 1236)\n",
      "(27, '407059433', 'Montana', 'Sykes', datetime.date(2006, 12, 15), datetime.date(2020, 3, 7), 1236)\n",
      "(28, '223237649', 'Joshua', 'Mccoy', datetime.date(2006, 11, 19), datetime.date(2020, 3, 21), 1236)\n",
      "(29, '292284624', 'Nicholas', 'Gibbs', datetime.date(2007, 11, 28), datetime.date(2020, 2, 4), 1236)\n",
      "(30, '295743360', 'Felix', 'Avery', datetime.date(2005, 3, 16), datetime.date(2020, 2, 23), 1236)\n",
      "(31, '444744855', 'Isabella', 'Edwards', datetime.date(2007, 5, 30), datetime.date(2020, 3, 17), 1236)\n",
      "(32, '64776894', 'Zephr', 'Wright', datetime.date(1988, 9, 15), datetime.date(2020, 3, 22), 1236)\n",
      "(33, '372278471', 'Caldwell', 'Mckenzie', datetime.date(1984, 4, 26), datetime.date(2020, 3, 18), 1236)\n",
      "(34, '3026648K', 'Fiona', 'Gamble', datetime.date(1981, 8, 17), datetime.date(2020, 3, 5), 1236)\n",
      "(35, '381918319', 'Margaret', 'Bentley', datetime.date(1981, 7, 25), datetime.date(2020, 2, 17), 1236)\n",
      "(36, '29537372', 'Xena', 'Merrill', datetime.date(1985, 12, 5), datetime.date(2020, 2, 27), 1236)\n",
      "(37, '343468598', 'Simone', 'Osborn', datetime.date(1988, 8, 27), datetime.date(2020, 3, 22), 1236)\n",
      "(38, '465367539', 'Sonya', 'Conley', datetime.date(2009, 3, 6), datetime.date(2020, 3, 4), 1236)\n",
      "(39, '171373085', 'Gannon', 'Villarreal', datetime.date(2001, 12, 25), datetime.date(2020, 3, 2), 1236)\n",
      "(40, '3122182K', 'Elvis', 'Macdonald', datetime.date(2008, 12, 19), datetime.date(2020, 4, 12), 1236)\n",
      "(41, '492795224', 'Amir', 'Marks', datetime.date(1988, 9, 12), datetime.date(2021, 1, 4), 1237)\n",
      "(42, '309139739', 'Virginia', 'Ingram', datetime.date(1988, 1, 20), datetime.date(2021, 4, 20), 1237)\n",
      "(43, '162409522', 'Jelani', 'Schroeder', datetime.date(1995, 3, 11), datetime.date(2021, 2, 14), 1237)\n",
      "(44, '194626479', 'Baker', 'Watson', datetime.date(2005, 9, 14), datetime.date(2021, 3, 30), 1237)\n",
      "(45, '277992078', 'Gray', 'Willis', datetime.date(1993, 2, 8), datetime.date(2021, 3, 26), 1237)\n",
      "(46, '345652302', 'Ivy', 'Gallagher', datetime.date(1993, 3, 11), datetime.date(2021, 4, 24), 1237)\n",
      "(47, '154259589', 'Julian', 'Dillon', datetime.date(2003, 9, 20), datetime.date(2021, 3, 26), 1237)\n",
      "(48, '26836594K', 'Whilemina', 'Carr', datetime.date(1997, 10, 31), datetime.date(2021, 3, 29), 1237)\n",
      "(49, '396033852', 'Sydney', 'Hicks', datetime.date(2005, 10, 14), datetime.date(2021, 4, 1), 1237)\n",
      "(50, '151675093', 'Graiden', 'Aguilar', datetime.date(1994, 2, 28), datetime.date(2021, 2, 17), 1237)\n",
      "(51, '145331579', 'Mechelle', 'Cook', datetime.date(2005, 1, 1), datetime.date(2021, 3, 9), 1237)\n",
      "(52, '349894343', 'Marvin', 'Chaney', datetime.date(1991, 3, 7), datetime.date(2021, 1, 1), 1237)\n",
      "(53, '472701266', 'Vladimir', 'Leonard', datetime.date(2005, 3, 28), datetime.date(2021, 1, 17), 1237)\n",
      "(54, '29213755', 'Alexander', 'Rush', datetime.date(1997, 9, 2), datetime.date(2021, 1, 12), 1237)\n",
      "(55, '381629589', 'Kylynn', 'Kim', datetime.date(1985, 7, 16), datetime.date(2021, 4, 13), 1237)\n",
      "(56, '48566189', 'Keaton', 'Morton', datetime.date(2001, 2, 12), datetime.date(2021, 1, 18), 1237)\n",
      "(57, '402475935', 'Ian', 'Stephenson', datetime.date(1981, 6, 19), datetime.date(2021, 3, 30), 1237)\n",
      "(58, '474328023', 'Cooper', 'Duncan', datetime.date(1980, 9, 18), datetime.date(2021, 1, 7), 1237)\n",
      "(59, '26753295', 'Castor', 'Shepherd', datetime.date(1996, 4, 7), datetime.date(2021, 2, 13), 1237)\n",
      "(60, '139799658', 'Miriam', 'Blake', datetime.date(2005, 5, 7), datetime.date(2021, 3, 9), 1237)\n",
      "(61, '16549215', 'Lewis', 'Burris', datetime.date(1992, 4, 23), datetime.date(2021, 7, 16), 1238)\n",
      "(62, '135566489', 'Olivia', 'Booker', datetime.date(2001, 7, 1), datetime.date(2021, 7, 14), 1238)\n",
      "(63, '79692581', 'Regan', 'Boyd', datetime.date(2003, 8, 8), datetime.date(2021, 8, 17), 1238)\n",
      "(64, '49178719', 'Ross', 'Nunez', datetime.date(1986, 7, 16), datetime.date(2021, 7, 12), 1238)\n",
      "(65, '474204693', 'Abbot', 'Mayer', datetime.date(1988, 11, 5), datetime.date(2021, 7, 17), 1238)\n",
      "(66, '454819918', 'Conan', 'Hale', datetime.date(2002, 8, 12), datetime.date(2021, 7, 23), 1238)\n",
      "(67, '504438988', 'Leila', 'Spence', datetime.date(1999, 4, 25), datetime.date(2021, 7, 3), 1238)\n",
      "(68, '33294617K', 'Edward', 'Weiss', datetime.date(2002, 11, 4), datetime.date(2021, 7, 29), 1238)\n",
      "(69, '118439724', 'Ashton', 'Buckner', datetime.date(2000, 3, 14), datetime.date(2021, 7, 8), 1238)\n",
      "(70, '148755809', 'Chadwick', 'Mckee', datetime.date(2002, 1, 9), datetime.date(2021, 8, 29), 1238)\n",
      "(71, '388551046', 'Fitzgerald', 'Frederick', datetime.date(2009, 12, 29), datetime.date(2021, 8, 2), 1238)\n",
      "(72, '347702986', 'Keiko', 'Osborne', datetime.date(1995, 2, 28), datetime.date(2021, 7, 17), 1238)\n",
      "(73, '255906518', 'Emily', 'Crawford', datetime.date(2001, 2, 13), datetime.date(2021, 7, 27), 1238)\n",
      "(74, '65744120', 'Merritt', 'Potts', datetime.date(2005, 2, 28), datetime.date(2021, 7, 7), 1238)\n",
      "(75, '502528238', 'Chaney', 'Nixon', datetime.date(2004, 12, 13), datetime.date(2021, 8, 16), 1238)\n",
      "(76, '157009508', 'Wesley', 'Howe', datetime.date(2009, 8, 31), datetime.date(2021, 8, 18), 1238)\n",
      "(77, '17617322K', 'Anastasia', 'Carpenter', datetime.date(1993, 9, 10), datetime.date(2021, 8, 21), 1238)\n",
      "(78, '507966950', 'Hamilton', 'Owen', datetime.date(1992, 6, 25), datetime.date(2021, 8, 9), 1238)\n",
      "(79, '181028726', 'Audrey', 'Perkins', datetime.date(2001, 1, 10), datetime.date(2021, 8, 28), 1238)\n",
      "(80, '164311007', 'Sawyer', 'Holmes', datetime.date(2005, 11, 23), datetime.date(2021, 7, 8), 1238)\n",
      "(81, '243901227', 'Jillian', 'Santos', datetime.date(2000, 1, 16), datetime.date(2021, 10, 3), 1239)\n",
      "(82, '306333267', 'Jerry', 'Mccullough', datetime.date(2008, 7, 29), datetime.date(2021, 11, 6), 1239)\n",
      "(83, '179442116', 'Nerea', 'Douglas', datetime.date(2005, 11, 18), datetime.date(2021, 11, 23), 1239)\n",
      "(84, '408178630', 'Abbot', 'Moss', datetime.date(2009, 12, 15), datetime.date(2021, 10, 24), 1239)\n",
      "(85, '1991996K', 'Hedley', 'Weeks', datetime.date(2002, 9, 1), datetime.date(2021, 11, 7), 1239)\n",
      "(86, '5585288K', 'Dillon', 'Rocha', datetime.date(2007, 9, 2), datetime.date(2021, 12, 24), 1239)\n",
      "(87, '268473718', 'Malachi', 'Figueroa', datetime.date(2009, 7, 18), datetime.date(2021, 10, 15), 1239)\n",
      "(88, '388007508', 'Lydia', 'Valencia', datetime.date(2002, 3, 27), datetime.date(2021, 11, 17), 1239)\n",
      "(89, '203621523', 'Warren', 'Pearson', datetime.date(2001, 5, 25), datetime.date(2021, 10, 13), 1239)\n",
      "(90, '234417932', 'Nicole', 'Norris', datetime.date(2001, 3, 26), datetime.date(2021, 10, 5), 1239)\n",
      "(91, '351315148', 'Tiger', 'Jackson', datetime.date(2006, 3, 7), datetime.date(2021, 11, 22), 1239)\n",
      "(92, '367828072', 'Fay', 'Ayala', datetime.date(2007, 9, 20), datetime.date(2021, 12, 15), 1239)\n",
      "(93, '285762502', 'Dominique', 'Carr', datetime.date(2005, 3, 7), datetime.date(2021, 9, 13), 1239)\n",
      "(94, '267225184', 'Justine', 'Jimenez', datetime.date(2002, 1, 27), datetime.date(2021, 10, 17), 1239)\n",
      "(95, '433045602', 'Gary', 'Burt', datetime.date(2008, 2, 23), datetime.date(2021, 9, 10), 1239)\n",
      "(96, '10779642', 'Evangeline', 'Hamilton', datetime.date(2001, 2, 1), datetime.date(2021, 11, 13), 1239)\n",
      "(97, '455153174', 'Jeremy', 'Clark', datetime.date(2004, 8, 1), datetime.date(2021, 10, 28), 1239)\n",
      "(98, '357121108', 'Venus', 'Campbell', datetime.date(2008, 3, 13), datetime.date(2021, 11, 29), 1239)\n",
      "(99, '75106459', 'Denise', \"O'brien\", datetime.date(2003, 7, 28), datetime.date(2021, 11, 25), 1239)\n",
      "(100, '109594741', 'Macaulay', 'Miller', datetime.date(2005, 7, 5), datetime.date(2021, 11, 17), 1239)\n",
      "(101, '465763558', 'Gloria', 'Mcclure', datetime.date(1991, 7, 2), datetime.date(2022, 1, 29), 1240)\n",
      "(102, '209243474', 'Palmer', 'Dennis', datetime.date(2002, 7, 18), datetime.date(2022, 1, 13), 1240)\n",
      "(103, '38202200', 'Kasper', 'Ford', datetime.date(1984, 8, 28), datetime.date(2021, 12, 23), 1240)\n",
      "(104, '265227600', 'Byron', 'Bruce', datetime.date(1982, 5, 25), datetime.date(2021, 12, 19), 1240)\n",
      "(105, '185855619', 'Medge', 'Stark', datetime.date(1997, 6, 22), datetime.date(2021, 12, 13), 1240)\n",
      "(106, '78311231', 'Xandra', 'Burch', datetime.date(2004, 7, 5), datetime.date(2022, 1, 11), 1240)\n",
      "(107, '229594575', 'Cyrus', 'Morin', datetime.date(2008, 5, 13), datetime.date(2021, 12, 21), 1240)\n",
      "(108, '141555774', 'Clinton', 'Sanders', datetime.date(2003, 3, 9), datetime.date(2022, 1, 29), 1240)\n",
      "(109, '38872397', 'Ralph', 'Mayo', datetime.date(1985, 11, 21), datetime.date(2021, 12, 2), 1240)\n",
      "(110, '24538', 'Lee', 'Vargas', datetime.date(2001, 12, 7), datetime.date(2022, 1, 20), 1240)\n",
      "(111, '4454864K', 'Kim', 'Gardner', datetime.date(1990, 8, 20), datetime.date(2021, 12, 13), 1240)\n",
      "(112, '131829809', 'Carolyn', 'Sellers', datetime.date(2008, 11, 5), datetime.date(2021, 12, 9), 1240)\n",
      "(113, '344232601', 'Kylie', 'Walters', datetime.date(1990, 11, 4), datetime.date(2022, 1, 19), 1240)\n",
      "(114, '46185611K', 'Molly', 'Bridges', datetime.date(1982, 8, 14), datetime.date(2022, 1, 7), 1240)\n",
      "(115, '183508024', 'Hilary', 'Boyer', datetime.date(2005, 2, 12), datetime.date(2022, 1, 11), 1240)\n",
      "(116, '332016830', 'Brianna', 'Dawson', datetime.date(2007, 9, 30), datetime.date(2022, 1, 7), 1240)\n",
      "(117, '218656412', 'Cole', 'Vasquez', datetime.date(2006, 5, 27), datetime.date(2022, 1, 24), 1240)\n",
      "(118, '438773339', 'Cairo', 'Walton', datetime.date(2003, 9, 21), datetime.date(2022, 1, 6), 1240)\n",
      "(119, '486036354', 'Madeson', 'Reeves', datetime.date(2002, 11, 9), datetime.date(2022, 1, 30), 1240)\n",
      "(120, '137896125', 'Virginia', 'Conrad', datetime.date(2006, 12, 26), datetime.date(2021, 12, 8), 1240)\n",
      "(121, '26157392K', 'Deanna', 'Wolf', datetime.date(1984, 6, 6), datetime.date(2022, 1, 25), 1241)\n",
      "(122, '57652322', 'Edan', 'Ferguson', datetime.date(2002, 5, 29), datetime.date(2022, 2, 19), 1241)\n",
      "(123, '3383903', 'Levi', 'Fisher', datetime.date(2002, 5, 9), datetime.date(2021, 12, 24), 1241)\n",
      "(124, '383749255', 'Jason', 'Harmon', datetime.date(1990, 8, 17), datetime.date(2022, 2, 27), 1241)\n",
      "(125, '366243968', 'Kirk', 'Randall', datetime.date(1988, 5, 28), datetime.date(2022, 2, 10), 1241)\n",
      "(126, '283007197', 'Evelyn', 'Reilly', datetime.date(1997, 5, 8), datetime.date(2021, 12, 18), 1241)\n",
      "(127, '152234708', 'Quinlan', 'Gordon', datetime.date(202, 1, 2), datetime.date(2022, 1, 19), 1241)\n",
      "(128, '36248505', 'Drew', 'Elliott', datetime.date(2009, 3, 15), datetime.date(2022, 2, 7), 1241)\n",
      "(129, '16622524', 'Joan', 'Nixon', datetime.date(2005, 6, 8), datetime.date(2022, 1, 18), 1241)\n",
      "(130, '438939423', 'Francis', 'Garner', datetime.date(2005, 10, 27), datetime.date(2022, 2, 1), 1241)\n",
      "(131, '41609182K', 'Griffith', 'Beck', datetime.date(2008, 1, 18), datetime.date(2022, 1, 28), 1241)\n",
      "(132, '148585490', 'Kasimir', 'Peterson', datetime.date(2006, 9, 18), datetime.date(2021, 12, 31), 1241)\n",
      "(133, '398662601', 'Zoe', 'Singleton', datetime.date(2008, 7, 30), datetime.date(2022, 1, 9), 1241)\n",
      "(134, '286993443', 'Acton', 'Clements', datetime.date(1982, 11, 22), datetime.date(2022, 1, 24), 1241)\n",
      "(135, '137499908', 'Brenna', 'Farley', datetime.date(1987, 10, 14), datetime.date(2022, 2, 9), 1241)\n",
      "(136, '45903699', 'Shelby', 'Kinney', datetime.date(1998, 4, 16), datetime.date(2022, 1, 4), 1241)\n",
      "(137, '3470290K', 'Juliet', 'Snider', datetime.date(2004, 10, 4), datetime.date(2022, 1, 28), 1241)\n",
      "(138, '363891608', 'Jana', 'Reilly', datetime.date(2001, 8, 24), datetime.date(2022, 2, 10), 1241)\n",
      "(139, '46150244', 'Darius', 'Schmidt', datetime.date(2009, 12, 19), datetime.date(2022, 1, 16), 1241)\n",
      "(140, '24139204', 'Trevor', 'Giles', datetime.date(2001, 6, 21), datetime.date(2021, 12, 24), 1241)\n",
      "(141, '468707764', 'Hedda', 'Wells', datetime.date(1980, 11, 30), datetime.date(2022, 1, 18), 1242)\n",
      "(142, '357253268', 'Odessa', 'Black', datetime.date(1985, 4, 22), datetime.date(2022, 2, 2), 1242)\n",
      "(143, '171379849', 'Anjolie', 'Massey', datetime.date(2007, 10, 24), datetime.date(2022, 1, 18), 1242)\n",
      "(144, '461744192', 'Valentine', 'Guzman', datetime.date(2006, 2, 9), datetime.date(2022, 1, 31), 1242)\n",
      "(145, '345313052', 'Constance', 'Haley', datetime.date(2001, 7, 3), datetime.date(2022, 2, 1), 1242)\n",
      "(146, '10235723', 'Grace', 'Crane', datetime.date(2007, 11, 27), datetime.date(2022, 2, 22), 1242)\n",
      "(147, '112593543', 'Rhoda', 'Golden', datetime.date(2001, 4, 27), datetime.date(2022, 2, 23), 1242)\n",
      "(148, '369224867', 'McKenzie', 'Silva', datetime.date(2008, 12, 28), datetime.date(2022, 2, 24), 1242)\n",
      "(149, '37561135K', 'Thane', 'Carey', datetime.date(2005, 8, 23), datetime.date(2022, 1, 21), 1242)\n",
      "(150, '2670216K', 'Upton', 'Collins', datetime.date(2009, 10, 24), datetime.date(2022, 2, 11), 1242)\n",
      "(151, '285901006', 'Ainsley', 'Delgado', datetime.date(2001, 11, 8), datetime.date(2022, 1, 28), 1242)\n",
      "(152, '106883831', 'Beau', 'Hubbard', datetime.date(1995, 4, 20), datetime.date(2022, 1, 31), 1242)\n",
      "(153, '247172483', 'Zelda', 'Curtis', datetime.date(2009, 10, 10), datetime.date(2022, 2, 21), 1242)\n",
      "(154, '213189034', 'Bethany', 'Hoover', datetime.date(1998, 12, 24), datetime.date(2022, 1, 2), 1242)\n",
      "(155, '368514128', 'Duncan', 'Vasquez', datetime.date(1992, 9, 18), datetime.date(2022, 2, 25), 1242)\n",
      "(156, '308557529', 'Conan', 'Macias', datetime.date(1986, 9, 15), datetime.date(2022, 2, 5), 1242)\n",
      "(157, '37157163', 'Hannah', 'Solis', datetime.date(2005, 5, 2), datetime.date(2022, 2, 4), 1242)\n",
      "(158, '319157859', 'Azalia', 'Weiss', datetime.date(2000, 9, 20), datetime.date(2022, 2, 25), 1242)\n",
      "(159, '34304696', 'Paki', 'Mccarthy', datetime.date(2000, 3, 17), datetime.date(2022, 1, 15), 1242)\n",
      "(160, '497603528', 'Rylee', 'Howard', datetime.date(2005, 12, 3), datetime.date(2022, 1, 21), 1242)\n",
      "(161, '41944781', 'Stephanie', 'Hurst', datetime.date(1986, 11, 23), datetime.date(2022, 2, 14), 1243)\n",
      "(162, '31806976', 'Nathaniel', 'Duran', datetime.date(2005, 12, 2), datetime.date(2022, 1, 3), 1243)\n",
      "(163, '9364994K', 'Shelley', 'Yang', datetime.date(1984, 1, 14), datetime.date(2022, 1, 18), 1243)\n",
      "(164, '263549317', 'Donovan', 'Snow', datetime.date(2008, 7, 23), datetime.date(2022, 2, 9), 1243)\n",
      "(165, '377028562', 'Regina', 'Joyce', datetime.date(2002, 7, 5), datetime.date(2022, 2, 8), 1243)\n",
      "(166, '7332238', 'Hedley', 'Cameron', datetime.date(2002, 6, 5), datetime.date(2022, 1, 12), 1243)\n",
      "(167, '448157210', 'Kiayada', 'Oneil', datetime.date(2009, 3, 26), datetime.date(2022, 2, 25), 1243)\n",
      "(168, '123492919', 'Aristotle', 'Adams', datetime.date(2000, 9, 29), datetime.date(2022, 1, 18), 1243)\n",
      "(169, '182865443', 'Harlan', 'Barnett', datetime.date(1997, 10, 19), datetime.date(2022, 2, 9), 1243)\n",
      "(170, '389678961', 'Maya', 'Dotson', datetime.date(2003, 11, 28), datetime.date(2022, 1, 14), 1243)\n",
      "(171, '152989121', 'Sean', 'Hancock', datetime.date(1997, 9, 21), datetime.date(2022, 2, 22), 1243)\n",
      "(172, '507078060', 'Arthur', 'Leon', datetime.date(2006, 12, 1), datetime.date(2022, 2, 15), 1243)\n",
      "(173, '72477197', 'Hakeem', 'Williams', datetime.date(1988, 3, 13), datetime.date(2022, 1, 21), 1243)\n",
      "(174, '41643293', 'Nigel', 'Vincent', datetime.date(2001, 10, 6), datetime.date(2022, 1, 31), 1243)\n",
      "(175, '454734130', 'Adele', 'Alston', datetime.date(2005, 10, 5), datetime.date(2022, 1, 16), 1243)\n",
      "(176, '335187784', 'Mara', 'Rodgers', datetime.date(2004, 3, 29), datetime.date(2022, 2, 13), 1243)\n",
      "(177, '122874648', 'Galvin', 'Jones', datetime.date(2005, 11, 8), datetime.date(2022, 1, 6), 1243)\n",
      "(178, '386395705', 'Tashya', 'Clarke', datetime.date(1992, 7, 2), datetime.date(2022, 1, 31), 1243)\n",
      "(179, '402918667', 'Imani', 'Mack', datetime.date(2000, 7, 28), datetime.date(2022, 1, 29), 1243)\n",
      "(180, '277347865', 'William', 'Long', datetime.date(2009, 12, 6), datetime.date(2022, 2, 9), 1243)\n"
     ]
    }
   ],
   "source": [
    "cursor.execute('select * from alumno')\n",
    "for a in cursor:\n",
    "    print(a)"
   ]
  },
  {
   "cell_type": "markdown",
   "metadata": {},
   "source": [
    "Insert"
   ]
  }
 ],
 "metadata": {
  "kernelspec": {
   "display_name": "Python 3.10.5 64-bit",
   "language": "python",
   "name": "python3"
  },
  "language_info": {
   "codemirror_mode": {
    "name": "ipython",
    "version": 3
   },
   "file_extension": ".py",
   "mimetype": "text/x-python",
   "name": "python",
   "nbconvert_exporter": "python",
   "pygments_lexer": "ipython3",
   "version": "3.10.5"
  },
  "orig_nbformat": 4,
  "vscode": {
   "interpreter": {
    "hash": "aee8b7b246df8f9039afb4144a1f6fd8d2ca17a180786b69acc140d282b71a49"
   }
  }
 },
 "nbformat": 4,
 "nbformat_minor": 2
}
