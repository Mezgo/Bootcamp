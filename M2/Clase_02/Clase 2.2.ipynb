{
 "cells": [
  {
   "cell_type": "markdown",
   "id": "79dd88ca-4171-41e7-bcec-cf4807c7d4b9",
   "metadata": {
    "tags": []
   },
   "source": [
    "# Probabilidad\n",
    "\n",
    "Se refiere a la rama de la matemática que establece una estimación numérica acerca de que tan probable es la ocurrencia de un suceso.\n",
    "\n",
    "\n",
    "## Modelos deterministicos\n",
    "Es cuando se pueden controlar la totalidad de las variables que intervienen en el fenomeno de estudio, con el fin de predecir los resultados. \n",
    "\n",
    "**Ejemplo**\n",
    "\n",
    "```python\n",
    "def lineal(x):\n",
    "    y = 3 * x + 1\n",
    "    return f'{y}'\n",
    "lineal(1)\n",
    "```"
   ]
  },
  {
   "cell_type": "code",
   "execution_count": 13,
   "id": "0fe5ba18-2de6-428d-8928-a8e4e464564e",
   "metadata": {},
   "outputs": [
    {
     "name": "stdin",
     "output_type": "stream",
     "text": [
      " 0\n"
     ]
    },
    {
     "data": {
      "text/plain": [
       "'1'"
      ]
     },
     "execution_count": 13,
     "metadata": {},
     "output_type": "execute_result"
    }
   ],
   "source": [
    "def lineal(x):\n",
    "    x = int(x)\n",
    "    y = 3 * x + 1\n",
    "    return f\"{y}\"\n",
    "\n",
    "datain = input()\n",
    "lineal(datain)"
   ]
  },
  {
   "cell_type": "markdown",
   "id": "dc52156e-65dc-4385-97f7-e5aa0d6a8dba",
   "metadata": {
    "jp-MarkdownHeadingCollapsed": true,
    "tags": []
   },
   "source": [
    "## Modelos probabilisticos\n",
    "\n",
    "En este tipo de modelos, no se pueden controlar los factores que interfieren en el suceso de estudio. Estos, ocurren de una manera en la que no se pueden predecir los resultados. \n",
    "\n",
    "### Experimentos\n",
    "Un experimiento aleatorio es el proceso de obtención de una observación en que se cumplan alguna de las siguientes condiciones:\n",
    "   - Todos los resultados son conocidos.\n",
    "   - Antes de realizar el experimento el resultado es desconocido. \n",
    "   - Es posible repetir el experimento en condiciones ideales. \n",
    "\n",
    "### Espacio muestral\n",
    "Son los posibles casos de éxito. \n",
    "\n",
    "### Reglas de conteo\n",
    "Permite determinar el espacio muestral en experimentos de pasos múltiples. \n",
    "\n",
    "#### Combinaciones\n",
    "No importa el orden\n",
    "\n",
    "$$\n",
    "C^{N}_n = \\left (\\frac{N}{n} \\right) = \\frac{N!}{n!(N-n)!}\n",
    "$$\n",
    "\n",
    "Donde\n",
    "\n",
    "$$\n",
    "N! = N(N-1)(N-2)··· (2)(1)\\\\\n",
    "n! = n(n-1)(n-2)···(2)(1)\n",
    "$$\n",
    "\n",
    "Y por definición\n",
    "$$\n",
    "0!=1\n",
    "$$\n",
    "---\n",
    "\n",
    "#### Permutaciones\n",
    "Si importa el orden\n",
    "\n",
    "$$\n",
    "P^{N}_n = n!\\left(\\frac{N}{n}\\right) = \\frac{N!}{(N-n)!}\n",
    "$$\n",
    "\n",
    "\n",
    "---\n",
    "\n",
    "## Interpretaciones de la probabilidad\n",
    "### Corriente clásica\n",
    "Espacios muestrales uniformes. \n",
    "### Corriente frecuentista\n",
    "Se asigna un valor de probabilidad basandose en los datos observados del suceso. \n",
    "### Corriente subjetivista\n",
    "Se basa en la intución y experiencia de la persona que observa el suceso. \n",
    "### __Corriente bayesiana__\n",
    "Las probabilidades de un evento esta condicionada a la ocurrencia de otro. "
   ]
  }
 ],
 "metadata": {
  "kernelspec": {
   "display_name": "Python 3 (ipykernel)",
   "language": "python",
   "name": "python3"
  },
  "language_info": {
   "codemirror_mode": {
    "name": "ipython",
    "version": 3
   },
   "file_extension": ".py",
   "mimetype": "text/x-python",
   "name": "python",
   "nbconvert_exporter": "python",
   "pygments_lexer": "ipython3",
   "version": "3.10.5"
  },
  "toc-autonumbering": false,
  "toc-showcode": false,
  "toc-showmarkdowntxt": false
 },
 "nbformat": 4,
 "nbformat_minor": 5
}
