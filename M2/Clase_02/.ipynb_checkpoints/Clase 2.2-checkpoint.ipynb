{
 "cells": [
  {
   "cell_type": "markdown",
   "id": "79dd88ca-4171-41e7-bcec-cf4807c7d4b9",
   "metadata": {},
   "source": [
    "# Probabilidad\n",
    "\n",
    "Se refiere a la rama de la matemática que establece una estimación numérica acerca de que tan probable es la ocurrencia de un suceso.\n",
    "\n",
    "\n",
    "## Modelos deterministicos\n",
    "Es cuando se pueden controlar la totalidad de las variables que intervienen en el fenomeno de estudio, con el fin de predecir los resultados. "
   ]
  }
 ],
 "metadata": {
  "kernelspec": {
   "display_name": "Python 3 (ipykernel)",
   "language": "python",
   "name": "python3"
  },
  "language_info": {
   "codemirror_mode": {
    "name": "ipython",
    "version": 3
   },
   "file_extension": ".py",
   "mimetype": "text/x-python",
   "name": "python",
   "nbconvert_exporter": "python",
   "pygments_lexer": "ipython3",
   "version": "3.10.5"
  }
 },
 "nbformat": 4,
 "nbformat_minor": 5
}
