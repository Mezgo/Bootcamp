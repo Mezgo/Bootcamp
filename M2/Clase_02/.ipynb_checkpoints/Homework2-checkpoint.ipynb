{
 "cells": [
  {
   "cell_type": "code",
   "execution_count": 1,
   "id": "d850e017-6b7e-4b9b-a7c2-0b291c0d8a04",
   "metadata": {},
   "outputs": [],
   "source": [
    "import math as mt"
   ]
  },
  {
   "cell_type": "markdown",
   "id": "840f5424-149d-423f-8166-6afec926c694",
   "metadata": {
    "tags": []
   },
   "source": [
    "<h1 style = \"color: rgb(250,250,0);\">Punto 1<h1/>"
   ]
  },
  {
   "cell_type": "code",
   "execution_count": 2,
   "id": "54b40b18-5668-45a9-8785-c253f10187e9",
   "metadata": {},
   "outputs": [
    {
     "name": "stdin",
     "output_type": "stream",
     "text": [
      " 10\n"
     ]
    },
    {
     "data": {
      "text/plain": [
       "1024"
      ]
     },
     "execution_count": 2,
     "metadata": {},
     "output_type": "execute_result"
    }
   ],
   "source": [
    "def calculomoneda(x):\n",
    "    x = int(x)\n",
    "    y = 2**x\n",
    "    return y\n",
    "\n",
    "\n",
    "calculomoneda(x=input())"
   ]
  },
  {
   "cell_type": "markdown",
   "id": "b871e523-9682-4444-a555-fa38047b21d9",
   "metadata": {
    "tags": []
   },
   "source": [
    "<h1 style = \"color: rgb(250,250,0);\">Punto 2<h1/>"
   ]
  },
  {
   "cell_type": "code",
   "execution_count": 18,
   "id": "27d42e9a-d205-44af-99a0-d9ebe716503a",
   "metadata": {},
   "outputs": [
    {
     "name": "stdout",
     "output_type": "stream",
     "text": [
      "3\n"
     ]
    },
    {
     "data": {
      "text/plain": [
       "'La cantidad de combinaciones son: 120.0'"
      ]
     },
     "execution_count": 18,
     "metadata": {},
     "output_type": "execute_result"
    }
   ],
   "source": [
    "def preembarque(N, n):\n",
    "    N, n = int(N), int(n)\n",
    "    Nfact = mt.factorial(N)\n",
    "    nfact = mt.factorial(n)\n",
    "    ansr = Nfact / (nfact * mt.factorial(N - n))\n",
    "\n",
    "    return f\"La cantidad de combinaciones son: {ansr}\"\n",
    "\n",
    "\n",
    "preembarque(10, 3)"
   ]
  },
  {
   "cell_type": "markdown",
   "id": "542baaa5-2df9-4598-b7f8-ed07d4dafa07",
   "metadata": {
    "tags": []
   },
   "source": [
    "<h1 style = \"color: rgb(250,250,0);\">Punto 3<h1/>\n",
    "    \n",
    "    \n",
    "|__Región__ |__Sí__ | __No__|\n",
    "|-----------|-------|-------|\n",
    "|_Norte_    |  148  |  52   |\n",
    "|_Noreste_  |  162  |  54   |\n",
    "|_Sur_      |  296  |  74   |\n",
    "|_Centro_   |  252  |  48   |\n",
    "|__Total__  |__858__|__228__|"
   ]
  },
  {
   "cell_type": "code",
   "execution_count": null,
   "id": "df15084d-79dc-43f1-a027-cab12f5c9616",
   "metadata": {},
   "outputs": [],
   "source": [
    "def probabilidad(n1, n2=0, N=1086):\n",
    "    n1, n2, N = int(n1), int(n2), int(N)\n",
    "    Total = n1 + n2\n",
    "\n",
    "    return f\"La frecuencia de n1 es: {n1/N} & la frecuencia de n2 es: {n2/N}. Total de datos: {Total}. Tamaño de la muestra: {N}\"\n",
    "\n",
    "\n",
    "x, y, z = input(), input(), input()\n",
    "\n",
    "probabilidad(x, y)"
   ]
  },
  {
   "cell_type": "markdown",
   "id": "b724fa3a-a79c-4655-8b4a-9bd1e17f71da",
   "metadata": {},
   "source": [
    "|__Región__ |__Sí__ |__f(Sí)__| __No__|__f(No)__|__Total__|\n",
    "|-----------|-------|---------|-------|---------|---------|\n",
    "|_Norte_    |  148  |  0.14   |  52   |  0.05   |   200   |\n",
    "|_Noreste_  |  162  |  0.15   |  54   |  0.05   |   216   |\n",
    "|_Sur_      |  296  |  0.27   |  74   |  0.07   |   370   |\n",
    "|_Centro_   |  252  |  0.23   |  48   |  0.04   |   300   |\n",
    "|__Total__  |__858__|  0.79   |__228__|  0.21   |  1086   |"
   ]
  },
  {
   "cell_type": "markdown",
   "id": "9d814c7d-e138-4ee8-99a7-a63b1ab1c4ad",
   "metadata": {
    "tags": []
   },
   "source": [
    "<h1 style = \"color: rgb(250,250,0);\">Punto 4<h1/>"
   ]
  },
  {
   "cell_type": "code",
   "execution_count": 45,
   "id": "a39265ea-c618-43c7-b305-128896975e5b",
   "metadata": {},
   "outputs": [
    {
     "name": "stdin",
     "output_type": "stream",
     "text": [
      "Para obtener la probalidad de sacar un carta roja, marque 1.\n",
      "Para obtener la probalidad de sacar un carta negra, marque 2.\n",
      "Para obtener la probalidad de sacar una pica, marque 3.\n",
      "Para obtener la probalidad de sacar un trébol, marque 4.\n",
      "Para obtener la probalidad de sacar un corazón, marque 5.\n",
      "Para obtener la probalidad de sacar un diamante, marque 6 3\n"
     ]
    },
    {
     "data": {
      "text/plain": [
       "'La probabilidad es de: 0.25'"
      ]
     },
     "execution_count": 45,
     "metadata": {},
     "output_type": "execute_result"
    }
   ],
   "source": [
    "def baraja(x):\n",
    "    MAZO = 52\n",
    "    COLOR = 26\n",
    "    FAM = 13\n",
    "    \n",
    "    if x == '1' or x == '2':\n",
    "        return f'La probabilidad es de: {COLOR/MAZO}'\n",
    "    \n",
    "    if x == '3' or x == '4' or x == '5' or x == '6':\n",
    "        return f'La probabilidad es de: {FAM/MAZO}'\n",
    "\n",
    "    \n",
    "x = input('Para obtener la probalidad de sacar un carta roja, marque 1.\\nPara obtener la probalidad de sacar un carta negra, marque 2.\\nPara obtener la probalidad de sacar una pica, marque 3.\\nPara obtener la probalidad de sacar un trébol, marque 4.\\nPara obtener la probalidad de sacar un corazón, marque 5.\\nPara obtener la probalidad de sacar un diamante, marque 6')\n",
    "\n",
    "baraja(x)"
   ]
  },
  {
   "cell_type": "markdown",
   "id": "a02886e2-9538-485b-b7cc-971eb90949cc",
   "metadata": {
    "tags": []
   },
   "source": [
    "<h1 style = \"color: rgb(250,250,0);\">Punto 5<h1/>"
   ]
  },
  {
   "cell_type": "code",
   "execution_count": 46,
   "id": "01dcd0dd-ed5a-40f9-82b2-d148fca8b353",
   "metadata": {},
   "outputs": [
    {
     "data": {
      "text/plain": [
       "'La probabilidad es de: 0.15384615384615385'"
      ]
     },
     "execution_count": 46,
     "metadata": {},
     "output_type": "execute_result"
    }
   ],
   "source": [
    "def baraja2():\n",
    "    MAZO = 52\n",
    "    n = 8\n",
    "    return f'La probabilidad es de: {n/MAZO}'\n",
    "baraja2()"
   ]
  },
  {
   "cell_type": "markdown",
   "id": "96433b26-7ece-45ad-8b1e-20871aaa2f8c",
   "metadata": {
    "tags": []
   },
   "source": [
    "<h1 style=\"color: rgb(250,250,0);\">Punto 6<h1/>\n",
    "\n",
    "Probabilidades nulas\n",
    "\n",
    "---"
   ]
  },
  {
   "cell_type": "markdown",
   "id": "db3763f3-4752-448c-97b9-1086a7d11883",
   "metadata": {
    "jp-MarkdownHeadingCollapsed": true,
    "tags": []
   },
   "source": [
    "<h1 style = \"color: rgb(250,250,0);\">Punto 7<h1/>"
   ]
  },
  {
   "cell_type": "markdown",
   "id": "93d81ea4-f4ef-4f16-958a-10e8637f2ea5",
   "metadata": {},
   "source": [
    "| __Eventos__ | __Apariciones__ |\n",
    "|-------------|-----------------|\n",
    "|   __E1__    |       20        |\n",
    "|   __E2__    |       13        |\n",
    "|   __E3__    |       17        |"
   ]
  },
  {
   "cell_type": "code",
   "execution_count": 56,
   "id": "dcfdb6a6-3f68-427d-a802-bdccb6fcb5a8",
   "metadata": {},
   "outputs": [
    {
     "data": {
      "text/plain": [
       "'La frecuencia de n1 es: 0.34 & la frecuencia de n2 es: 0.0. Total de datos: 17. Tamaño de la muestra: 50'"
      ]
     },
     "execution_count": 56,
     "metadata": {},
     "output_type": "execute_result"
    }
   ],
   "source": [
    "probabilidad(17,0,50)"
   ]
  },
  {
   "cell_type": "markdown",
   "id": "12d8eff0-a57f-4a7a-827b-cc4f0532acb3",
   "metadata": {},
   "source": [
    "| __Eventos__ | __Apariciones__ | __f(Eventos)__ |\n",
    "|-------------|-----------------|----------------|\n",
    "|   __E1__    |       20        |      0.40      |\n",
    "|   __E2__    |       13        |      0.26      |\n",
    "|   __E3__    |       17        |      0.34      |"
   ]
  }
 ],
 "metadata": {
  "kernelspec": {
   "display_name": "Python 3 (ipykernel)",
   "language": "python",
   "name": "python3"
  },
  "language_info": {
   "codemirror_mode": {
    "name": "ipython",
    "version": 3
   },
   "file_extension": ".py",
   "mimetype": "text/x-python",
   "name": "python",
   "nbconvert_exporter": "python",
   "pygments_lexer": "ipython3",
   "version": "3.10.5"
  }
 },
 "nbformat": 4,
 "nbformat_minor": 5
}
